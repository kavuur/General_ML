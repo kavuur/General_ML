{
  "nbformat": 4,
  "nbformat_minor": 0,
  "metadata": {
    "kernelspec": {
      "display_name": "conda_python3",
      "language": "python",
      "name": "conda_python3"
    },
    "language_info": {
      "codemirror_mode": {
        "name": "ipython",
        "version": 3
      },
      "file_extension": ".py",
      "mimetype": "text/x-python",
      "name": "python",
      "nbconvert_exporter": "python",
      "pygments_lexer": "ipython3",
      "version": "3.6.13"
    },
    "colab": {
      "name": "Flight_Delay-Student.ipynb",
      "provenance": []
    }
  },
  "cells": [
    {
      "cell_type": "markdown",
      "metadata": {
        "id": "M82gRkNy8y1d"
      },
      "source": [
        "# Problem: Predicting Airplane Delays\n",
        "\n",
        "The goals of this notebook are:\n",
        "- Process and create a dataset from downloaded .zip files\n",
        "- Perform exploratory data analysis (EDA)\n",
        "- Establish a baseline model\n",
        "- Move from a simple model to an ensemble model\n",
        "- Perform hyperparameter optimization\n",
        "- Check feature importance\n",
        "\n",
        "\n",
        "## Introduction to business scenario\n",
        "\n",
        "You work for a travel booking website that wants to improve the customer experience for flights that were delayed. The company wants to create a feature to let customers know if the flight will be delayed because of weather when they book a flight to or from the busiest airports for domestic travel in the US. \n",
        "\n",
        "You are tasked with solving part of this problem by using machine learning (ML) to identify whether the flight will be delayed because of weather. You have been given access to the a dataset about the on-time performance of domestic flights that were operated by large air carriers. You can use this data to train an ML model to predict if the flight is going to be delayed for the busiest airports.\n",
        "\n",
        "\n",
        "## About this dataset\n",
        "\n",
        "This dataset contains scheduled and actual departure and arrival times reported by certified US air carriers that account for at least 1 percent of domestic scheduled passenger revenues. The data was collected by the U.S. Office of Airline Information, Bureau of Transportation Statistics (BTS). The dataset contains date, time, origin, destination, airline, distance, and delay status of flights for flights between 2013 and 2018.\n",
        "\n",
        "\n",
        "### Features\n",
        "\n",
        "For more information about features in the dataset, see [On-time delay dataset features](https://www.transtats.bts.gov/Fields.asp).\n",
        "\n",
        "### Dataset attributions  \n",
        "Website: https://www.transtats.bts.gov/\n",
        "\n",
        "Dataset(s) used in this lab were compiled by the U.S. Office of Airline Information, Bureau of Transportation Statistics (BTS), Airline On-Time Performance Data, available at https://www.transtats.bts.gov/DatabaseInfo.asp?DB_ID=120&DB_URL=Mode_ID=1&Mode_Desc=Aviation&Subject_ID2=0."
      ]
    },
    {
      "cell_type": "markdown",
      "metadata": {
        "id": "VKyZSex18y1n"
      },
      "source": [
        "# Step 1: Problem formulation and data collection\n",
        "\n",
        "Start this project by writing a few sentences that summarize the business problem and the business goal that you want to achieve in this scenario. You can write down your ideas in the following sections. Include a business metric that you would like your team to aspire toward. After you define that information, write the ML problem statement. Finally, add a comment or two about the type of ML this activity represents. \n",
        "\n",
        "#### <span style=\"color: blue;\">Project presentation: Include a summary of these details in your project presentation.</span>\n",
        "\n",
        "### 1. Determine if and why ML is an appropriate solution to deploy for this scenario."
      ]
    },
    {
      "cell_type": "code",
      "metadata": {
        "id": "3_AxU5ji8y1p"
      },
      "source": [
        "# Write your answer here"
      ],
      "execution_count": null,
      "outputs": []
    },
    {
      "cell_type": "markdown",
      "metadata": {
        "id": "4dPkYeZc8y1s"
      },
      "source": [
        "### 2. Formulate the business problem, success metrics, and desired ML output."
      ]
    },
    {
      "cell_type": "code",
      "metadata": {
        "id": "8qK1ytbT8y1s"
      },
      "source": [
        "# Write your answer here"
      ],
      "execution_count": null,
      "outputs": []
    },
    {
      "cell_type": "markdown",
      "metadata": {
        "id": "hOr6fCCS8y1t"
      },
      "source": [
        "### 3. Identify the type of ML problem that you're working with."
      ]
    },
    {
      "cell_type": "code",
      "metadata": {
        "id": "sE2yL9xT8y1u"
      },
      "source": [
        "# Write your answer here"
      ],
      "execution_count": null,
      "outputs": []
    },
    {
      "cell_type": "markdown",
      "metadata": {
        "id": "iHL7SKDV8y1v"
      },
      "source": [
        "### 4. Analyze the appropriateness of the data that you're working with."
      ]
    },
    {
      "cell_type": "code",
      "metadata": {
        "id": "eCRRhTac8y1v"
      },
      "source": [
        "# Write your answer here"
      ],
      "execution_count": null,
      "outputs": []
    },
    {
      "cell_type": "markdown",
      "metadata": {
        "id": "og2g14xW8y1w"
      },
      "source": [
        "### Setup\n",
        "\n",
        "Now that you have decided where you want to focus your attention, you will set up this lab so that you can start solving the problem.\n",
        "\n",
        "**Note:** This notebook was created and tested on an `ml.m4.xlarge` notebook instance with 25 GB storage. "
      ]
    },
    {
      "cell_type": "code",
      "metadata": {
        "id": "DsnJiH9j8y1x"
      },
      "source": [
        "import os\n",
        "from pathlib2 import Path\n",
        "from zipfile import ZipFile\n",
        "import time\n",
        "\n",
        "import pandas as pd\n",
        "import numpy as np\n",
        "import subprocess\n",
        "\n",
        "import matplotlib.pyplot as plt\n",
        "import seaborn as sns\n",
        "\n",
        "sns.set()\n",
        "instance_type='ml.m4.xlarge'\n",
        "\n",
        "import warnings\n",
        "warnings.filterwarnings('ignore')\n",
        "\n",
        "%matplotlib inline"
      ],
      "execution_count": null,
      "outputs": []
    },
    {
      "cell_type": "markdown",
      "metadata": {
        "id": "yQXDirrr8y1x"
      },
      "source": [
        "# Step 2: Data preprocessing and visualization  \n",
        "In this data preprocessing phase, you explore and visualize your data to better understand it. First, import the necessary libraries and read the data into a pandas DataFrame. After you import the data, explore the dataset. Look for the shape of the dataset and explore your columns and the types of columns that you will work with (numerical, categorical). Consider performing basic statistics on the features to get a sense of feature means and ranges. Examine your target column closely, and determine its distribution.\n",
        "\n",
        "\n",
        "### Specific questions to consider\n",
        "\n",
        "Throughout this section of the lab, consider the following questions:\n",
        "\n",
        "1. What can you deduce from the basic statistics that you ran on the features? \n",
        "2. What can you deduce from the distributions of the target classes?\n",
        "3. Is there anything else you can deduce by exploring the data?\n",
        "\n",
        "#### <span style=\"color: blue;\">Project presentation: Include a summary of your answers to these questions (and other similar questions) in your project presentation.</span>"
      ]
    },
    {
      "cell_type": "markdown",
      "metadata": {
        "id": "zjpy_B4T8y1y"
      },
      "source": [
        "Start by bringing in the dataset from a public Amazon Simple Storage Service (Amazon S3) bucket to this notebook environment."
      ]
    },
    {
      "cell_type": "code",
      "metadata": {
        "id": "yHGxyEtt8y1y",
        "outputId": "99b5a1af-440d-42d2-8e2b-158cf8945958"
      },
      "source": [
        "# download the files\n",
        "\n",
        "zip_path = '/home/ec2-user/SageMaker/project/data/FlightDelays/'\n",
        "base_path = '/home/ec2-user/SageMaker/project/data/FlightDelays/'\n",
        "csv_base_path = '/home/ec2-user/SageMaker/project/data/csvFlightDelays/'\n",
        "\n",
        "!mkdir -p {zip_path}\n",
        "!mkdir -p {csv_base_path}\n",
        "!aws s3 cp s3://aws-tc-largeobjects/CUR-TF-200-ACMLFO-1/flight_delay_project/data/ {zip_path} --recursive\n"
      ],
      "execution_count": null,
      "outputs": [
        {
          "name": "stdout",
          "output_type": "stream",
          "text": [
            "download: s3://aws-tc-largeobjects/CUR-TF-200-ACMLFO-1/flight_delay_project/data/On_Time_Reporting_Carrier_On_Time_Performance_1987_present_2014_10.zip to ../project/data/FlightDelays/On_Time_Reporting_Carrier_On_Time_Performance_1987_present_2014_10.zip\n",
            "download: s3://aws-tc-largeobjects/CUR-TF-200-ACMLFO-1/flight_delay_project/data/On_Time_Reporting_Carrier_On_Time_Performance_1987_present_2014_1.zip to ../project/data/FlightDelays/On_Time_Reporting_Carrier_On_Time_Performance_1987_present_2014_1.zip\n",
            "download: s3://aws-tc-largeobjects/CUR-TF-200-ACMLFO-1/flight_delay_project/data/On_Time_Reporting_Carrier_On_Time_Performance_1987_present_2014_12.zip to ../project/data/FlightDelays/On_Time_Reporting_Carrier_On_Time_Performance_1987_present_2014_12.zip\n",
            "download: s3://aws-tc-largeobjects/CUR-TF-200-ACMLFO-1/flight_delay_project/data/On_Time_Reporting_Carrier_On_Time_Performance_1987_present_2014_2.zip to ../project/data/FlightDelays/On_Time_Reporting_Carrier_On_Time_Performance_1987_present_2014_2.zip\n",
            "download: s3://aws-tc-largeobjects/CUR-TF-200-ACMLFO-1/flight_delay_project/data/On_Time_Reporting_Carrier_On_Time_Performance_1987_present_2014_11.zip to ../project/data/FlightDelays/On_Time_Reporting_Carrier_On_Time_Performance_1987_present_2014_11.zip\n",
            "download: s3://aws-tc-largeobjects/CUR-TF-200-ACMLFO-1/flight_delay_project/data/On_Time_Reporting_Carrier_On_Time_Performance_1987_present_2014_5.zip to ../project/data/FlightDelays/On_Time_Reporting_Carrier_On_Time_Performance_1987_present_2014_5.zip\n",
            "download: s3://aws-tc-largeobjects/CUR-TF-200-ACMLFO-1/flight_delay_project/data/On_Time_Reporting_Carrier_On_Time_Performance_1987_present_2014_4.zip to ../project/data/FlightDelays/On_Time_Reporting_Carrier_On_Time_Performance_1987_present_2014_4.zip\n",
            "download: s3://aws-tc-largeobjects/CUR-TF-200-ACMLFO-1/flight_delay_project/data/On_Time_Reporting_Carrier_On_Time_Performance_1987_present_2014_7.zip to ../project/data/FlightDelays/On_Time_Reporting_Carrier_On_Time_Performance_1987_present_2014_7.zip\n",
            "download: s3://aws-tc-largeobjects/CUR-TF-200-ACMLFO-1/flight_delay_project/data/On_Time_Reporting_Carrier_On_Time_Performance_1987_present_2014_3.zip to ../project/data/FlightDelays/On_Time_Reporting_Carrier_On_Time_Performance_1987_present_2014_3.zip\n",
            "download: s3://aws-tc-largeobjects/CUR-TF-200-ACMLFO-1/flight_delay_project/data/On_Time_Reporting_Carrier_On_Time_Performance_1987_present_2014_8.zip to ../project/data/FlightDelays/On_Time_Reporting_Carrier_On_Time_Performance_1987_present_2014_8.zip\n",
            "download: s3://aws-tc-largeobjects/CUR-TF-200-ACMLFO-1/flight_delay_project/data/On_Time_Reporting_Carrier_On_Time_Performance_1987_present_2014_9.zip to ../project/data/FlightDelays/On_Time_Reporting_Carrier_On_Time_Performance_1987_present_2014_9.zip\n",
            "download: s3://aws-tc-largeobjects/CUR-TF-200-ACMLFO-1/flight_delay_project/data/On_Time_Reporting_Carrier_On_Time_Performance_1987_present_2014_6.zip to ../project/data/FlightDelays/On_Time_Reporting_Carrier_On_Time_Performance_1987_present_2014_6.zip\n",
            "download: s3://aws-tc-largeobjects/CUR-TF-200-ACMLFO-1/flight_delay_project/data/On_Time_Reporting_Carrier_On_Time_Performance_1987_present_2015_1.zip to ../project/data/FlightDelays/On_Time_Reporting_Carrier_On_Time_Performance_1987_present_2015_1.zip\n",
            "download: s3://aws-tc-largeobjects/CUR-TF-200-ACMLFO-1/flight_delay_project/data/On_Time_Reporting_Carrier_On_Time_Performance_1987_present_2015_11.zip to ../project/data/FlightDelays/On_Time_Reporting_Carrier_On_Time_Performance_1987_present_2015_11.zip\n",
            "download: s3://aws-tc-largeobjects/CUR-TF-200-ACMLFO-1/flight_delay_project/data/On_Time_Reporting_Carrier_On_Time_Performance_1987_present_2015_2.zip to ../project/data/FlightDelays/On_Time_Reporting_Carrier_On_Time_Performance_1987_present_2015_2.zip\n",
            "download: s3://aws-tc-largeobjects/CUR-TF-200-ACMLFO-1/flight_delay_project/data/On_Time_Reporting_Carrier_On_Time_Performance_1987_present_2015_12.zip to ../project/data/FlightDelays/On_Time_Reporting_Carrier_On_Time_Performance_1987_present_2015_12.zip\n",
            "download: s3://aws-tc-largeobjects/CUR-TF-200-ACMLFO-1/flight_delay_project/data/On_Time_Reporting_Carrier_On_Time_Performance_1987_present_2015_3.zip to ../project/data/FlightDelays/On_Time_Reporting_Carrier_On_Time_Performance_1987_present_2015_3.zip\n",
            "download: s3://aws-tc-largeobjects/CUR-TF-200-ACMLFO-1/flight_delay_project/data/On_Time_Reporting_Carrier_On_Time_Performance_1987_present_2015_10.zip to ../project/data/FlightDelays/On_Time_Reporting_Carrier_On_Time_Performance_1987_present_2015_10.zip\n",
            "download: s3://aws-tc-largeobjects/CUR-TF-200-ACMLFO-1/flight_delay_project/data/On_Time_Reporting_Carrier_On_Time_Performance_1987_present_2015_4.zip to ../project/data/FlightDelays/On_Time_Reporting_Carrier_On_Time_Performance_1987_present_2015_4.zip\n",
            "download: s3://aws-tc-largeobjects/CUR-TF-200-ACMLFO-1/flight_delay_project/data/On_Time_Reporting_Carrier_On_Time_Performance_1987_present_2015_5.zip to ../project/data/FlightDelays/On_Time_Reporting_Carrier_On_Time_Performance_1987_present_2015_5.zip\n",
            "download: s3://aws-tc-largeobjects/CUR-TF-200-ACMLFO-1/flight_delay_project/data/On_Time_Reporting_Carrier_On_Time_Performance_1987_present_2015_6.zip to ../project/data/FlightDelays/On_Time_Reporting_Carrier_On_Time_Performance_1987_present_2015_6.zip\n",
            "download: s3://aws-tc-largeobjects/CUR-TF-200-ACMLFO-1/flight_delay_project/data/On_Time_Reporting_Carrier_On_Time_Performance_1987_present_2015_7.zip to ../project/data/FlightDelays/On_Time_Reporting_Carrier_On_Time_Performance_1987_present_2015_7.zip\n",
            "download: s3://aws-tc-largeobjects/CUR-TF-200-ACMLFO-1/flight_delay_project/data/On_Time_Reporting_Carrier_On_Time_Performance_1987_present_2016_1.zip to ../project/data/FlightDelays/On_Time_Reporting_Carrier_On_Time_Performance_1987_present_2016_1.zip\n",
            "download: s3://aws-tc-largeobjects/CUR-TF-200-ACMLFO-1/flight_delay_project/data/On_Time_Reporting_Carrier_On_Time_Performance_1987_present_2015_8.zip to ../project/data/FlightDelays/On_Time_Reporting_Carrier_On_Time_Performance_1987_present_2015_8.zip\n",
            "download: s3://aws-tc-largeobjects/CUR-TF-200-ACMLFO-1/flight_delay_project/data/On_Time_Reporting_Carrier_On_Time_Performance_1987_present_2016_10.zip to ../project/data/FlightDelays/On_Time_Reporting_Carrier_On_Time_Performance_1987_present_2016_10.zip\n",
            "download: s3://aws-tc-largeobjects/CUR-TF-200-ACMLFO-1/flight_delay_project/data/On_Time_Reporting_Carrier_On_Time_Performance_1987_present_2016_11.zip to ../project/data/FlightDelays/On_Time_Reporting_Carrier_On_Time_Performance_1987_present_2016_11.zip\n",
            "download: s3://aws-tc-largeobjects/CUR-TF-200-ACMLFO-1/flight_delay_project/data/On_Time_Reporting_Carrier_On_Time_Performance_1987_present_2015_9.zip to ../project/data/FlightDelays/On_Time_Reporting_Carrier_On_Time_Performance_1987_present_2015_9.zip\n",
            "download: s3://aws-tc-largeobjects/CUR-TF-200-ACMLFO-1/flight_delay_project/data/On_Time_Reporting_Carrier_On_Time_Performance_1987_present_2016_12.zip to ../project/data/FlightDelays/On_Time_Reporting_Carrier_On_Time_Performance_1987_present_2016_12.zip\n",
            "download: s3://aws-tc-largeobjects/CUR-TF-200-ACMLFO-1/flight_delay_project/data/On_Time_Reporting_Carrier_On_Time_Performance_1987_present_2016_2.zip to ../project/data/FlightDelays/On_Time_Reporting_Carrier_On_Time_Performance_1987_present_2016_2.zip\n",
            "download: s3://aws-tc-largeobjects/CUR-TF-200-ACMLFO-1/flight_delay_project/data/On_Time_Reporting_Carrier_On_Time_Performance_1987_present_2016_5.zip to ../project/data/FlightDelays/On_Time_Reporting_Carrier_On_Time_Performance_1987_present_2016_5.zip\n",
            "download: s3://aws-tc-largeobjects/CUR-TF-200-ACMLFO-1/flight_delay_project/data/On_Time_Reporting_Carrier_On_Time_Performance_1987_present_2016_3.zip to ../project/data/FlightDelays/On_Time_Reporting_Carrier_On_Time_Performance_1987_present_2016_3.zip\n",
            "download: s3://aws-tc-largeobjects/CUR-TF-200-ACMLFO-1/flight_delay_project/data/On_Time_Reporting_Carrier_On_Time_Performance_1987_present_2016_4.zip to ../project/data/FlightDelays/On_Time_Reporting_Carrier_On_Time_Performance_1987_present_2016_4.zip\n",
            "download: s3://aws-tc-largeobjects/CUR-TF-200-ACMLFO-1/flight_delay_project/data/On_Time_Reporting_Carrier_On_Time_Performance_1987_present_2016_6.zip to ../project/data/FlightDelays/On_Time_Reporting_Carrier_On_Time_Performance_1987_present_2016_6.zip\n",
            "download: s3://aws-tc-largeobjects/CUR-TF-200-ACMLFO-1/flight_delay_project/data/On_Time_Reporting_Carrier_On_Time_Performance_1987_present_2016_7.zip to ../project/data/FlightDelays/On_Time_Reporting_Carrier_On_Time_Performance_1987_present_2016_7.zip\n",
            "download: s3://aws-tc-largeobjects/CUR-TF-200-ACMLFO-1/flight_delay_project/data/On_Time_Reporting_Carrier_On_Time_Performance_1987_present_2017_1.zip to ../project/data/FlightDelays/On_Time_Reporting_Carrier_On_Time_Performance_1987_present_2017_1.zip\n",
            "download: s3://aws-tc-largeobjects/CUR-TF-200-ACMLFO-1/flight_delay_project/data/On_Time_Reporting_Carrier_On_Time_Performance_1987_present_2016_8.zip to ../project/data/FlightDelays/On_Time_Reporting_Carrier_On_Time_Performance_1987_present_2016_8.zip\n",
            "download: s3://aws-tc-largeobjects/CUR-TF-200-ACMLFO-1/flight_delay_project/data/On_Time_Reporting_Carrier_On_Time_Performance_1987_present_2016_9.zip to ../project/data/FlightDelays/On_Time_Reporting_Carrier_On_Time_Performance_1987_present_2016_9.zip\n",
            "download: s3://aws-tc-largeobjects/CUR-TF-200-ACMLFO-1/flight_delay_project/data/On_Time_Reporting_Carrier_On_Time_Performance_1987_present_2017_10.zip to ../project/data/FlightDelays/On_Time_Reporting_Carrier_On_Time_Performance_1987_present_2017_10.zip\n",
            "download: s3://aws-tc-largeobjects/CUR-TF-200-ACMLFO-1/flight_delay_project/data/On_Time_Reporting_Carrier_On_Time_Performance_1987_present_2017_2.zip to ../project/data/FlightDelays/On_Time_Reporting_Carrier_On_Time_Performance_1987_present_2017_2.zip\n",
            "download: s3://aws-tc-largeobjects/CUR-TF-200-ACMLFO-1/flight_delay_project/data/On_Time_Reporting_Carrier_On_Time_Performance_1987_present_2017_3.zip to ../project/data/FlightDelays/On_Time_Reporting_Carrier_On_Time_Performance_1987_present_2017_3.zip\n",
            "download: s3://aws-tc-largeobjects/CUR-TF-200-ACMLFO-1/flight_delay_project/data/On_Time_Reporting_Carrier_On_Time_Performance_1987_present_2017_12.zip to ../project/data/FlightDelays/On_Time_Reporting_Carrier_On_Time_Performance_1987_present_2017_12.zip\n",
            "download: s3://aws-tc-largeobjects/CUR-TF-200-ACMLFO-1/flight_delay_project/data/On_Time_Reporting_Carrier_On_Time_Performance_1987_present_2017_5.zip to ../project/data/FlightDelays/On_Time_Reporting_Carrier_On_Time_Performance_1987_present_2017_5.zip\n",
            "download: s3://aws-tc-largeobjects/CUR-TF-200-ACMLFO-1/flight_delay_project/data/On_Time_Reporting_Carrier_On_Time_Performance_1987_present_2017_4.zip to ../project/data/FlightDelays/On_Time_Reporting_Carrier_On_Time_Performance_1987_present_2017_4.zip\n",
            "download: s3://aws-tc-largeobjects/CUR-TF-200-ACMLFO-1/flight_delay_project/data/On_Time_Reporting_Carrier_On_Time_Performance_1987_present_2017_11.zip to ../project/data/FlightDelays/On_Time_Reporting_Carrier_On_Time_Performance_1987_present_2017_11.zip\n",
            "download: s3://aws-tc-largeobjects/CUR-TF-200-ACMLFO-1/flight_delay_project/data/On_Time_Reporting_Carrier_On_Time_Performance_1987_present_2017_7.zip to ../project/data/FlightDelays/On_Time_Reporting_Carrier_On_Time_Performance_1987_present_2017_7.zip\n",
            "download: s3://aws-tc-largeobjects/CUR-TF-200-ACMLFO-1/flight_delay_project/data/On_Time_Reporting_Carrier_On_Time_Performance_1987_present_2017_8.zip to ../project/data/FlightDelays/On_Time_Reporting_Carrier_On_Time_Performance_1987_present_2017_8.zip\n",
            "download: s3://aws-tc-largeobjects/CUR-TF-200-ACMLFO-1/flight_delay_project/data/On_Time_Reporting_Carrier_On_Time_Performance_1987_present_2017_6.zip to ../project/data/FlightDelays/On_Time_Reporting_Carrier_On_Time_Performance_1987_present_2017_6.zip\n",
            "download: s3://aws-tc-largeobjects/CUR-TF-200-ACMLFO-1/flight_delay_project/data/On_Time_Reporting_Carrier_On_Time_Performance_1987_present_2017_9.zip to ../project/data/FlightDelays/On_Time_Reporting_Carrier_On_Time_Performance_1987_present_2017_9.zip\n",
            "download: s3://aws-tc-largeobjects/CUR-TF-200-ACMLFO-1/flight_delay_project/data/On_Time_Reporting_Carrier_On_Time_Performance_1987_present_2018_10.zip to ../project/data/FlightDelays/On_Time_Reporting_Carrier_On_Time_Performance_1987_present_2018_10.zip\n",
            "download: s3://aws-tc-largeobjects/CUR-TF-200-ACMLFO-1/flight_delay_project/data/On_Time_Reporting_Carrier_On_Time_Performance_1987_present_2018_1.zip to ../project/data/FlightDelays/On_Time_Reporting_Carrier_On_Time_Performance_1987_present_2018_1.zip\n",
            "download: s3://aws-tc-largeobjects/CUR-TF-200-ACMLFO-1/flight_delay_project/data/On_Time_Reporting_Carrier_On_Time_Performance_1987_present_2018_2.zip to ../project/data/FlightDelays/On_Time_Reporting_Carrier_On_Time_Performance_1987_present_2018_2.zip\n",
            "download: s3://aws-tc-largeobjects/CUR-TF-200-ACMLFO-1/flight_delay_project/data/On_Time_Reporting_Carrier_On_Time_Performance_1987_present_2018_11.zip to ../project/data/FlightDelays/On_Time_Reporting_Carrier_On_Time_Performance_1987_present_2018_11.zip\n",
            "download: s3://aws-tc-largeobjects/CUR-TF-200-ACMLFO-1/flight_delay_project/data/On_Time_Reporting_Carrier_On_Time_Performance_1987_present_2018_12.zip to ../project/data/FlightDelays/On_Time_Reporting_Carrier_On_Time_Performance_1987_present_2018_12.zip\n",
            "download: s3://aws-tc-largeobjects/CUR-TF-200-ACMLFO-1/flight_delay_project/data/On_Time_Reporting_Carrier_On_Time_Performance_1987_present_2018_3.zip to ../project/data/FlightDelays/On_Time_Reporting_Carrier_On_Time_Performance_1987_present_2018_3.zip\n",
            "download: s3://aws-tc-largeobjects/CUR-TF-200-ACMLFO-1/flight_delay_project/data/On_Time_Reporting_Carrier_On_Time_Performance_1987_present_2018_5.zip to ../project/data/FlightDelays/On_Time_Reporting_Carrier_On_Time_Performance_1987_present_2018_5.zip\n",
            "download: s3://aws-tc-largeobjects/CUR-TF-200-ACMLFO-1/flight_delay_project/data/On_Time_Reporting_Carrier_On_Time_Performance_1987_present_2018_6.zip to ../project/data/FlightDelays/On_Time_Reporting_Carrier_On_Time_Performance_1987_present_2018_6.zip\n",
            "download: s3://aws-tc-largeobjects/CUR-TF-200-ACMLFO-1/flight_delay_project/data/On_Time_Reporting_Carrier_On_Time_Performance_1987_present_2018_7.zip to ../project/data/FlightDelays/On_Time_Reporting_Carrier_On_Time_Performance_1987_present_2018_7.zip\n",
            "download: s3://aws-tc-largeobjects/CUR-TF-200-ACMLFO-1/flight_delay_project/data/On_Time_Reporting_Carrier_On_Time_Performance_1987_present_2018_4.zip to ../project/data/FlightDelays/On_Time_Reporting_Carrier_On_Time_Performance_1987_present_2018_4.zip\n",
            "download: s3://aws-tc-largeobjects/CUR-TF-200-ACMLFO-1/flight_delay_project/data/On_Time_Reporting_Carrier_On_Time_Performance_1987_present_2018_9.zip to ../project/data/FlightDelays/On_Time_Reporting_Carrier_On_Time_Performance_1987_present_2018_9.zip\n",
            "download: s3://aws-tc-largeobjects/CUR-TF-200-ACMLFO-1/flight_delay_project/data/On_Time_Reporting_Carrier_On_Time_Performance_1987_present_2018_8.zip to ../project/data/FlightDelays/On_Time_Reporting_Carrier_On_Time_Performance_1987_present_2018_8.zip\n"
          ]
        }
      ]
    },
    {
      "cell_type": "code",
      "metadata": {
        "id": "j2JZv4Lj8y10",
        "outputId": "0e277503-cef8-48d2-b0d8-d520b6c1b129"
      },
      "source": [
        "zip_files = [str(file) for file in list(Path(base_path).iterdir()) if '.zip' in str(file)]\n",
        "len(zip_files)"
      ],
      "execution_count": null,
      "outputs": [
        {
          "data": {
            "text/plain": [
              "60"
            ]
          },
          "execution_count": 3,
          "metadata": {},
          "output_type": "execute_result"
        }
      ]
    },
    {
      "cell_type": "markdown",
      "metadata": {
        "id": "HpAEMNiT8y10"
      },
      "source": [
        "Extract comma-separated values (CSV) files from the .zip files."
      ]
    },
    {
      "cell_type": "code",
      "metadata": {
        "id": "yXLsdynd8y11",
        "outputId": "795ba24b-6c3a-4ba2-d8ad-ad58e94a2803"
      },
      "source": [
        "def zip2csv(zipFile_name , file_path):\n",
        "    \"\"\"\n",
        "    Extract csv from zip files\n",
        "    zipFile_name: name of the zip file\n",
        "    file_path : name of the folder to store csv\n",
        "    \"\"\"\n",
        "\n",
        "    try:\n",
        "        with ZipFile(zipFile_name, 'r') as z: \n",
        "            print(f'Extracting {zipFile_name} ') \n",
        "            z.extractall(path=file_path) \n",
        "    except:\n",
        "        print(f'zip2csv failed for {zipFile_name}')\n",
        "\n",
        "for file in zip_files:\n",
        "    zip2csv(file, csv_base_path)\n",
        "\n",
        "print(\"Files Extracted\")"
      ],
      "execution_count": null,
      "outputs": [
        {
          "name": "stdout",
          "output_type": "stream",
          "text": [
            "Extracting /home/ec2-user/SageMaker/project/data/FlightDelays/On_Time_Reporting_Carrier_On_Time_Performance_1987_present_2017_5.zip \n",
            "Extracting /home/ec2-user/SageMaker/project/data/FlightDelays/On_Time_Reporting_Carrier_On_Time_Performance_1987_present_2017_4.zip \n",
            "Extracting /home/ec2-user/SageMaker/project/data/FlightDelays/On_Time_Reporting_Carrier_On_Time_Performance_1987_present_2014_6.zip \n",
            "Extracting /home/ec2-user/SageMaker/project/data/FlightDelays/On_Time_Reporting_Carrier_On_Time_Performance_1987_present_2015_10.zip \n",
            "Extracting /home/ec2-user/SageMaker/project/data/FlightDelays/On_Time_Reporting_Carrier_On_Time_Performance_1987_present_2017_10.zip \n",
            "Extracting /home/ec2-user/SageMaker/project/data/FlightDelays/On_Time_Reporting_Carrier_On_Time_Performance_1987_present_2017_9.zip \n",
            "Extracting /home/ec2-user/SageMaker/project/data/FlightDelays/On_Time_Reporting_Carrier_On_Time_Performance_1987_present_2017_6.zip \n",
            "Extracting /home/ec2-user/SageMaker/project/data/FlightDelays/On_Time_Reporting_Carrier_On_Time_Performance_1987_present_2014_10.zip \n",
            "Extracting /home/ec2-user/SageMaker/project/data/FlightDelays/On_Time_Reporting_Carrier_On_Time_Performance_1987_present_2015_9.zip \n",
            "Extracting /home/ec2-user/SageMaker/project/data/FlightDelays/On_Time_Reporting_Carrier_On_Time_Performance_1987_present_2015_1.zip \n",
            "Extracting /home/ec2-user/SageMaker/project/data/FlightDelays/On_Time_Reporting_Carrier_On_Time_Performance_1987_present_2015_4.zip \n",
            "Extracting /home/ec2-user/SageMaker/project/data/FlightDelays/On_Time_Reporting_Carrier_On_Time_Performance_1987_present_2018_1.zip \n",
            "Extracting /home/ec2-user/SageMaker/project/data/FlightDelays/On_Time_Reporting_Carrier_On_Time_Performance_1987_present_2018_10.zip \n",
            "Extracting /home/ec2-user/SageMaker/project/data/FlightDelays/On_Time_Reporting_Carrier_On_Time_Performance_1987_present_2017_12.zip \n",
            "Extracting /home/ec2-user/SageMaker/project/data/FlightDelays/On_Time_Reporting_Carrier_On_Time_Performance_1987_present_2016_2.zip \n",
            "Extracting /home/ec2-user/SageMaker/project/data/FlightDelays/On_Time_Reporting_Carrier_On_Time_Performance_1987_present_2018_8.zip \n",
            "Extracting /home/ec2-user/SageMaker/project/data/FlightDelays/On_Time_Reporting_Carrier_On_Time_Performance_1987_present_2018_9.zip \n",
            "Extracting /home/ec2-user/SageMaker/project/data/FlightDelays/On_Time_Reporting_Carrier_On_Time_Performance_1987_present_2018_5.zip \n",
            "Extracting /home/ec2-user/SageMaker/project/data/FlightDelays/On_Time_Reporting_Carrier_On_Time_Performance_1987_present_2017_2.zip \n",
            "Extracting /home/ec2-user/SageMaker/project/data/FlightDelays/On_Time_Reporting_Carrier_On_Time_Performance_1987_present_2016_10.zip \n",
            "Extracting /home/ec2-user/SageMaker/project/data/FlightDelays/On_Time_Reporting_Carrier_On_Time_Performance_1987_present_2017_8.zip \n",
            "Extracting /home/ec2-user/SageMaker/project/data/FlightDelays/On_Time_Reporting_Carrier_On_Time_Performance_1987_present_2018_4.zip \n",
            "Extracting /home/ec2-user/SageMaker/project/data/FlightDelays/On_Time_Reporting_Carrier_On_Time_Performance_1987_present_2017_1.zip \n",
            "Extracting /home/ec2-user/SageMaker/project/data/FlightDelays/On_Time_Reporting_Carrier_On_Time_Performance_1987_present_2016_7.zip \n",
            "Extracting /home/ec2-user/SageMaker/project/data/FlightDelays/On_Time_Reporting_Carrier_On_Time_Performance_1987_present_2014_5.zip \n",
            "Extracting /home/ec2-user/SageMaker/project/data/FlightDelays/On_Time_Reporting_Carrier_On_Time_Performance_1987_present_2015_3.zip \n",
            "Extracting /home/ec2-user/SageMaker/project/data/FlightDelays/On_Time_Reporting_Carrier_On_Time_Performance_1987_present_2016_8.zip \n",
            "Extracting /home/ec2-user/SageMaker/project/data/FlightDelays/On_Time_Reporting_Carrier_On_Time_Performance_1987_present_2015_8.zip \n",
            "Extracting /home/ec2-user/SageMaker/project/data/FlightDelays/On_Time_Reporting_Carrier_On_Time_Performance_1987_present_2016_12.zip \n",
            "Extracting /home/ec2-user/SageMaker/project/data/FlightDelays/On_Time_Reporting_Carrier_On_Time_Performance_1987_present_2017_3.zip \n",
            "Extracting /home/ec2-user/SageMaker/project/data/FlightDelays/On_Time_Reporting_Carrier_On_Time_Performance_1987_present_2016_9.zip \n",
            "Extracting /home/ec2-user/SageMaker/project/data/FlightDelays/On_Time_Reporting_Carrier_On_Time_Performance_1987_present_2014_12.zip \n",
            "Extracting /home/ec2-user/SageMaker/project/data/FlightDelays/On_Time_Reporting_Carrier_On_Time_Performance_1987_present_2016_6.zip \n",
            "Extracting /home/ec2-user/SageMaker/project/data/FlightDelays/On_Time_Reporting_Carrier_On_Time_Performance_1987_present_2015_6.zip \n",
            "Extracting /home/ec2-user/SageMaker/project/data/FlightDelays/On_Time_Reporting_Carrier_On_Time_Performance_1987_present_2018_2.zip \n",
            "Extracting /home/ec2-user/SageMaker/project/data/FlightDelays/On_Time_Reporting_Carrier_On_Time_Performance_1987_present_2015_11.zip \n",
            "Extracting /home/ec2-user/SageMaker/project/data/FlightDelays/On_Time_Reporting_Carrier_On_Time_Performance_1987_present_2014_3.zip \n",
            "Extracting /home/ec2-user/SageMaker/project/data/FlightDelays/On_Time_Reporting_Carrier_On_Time_Performance_1987_present_2016_1.zip \n",
            "Extracting /home/ec2-user/SageMaker/project/data/FlightDelays/On_Time_Reporting_Carrier_On_Time_Performance_1987_present_2015_2.zip \n",
            "Extracting /home/ec2-user/SageMaker/project/data/FlightDelays/On_Time_Reporting_Carrier_On_Time_Performance_1987_present_2016_3.zip \n",
            "Extracting /home/ec2-user/SageMaker/project/data/FlightDelays/On_Time_Reporting_Carrier_On_Time_Performance_1987_present_2017_7.zip \n",
            "Extracting /home/ec2-user/SageMaker/project/data/FlightDelays/On_Time_Reporting_Carrier_On_Time_Performance_1987_present_2016_4.zip \n",
            "Extracting /home/ec2-user/SageMaker/project/data/FlightDelays/On_Time_Reporting_Carrier_On_Time_Performance_1987_present_2018_12.zip \n",
            "Extracting /home/ec2-user/SageMaker/project/data/FlightDelays/On_Time_Reporting_Carrier_On_Time_Performance_1987_present_2018_3.zip \n",
            "Extracting /home/ec2-user/SageMaker/project/data/FlightDelays/On_Time_Reporting_Carrier_On_Time_Performance_1987_present_2018_7.zip \n",
            "Extracting /home/ec2-user/SageMaker/project/data/FlightDelays/On_Time_Reporting_Carrier_On_Time_Performance_1987_present_2014_2.zip \n",
            "Extracting /home/ec2-user/SageMaker/project/data/FlightDelays/On_Time_Reporting_Carrier_On_Time_Performance_1987_present_2015_7.zip \n",
            "Extracting /home/ec2-user/SageMaker/project/data/FlightDelays/On_Time_Reporting_Carrier_On_Time_Performance_1987_present_2016_11.zip \n",
            "Extracting /home/ec2-user/SageMaker/project/data/FlightDelays/On_Time_Reporting_Carrier_On_Time_Performance_1987_present_2015_5.zip \n",
            "Extracting /home/ec2-user/SageMaker/project/data/FlightDelays/On_Time_Reporting_Carrier_On_Time_Performance_1987_present_2014_11.zip \n",
            "Extracting /home/ec2-user/SageMaker/project/data/FlightDelays/On_Time_Reporting_Carrier_On_Time_Performance_1987_present_2017_11.zip \n",
            "Extracting /home/ec2-user/SageMaker/project/data/FlightDelays/On_Time_Reporting_Carrier_On_Time_Performance_1987_present_2018_11.zip \n",
            "Extracting /home/ec2-user/SageMaker/project/data/FlightDelays/On_Time_Reporting_Carrier_On_Time_Performance_1987_present_2014_7.zip \n",
            "Extracting /home/ec2-user/SageMaker/project/data/FlightDelays/On_Time_Reporting_Carrier_On_Time_Performance_1987_present_2018_6.zip \n",
            "Extracting /home/ec2-user/SageMaker/project/data/FlightDelays/On_Time_Reporting_Carrier_On_Time_Performance_1987_present_2014_9.zip \n",
            "Extracting /home/ec2-user/SageMaker/project/data/FlightDelays/On_Time_Reporting_Carrier_On_Time_Performance_1987_present_2016_5.zip \n",
            "Extracting /home/ec2-user/SageMaker/project/data/FlightDelays/On_Time_Reporting_Carrier_On_Time_Performance_1987_present_2015_12.zip \n",
            "Extracting /home/ec2-user/SageMaker/project/data/FlightDelays/On_Time_Reporting_Carrier_On_Time_Performance_1987_present_2014_1.zip \n",
            "Extracting /home/ec2-user/SageMaker/project/data/FlightDelays/On_Time_Reporting_Carrier_On_Time_Performance_1987_present_2014_4.zip \n",
            "Extracting /home/ec2-user/SageMaker/project/data/FlightDelays/On_Time_Reporting_Carrier_On_Time_Performance_1987_present_2014_8.zip \n",
            "Files Extracted\n"
          ]
        }
      ]
    },
    {
      "cell_type": "code",
      "metadata": {
        "id": "-LJWeWdS8y11",
        "outputId": "b4cb65fe-580a-48a9-85c9-a363d063a242"
      },
      "source": [
        "csv_files = [str(file) for file in list(Path(csv_base_path).iterdir()) if '.csv' in str(file)]\n",
        "len(csv_files)"
      ],
      "execution_count": null,
      "outputs": [
        {
          "data": {
            "text/plain": [
              "60"
            ]
          },
          "execution_count": 5,
          "metadata": {},
          "output_type": "execute_result"
        }
      ]
    },
    {
      "cell_type": "markdown",
      "metadata": {
        "id": "6XSDuydN8y12"
      },
      "source": [
        "Before you load the CSV file, read the HTML file from the extracted folder. This HTML file includes the background and more information about the features that are included in the dataset."
      ]
    },
    {
      "cell_type": "code",
      "metadata": {
        "id": "DuBEe9Il8y12",
        "outputId": "3d568733-4367-45b4-bdcb-73ffb5de59d8"
      },
      "source": [
        "from IPython.display import IFrame\n",
        "\n",
        "IFrame(src=os.path.relpath(f\"{csv_base_path}readme.html\"), width=1000, height=600)"
      ],
      "execution_count": null,
      "outputs": [
        {
          "data": {
            "text/html": [
              "\n",
              "        <iframe\n",
              "            width=\"1000\"\n",
              "            height=\"600\"\n",
              "            src=\"../project/data/csvFlightDelays/readme.html\"\n",
              "            frameborder=\"0\"\n",
              "            allowfullscreen\n",
              "        ></iframe>\n",
              "        "
            ],
            "text/plain": [
              "<IPython.lib.display.IFrame at 0x7fea67942b38>"
            ]
          },
          "execution_count": 6,
          "metadata": {},
          "output_type": "execute_result"
        }
      ]
    },
    {
      "cell_type": "markdown",
      "metadata": {
        "id": "aDVH18_Y8y13"
      },
      "source": [
        "#### Load sample CSV file\n",
        "\n",
        "Before you combine all the CSV files, examine the data from a single CSV file. By using pandas, read the `On_Time_Reporting_Carrier_On_Time_Performance_(1987_present)_2018_9.csv` file first. You can use the built-in `read_csv` function in Python ([pandas.read_csv documentation](https://pandas.pydata.org/pandas-docs/stable/reference/api/pandas.read_csv.html))."
      ]
    },
    {
      "cell_type": "code",
      "metadata": {
        "id": "N3OtMEMs8y13"
      },
      "source": [
        "df_temp = pd.read_csv(f\"{csv_base_path}On_Time_Reporting_Carrier_On_Time_Performance_(1987_present)_2018_9.csv\")"
      ],
      "execution_count": null,
      "outputs": []
    },
    {
      "cell_type": "markdown",
      "metadata": {
        "id": "PIigVWjv8y13"
      },
      "source": [
        "**Question**: Print the row and column length in the dataset, and print the column names.\n",
        "\n",
        "**Hint**: To view the rows and columns of a DataFrame, use the `<DataFrame>.shape` function. To view the column names, use the `<DataFrame>.columns` function."
      ]
    },
    {
      "cell_type": "code",
      "metadata": {
        "id": "aqZ7CRuP8y14",
        "outputId": "ecc7c367-7281-4cb9-aabf-db063ffee6b4"
      },
      "source": [
        "df_shape = df_temp.shape\n",
        "print(f'Rows and columns in one CSV file is {df_shape}')"
      ],
      "execution_count": null,
      "outputs": [
        {
          "name": "stdout",
          "output_type": "stream",
          "text": [
            "Rows and columns in one CSV file is (585749, 110)\n"
          ]
        }
      ]
    },
    {
      "cell_type": "markdown",
      "metadata": {
        "id": "mqCDHhEF8y14"
      },
      "source": [
        "**Question**: Print the first 10 rows of the dataset.  \n",
        "\n",
        "**Hint**: To print `x` number of rows, use the built-in `head(x)` function in pandas."
      ]
    },
    {
      "cell_type": "code",
      "metadata": {
        "id": "GBYsRRGj8y14",
        "outputId": "60b87bb2-867a-4c3c-fb7a-d0b72ff5422d"
      },
      "source": [
        "df_temp.head(10)"
      ],
      "execution_count": null,
      "outputs": [
        {
          "data": {
            "text/html": [
              "<div>\n",
              "<style scoped>\n",
              "    .dataframe tbody tr th:only-of-type {\n",
              "        vertical-align: middle;\n",
              "    }\n",
              "\n",
              "    .dataframe tbody tr th {\n",
              "        vertical-align: top;\n",
              "    }\n",
              "\n",
              "    .dataframe thead th {\n",
              "        text-align: right;\n",
              "    }\n",
              "</style>\n",
              "<table border=\"1\" class=\"dataframe\">\n",
              "  <thead>\n",
              "    <tr style=\"text-align: right;\">\n",
              "      <th></th>\n",
              "      <th>Year</th>\n",
              "      <th>Quarter</th>\n",
              "      <th>Month</th>\n",
              "      <th>DayofMonth</th>\n",
              "      <th>DayOfWeek</th>\n",
              "      <th>FlightDate</th>\n",
              "      <th>Reporting_Airline</th>\n",
              "      <th>DOT_ID_Reporting_Airline</th>\n",
              "      <th>IATA_CODE_Reporting_Airline</th>\n",
              "      <th>Tail_Number</th>\n",
              "      <th>...</th>\n",
              "      <th>Div4TailNum</th>\n",
              "      <th>Div5Airport</th>\n",
              "      <th>Div5AirportID</th>\n",
              "      <th>Div5AirportSeqID</th>\n",
              "      <th>Div5WheelsOn</th>\n",
              "      <th>Div5TotalGTime</th>\n",
              "      <th>Div5LongestGTime</th>\n",
              "      <th>Div5WheelsOff</th>\n",
              "      <th>Div5TailNum</th>\n",
              "      <th>Unnamed: 109</th>\n",
              "    </tr>\n",
              "  </thead>\n",
              "  <tbody>\n",
              "    <tr>\n",
              "      <th>0</th>\n",
              "      <td>2018</td>\n",
              "      <td>3</td>\n",
              "      <td>9</td>\n",
              "      <td>3</td>\n",
              "      <td>1</td>\n",
              "      <td>2018-09-03</td>\n",
              "      <td>9E</td>\n",
              "      <td>20363</td>\n",
              "      <td>9E</td>\n",
              "      <td>N908XJ</td>\n",
              "      <td>...</td>\n",
              "      <td>NaN</td>\n",
              "      <td>NaN</td>\n",
              "      <td>NaN</td>\n",
              "      <td>NaN</td>\n",
              "      <td>NaN</td>\n",
              "      <td>NaN</td>\n",
              "      <td>NaN</td>\n",
              "      <td>NaN</td>\n",
              "      <td>NaN</td>\n",
              "      <td>NaN</td>\n",
              "    </tr>\n",
              "    <tr>\n",
              "      <th>1</th>\n",
              "      <td>2018</td>\n",
              "      <td>3</td>\n",
              "      <td>9</td>\n",
              "      <td>9</td>\n",
              "      <td>7</td>\n",
              "      <td>2018-09-09</td>\n",
              "      <td>9E</td>\n",
              "      <td>20363</td>\n",
              "      <td>9E</td>\n",
              "      <td>N315PQ</td>\n",
              "      <td>...</td>\n",
              "      <td>NaN</td>\n",
              "      <td>NaN</td>\n",
              "      <td>NaN</td>\n",
              "      <td>NaN</td>\n",
              "      <td>NaN</td>\n",
              "      <td>NaN</td>\n",
              "      <td>NaN</td>\n",
              "      <td>NaN</td>\n",
              "      <td>NaN</td>\n",
              "      <td>NaN</td>\n",
              "    </tr>\n",
              "    <tr>\n",
              "      <th>2</th>\n",
              "      <td>2018</td>\n",
              "      <td>3</td>\n",
              "      <td>9</td>\n",
              "      <td>10</td>\n",
              "      <td>1</td>\n",
              "      <td>2018-09-10</td>\n",
              "      <td>9E</td>\n",
              "      <td>20363</td>\n",
              "      <td>9E</td>\n",
              "      <td>N582CA</td>\n",
              "      <td>...</td>\n",
              "      <td>NaN</td>\n",
              "      <td>NaN</td>\n",
              "      <td>NaN</td>\n",
              "      <td>NaN</td>\n",
              "      <td>NaN</td>\n",
              "      <td>NaN</td>\n",
              "      <td>NaN</td>\n",
              "      <td>NaN</td>\n",
              "      <td>NaN</td>\n",
              "      <td>NaN</td>\n",
              "    </tr>\n",
              "    <tr>\n",
              "      <th>3</th>\n",
              "      <td>2018</td>\n",
              "      <td>3</td>\n",
              "      <td>9</td>\n",
              "      <td>13</td>\n",
              "      <td>4</td>\n",
              "      <td>2018-09-13</td>\n",
              "      <td>9E</td>\n",
              "      <td>20363</td>\n",
              "      <td>9E</td>\n",
              "      <td>N292PQ</td>\n",
              "      <td>...</td>\n",
              "      <td>NaN</td>\n",
              "      <td>NaN</td>\n",
              "      <td>NaN</td>\n",
              "      <td>NaN</td>\n",
              "      <td>NaN</td>\n",
              "      <td>NaN</td>\n",
              "      <td>NaN</td>\n",
              "      <td>NaN</td>\n",
              "      <td>NaN</td>\n",
              "      <td>NaN</td>\n",
              "    </tr>\n",
              "    <tr>\n",
              "      <th>4</th>\n",
              "      <td>2018</td>\n",
              "      <td>3</td>\n",
              "      <td>9</td>\n",
              "      <td>14</td>\n",
              "      <td>5</td>\n",
              "      <td>2018-09-14</td>\n",
              "      <td>9E</td>\n",
              "      <td>20363</td>\n",
              "      <td>9E</td>\n",
              "      <td>N600LR</td>\n",
              "      <td>...</td>\n",
              "      <td>NaN</td>\n",
              "      <td>NaN</td>\n",
              "      <td>NaN</td>\n",
              "      <td>NaN</td>\n",
              "      <td>NaN</td>\n",
              "      <td>NaN</td>\n",
              "      <td>NaN</td>\n",
              "      <td>NaN</td>\n",
              "      <td>NaN</td>\n",
              "      <td>NaN</td>\n",
              "    </tr>\n",
              "    <tr>\n",
              "      <th>5</th>\n",
              "      <td>2018</td>\n",
              "      <td>3</td>\n",
              "      <td>9</td>\n",
              "      <td>16</td>\n",
              "      <td>7</td>\n",
              "      <td>2018-09-16</td>\n",
              "      <td>9E</td>\n",
              "      <td>20363</td>\n",
              "      <td>9E</td>\n",
              "      <td>N316PQ</td>\n",
              "      <td>...</td>\n",
              "      <td>NaN</td>\n",
              "      <td>NaN</td>\n",
              "      <td>NaN</td>\n",
              "      <td>NaN</td>\n",
              "      <td>NaN</td>\n",
              "      <td>NaN</td>\n",
              "      <td>NaN</td>\n",
              "      <td>NaN</td>\n",
              "      <td>NaN</td>\n",
              "      <td>NaN</td>\n",
              "    </tr>\n",
              "    <tr>\n",
              "      <th>6</th>\n",
              "      <td>2018</td>\n",
              "      <td>3</td>\n",
              "      <td>9</td>\n",
              "      <td>17</td>\n",
              "      <td>1</td>\n",
              "      <td>2018-09-17</td>\n",
              "      <td>9E</td>\n",
              "      <td>20363</td>\n",
              "      <td>9E</td>\n",
              "      <td>N916XJ</td>\n",
              "      <td>...</td>\n",
              "      <td>NaN</td>\n",
              "      <td>NaN</td>\n",
              "      <td>NaN</td>\n",
              "      <td>NaN</td>\n",
              "      <td>NaN</td>\n",
              "      <td>NaN</td>\n",
              "      <td>NaN</td>\n",
              "      <td>NaN</td>\n",
              "      <td>NaN</td>\n",
              "      <td>NaN</td>\n",
              "    </tr>\n",
              "    <tr>\n",
              "      <th>7</th>\n",
              "      <td>2018</td>\n",
              "      <td>3</td>\n",
              "      <td>9</td>\n",
              "      <td>20</td>\n",
              "      <td>4</td>\n",
              "      <td>2018-09-20</td>\n",
              "      <td>9E</td>\n",
              "      <td>20363</td>\n",
              "      <td>9E</td>\n",
              "      <td>N371CA</td>\n",
              "      <td>...</td>\n",
              "      <td>NaN</td>\n",
              "      <td>NaN</td>\n",
              "      <td>NaN</td>\n",
              "      <td>NaN</td>\n",
              "      <td>NaN</td>\n",
              "      <td>NaN</td>\n",
              "      <td>NaN</td>\n",
              "      <td>NaN</td>\n",
              "      <td>NaN</td>\n",
              "      <td>NaN</td>\n",
              "    </tr>\n",
              "    <tr>\n",
              "      <th>8</th>\n",
              "      <td>2018</td>\n",
              "      <td>3</td>\n",
              "      <td>9</td>\n",
              "      <td>21</td>\n",
              "      <td>5</td>\n",
              "      <td>2018-09-21</td>\n",
              "      <td>9E</td>\n",
              "      <td>20363</td>\n",
              "      <td>9E</td>\n",
              "      <td>N601LR</td>\n",
              "      <td>...</td>\n",
              "      <td>NaN</td>\n",
              "      <td>NaN</td>\n",
              "      <td>NaN</td>\n",
              "      <td>NaN</td>\n",
              "      <td>NaN</td>\n",
              "      <td>NaN</td>\n",
              "      <td>NaN</td>\n",
              "      <td>NaN</td>\n",
              "      <td>NaN</td>\n",
              "      <td>NaN</td>\n",
              "    </tr>\n",
              "    <tr>\n",
              "      <th>9</th>\n",
              "      <td>2018</td>\n",
              "      <td>3</td>\n",
              "      <td>9</td>\n",
              "      <td>23</td>\n",
              "      <td>7</td>\n",
              "      <td>2018-09-23</td>\n",
              "      <td>9E</td>\n",
              "      <td>20363</td>\n",
              "      <td>9E</td>\n",
              "      <td>N906XJ</td>\n",
              "      <td>...</td>\n",
              "      <td>NaN</td>\n",
              "      <td>NaN</td>\n",
              "      <td>NaN</td>\n",
              "      <td>NaN</td>\n",
              "      <td>NaN</td>\n",
              "      <td>NaN</td>\n",
              "      <td>NaN</td>\n",
              "      <td>NaN</td>\n",
              "      <td>NaN</td>\n",
              "      <td>NaN</td>\n",
              "    </tr>\n",
              "  </tbody>\n",
              "</table>\n",
              "<p>10 rows × 110 columns</p>\n",
              "</div>"
            ],
            "text/plain": [
              "   Year  Quarter  Month  DayofMonth  DayOfWeek  FlightDate Reporting_Airline  \\\n",
              "0  2018        3      9           3          1  2018-09-03                9E   \n",
              "1  2018        3      9           9          7  2018-09-09                9E   \n",
              "2  2018        3      9          10          1  2018-09-10                9E   \n",
              "3  2018        3      9          13          4  2018-09-13                9E   \n",
              "4  2018        3      9          14          5  2018-09-14                9E   \n",
              "5  2018        3      9          16          7  2018-09-16                9E   \n",
              "6  2018        3      9          17          1  2018-09-17                9E   \n",
              "7  2018        3      9          20          4  2018-09-20                9E   \n",
              "8  2018        3      9          21          5  2018-09-21                9E   \n",
              "9  2018        3      9          23          7  2018-09-23                9E   \n",
              "\n",
              "   DOT_ID_Reporting_Airline IATA_CODE_Reporting_Airline Tail_Number  ...  \\\n",
              "0                     20363                          9E      N908XJ  ...   \n",
              "1                     20363                          9E      N315PQ  ...   \n",
              "2                     20363                          9E      N582CA  ...   \n",
              "3                     20363                          9E      N292PQ  ...   \n",
              "4                     20363                          9E      N600LR  ...   \n",
              "5                     20363                          9E      N316PQ  ...   \n",
              "6                     20363                          9E      N916XJ  ...   \n",
              "7                     20363                          9E      N371CA  ...   \n",
              "8                     20363                          9E      N601LR  ...   \n",
              "9                     20363                          9E      N906XJ  ...   \n",
              "\n",
              "   Div4TailNum  Div5Airport  Div5AirportID  Div5AirportSeqID Div5WheelsOn  \\\n",
              "0          NaN          NaN            NaN               NaN          NaN   \n",
              "1          NaN          NaN            NaN               NaN          NaN   \n",
              "2          NaN          NaN            NaN               NaN          NaN   \n",
              "3          NaN          NaN            NaN               NaN          NaN   \n",
              "4          NaN          NaN            NaN               NaN          NaN   \n",
              "5          NaN          NaN            NaN               NaN          NaN   \n",
              "6          NaN          NaN            NaN               NaN          NaN   \n",
              "7          NaN          NaN            NaN               NaN          NaN   \n",
              "8          NaN          NaN            NaN               NaN          NaN   \n",
              "9          NaN          NaN            NaN               NaN          NaN   \n",
              "\n",
              "  Div5TotalGTime Div5LongestGTime  Div5WheelsOff Div5TailNum  Unnamed: 109  \n",
              "0            NaN              NaN            NaN         NaN           NaN  \n",
              "1            NaN              NaN            NaN         NaN           NaN  \n",
              "2            NaN              NaN            NaN         NaN           NaN  \n",
              "3            NaN              NaN            NaN         NaN           NaN  \n",
              "4            NaN              NaN            NaN         NaN           NaN  \n",
              "5            NaN              NaN            NaN         NaN           NaN  \n",
              "6            NaN              NaN            NaN         NaN           NaN  \n",
              "7            NaN              NaN            NaN         NaN           NaN  \n",
              "8            NaN              NaN            NaN         NaN           NaN  \n",
              "9            NaN              NaN            NaN         NaN           NaN  \n",
              "\n",
              "[10 rows x 110 columns]"
            ]
          },
          "execution_count": 9,
          "metadata": {},
          "output_type": "execute_result"
        }
      ]
    },
    {
      "cell_type": "markdown",
      "metadata": {
        "id": "2ffDHWle8y15"
      },
      "source": [
        "**Question**: Print all the columns in the dataset. To view the column names, use `<DataFrame>.columns`."
      ]
    },
    {
      "cell_type": "code",
      "metadata": {
        "id": "_ZEbVo2e8y15",
        "outputId": "98d82d5e-c0c1-4a24-bc6a-5e7d6fd94626"
      },
      "source": [
        "print(f'The column names are :')\n",
        "print('#########')\n",
        "for col in df_temp.columns:# **ENTER YOUR CODE HERE**\n",
        "    print(col)"
      ],
      "execution_count": null,
      "outputs": [
        {
          "name": "stdout",
          "output_type": "stream",
          "text": [
            "The column names are :\n",
            "#########\n",
            "Year\n",
            "Quarter\n",
            "Month\n",
            "DayofMonth\n",
            "DayOfWeek\n",
            "FlightDate\n",
            "Reporting_Airline\n",
            "DOT_ID_Reporting_Airline\n",
            "IATA_CODE_Reporting_Airline\n",
            "Tail_Number\n",
            "Flight_Number_Reporting_Airline\n",
            "OriginAirportID\n",
            "OriginAirportSeqID\n",
            "OriginCityMarketID\n",
            "Origin\n",
            "OriginCityName\n",
            "OriginState\n",
            "OriginStateFips\n",
            "OriginStateName\n",
            "OriginWac\n",
            "DestAirportID\n",
            "DestAirportSeqID\n",
            "DestCityMarketID\n",
            "Dest\n",
            "DestCityName\n",
            "DestState\n",
            "DestStateFips\n",
            "DestStateName\n",
            "DestWac\n",
            "CRSDepTime\n",
            "DepTime\n",
            "DepDelay\n",
            "DepDelayMinutes\n",
            "DepDel15\n",
            "DepartureDelayGroups\n",
            "DepTimeBlk\n",
            "TaxiOut\n",
            "WheelsOff\n",
            "WheelsOn\n",
            "TaxiIn\n",
            "CRSArrTime\n",
            "ArrTime\n",
            "ArrDelay\n",
            "ArrDelayMinutes\n",
            "ArrDel15\n",
            "ArrivalDelayGroups\n",
            "ArrTimeBlk\n",
            "Cancelled\n",
            "CancellationCode\n",
            "Diverted\n",
            "CRSElapsedTime\n",
            "ActualElapsedTime\n",
            "AirTime\n",
            "Flights\n",
            "Distance\n",
            "DistanceGroup\n",
            "CarrierDelay\n",
            "WeatherDelay\n",
            "NASDelay\n",
            "SecurityDelay\n",
            "LateAircraftDelay\n",
            "FirstDepTime\n",
            "TotalAddGTime\n",
            "LongestAddGTime\n",
            "DivAirportLandings\n",
            "DivReachedDest\n",
            "DivActualElapsedTime\n",
            "DivArrDelay\n",
            "DivDistance\n",
            "Div1Airport\n",
            "Div1AirportID\n",
            "Div1AirportSeqID\n",
            "Div1WheelsOn\n",
            "Div1TotalGTime\n",
            "Div1LongestGTime\n",
            "Div1WheelsOff\n",
            "Div1TailNum\n",
            "Div2Airport\n",
            "Div2AirportID\n",
            "Div2AirportSeqID\n",
            "Div2WheelsOn\n",
            "Div2TotalGTime\n",
            "Div2LongestGTime\n",
            "Div2WheelsOff\n",
            "Div2TailNum\n",
            "Div3Airport\n",
            "Div3AirportID\n",
            "Div3AirportSeqID\n",
            "Div3WheelsOn\n",
            "Div3TotalGTime\n",
            "Div3LongestGTime\n",
            "Div3WheelsOff\n",
            "Div3TailNum\n",
            "Div4Airport\n",
            "Div4AirportID\n",
            "Div4AirportSeqID\n",
            "Div4WheelsOn\n",
            "Div4TotalGTime\n",
            "Div4LongestGTime\n",
            "Div4WheelsOff\n",
            "Div4TailNum\n",
            "Div5Airport\n",
            "Div5AirportID\n",
            "Div5AirportSeqID\n",
            "Div5WheelsOn\n",
            "Div5TotalGTime\n",
            "Div5LongestGTime\n",
            "Div5WheelsOff\n",
            "Div5TailNum\n",
            "Unnamed: 109\n"
          ]
        }
      ]
    },
    {
      "cell_type": "markdown",
      "metadata": {
        "id": "crCFFfuu8y15"
      },
      "source": [
        "**Question**: Print all the columns in the dataset that contain the word *Del*. This will help you see how many columns have *delay data* in them.\n",
        "\n",
        "**Hint**: To include values that pass certain `if` statement criteria, you can use a Python list comprehension.\n",
        "\n",
        "For example: `[x for x in [1,2,3,4,5] if x > 2]`  \n",
        "\n",
        "**Hint**: To check if the value is in a list, you can use the `in` keyword ([Python in Keyword documentation](https://www.w3schools.com/python/ref_keyword_in.asp)). \n",
        "\n",
        "For example: `5 in [1,2,3,4,5]`"
      ]
    },
    {
      "cell_type": "code",
      "metadata": {
        "id": "Lj8KgBfO8y16",
        "outputId": "643152d1-5944-4577-9be4-dce6afa995ad"
      },
      "source": [
        "L=[col for col in df_temp if('Del' in col)]\n",
        "print(L)# Enter your code here"
      ],
      "execution_count": null,
      "outputs": [
        {
          "name": "stdout",
          "output_type": "stream",
          "text": [
            "['DepDelay', 'DepDelayMinutes', 'DepDel15', 'DepartureDelayGroups', 'ArrDelay', 'ArrDelayMinutes', 'ArrDel15', 'ArrivalDelayGroups', 'CarrierDelay', 'WeatherDelay', 'NASDelay', 'SecurityDelay', 'LateAircraftDelay', 'DivArrDelay']\n"
          ]
        }
      ]
    },
    {
      "cell_type": "markdown",
      "metadata": {
        "id": "qWkA_ktu8y16"
      },
      "source": [
        "Here are some more questions to help you learn more about your dataset.\n",
        "\n",
        "**Questions**   \n",
        "\n",
        "1. How many rows and columns does the dataset have?   \n",
        "2. How many years are included in the dataset?   \n",
        "3. What is the date range for the dataset?   \n",
        "4. Which airlines are included in the dataset?   \n",
        "5. Which origin and destination airports are covered?\n",
        "\n",
        "**Hints**\n",
        "- To show the dimensions of the DataFrame, use `df_temp.shape`.\n",
        "- To refer to a specific column, use `df_temp.columnName` (for example, `df_temp.CarrierDelay`).\n",
        "- To get unique values for a column, use `df_temp.column.unique()` (for, example `df_temp.Year.unique()`)."
      ]
    },
    {
      "cell_type": "code",
      "metadata": {
        "id": "aMAz3YHT8y16",
        "outputId": "7262b972-7018-4818-d678-a93f41abe425"
      },
      "source": [
        "print(\"The #rows and #columns are \", df_temp.shape , \" and \", len(df_temp.columns))\n",
        "print(\"The years in this dataset are: \", df_temp.Year.unique())\n",
        "print(\"The months covered in this dataset are: \",df_temp.Month.unique())\n",
        "print(\"The date range for data is :\" , min(df_temp.Year), \" to \", max(df_temp.Year))\n",
        "print(\"The airlines covered in this dataset are: \", list(df_temp.Reporting_Airline.unique()))\n",
        "print(\"The Origin airports covered are: \", list(df_temp.Origin.unique()))\n",
        "print(\"The Destination airports covered are: \", list(df_temp.Dest.unique()))"
      ],
      "execution_count": null,
      "outputs": [
        {
          "name": "stdout",
          "output_type": "stream",
          "text": [
            "The #rows and #columns are  (585749, 110)  and  110\n",
            "The years in this dataset are:  [2018]\n",
            "The months covered in this dataset are:  [9]\n",
            "The date range for data is : 2018  to  2018\n",
            "The airlines covered in this dataset are:  ['9E', 'B6', 'WN', 'YV', 'YX', 'EV', 'AA', 'AS', 'DL', 'HA', 'UA', 'F9', 'G4', 'MQ', 'NK', 'OH', 'OO']\n",
            "The Origin airports covered are:  ['DFW', 'LGA', 'MSN', 'MSP', 'ATL', 'BDL', 'VLD', 'JFK', 'RDU', 'CHS', 'DTW', 'GRB', 'PVD', 'SHV', 'FNT', 'PIT', 'RIC', 'RST', 'RSW', 'CVG', 'LIT', 'ORD', 'JAX', 'TRI', 'BOS', 'CWA', 'DCA', 'CHO', 'AVP', 'IND', 'GRR', 'BTR', 'MEM', 'TUL', 'CLE', 'STL', 'BTV', 'OMA', 'MGM', 'TVC', 'SAV', 'GSP', 'EWR', 'OAJ', 'BNA', 'MCI', 'TLH', 'ROC', 'LEX', 'PWM', 'BUF', 'AGS', 'CLT', 'GSO', 'BWI', 'SAT', 'PHL', 'TYS', 'ACK', 'DSM', 'GNV', 'AVL', 'BGR', 'MHT', 'ILM', 'MOT', 'IAH', 'SBN', 'SYR', 'ORF', 'MKE', 'XNA', 'MSY', 'PBI', 'ABE', 'HPN', 'EVV', 'ALB', 'LNK', 'AUS', 'PHF', 'CHA', 'GTR', 'BMI', 'BQK', 'CID', 'CAK', 'ATW', 'ABY', 'CAE', 'SRQ', 'MLI', 'BHM', 'IAD', 'CSG', 'CMH', 'MCO', 'MBS', 'FLL', 'SDF', 'TPA', 'MVY', 'LAS', 'LGB', 'SFO', 'SAN', 'LAX', 'RNO', 'PDX', 'ANC', 'ABQ', 'SLC', 'DEN', 'PHX', 'OAK', 'SMF', 'SJU', 'SEA', 'HOU', 'STX', 'BUR', 'SWF', 'SJC', 'DAB', 'BQN', 'PSE', 'ORH', 'HYA', 'STT', 'ONT', 'HRL', 'ICT', 'ISP', 'LBB', 'MAF', 'MDW', 'OKC', 'PNS', 'SNA', 'TUS', 'AMA', 'BOI', 'CRP', 'DAL', 'ECP', 'ELP', 'GEG', 'LFT', 'MFE', 'MDT', 'JAN', 'COS', 'MOB', 'VPS', 'MTJ', 'DRO', 'GPT', 'BFL', 'MRY', 'SBA', 'PSP', 'FSD', 'BRO', 'RAP', 'COU', 'STS', 'PIA', 'FAT', 'SBP', 'FSM', 'HSV', 'BIS', 'DAY', 'BZN', 'MIA', 'EYW', 'MYR', 'HHH', 'GJT', 'FAR', 'SGF', 'HOB', 'CLL', 'LRD', 'AEX', 'ERI', 'MLU', 'LCH', 'ROA', 'LAW', 'MHK', 'GRK', 'SAF', 'GRI', 'JLN', 'ROW', 'FWA', 'CRW', 'LAN', 'OGG', 'HNL', 'KOA', 'EGE', 'LIH', 'MLB', 'JAC', 'FAI', 'RDM', 'ADQ', 'BET', 'BRW', 'SCC', 'KTN', 'YAK', 'CDV', 'JNU', 'SIT', 'PSG', 'WRG', 'OME', 'OTZ', 'ADK', 'FCA', 'FAY', 'PSC', 'BIL', 'MSO', 'ITO', 'PPG', 'MFR', 'EUG', 'GUM', 'SPN', 'DLH', 'TTN', 'BKG', 'SFB', 'PIE', 'PGD', 'AZA', 'SMX', 'RFD', 'SCK', 'OWB', 'HTS', 'BLV', 'IAG', 'USA', 'GFK', 'BLI', 'ELM', 'PBG', 'LCK', 'GTF', 'OGD', 'IDA', 'PVU', 'TOL', 'PSM', 'CKB', 'HGR', 'SPI', 'STC', 'ACT', 'TYR', 'ABI', 'AZO', 'CMI', 'BPT', 'GCK', 'MQT', 'ALO', 'TXK', 'SPS', 'SWO', 'DBQ', 'SUX', 'SJT', 'GGG', 'LSE', 'LBE', 'ACY', 'LYH', 'PGV', 'HVN', 'EWN', 'DHN', 'PIH', 'IMT', 'WYS', 'CPR', 'SCE', 'HLN', 'SUN', 'ISN', 'CMX', 'EAU', 'LWB', 'SHD', 'LBF', 'HYS', 'SLN', 'EAR', 'VEL', 'CNY', 'GCC', 'RKS', 'PUB', 'LBL', 'MKG', 'PAH', 'CGI', 'UIN', 'BFF', 'DVL', 'JMS', 'LAR', 'SGU', 'PRC', 'ASE', 'RDD', 'ACV', 'OTH', 'COD', 'LWS', 'ABR', 'APN', 'ESC', 'PLN', 'BJI', 'BRD', 'BTM', 'CDC', 'CIU', 'EKO', 'TWF', 'HIB', 'BGM', 'RHI', 'ITH', 'INL', 'FLG', 'YUM', 'MEI', 'PIB', 'HDN']\n",
            "The Destination airports covered are:  ['CVG', 'PWM', 'RDU', 'MSP', 'MSN', 'SHV', 'CLT', 'PIT', 'RIC', 'IAH', 'ATL', 'JFK', 'DCA', 'DTW', 'LGA', 'TYS', 'PVD', 'FNT', 'LIT', 'BUF', 'ORD', 'TRI', 'IND', 'BGR', 'AVP', 'BWI', 'LEX', 'BDL', 'GRR', 'CWA', 'TUL', 'MEM', 'AGS', 'EWR', 'MGM', 'PHL', 'SYR', 'OMA', 'STL', 'TVC', 'ORF', 'CLE', 'ABY', 'BOS', 'OAJ', 'TLH', 'BTR', 'SAT', 'JAX', 'BNA', 'CHO', 'VLD', 'ROC', 'DFW', 'GNV', 'ACK', 'PBI', 'CHS', 'GRB', 'MOT', 'MKE', 'DSM', 'ILM', 'GSO', 'MCI', 'SBN', 'BTV', 'MVY', 'XNA', 'RST', 'EVV', 'HPN', 'RSW', 'MDT', 'ROA', 'GSP', 'MCO', 'CSG', 'SAV', 'PHF', 'ALB', 'CHA', 'ABE', 'BMI', 'MSY', 'IAD', 'GTR', 'CID', 'CAK', 'ATW', 'AUS', 'BQK', 'MLI', 'CAE', 'CMH', 'AVL', 'MBS', 'FLL', 'SDF', 'TPA', 'LNK', 'SRQ', 'MHT', 'BHM', 'LAS', 'SFO', 'SAN', 'RNO', 'LGB', 'ANC', 'PDX', 'SJU', 'ABQ', 'SLC', 'DEN', 'LAX', 'PHX', 'OAK', 'SMF', 'SEA', 'STX', 'BUR', 'DAB', 'SJC', 'SWF', 'HOU', 'BQN', 'PSE', 'ORH', 'HYA', 'STT', 'ONT', 'DAL', 'ECP', 'ELP', 'HRL', 'MAF', 'MDW', 'OKC', 'PNS', 'SNA', 'AMA', 'BOI', 'GEG', 'ICT', 'LBB', 'TUS', 'ISP', 'CRP', 'MFE', 'LFT', 'VPS', 'JAN', 'COS', 'MOB', 'DRO', 'GPT', 'BFL', 'COU', 'SBP', 'MTJ', 'SBA', 'PSP', 'FSD', 'FSM', 'BRO', 'PIA', 'STS', 'FAT', 'RAP', 'MRY', 'HSV', 'BIS', 'DAY', 'BZN', 'MIA', 'EYW', 'MYR', 'HHH', 'GJT', 'FAR', 'MLU', 'LRD', 'CLL', 'LCH', 'FWA', 'GRK', 'SGF', 'HOB', 'LAW', 'MHK', 'SAF', 'JLN', 'ROW', 'GRI', 'AEX', 'CRW', 'LAN', 'ERI', 'HNL', 'KOA', 'OGG', 'EGE', 'LIH', 'JAC', 'MLB', 'RDM', 'BET', 'ADQ', 'BRW', 'SCC', 'FAI', 'JNU', 'CDV', 'YAK', 'SIT', 'KTN', 'WRG', 'PSG', 'OME', 'OTZ', 'ADK', 'FCA', 'BIL', 'PSC', 'FAY', 'MSO', 'ITO', 'PPG', 'MFR', 'DLH', 'EUG', 'GUM', 'SPN', 'TTN', 'BKG', 'AZA', 'SFB', 'LCK', 'BLI', 'SCK', 'PIE', 'RFD', 'PVU', 'PBG', 'BLV', 'PGD', 'SPI', 'USA', 'TOL', 'IDA', 'ELM', 'HTS', 'HGR', 'SMX', 'OGD', 'GFK', 'STC', 'GTF', 'IAG', 'CKB', 'OWB', 'PSM', 'ABI', 'TYR', 'ALO', 'SUX', 'AZO', 'ACT', 'CMI', 'BPT', 'TXK', 'SWO', 'SPS', 'DBQ', 'SJT', 'GGG', 'LSE', 'MQT', 'GCK', 'LBE', 'ACY', 'LYH', 'PGV', 'HVN', 'EWN', 'DHN', 'PIH', 'WYS', 'SCE', 'IMT', 'HLN', 'ASE', 'SUN', 'ISN', 'EAR', 'SGU', 'VEL', 'SHD', 'LWB', 'MKG', 'SLN', 'HYS', 'BFF', 'PUB', 'LBL', 'CMX', 'EAU', 'PAH', 'UIN', 'RKS', 'CGI', 'CNY', 'JMS', 'DVL', 'LAR', 'GCC', 'LBF', 'PRC', 'RDD', 'ACV', 'OTH', 'COD', 'LWS', 'ABR', 'APN', 'PLN', 'BJI', 'CPR', 'BRD', 'BTM', 'CDC', 'CIU', 'ESC', 'EKO', 'ITH', 'HIB', 'BGM', 'TWF', 'RHI', 'INL', 'FLG', 'YUM', 'MEI', 'PIB', 'HDN']\n"
          ]
        }
      ]
    },
    {
      "cell_type": "markdown",
      "metadata": {
        "id": "gUh0p1Dt8y17"
      },
      "source": [
        "**Question**: What is the count of all the origin and destination airports?\n",
        "\n",
        "**Hint**: To find the values for each airport by using the **Origin** and **Dest** columns, you can use the `values_count` function in pandas ([pandas.Series.value_counts documentation](https://pandas.pydata.org/pandas-docs/stable/reference/api/pandas.Series.value_counts.html))."
      ]
    },
    {
      "cell_type": "code",
      "metadata": {
        "id": "mjLj7ETN8y17",
        "outputId": "7387a432-dcf5-4726-95b3-ff1c37075530"
      },
      "source": [
        "counts = pd.DataFrame({'Origin':df_temp['Origin'].value_counts(), 'Destination':df_temp['Dest'].value_counts()})\n",
        "counts"
      ],
      "execution_count": null,
      "outputs": [
        {
          "data": {
            "text/html": [
              "<div>\n",
              "<style scoped>\n",
              "    .dataframe tbody tr th:only-of-type {\n",
              "        vertical-align: middle;\n",
              "    }\n",
              "\n",
              "    .dataframe tbody tr th {\n",
              "        vertical-align: top;\n",
              "    }\n",
              "\n",
              "    .dataframe thead th {\n",
              "        text-align: right;\n",
              "    }\n",
              "</style>\n",
              "<table border=\"1\" class=\"dataframe\">\n",
              "  <thead>\n",
              "    <tr style=\"text-align: right;\">\n",
              "      <th></th>\n",
              "      <th>Origin</th>\n",
              "      <th>Destination</th>\n",
              "    </tr>\n",
              "  </thead>\n",
              "  <tbody>\n",
              "    <tr>\n",
              "      <th>ABE</th>\n",
              "      <td>303</td>\n",
              "      <td>303</td>\n",
              "    </tr>\n",
              "    <tr>\n",
              "      <th>ABI</th>\n",
              "      <td>169</td>\n",
              "      <td>169</td>\n",
              "    </tr>\n",
              "    <tr>\n",
              "      <th>ABQ</th>\n",
              "      <td>2077</td>\n",
              "      <td>2076</td>\n",
              "    </tr>\n",
              "    <tr>\n",
              "      <th>ABR</th>\n",
              "      <td>60</td>\n",
              "      <td>60</td>\n",
              "    </tr>\n",
              "    <tr>\n",
              "      <th>ABY</th>\n",
              "      <td>79</td>\n",
              "      <td>79</td>\n",
              "    </tr>\n",
              "    <tr>\n",
              "      <th>...</th>\n",
              "      <td>...</td>\n",
              "      <td>...</td>\n",
              "    </tr>\n",
              "    <tr>\n",
              "      <th>WRG</th>\n",
              "      <td>60</td>\n",
              "      <td>60</td>\n",
              "    </tr>\n",
              "    <tr>\n",
              "      <th>WYS</th>\n",
              "      <td>52</td>\n",
              "      <td>52</td>\n",
              "    </tr>\n",
              "    <tr>\n",
              "      <th>XNA</th>\n",
              "      <td>1004</td>\n",
              "      <td>1004</td>\n",
              "    </tr>\n",
              "    <tr>\n",
              "      <th>YAK</th>\n",
              "      <td>60</td>\n",
              "      <td>60</td>\n",
              "    </tr>\n",
              "    <tr>\n",
              "      <th>YUM</th>\n",
              "      <td>96</td>\n",
              "      <td>96</td>\n",
              "    </tr>\n",
              "  </tbody>\n",
              "</table>\n",
              "<p>346 rows × 2 columns</p>\n",
              "</div>"
            ],
            "text/plain": [
              "     Origin  Destination\n",
              "ABE     303          303\n",
              "ABI     169          169\n",
              "ABQ    2077         2076\n",
              "ABR      60           60\n",
              "ABY      79           79\n",
              "..      ...          ...\n",
              "WRG      60           60\n",
              "WYS      52           52\n",
              "XNA    1004         1004\n",
              "YAK      60           60\n",
              "YUM      96           96\n",
              "\n",
              "[346 rows x 2 columns]"
            ]
          },
          "execution_count": 13,
          "metadata": {},
          "output_type": "execute_result"
        }
      ]
    },
    {
      "cell_type": "markdown",
      "metadata": {
        "id": "ktYXZiQc8y18"
      },
      "source": [
        "**Question**: Print the top 15 origin and destination airports based on number of flights in the dataset.\n",
        "\n",
        "**Hint**: You can use the `sort_values` function in pandas ([pandas.DataFrame.sort_values documentation](https://pandas.pydata.org/pandas-docs/stable/reference/api/pandas.DataFrame.sort_values.html))."
      ]
    },
    {
      "cell_type": "code",
      "metadata": {
        "id": "1p80pqN28y18",
        "outputId": "21fa09cb-ae7e-48af-c756-c9ccc2faa85f"
      },
      "source": [
        "counts.sort_values(by=['Origin','Destination'],ascending=False).head(15) # Enter your code here"
      ],
      "execution_count": null,
      "outputs": [
        {
          "data": {
            "text/html": [
              "<div>\n",
              "<style scoped>\n",
              "    .dataframe tbody tr th:only-of-type {\n",
              "        vertical-align: middle;\n",
              "    }\n",
              "\n",
              "    .dataframe tbody tr th {\n",
              "        vertical-align: top;\n",
              "    }\n",
              "\n",
              "    .dataframe thead th {\n",
              "        text-align: right;\n",
              "    }\n",
              "</style>\n",
              "<table border=\"1\" class=\"dataframe\">\n",
              "  <thead>\n",
              "    <tr style=\"text-align: right;\">\n",
              "      <th></th>\n",
              "      <th>Origin</th>\n",
              "      <th>Destination</th>\n",
              "    </tr>\n",
              "  </thead>\n",
              "  <tbody>\n",
              "    <tr>\n",
              "      <th>ATL</th>\n",
              "      <td>31525</td>\n",
              "      <td>31521</td>\n",
              "    </tr>\n",
              "    <tr>\n",
              "      <th>ORD</th>\n",
              "      <td>28257</td>\n",
              "      <td>28250</td>\n",
              "    </tr>\n",
              "    <tr>\n",
              "      <th>DFW</th>\n",
              "      <td>22802</td>\n",
              "      <td>22795</td>\n",
              "    </tr>\n",
              "    <tr>\n",
              "      <th>DEN</th>\n",
              "      <td>19807</td>\n",
              "      <td>19807</td>\n",
              "    </tr>\n",
              "    <tr>\n",
              "      <th>CLT</th>\n",
              "      <td>19655</td>\n",
              "      <td>19654</td>\n",
              "    </tr>\n",
              "    <tr>\n",
              "      <th>LAX</th>\n",
              "      <td>17875</td>\n",
              "      <td>17873</td>\n",
              "    </tr>\n",
              "    <tr>\n",
              "      <th>SFO</th>\n",
              "      <td>14332</td>\n",
              "      <td>14348</td>\n",
              "    </tr>\n",
              "    <tr>\n",
              "      <th>IAH</th>\n",
              "      <td>14210</td>\n",
              "      <td>14203</td>\n",
              "    </tr>\n",
              "    <tr>\n",
              "      <th>LGA</th>\n",
              "      <td>13850</td>\n",
              "      <td>13850</td>\n",
              "    </tr>\n",
              "    <tr>\n",
              "      <th>MSP</th>\n",
              "      <td>13349</td>\n",
              "      <td>13347</td>\n",
              "    </tr>\n",
              "    <tr>\n",
              "      <th>LAS</th>\n",
              "      <td>13318</td>\n",
              "      <td>13322</td>\n",
              "    </tr>\n",
              "    <tr>\n",
              "      <th>PHX</th>\n",
              "      <td>13126</td>\n",
              "      <td>13128</td>\n",
              "    </tr>\n",
              "    <tr>\n",
              "      <th>DTW</th>\n",
              "      <td>12725</td>\n",
              "      <td>12724</td>\n",
              "    </tr>\n",
              "    <tr>\n",
              "      <th>BOS</th>\n",
              "      <td>12223</td>\n",
              "      <td>12227</td>\n",
              "    </tr>\n",
              "    <tr>\n",
              "      <th>SEA</th>\n",
              "      <td>11872</td>\n",
              "      <td>11877</td>\n",
              "    </tr>\n",
              "  </tbody>\n",
              "</table>\n",
              "</div>"
            ],
            "text/plain": [
              "     Origin  Destination\n",
              "ATL   31525        31521\n",
              "ORD   28257        28250\n",
              "DFW   22802        22795\n",
              "DEN   19807        19807\n",
              "CLT   19655        19654\n",
              "LAX   17875        17873\n",
              "SFO   14332        14348\n",
              "IAH   14210        14203\n",
              "LGA   13850        13850\n",
              "MSP   13349        13347\n",
              "LAS   13318        13322\n",
              "PHX   13126        13128\n",
              "DTW   12725        12724\n",
              "BOS   12223        12227\n",
              "SEA   11872        11877"
            ]
          },
          "execution_count": 14,
          "metadata": {},
          "output_type": "execute_result"
        }
      ]
    },
    {
      "cell_type": "markdown",
      "metadata": {
        "id": "gMTMTWxN8y18"
      },
      "source": [
        "**Given all the information about a flight trip, can you predict if it would be delayed?**"
      ]
    },
    {
      "cell_type": "markdown",
      "metadata": {
        "id": "JmhLv6hp8y19"
      },
      "source": [
        "The **ArrDel15** column is an indicator variable that takes the value *1* when the delay is more than 15 minutes. Otherwise, it takes a value of *0*.\n",
        "\n",
        "You could use this as a target column for the classification problem."
      ]
    },
    {
      "cell_type": "markdown",
      "metadata": {
        "id": "7KrUuKcV8y19"
      },
      "source": [
        "Now, assume that you are traveling from San Francisco to Los Angeles on a work trip. You want to better manage your reservations in Los Angeles. Thus, want to have an idea of whether your flight will be delayed, given a set of features. How many features from this dataset would you need to know before your flight?\n",
        "\n",
        "Columns such as `DepDelay`, `ArrDelay`, `CarrierDelay`, `WeatherDelay`, `NASDelay`, `SecurityDelay`, `LateAircraftDelay`, and `DivArrDelay` contain information about a delay. But this delay could have occured at the origin or the destination. If there were a sudden weather delay 10 minutes before landing, this data wouldn't be helpful to managing your Los Angeles reservations.\n",
        "\n",
        "So to simplify the problem statement, consider the following columns to predict an arrival delay:<br>\n",
        "\n",
        "`Year`, `Quarter`, `Month`, `DayofMonth`, `DayOfWeek`, `FlightDate`, `Reporting_Airline`, `Origin`, `OriginState`, `Dest`, `DestState`, `CRSDepTime`, `DepDelayMinutes`, `DepartureDelayGroups`, `Cancelled`, `Diverted`, `Distance`, `DistanceGroup`, `ArrDelay`, `ArrDelayMinutes`, `ArrDel15`, `AirTime`\n",
        "\n",
        "You will also filter the source and destination airports to be:\n",
        "- Top airports: ATL, ORD, DFW, DEN, CLT, LAX, IAH, PHX, SFO\n",
        "- Top five airlines: UA, OO, WN, AA, DL\n",
        "\n",
        "This information should help reduce the size of data across the CSV files that will be combined."
      ]
    },
    {
      "cell_type": "markdown",
      "metadata": {
        "id": "MWV2ggxT8y1-"
      },
      "source": [
        "#### Combine all CSV files\n",
        " \n",
        "First, create an empy DataFrame that you will use to copy your individual DataFrames from each file. Then, for each file in the `csv_files` list:\n",
        "\n",
        "1. Read the CSV file into a dataframe \n",
        "2. Filter the columns based on the `filter_cols` variable\n",
        "\n",
        "```\n",
        "        columns = ['col1', 'col2']\n",
        "        df_filter = df[columns]\n",
        "```\n",
        "\n",
        "3. Keep only the `subset_vals` in each of the `subset_cols`. To check if the `val` is in the DataFrame column, use the `isin` function in pandas ([pandas.DataFram.isin documentation](https://pandas.pydata.org/pandas-docs/stable/reference/api/pandas.DataFrame.isin.html)). Then, choose the rows that include it.\n",
        "\n",
        "```\n",
        "        df_eg[df_eg['col1'].isin('5')]\n",
        "```\n",
        "\n",
        "4. Concatenate the DataFrame with the empty DataFrame "
      ]
    },
    {
      "cell_type": "code",
      "metadata": {
        "id": "e3JmrsrE8y1-"
      },
      "source": [
        "def combine_csv(csv_files, filter_cols, subset_cols, subset_vals, file_name):\n",
        "\n",
        "    \"\"\"\n",
        "    Combine csv files into one Data Frame\n",
        "    csv_files: list of csv file paths\n",
        "    filter_cols: list of columns to filter\n",
        "    subset_cols: list of columns to subset rows\n",
        "    subset_vals: list of list of values to subset rows\n",
        "    \"\"\"\n",
        "\n",
        "    df = pd.DataFrame()\n",
        "    \n",
        "    for file in csv_files:\n",
        "        df_temp = pd.read_csv(file)\n",
        "        df_temp = df_temp[filter_cols]\n",
        "        for col, val in zip(subset_cols,subset_vals):\n",
        "            df_temp = df_temp[df_temp[col].isin(val)]      \n",
        "        \n",
        "        df = pd.concat([df, df_temp], axis=0)\n",
        "      \n",
        "    df.to_csv(file_name, index=False)\n",
        "    print(f'Combined csv stored at {file_name}')"
      ],
      "execution_count": null,
      "outputs": []
    },
    {
      "cell_type": "code",
      "metadata": {
        "id": "A3zXoa_A8y1_"
      },
      "source": [
        "#cols is the list of columns to predict Arrival Delay \n",
        "cols = ['Year','Quarter','Month','DayofMonth','DayOfWeek','FlightDate',\n",
        "        'Reporting_Airline','Origin','OriginState','Dest','DestState',\n",
        "        'CRSDepTime','Cancelled','Diverted','Distance','DistanceGroup',\n",
        "        'ArrDelay','ArrDelayMinutes','ArrDel15','AirTime']\n",
        "\n",
        "subset_cols = ['Origin', 'Dest', 'Reporting_Airline']\n",
        "\n",
        "# subset_vals is a list collection of the top origin and destination airports and top 5 airlines\n",
        "subset_vals = [['ATL', 'ORD', 'DFW', 'DEN', 'CLT', 'LAX', 'IAH', 'PHX', 'SFO'], \n",
        "               ['ATL', 'ORD', 'DFW', 'DEN', 'CLT', 'LAX', 'IAH', 'PHX', 'SFO'], \n",
        "               ['UA', 'OO', 'WN', 'AA', 'DL']]"
      ],
      "execution_count": null,
      "outputs": []
    },
    {
      "cell_type": "markdown",
      "metadata": {
        "id": "6vjYmzJy8y2A"
      },
      "source": [
        "Use the previous function to merge all the different files into a single file that you can read easily. \n",
        "\n",
        "**Note**: This process will take 5-7 minutes to complete."
      ]
    },
    {
      "cell_type": "code",
      "metadata": {
        "id": "-1OtgGM-8y2A",
        "outputId": "ca522aa1-fc1f-41c7-a681-e421d0e2375e"
      },
      "source": [
        "start = time.time()\n",
        "combined_csv_filename = f\"{base_path}combined_files.csv\"\n",
        "combine_csv(csv_files, cols, subset_cols, subset_vals, combined_csv_filename)\n",
        "print(f'CSVs merged in {round((time.time() - start)/60,2)} minutes')"
      ],
      "execution_count": null,
      "outputs": [
        {
          "name": "stdout",
          "output_type": "stream",
          "text": [
            "Combined csv stored at /home/ec2-user/SageMaker/project/data/FlightDelays/combined_files.csv\n",
            "CSVs merged in 4.36 minutes\n"
          ]
        }
      ]
    },
    {
      "cell_type": "markdown",
      "metadata": {
        "id": "krNM6I2s8y2A"
      },
      "source": [
        "#### Load the dataset\n",
        "\n",
        "Load the combined dataset."
      ]
    },
    {
      "cell_type": "code",
      "metadata": {
        "id": "P1eepcB_8y2A"
      },
      "source": [
        "data = pd.read_csv(combined_csv_filename)"
      ],
      "execution_count": null,
      "outputs": []
    },
    {
      "cell_type": "markdown",
      "metadata": {
        "id": "flJcn9Vs8y2B"
      },
      "source": [
        "Print the first five records."
      ]
    },
    {
      "cell_type": "code",
      "metadata": {
        "id": "38s8d7hi8y2B",
        "outputId": "fd2bfdc3-3ce9-42c7-96b9-2ed0dc4e41a8"
      },
      "source": [
        "data.head()"
      ],
      "execution_count": null,
      "outputs": [
        {
          "data": {
            "text/html": [
              "<div>\n",
              "<style scoped>\n",
              "    .dataframe tbody tr th:only-of-type {\n",
              "        vertical-align: middle;\n",
              "    }\n",
              "\n",
              "    .dataframe tbody tr th {\n",
              "        vertical-align: top;\n",
              "    }\n",
              "\n",
              "    .dataframe thead th {\n",
              "        text-align: right;\n",
              "    }\n",
              "</style>\n",
              "<table border=\"1\" class=\"dataframe\">\n",
              "  <thead>\n",
              "    <tr style=\"text-align: right;\">\n",
              "      <th></th>\n",
              "      <th>Year</th>\n",
              "      <th>Quarter</th>\n",
              "      <th>Month</th>\n",
              "      <th>DayofMonth</th>\n",
              "      <th>DayOfWeek</th>\n",
              "      <th>FlightDate</th>\n",
              "      <th>Reporting_Airline</th>\n",
              "      <th>Origin</th>\n",
              "      <th>OriginState</th>\n",
              "      <th>Dest</th>\n",
              "      <th>DestState</th>\n",
              "      <th>CRSDepTime</th>\n",
              "      <th>Cancelled</th>\n",
              "      <th>Diverted</th>\n",
              "      <th>Distance</th>\n",
              "      <th>DistanceGroup</th>\n",
              "      <th>ArrDelay</th>\n",
              "      <th>ArrDelayMinutes</th>\n",
              "      <th>ArrDel15</th>\n",
              "      <th>AirTime</th>\n",
              "    </tr>\n",
              "  </thead>\n",
              "  <tbody>\n",
              "    <tr>\n",
              "      <th>0</th>\n",
              "      <td>2016</td>\n",
              "      <td>3</td>\n",
              "      <td>9</td>\n",
              "      <td>10</td>\n",
              "      <td>6</td>\n",
              "      <td>2016-09-10</td>\n",
              "      <td>UA</td>\n",
              "      <td>DEN</td>\n",
              "      <td>CO</td>\n",
              "      <td>IAH</td>\n",
              "      <td>TX</td>\n",
              "      <td>1510</td>\n",
              "      <td>0.0</td>\n",
              "      <td>0.0</td>\n",
              "      <td>862.0</td>\n",
              "      <td>4</td>\n",
              "      <td>-21.0</td>\n",
              "      <td>0.0</td>\n",
              "      <td>0.0</td>\n",
              "      <td>102.0</td>\n",
              "    </tr>\n",
              "    <tr>\n",
              "      <th>1</th>\n",
              "      <td>2016</td>\n",
              "      <td>3</td>\n",
              "      <td>9</td>\n",
              "      <td>10</td>\n",
              "      <td>6</td>\n",
              "      <td>2016-09-10</td>\n",
              "      <td>UA</td>\n",
              "      <td>ORD</td>\n",
              "      <td>IL</td>\n",
              "      <td>IAH</td>\n",
              "      <td>TX</td>\n",
              "      <td>1100</td>\n",
              "      <td>0.0</td>\n",
              "      <td>0.0</td>\n",
              "      <td>925.0</td>\n",
              "      <td>4</td>\n",
              "      <td>15.0</td>\n",
              "      <td>15.0</td>\n",
              "      <td>1.0</td>\n",
              "      <td>128.0</td>\n",
              "    </tr>\n",
              "    <tr>\n",
              "      <th>2</th>\n",
              "      <td>2016</td>\n",
              "      <td>3</td>\n",
              "      <td>9</td>\n",
              "      <td>10</td>\n",
              "      <td>6</td>\n",
              "      <td>2016-09-10</td>\n",
              "      <td>UA</td>\n",
              "      <td>DEN</td>\n",
              "      <td>CO</td>\n",
              "      <td>IAH</td>\n",
              "      <td>TX</td>\n",
              "      <td>651</td>\n",
              "      <td>0.0</td>\n",
              "      <td>0.0</td>\n",
              "      <td>862.0</td>\n",
              "      <td>4</td>\n",
              "      <td>-2.0</td>\n",
              "      <td>0.0</td>\n",
              "      <td>0.0</td>\n",
              "      <td>134.0</td>\n",
              "    </tr>\n",
              "    <tr>\n",
              "      <th>3</th>\n",
              "      <td>2016</td>\n",
              "      <td>3</td>\n",
              "      <td>9</td>\n",
              "      <td>10</td>\n",
              "      <td>6</td>\n",
              "      <td>2016-09-10</td>\n",
              "      <td>UA</td>\n",
              "      <td>ORD</td>\n",
              "      <td>IL</td>\n",
              "      <td>ATL</td>\n",
              "      <td>GA</td>\n",
              "      <td>1730</td>\n",
              "      <td>0.0</td>\n",
              "      <td>0.0</td>\n",
              "      <td>606.0</td>\n",
              "      <td>3</td>\n",
              "      <td>-2.0</td>\n",
              "      <td>0.0</td>\n",
              "      <td>0.0</td>\n",
              "      <td>94.0</td>\n",
              "    </tr>\n",
              "    <tr>\n",
              "      <th>4</th>\n",
              "      <td>2016</td>\n",
              "      <td>3</td>\n",
              "      <td>9</td>\n",
              "      <td>10</td>\n",
              "      <td>6</td>\n",
              "      <td>2016-09-10</td>\n",
              "      <td>UA</td>\n",
              "      <td>SFO</td>\n",
              "      <td>CA</td>\n",
              "      <td>DEN</td>\n",
              "      <td>CO</td>\n",
              "      <td>1705</td>\n",
              "      <td>0.0</td>\n",
              "      <td>0.0</td>\n",
              "      <td>967.0</td>\n",
              "      <td>4</td>\n",
              "      <td>-22.0</td>\n",
              "      <td>0.0</td>\n",
              "      <td>0.0</td>\n",
              "      <td>117.0</td>\n",
              "    </tr>\n",
              "  </tbody>\n",
              "</table>\n",
              "</div>"
            ],
            "text/plain": [
              "   Year  Quarter  Month  DayofMonth  DayOfWeek  FlightDate Reporting_Airline  \\\n",
              "0  2016        3      9          10          6  2016-09-10                UA   \n",
              "1  2016        3      9          10          6  2016-09-10                UA   \n",
              "2  2016        3      9          10          6  2016-09-10                UA   \n",
              "3  2016        3      9          10          6  2016-09-10                UA   \n",
              "4  2016        3      9          10          6  2016-09-10                UA   \n",
              "\n",
              "  Origin OriginState Dest DestState  CRSDepTime  Cancelled  Diverted  \\\n",
              "0    DEN          CO  IAH        TX        1510        0.0       0.0   \n",
              "1    ORD          IL  IAH        TX        1100        0.0       0.0   \n",
              "2    DEN          CO  IAH        TX         651        0.0       0.0   \n",
              "3    ORD          IL  ATL        GA        1730        0.0       0.0   \n",
              "4    SFO          CA  DEN        CO        1705        0.0       0.0   \n",
              "\n",
              "   Distance  DistanceGroup  ArrDelay  ArrDelayMinutes  ArrDel15  AirTime  \n",
              "0     862.0              4     -21.0              0.0       0.0    102.0  \n",
              "1     925.0              4      15.0             15.0       1.0    128.0  \n",
              "2     862.0              4      -2.0              0.0       0.0    134.0  \n",
              "3     606.0              3      -2.0              0.0       0.0     94.0  \n",
              "4     967.0              4     -22.0              0.0       0.0    117.0  "
            ]
          },
          "execution_count": 19,
          "metadata": {},
          "output_type": "execute_result"
        }
      ]
    },
    {
      "cell_type": "markdown",
      "metadata": {
        "id": "ct1tksx38y2B"
      },
      "source": [
        "Here are some more questions to help you learn more about your dataset.\n",
        "\n",
        "**Questions**   \n",
        "\n",
        "1. How many rows and columns does the dataset have?   \n",
        "2. How many years are included in the dataset?   \n",
        "3. What is the date range for the dataset?   \n",
        "4. Which airlines are included in the dataset?   \n",
        "5. Which origin and destination airports are covered?"
      ]
    },
    {
      "cell_type": "code",
      "metadata": {
        "id": "vVvrxf-j8y2C",
        "outputId": "ab1bdc99-3c9f-4a75-bd85-ab4388d7e8a9"
      },
      "source": [
        "print(\"The #rows and #columns are \", len(data) , \" and \", len(data.columns))\n",
        "print(\"The years in this dataset are: \", list(data['Year']))\n",
        "print(\"The months covered in this dataset are: \", sorted(list(data['Month'])))\n",
        "print(\"The date range for data is :\" , min(data['Year']), \" to \", max(data['Year']))\n",
        "print(\"The airlines covered in this dataset are: \", list(data['Reporting_Airline']))\n",
        "print(\"The Origin airports covered are: \", list(data['Origin']))\n",
        "print(\"The Destination airports covered are: \", list(data['Dest']))"
      ],
      "execution_count": null,
      "outputs": [
        {
          "name": "stderr",
          "output_type": "stream",
          "text": [
            "IOPub data rate exceeded.\n",
            "The notebook server will temporarily stop sending output\n",
            "to the client in order to avoid crashing it.\n",
            "To change this limit, set the config variable\n",
            "`--NotebookApp.iopub_data_rate_limit`.\n",
            "\n",
            "Current values:\n",
            "NotebookApp.iopub_data_rate_limit=1000000.0 (bytes/sec)\n",
            "NotebookApp.rate_limit_window=3.0 (secs)\n",
            "\n"
          ]
        }
      ]
    },
    {
      "cell_type": "markdown",
      "metadata": {
        "id": "kTZhqM6w8y2C"
      },
      "source": [
        "Define your target column: **is_delay** (*1* means that the arrival time delayed more than 15 minutes, and *0* means all other cases). To rename the column from **ArrDel15** to *is_delay*, use the `rename` method .\n",
        "\n",
        "**Hint**: You can use the `rename` function in pandas ([pandas.DataFrame.rename documentation](https://pandas.pydata.org/pandas-docs/stable/reference/api/pandas.DataFrame.rename.html)).\n",
        "\n",
        "For example:\n",
        "```\n",
        "data.rename(columns={'col1':'column1'}, inplace=True)\n",
        "```"
      ]
    },
    {
      "cell_type": "code",
      "metadata": {
        "id": "4JOD-EZJ8y2C"
      },
      "source": [
        "data.rename(columns={'ArrDel15':' is_delay'}, inplace=True) # Enter your code here"
      ],
      "execution_count": null,
      "outputs": []
    },
    {
      "cell_type": "markdown",
      "metadata": {
        "id": "KFjibDpV8y2C"
      },
      "source": [
        "Look for nulls across columns. You can use the `isnull()` function ([pandas.isnull documentation](https://pandas.pydata.org/pandas-docs/version/0.17.0/generated/pandas.isnull.html)).\n",
        "\n",
        "**Hint**: `isnull()` detects whether the particular value is null or not. It returns a boolean (*True* or *False*) in its place. To sum the number of columns, use the `sum(axis=0)` function (for example, `df.isnull().sum(axis=0)`)."
      ]
    },
    {
      "cell_type": "code",
      "metadata": {
        "id": "id5dMGkj8y2D",
        "outputId": "9ff26fab-8ef8-40ec-b7cd-60dd61a2583d"
      },
      "source": [
        "data.isnull().sum(axis=0)"
      ],
      "execution_count": null,
      "outputs": [
        {
          "data": {
            "text/plain": [
              "Year                     0\n",
              "Quarter                  0\n",
              "Month                    0\n",
              "DayofMonth               0\n",
              "DayOfWeek                0\n",
              "FlightDate               0\n",
              "Reporting_Airline        0\n",
              "Origin                   0\n",
              "OriginState              0\n",
              "Dest                     0\n",
              "DestState                0\n",
              "CRSDepTime               0\n",
              "Cancelled                0\n",
              "Diverted                 0\n",
              "Distance                 0\n",
              "DistanceGroup            0\n",
              "ArrDelay             22540\n",
              "ArrDelayMinutes      22540\n",
              " is_delay            22540\n",
              "AirTime              22540\n",
              "dtype: int64"
            ]
          },
          "execution_count": 22,
          "metadata": {},
          "output_type": "execute_result"
        }
      ]
    },
    {
      "cell_type": "markdown",
      "metadata": {
        "id": "yyeiA2yv8y2D"
      },
      "source": [
        "The arrival delay details and airtime are missing for 22,540 out of 1,658,130 rows, which is 1.3 percent. You can either remove or impute these rows. The documentation doesn't mention any information about missing rows.\n"
      ]
    },
    {
      "cell_type": "code",
      "metadata": {
        "id": "v2wqk0FV8y2D",
        "outputId": "467d8823-71e0-4ecd-c3ea-efacf140a783"
      },
      "source": [
        "### Remove null columns\n",
        "data = data[~data[' is_delay'].isnull()]\n",
        "data.isnull().sum(axis = 0)"
      ],
      "execution_count": null,
      "outputs": [
        {
          "data": {
            "text/plain": [
              "Year                 0\n",
              "Quarter              0\n",
              "Month                0\n",
              "DayofMonth           0\n",
              "DayOfWeek            0\n",
              "FlightDate           0\n",
              "Reporting_Airline    0\n",
              "Origin               0\n",
              "OriginState          0\n",
              "Dest                 0\n",
              "DestState            0\n",
              "CRSDepTime           0\n",
              "Cancelled            0\n",
              "Diverted             0\n",
              "Distance             0\n",
              "DistanceGroup        0\n",
              "ArrDelay             0\n",
              "ArrDelayMinutes      0\n",
              " is_delay            0\n",
              "AirTime              0\n",
              "dtype: int64"
            ]
          },
          "execution_count": 23,
          "metadata": {},
          "output_type": "execute_result"
        }
      ]
    },
    {
      "cell_type": "markdown",
      "metadata": {
        "id": "QGFnEU1Z8y2D"
      },
      "source": [
        "Get the hour of the day in 24-hour-time format from CRSDepTime."
      ]
    },
    {
      "cell_type": "code",
      "metadata": {
        "id": "9sR9vBDv8y2E"
      },
      "source": [
        "data['DepHourofDay'] = (data['CRSDepTime']//100)"
      ],
      "execution_count": null,
      "outputs": []
    },
    {
      "cell_type": "markdown",
      "metadata": {
        "id": "Ptk_F10V8y2E"
      },
      "source": [
        "## **The ML problem statement**\n",
        "- Given a set of features, can you predict if a flight is going to be delayed more than 15 minutes?\n",
        "- Because the target variable takes only a value of *0* or *1*, you could use a classification algorithm. \n",
        "\n",
        "Before you start modeling, it's a good practice to look at feature distribution, correlations, and others.\n",
        "- This will give you an idea of any non-linearity or patterns in the data\n",
        "    - Linear models: Add power, exponential, or interaction features\n",
        "    - Try a non-linear model\n",
        "- Data imbalance \n",
        "    - Choose metrics that won't give biased model performance (accuracy versus the area under the curve, or AUC)\n",
        "    - Use weighted or custom loss functions\n",
        "- Missing data\n",
        "    - Do imputation based on simple statistics -- mean, median, mode (numerical variables), frequent class (categorical variables)\n",
        "    - Clustering-based imputation (k-nearest neighbors, or KNNs, to predict column value)\n",
        "    - Drop column"
      ]
    },
    {
      "cell_type": "markdown",
      "metadata": {
        "id": "Y301b0m68y2E"
      },
      "source": [
        "### Data exploration\n",
        "\n",
        "Check the classes *delay* versus *no delay*.\n"
      ]
    },
    {
      "cell_type": "code",
      "metadata": {
        "id": "1kdPtisB8y2F",
        "outputId": "fcd7740d-8a03-4984-f1da-322ed79f1c23"
      },
      "source": [
        "(data.groupby(' is_delay').size()/len(data) ).plot(kind='bar')# Enter your code here\n",
        "plt.ylabel('Frequency')\n",
        "plt.title('Distribution of classes')\n",
        "plt.show()"
      ],
      "execution_count": null,
      "outputs": [
        {
          "data": {
            "image/png": "[encoded data removed]",
            "text/plain": [
              "<Figure size 432x288 with 1 Axes>"
            ]
          },
          "metadata": {
            "needs_background": "light"
          },
          "output_type": "display_data"
        }
      ]
    },
    {
      "cell_type": "markdown",
      "metadata": {
        "id": "A2dz0b1n8y2F"
      },
      "source": [
        "**Question**: What can you deduce from the bar plot about the ratio of *delay* versus *no delay*?"
      ]
    },
    {
      "cell_type": "code",
      "metadata": {
        "id": "TlRVKrnH8y2G"
      },
      "source": [
        "# Enter your answer here\n",
        "# Delays are less than not delays"
      ],
      "execution_count": null,
      "outputs": []
    },
    {
      "cell_type": "markdown",
      "metadata": {
        "id": "6fcSPebg8y2G"
      },
      "source": [
        "Run the following two cells and answer the questions."
      ]
    },
    {
      "cell_type": "code",
      "metadata": {
        "id": "fyOG1r1l8y2G",
        "outputId": "1ea18675-15f9-41b6-cd91-be6544964db8"
      },
      "source": [
        "viz_columns = ['Month', 'DepHourofDay', 'DayOfWeek', 'Reporting_Airline', 'Origin', 'Dest']\n",
        "fig, axes = plt.subplots(3, 2, figsize=(20,20), squeeze=False)\n",
        "# fig.autofmt_xdate(rotation=90)\n",
        "\n",
        "for idx, column in enumerate(viz_columns):\n",
        "    ax = axes[idx//2, idx%2]\n",
        "    temp = data.groupby(column)[' is_delay'].value_counts(normalize=True).rename('percentage').\\\n",
        "    mul(100).reset_index().sort_values(column)\n",
        "    sns.barplot(x=column, y=\"percentage\", hue=\" is_delay\", data=temp, ax=ax)\n",
        "    plt.ylabel('% delay/no-delay')\n",
        "    \n",
        "\n",
        "plt.show()"
      ],
      "execution_count": null,
      "outputs": [
        {
          "data": {
            "image/png": "[encoded data removed]",
            "text/plain": [
              "<Figure size 1440x1440 with 6 Axes>"
            ]
          },
          "metadata": {
            "needs_background": "light"
          },
          "output_type": "display_data"
        }
      ]
    },
    {
      "cell_type": "code",
      "metadata": {
        "id": "jYLcdOQJ8y2G",
        "outputId": "a142a2de-7abd-4981-fa9d-a9220331114b"
      },
      "source": [
        "sns.lmplot( x=\" is_delay\", y=\"Distance\", data=data, fit_reg=False, hue=' is_delay', legend=False)\n",
        "plt.legend(loc='center')\n",
        "plt.xlabel('is_delay')\n",
        "plt.ylabel('Distance')\n",
        "plt.show()"
      ],
      "execution_count": null,
      "outputs": [
        {
          "data": {
            "image/png": "[encoded data removed]",
            "text/plain": [
              "<Figure size 360x360 with 1 Axes>"
            ]
          },
          "metadata": {
            "needs_background": "light"
          },
          "output_type": "display_data"
        }
      ]
    },
    {
      "cell_type": "markdown",
      "metadata": {
        "id": "BOFNQ4VO8y2H"
      },
      "source": [
        "**Questions**\n",
        "\n",
        "Using the data from the previous charts, answer these questions:\n",
        "\n",
        "- Which months have the most delays?\n",
        "- What time of the day has the most delays?\n",
        "- What day of the week has the most delays?\n",
        "- Which airline has the most delays?\n",
        "- Which origin and destination airports have the most delays?\n",
        "- Is flight distance a factor in the delays?"
      ]
    },
    {
      "cell_type": "code",
      "metadata": {
        "id": "4u0mgde18y2H"
      },
      "source": [
        "# Enter your answers here\n",
        "#Which months have the most delays? -June and July\n",
        "#What time of the day has the most delays? - 20:00hrs\n",
        "# What day of the week has the most delays?- Wednesday\n",
        "# Which airline has the most delays? -WN\n",
        "# Which origin and destination airports have the most delays?- ORD and SFO\n",
        "# Is flight distance a factor in the delays? -No "
      ],
      "execution_count": null,
      "outputs": []
    },
    {
      "cell_type": "markdown",
      "metadata": {
        "id": "ywxPSOo68y2H"
      },
      "source": [
        "### Features\n",
        "\n",
        "Look at all the columns and what their specific types are."
      ]
    },
    {
      "cell_type": "code",
      "metadata": {
        "id": "ojNlXfx98y2I",
        "outputId": "2a1b5392-dd71-4e34-9b87-725599d7d7f3"
      },
      "source": [
        "data.columns"
      ],
      "execution_count": null,
      "outputs": [
        {
          "data": {
            "text/plain": [
              "Index(['Year', 'Quarter', 'Month', 'DayofMonth', 'DayOfWeek', 'FlightDate',\n",
              "       'Reporting_Airline', 'Origin', 'OriginState', 'Dest', 'DestState',\n",
              "       'CRSDepTime', 'Cancelled', 'Diverted', 'Distance', 'DistanceGroup',\n",
              "       'ArrDelay', 'ArrDelayMinutes', ' is_delay', 'AirTime', 'DepHourofDay'],\n",
              "      dtype='object')"
            ]
          },
          "execution_count": 30,
          "metadata": {},
          "output_type": "execute_result"
        }
      ]
    },
    {
      "cell_type": "code",
      "metadata": {
        "id": "0aQslyqn8y2I",
        "outputId": "91160987-3ecc-4a3d-f78d-9d0b0e83ca48"
      },
      "source": [
        "data.dtypes"
      ],
      "execution_count": null,
      "outputs": [
        {
          "data": {
            "text/plain": [
              "Year                   int64\n",
              "Quarter                int64\n",
              "Month                  int64\n",
              "DayofMonth             int64\n",
              "DayOfWeek              int64\n",
              "FlightDate            object\n",
              "Reporting_Airline     object\n",
              "Origin                object\n",
              "OriginState           object\n",
              "Dest                  object\n",
              "DestState             object\n",
              "CRSDepTime             int64\n",
              "Cancelled            float64\n",
              "Diverted             float64\n",
              "Distance             float64\n",
              "DistanceGroup          int64\n",
              "ArrDelay             float64\n",
              "ArrDelayMinutes      float64\n",
              " is_delay            float64\n",
              "AirTime              float64\n",
              "DepHourofDay           int64\n",
              "dtype: object"
            ]
          },
          "execution_count": 31,
          "metadata": {},
          "output_type": "execute_result"
        }
      ]
    },
    {
      "cell_type": "markdown",
      "metadata": {
        "id": "R05EP6SJ8y2I"
      },
      "source": [
        "Filtering the required columns:\n",
        "- *Date* is redundant, because you have *Year*, *Quarter*, *Month*, *DayofMonth*, and *DayOfWeek* to describe the date.\n",
        "- Use *Origin* and *Dest* codes instead of *OriginState* and *DestState*.\n",
        "- Because you are only classifying whether the flight is delayed or not, you don't need *TotalDelayMinutes*, *DepDelayMinutes*, and *ArrDelayMinutes*.\n",
        "\n",
        "Treat *DepHourofDay* as a categorical variable because it doesn't have any quantitative relation with the target.\n",
        "- If you needed to do a one-hot encoding of this variable, it would result in 23 more columns.\n",
        "- Other alternatives to handling categorical variables include hash encoding, regularized mean encoding, and bucketizing the values, among others.\n",
        "- In this case, you only need to split into buckets.\n",
        "\n",
        "To change a column type to category, use the `astype` function ([pandas.DataFrame.astype documentation](https://pandas.pydata.org/pandas-docs/stable/reference/api/pandas.DataFrame.astype.html))."
      ]
    },
    {
      "cell_type": "code",
      "metadata": {
        "id": "wtSj4pN58y2J"
      },
      "source": [
        "data_orig = data.copy()\n",
        "data = data[[ ' is_delay', 'Quarter', 'Month', 'DayofMonth', 'DayOfWeek', \n",
        "       'Reporting_Airline', 'Origin', 'Dest','Distance','DepHourofDay']]\n",
        "categorical_columns  = ['Quarter', 'Month', 'DayofMonth', 'DayOfWeek', \n",
        "       'Reporting_Airline', 'Origin', 'Dest', 'DepHourofDay']\n",
        "for c in categorical_columns:\n",
        "    data[c] = data[c].astype('category')"
      ],
      "execution_count": null,
      "outputs": []
    },
    {
      "cell_type": "markdown",
      "metadata": {
        "id": "uzLGR0pd8y2J"
      },
      "source": [
        "To use one-hot encoding, use the `get_dummies` function in pandas for the categorical columns that you selected. Then, you can concatenate those generated features to your original dataset by using the `concat` function in pandas. For encoding categorical variables, you can also use *dummy encoding* by using a keyword `drop_first=True`. For more information about dummy encoding, see [Dummy variable (statistics)](https://en.wikiversity.org/wiki/Dummy_variable_(statistics)).\n",
        "\n",
        "For example:\n",
        "```\n",
        "pd.get_dummies(df[['column1','columns2']], drop_first=True)\n",
        "```"
      ]
    },
    {
      "cell_type": "code",
      "metadata": {
        "id": "f26-hn038y2J"
      },
      "source": [
        "data_dummies = pd.get_dummies(data[categorical_columns], drop_first=True) # Enter your code here\n",
        "data = pd.concat([data, data_dummies], axis = 1)\n",
        "data.drop(categorical_columns,axis=1, inplace=True)"
      ],
      "execution_count": null,
      "outputs": []
    },
    {
      "cell_type": "markdown",
      "metadata": {
        "id": "pSLvz56z8y2J"
      },
      "source": [
        "Check the length of the dataset and the new columns.\n",
        "\n",
        "**Hint**: Use the `shape` and `columns` properties."
      ]
    },
    {
      "cell_type": "code",
      "metadata": {
        "id": "kMNprupl8y2K",
        "outputId": "387e25e8-e1d0-40cb-9d6e-ee42a6d32437"
      },
      "source": [
        "data.head()"
      ],
      "execution_count": null,
      "outputs": [
        {
          "data": {
            "text/html": [
              "<div>\n",
              "<style scoped>\n",
              "    .dataframe tbody tr th:only-of-type {\n",
              "        vertical-align: middle;\n",
              "    }\n",
              "\n",
              "    .dataframe tbody tr th {\n",
              "        vertical-align: top;\n",
              "    }\n",
              "\n",
              "    .dataframe thead th {\n",
              "        text-align: right;\n",
              "    }\n",
              "</style>\n",
              "<table border=\"1\" class=\"dataframe\">\n",
              "  <thead>\n",
              "    <tr style=\"text-align: right;\">\n",
              "      <th></th>\n",
              "      <th>is_delay</th>\n",
              "      <th>Distance</th>\n",
              "      <th>Quarter_2</th>\n",
              "      <th>Quarter_3</th>\n",
              "      <th>Quarter_4</th>\n",
              "      <th>Month_2</th>\n",
              "      <th>Month_3</th>\n",
              "      <th>Month_4</th>\n",
              "      <th>Month_5</th>\n",
              "      <th>Month_6</th>\n",
              "      <th>...</th>\n",
              "      <th>DepHourofDay_14</th>\n",
              "      <th>DepHourofDay_15</th>\n",
              "      <th>DepHourofDay_16</th>\n",
              "      <th>DepHourofDay_17</th>\n",
              "      <th>DepHourofDay_18</th>\n",
              "      <th>DepHourofDay_19</th>\n",
              "      <th>DepHourofDay_20</th>\n",
              "      <th>DepHourofDay_21</th>\n",
              "      <th>DepHourofDay_22</th>\n",
              "      <th>DepHourofDay_23</th>\n",
              "    </tr>\n",
              "  </thead>\n",
              "  <tbody>\n",
              "    <tr>\n",
              "      <th>0</th>\n",
              "      <td>0.0</td>\n",
              "      <td>862.0</td>\n",
              "      <td>0</td>\n",
              "      <td>1</td>\n",
              "      <td>0</td>\n",
              "      <td>0</td>\n",
              "      <td>0</td>\n",
              "      <td>0</td>\n",
              "      <td>0</td>\n",
              "      <td>0</td>\n",
              "      <td>...</td>\n",
              "      <td>0</td>\n",
              "      <td>1</td>\n",
              "      <td>0</td>\n",
              "      <td>0</td>\n",
              "      <td>0</td>\n",
              "      <td>0</td>\n",
              "      <td>0</td>\n",
              "      <td>0</td>\n",
              "      <td>0</td>\n",
              "      <td>0</td>\n",
              "    </tr>\n",
              "    <tr>\n",
              "      <th>1</th>\n",
              "      <td>1.0</td>\n",
              "      <td>925.0</td>\n",
              "      <td>0</td>\n",
              "      <td>1</td>\n",
              "      <td>0</td>\n",
              "      <td>0</td>\n",
              "      <td>0</td>\n",
              "      <td>0</td>\n",
              "      <td>0</td>\n",
              "      <td>0</td>\n",
              "      <td>...</td>\n",
              "      <td>0</td>\n",
              "      <td>0</td>\n",
              "      <td>0</td>\n",
              "      <td>0</td>\n",
              "      <td>0</td>\n",
              "      <td>0</td>\n",
              "      <td>0</td>\n",
              "      <td>0</td>\n",
              "      <td>0</td>\n",
              "      <td>0</td>\n",
              "    </tr>\n",
              "    <tr>\n",
              "      <th>2</th>\n",
              "      <td>0.0</td>\n",
              "      <td>862.0</td>\n",
              "      <td>0</td>\n",
              "      <td>1</td>\n",
              "      <td>0</td>\n",
              "      <td>0</td>\n",
              "      <td>0</td>\n",
              "      <td>0</td>\n",
              "      <td>0</td>\n",
              "      <td>0</td>\n",
              "      <td>...</td>\n",
              "      <td>0</td>\n",
              "      <td>0</td>\n",
              "      <td>0</td>\n",
              "      <td>0</td>\n",
              "      <td>0</td>\n",
              "      <td>0</td>\n",
              "      <td>0</td>\n",
              "      <td>0</td>\n",
              "      <td>0</td>\n",
              "      <td>0</td>\n",
              "    </tr>\n",
              "    <tr>\n",
              "      <th>3</th>\n",
              "      <td>0.0</td>\n",
              "      <td>606.0</td>\n",
              "      <td>0</td>\n",
              "      <td>1</td>\n",
              "      <td>0</td>\n",
              "      <td>0</td>\n",
              "      <td>0</td>\n",
              "      <td>0</td>\n",
              "      <td>0</td>\n",
              "      <td>0</td>\n",
              "      <td>...</td>\n",
              "      <td>0</td>\n",
              "      <td>0</td>\n",
              "      <td>0</td>\n",
              "      <td>1</td>\n",
              "      <td>0</td>\n",
              "      <td>0</td>\n",
              "      <td>0</td>\n",
              "      <td>0</td>\n",
              "      <td>0</td>\n",
              "      <td>0</td>\n",
              "    </tr>\n",
              "    <tr>\n",
              "      <th>4</th>\n",
              "      <td>0.0</td>\n",
              "      <td>967.0</td>\n",
              "      <td>0</td>\n",
              "      <td>1</td>\n",
              "      <td>0</td>\n",
              "      <td>0</td>\n",
              "      <td>0</td>\n",
              "      <td>0</td>\n",
              "      <td>0</td>\n",
              "      <td>0</td>\n",
              "      <td>...</td>\n",
              "      <td>0</td>\n",
              "      <td>0</td>\n",
              "      <td>0</td>\n",
              "      <td>1</td>\n",
              "      <td>0</td>\n",
              "      <td>0</td>\n",
              "      <td>0</td>\n",
              "      <td>0</td>\n",
              "      <td>0</td>\n",
              "      <td>0</td>\n",
              "    </tr>\n",
              "  </tbody>\n",
              "</table>\n",
              "<p>5 rows × 94 columns</p>\n",
              "</div>"
            ],
            "text/plain": [
              "    is_delay  Distance  Quarter_2  Quarter_3  Quarter_4  Month_2  Month_3  \\\n",
              "0        0.0     862.0          0          1          0        0        0   \n",
              "1        1.0     925.0          0          1          0        0        0   \n",
              "2        0.0     862.0          0          1          0        0        0   \n",
              "3        0.0     606.0          0          1          0        0        0   \n",
              "4        0.0     967.0          0          1          0        0        0   \n",
              "\n",
              "   Month_4  Month_5  Month_6  ...  DepHourofDay_14  DepHourofDay_15  \\\n",
              "0        0        0        0  ...                0                1   \n",
              "1        0        0        0  ...                0                0   \n",
              "2        0        0        0  ...                0                0   \n",
              "3        0        0        0  ...                0                0   \n",
              "4        0        0        0  ...                0                0   \n",
              "\n",
              "   DepHourofDay_16  DepHourofDay_17  DepHourofDay_18  DepHourofDay_19  \\\n",
              "0                0                0                0                0   \n",
              "1                0                0                0                0   \n",
              "2                0                0                0                0   \n",
              "3                0                1                0                0   \n",
              "4                0                1                0                0   \n",
              "\n",
              "   DepHourofDay_20  DepHourofDay_21  DepHourofDay_22  DepHourofDay_23  \n",
              "0                0                0                0                0  \n",
              "1                0                0                0                0  \n",
              "2                0                0                0                0  \n",
              "3                0                0                0                0  \n",
              "4                0                0                0                0  \n",
              "\n",
              "[5 rows x 94 columns]"
            ]
          },
          "execution_count": 44,
          "metadata": {},
          "output_type": "execute_result"
        }
      ]
    },
    {
      "cell_type": "code",
      "metadata": {
        "id": "ssf4AmI68y2K",
        "outputId": "24c1c2d8-0708-4b27-a3d9-a4c68950de52"
      },
      "source": [
        "data.shape"
      ],
      "execution_count": null,
      "outputs": [
        {
          "data": {
            "text/plain": [
              "(1635590, 94)"
            ]
          },
          "execution_count": 45,
          "metadata": {},
          "output_type": "execute_result"
        }
      ]
    },
    {
      "cell_type": "code",
      "metadata": {
        "id": "XAmQ5XbM8y2K"
      },
      "source": [
        "data.iloc[:,:]=data.iloc[:,:].astype(float)"
      ],
      "execution_count": null,
      "outputs": []
    },
    {
      "cell_type": "markdown",
      "metadata": {
        "id": "2WQl7sLt8y2K"
      },
      "source": [
        "You are now ready to train the model. Before you split the data, rename the **is_delay** column to *target*.\n",
        "\n",
        "**Hint**: You can use the `rename` function in pandas ([pandas.DataFrame.rename documentation](https://pandas.pydata.org/pandas-docs/stable/reference/api/pandas.DataFrame.rename.html))."
      ]
    },
    {
      "cell_type": "code",
      "metadata": {
        "id": "4cZUFhyT8y2L"
      },
      "source": [
        "data.rename(columns = {' is_delay':'target'}, inplace=True )# Enter your code here"
      ],
      "execution_count": null,
      "outputs": []
    },
    {
      "cell_type": "markdown",
      "metadata": {
        "id": "uLI-H6228y2L"
      },
      "source": [
        "## <span style=\"color:red\"> End of Step 2 </span>\n",
        "\n",
        "Save the project file to your local computer. Follow these steps:\n",
        "\n",
        "1. In the file explorer on the left, right-click the notebook that you're working on. \n",
        "\n",
        "2. Choose **Download**, and save the file locally.  \n",
        "\n",
        "This action downloads the current notebook to the default download folder on your computer."
      ]
    },
    {
      "cell_type": "markdown",
      "metadata": {
        "id": "EPBKJ-Q48y2L"
      },
      "source": [
        "# Step 3: Model training and evaluation\n",
        "\n",
        "You must include some preliminary steps when you convert the dataset from a DataFrame to a format that a machine learning algorithm can use. For Amazon SageMaker, you must perform these steps:\n",
        "\n",
        "1. Split the data into `train_data`, `validation_data`, and `test_data` by using `sklearn.model_selection.train_test_split`.  \n",
        "\n",
        "2. Convert the dataset to an appropriate file format that the Amazon SageMaker training job can use. This can be either a CSV file or record protobuf. For more information, see [Common Data Formats for Training](https://docs.aws.amazon.com/sagemaker/latest/dg/cdf-training.html).  \n",
        "\n",
        "3. Upload the data to your S3 bucket. If you haven't created one before, see [Create a Bucket](https://docs.aws.amazon.com/AmazonS3/latest/gsg/CreatingABucket.html).  \n",
        "\n",
        "Use the following cells to complete these steps. Insert and delete cells where needed.\n",
        "\n",
        "#### <span style=\"color: blue;\">Project presentation: In your project presentation, write down the key decisions that you made in this phase.</span>"
      ]
    },
    {
      "cell_type": "markdown",
      "metadata": {
        "id": "nLRvhtLx8y2L"
      },
      "source": [
        "### Train-test split"
      ]
    },
    {
      "cell_type": "code",
      "metadata": {
        "id": "c27y4zGm8y2M"
      },
      "source": [
        "from sklearn.model_selection import train_test_split\n",
        "def split_data(data):\n",
        "    train, test_and_validate = train_test_split(data, test_size=0.2, random_state=42, stratify=data['target'])\n",
        "    test, validate = train_test_split(test_and_validate, test_size=0.5, random_state=42, stratify=test_and_validate['target'])\n",
        "    return train, validate, test"
      ],
      "execution_count": null,
      "outputs": []
    },
    {
      "cell_type": "code",
      "metadata": {
        "id": "MRmOQCR48y2M",
        "outputId": "90ca39c1-ff38-477f-93d7-b356f67b7096"
      },
      "source": [
        "train, validate, test = split_data(data)\n",
        "print(\"Train \\n\",train['target'].value_counts())\n",
        "print(\"Test \\n \",test['target'].value_counts())\n",
        "print(\"validate \\n \",validate['target'].value_counts())"
      ],
      "execution_count": null,
      "outputs": [
        {
          "name": "stdout",
          "output_type": "stream",
          "text": [
            "Train \n",
            " 0.0    1033806\n",
            "1.0     274666\n",
            "Name: target, dtype: int64\n",
            "Test \n",
            "  0.0    129226\n",
            "1.0     34333\n",
            "Name: target, dtype: int64\n",
            "validate \n",
            "  0.0    129226\n",
            "1.0     34333\n",
            "Name: target, dtype: int64\n"
          ]
        }
      ]
    },
    {
      "cell_type": "markdown",
      "metadata": {
        "id": "FzFddQ6X8y2M"
      },
      "source": [
        "**Sample answer**\n",
        "```\n",
        "0.0    1033570\n",
        "1.0     274902\n",
        "Name: target, dtype: int64\n",
        "0.0    129076\n",
        "1.0     34483\n",
        "Name: target, dtype: int64\n",
        "0.0    129612\n",
        "1.0     33947\n",
        "Name: target, dtype: int64\n",
        "```"
      ]
    },
    {
      "cell_type": "markdown",
      "metadata": {
        "id": "EX_1AO4M8y2M"
      },
      "source": [
        "### Baseline classification model"
      ]
    },
    {
      "cell_type": "code",
      "metadata": {
        "id": "la0A2yGf8y2N"
      },
      "source": [
        "import sagemaker\n",
        "from sagemaker.serializers import CSVSerializer\n",
        "from sagemaker.amazon.amazon_estimator import RecordSet\n",
        "import boto3\n",
        "\n",
        "# Instantiate the LinearLearner estimator object with 1 ml.m4.xlarge\n",
        "classifier_estimator = sagemaker.LinearLearner(role=sagemaker.get_execution_role(),\n",
        "                                              instance_count=1,\n",
        "                                              instance_type='ml.m4.xlarge',\n",
        "                                              predictor_type='binary_classifier',\n",
        "                                              binary_classifier_model_selection_criteria = 'cross_entropy_loss')"
      ],
      "execution_count": null,
      "outputs": []
    },
    {
      "cell_type": "markdown",
      "metadata": {
        "id": "IKU_6Wx08y2N"
      },
      "source": [
        "### Sample code\n",
        "```\n",
        "num_classes = len(pd.unique(train_labels))\n",
        "classifier_estimator = sagemaker.LinearLearner(role=sagemaker.get_execution_role(),\n",
        "                                              instance_count=1,\n",
        "                                              instance_type='ml.m4.xlarge',\n",
        "                                              predictor_type='binary_classifier',\n",
        "                                              binary_classifier_model_selection_criteria = 'cross_entropy_loss')\n",
        "                                              \n",
        "```"
      ]
    },
    {
      "cell_type": "markdown",
      "metadata": {
        "id": "7efdE7Q78y2N"
      },
      "source": [
        "Linear learner accepts training data in protobuf or CSV content types. It also accepts inference requests in protobuf, CSV, or JavaScript Object Notation (JSON) content types. Training data has features and ground-truth labels, but the data in an inference request has only features.\n",
        "\n",
        "In a production pipeline, AWS recommends converting the data to the Amazon SageMaker protobuf format and storing it in Amazon S3. To get up and running quickly, AWS provides the `record_set` operation for converting and uploading the dataset when it's small enough to fit in local memory. It accepts NumPy arrays like the ones you already have, so you will use it for this step. The `RecordSet` object will track the temporary Amazon S3 location of your data. Create train, validation, and test records by using the `estimator.record_set` function. Then, start your training job by using the `estimator.fit` function."
      ]
    },
    {
      "cell_type": "code",
      "metadata": {
        "id": "FkZKSvbZ8y2N"
      },
      "source": [
        "### Create train, validate, and test records\n",
        "train_records = classifier_estimator.record_set(train.values[:, 1:].astype(np.float32), train.values[:, 0].astype(np.float32), channel='train')\n",
        "val_records = classifier_estimator.record_set(validate.values[:, 1:].astype(np.float32), validate.values[:, 0].astype(np.float32), channel='validation')\n",
        "test_records = classifier_estimator.record_set(test.values[:, 1:].astype(np.float32), test.values[:, 0].astype(np.float32), channel='test')"
      ],
      "execution_count": null,
      "outputs": []
    },
    {
      "cell_type": "markdown",
      "metadata": {
        "id": "JM15KcCB8y2O"
      },
      "source": [
        "Now, train your model on the dataset that you just uploaded.\n",
        "\n",
        "### Sample code\n",
        "```\n",
        "linear.fit([train_records,val_records,test_records])\n",
        "```"
      ]
    },
    {
      "cell_type": "code",
      "metadata": {
        "id": "syIKZJQo8y2O",
        "outputId": "d7dd07f2-a5fa-401c-c491-75efe53e639d"
      },
      "source": [
        "### Fit the classifier\n",
        "classifier_estimator.fit([train_records,val_records,test_records])"
      ],
      "execution_count": null,
      "outputs": [
        {
          "name": "stderr",
          "output_type": "stream",
          "text": [
            "Defaulting to the only supported framework/algorithm version: 1. Ignoring framework/algorithm version: 1.\n",
            "Defaulting to the only supported framework/algorithm version: 1. Ignoring framework/algorithm version: 1.\n"
          ]
        },
        {
          "name": "stdout",
          "output_type": "stream",
          "text": [
            "2021-10-22 09:37:21 Starting - Starting the training job...\n",
            "2021-10-22 09:37:47 Starting - Launching requested ML instancesProfilerReport-1634895441: InProgress\n",
            ".........\n",
            "2021-10-22 09:39:07 Starting - Preparing the instances for training.................................\n",
            "2021-10-22 09:44:49 Downloading - Downloading input data...\n",
            "2021-10-22 09:45:17 Training - Downloading the training image...\n",
            "2021-10-22 09:45:55 Training - Training image download completed. Training in progress..\u001b[34mDocker entrypoint called with argument(s): train\u001b[0m\n",
            "\u001b[34mRunning default environment configuration script\u001b[0m\n",
            "\u001b[34m[10/22/2021 09:46:01 INFO 140033973606208] Reading default configuration from /opt/amazon/lib/python3.7/site-packages/algorithm/resources/default-input.json: {'mini_batch_size': '1000', 'epochs': '15', 'feature_dim': 'auto', 'use_bias': 'true', 'binary_classifier_model_selection_criteria': 'accuracy', 'f_beta': '1.0', 'target_recall': '0.8', 'target_precision': '0.8', 'num_models': 'auto', 'num_calibration_samples': '10000000', 'init_method': 'uniform', 'init_scale': '0.07', 'init_sigma': '0.01', 'init_bias': '0.0', 'optimizer': 'auto', 'loss': 'auto', 'margin': '1.0', 'quantile': '0.5', 'loss_insensitivity': '0.01', 'huber_delta': '1.0', 'num_classes': '1', 'accuracy_top_k': '3', 'wd': 'auto', 'l1': 'auto', 'momentum': 'auto', 'learning_rate': 'auto', 'beta_1': 'auto', 'beta_2': 'auto', 'bias_lr_mult': 'auto', 'bias_wd_mult': 'auto', 'use_lr_scheduler': 'true', 'lr_scheduler_step': 'auto', 'lr_scheduler_factor': 'auto', 'lr_scheduler_minimum_lr': 'auto', 'positive_example_weight_mult': '1.0', 'balance_multiclass_weights': 'false', 'normalize_data': 'true', 'normalize_label': 'auto', 'unbias_data': 'auto', 'unbias_label': 'auto', 'num_point_for_scaler': '10000', '_kvstore': 'auto', '_num_gpus': 'auto', '_num_kv_servers': 'auto', '_log_level': 'info', '_tuning_objective_metric': '', 'early_stopping_patience': '3', 'early_stopping_tolerance': '0.001', '_enable_profiler': 'false'}\u001b[0m\n",
            "\u001b[34m[10/22/2021 09:46:01 INFO 140033973606208] Merging with provided configuration from /opt/ml/input/config/hyperparameters.json: {'feature_dim': '93', 'predictor_type': 'binary_classifier', 'binary_classifier_model_selection_criteria': 'cross_entropy_loss', 'mini_batch_size': '1000'}\u001b[0m\n",
            "\u001b[34m[10/22/2021 09:46:01 INFO 140033973606208] Final configuration: {'mini_batch_size': '1000', 'epochs': '15', 'feature_dim': '93', 'use_bias': 'true', 'binary_classifier_model_selection_criteria': 'cross_entropy_loss', 'f_beta': '1.0', 'target_recall': '0.8', 'target_precision': '0.8', 'num_models': 'auto', 'num_calibration_samples': '10000000', 'init_method': 'uniform', 'init_scale': '0.07', 'init_sigma': '0.01', 'init_bias': '0.0', 'optimizer': 'auto', 'loss': 'auto', 'margin': '1.0', 'quantile': '0.5', 'loss_insensitivity': '0.01', 'huber_delta': '1.0', 'num_classes': '1', 'accuracy_top_k': '3', 'wd': 'auto', 'l1': 'auto', 'momentum': 'auto', 'learning_rate': 'auto', 'beta_1': 'auto', 'beta_2': 'auto', 'bias_lr_mult': 'auto', 'bias_wd_mult': 'auto', 'use_lr_scheduler': 'true', 'lr_scheduler_step': 'auto', 'lr_scheduler_factor': 'auto', 'lr_scheduler_minimum_lr': 'auto', 'positive_example_weight_mult': '1.0', 'balance_multiclass_weights': 'false', 'normalize_data': 'true', 'normalize_label': 'auto', 'unbias_data': 'auto', 'unbias_label': 'auto', 'num_point_for_scaler': '10000', '_kvstore': 'auto', '_num_gpus': 'auto', '_num_kv_servers': 'auto', '_log_level': 'info', '_tuning_objective_metric': '', 'early_stopping_patience': '3', 'early_stopping_tolerance': '0.001', '_enable_profiler': 'false', 'predictor_type': 'binary_classifier'}\u001b[0m\n",
            "\u001b[34m[10/22/2021 09:46:01 WARNING 140033973606208] Loggers have already been setup.\u001b[0m\n",
            "\u001b[34mProcess 1 is a worker.\u001b[0m\n",
            "\u001b[34m[10/22/2021 09:46:01 INFO 140033973606208] Using default worker.\u001b[0m\n",
            "\u001b[34m[10/22/2021 09:46:01 INFO 140033973606208] Checkpoint loading and saving are disabled.\u001b[0m\n",
            "\u001b[34m[2021-10-22 09:46:01.887] [tensorio] [warning] TensorIO is already initialized; ignoring the initialization routine.\u001b[0m\n",
            "\u001b[34m[2021-10-22 09:46:01.897] [tensorio] [warning] TensorIO is already initialized; ignoring the initialization routine.\u001b[0m\n",
            "\u001b[34m[2021-10-22 09:46:01.994] [tensorio] [info] epoch_stats={\"data_pipeline\": \"/opt/ml/input/data/train\", \"epoch\": 0, \"duration\": 118, \"num_examples\": 1, \"num_bytes\": 420000}\u001b[0m\n",
            "\u001b[34m[10/22/2021 09:46:01 INFO 140033973606208] Create Store: local\u001b[0m\n",
            "\u001b[34m[2021-10-22 09:46:02.317] [tensorio] [info] epoch_stats={\"data_pipeline\": \"/opt/ml/input/data/train\", \"epoch\": 1, \"duration\": 320, \"num_examples\": 11, \"num_bytes\": 4620000}\u001b[0m\n",
            "\u001b[34m[10/22/2021 09:46:02 INFO 140033973606208] Scaler algorithm parameters\n",
            " <algorithm.scaler.ScalerAlgorithmStable object at 0x7f5bd2966e90>\u001b[0m\n",
            "\u001b[34m[10/22/2021 09:46:02 INFO 140033973606208] Scaling model computed with parameters:\n",
            " {'stdev_label': None, 'stdev_weight': \u001b[0m\n",
            "\u001b[34m[5.3371051e+02 4.2889518e-01 4.3888268e-01 4.4200853e-01 2.5345418e-01\n",
            " 2.7874640e-01 2.6630276e-01 2.7779642e-01 2.7422616e-01 2.8276536e-01\n",
            " 2.8644204e-01 2.7533183e-01 2.8979445e-01 2.8696164e-01 2.7615681e-01\n",
            " 1.7744362e-01 1.8515393e-01 1.8146275e-01 1.7696394e-01 1.7307143e-01\n",
            " 1.7768295e-01 1.7478655e-01 1.7454271e-01 1.7816046e-01 1.7257783e-01\n",
            " 1.8099521e-01 1.8331905e-01 1.7958426e-01 1.7600001e-01 1.7934786e-01\n",
            " 1.8809140e-01 1.8538183e-01 1.8122914e-01 1.7380886e-01 1.7648272e-01\n",
            " 1.8515393e-01 1.7696394e-01 1.6806139e-01 1.7429848e-01 1.8005599e-01\n",
            " 1.7839867e-01 1.7958425e-01 1.7233042e-01 1.7108734e-01 1.3162568e-01\n",
            " 3.4585163e-01 3.5383385e-01 3.5875633e-01 3.6328566e-01 3.2570422e-01\n",
            " 3.4432659e-01 3.7052286e-01 2.3511356e-01 4.6059969e-01 3.1026554e-01\n",
            " 2.3799145e-01 3.1978834e-01 3.2728580e-01 2.7311414e-01 3.5590917e-01\n",
            " 3.3858958e-01 2.9792824e-01 3.2916623e-01 2.3815931e-01 3.2250047e-01\n",
            " 3.2707569e-01 2.7185535e-01 3.6059985e-01 3.3560199e-01 2.9571003e-01\n",
            " 3.3236092e-01 6.2400401e-02 9.5341932e-03 1.0000000e+00 1.6181777e-01\n",
            " 2.3184262e-01 2.5314468e-01 2.5437939e-01 2.4523814e-01 2.4442878e-01\n",
            " 2.4296297e-01 2.3545450e-01 2.3882937e-01 2.4716641e-01 2.3357147e-01\n",
            " 2.3339930e-01 2.4214362e-01 2.1906759e-01 2.2202702e-01 1.9163500e-01\n",
            " 1.5967570e-01 1.6932963e-01 1.1050239e-01]\u001b[0m\n",
            "\u001b[34m<NDArray 93 @cpu(0)>, 'mean_label': None, 'mean_weight': \u001b[0m\n",
            "\u001b[34m[1.01357312e+03 2.43000031e-01 2.60454535e-01 2.66272753e-01\n",
            " 6.89999983e-02 8.49091038e-02 7.68181831e-02 8.42727348e-02\n",
            " 8.19090903e-02 8.76363739e-02 9.01818126e-02 8.26363638e-02\n",
            " 9.25454646e-02 9.05454606e-02 8.31818208e-02 3.25454548e-02\n",
            " 3.55454572e-02 3.40909101e-02 3.23636346e-02 3.09090968e-02\n",
            " 3.26363668e-02 3.15454565e-02 3.14545482e-02 3.28181870e-02\n",
            " 3.07272766e-02 3.39090899e-02 3.48181836e-02 3.33636366e-02\n",
            " 3.20000015e-02 3.32727283e-02 3.67272720e-02 3.56363654e-02\n",
            " 3.40000018e-02 3.11818216e-02 3.21818218e-02 3.55454572e-02\n",
            " 3.23636420e-02 2.90909093e-02 3.13636400e-02 3.35454568e-02\n",
            " 3.29090916e-02 3.33636403e-02 3.06363665e-02 3.01818214e-02\n",
            " 1.76363662e-02 1.38909101e-01 1.46727294e-01 1.51727274e-01\n",
            " 1.56454563e-01 1.20636374e-01 1.37454554e-01 1.64272740e-01\n",
            " 5.87272756e-02 3.05454582e-01 1.07909098e-01 6.02727309e-02\n",
            " 1.15636371e-01 1.22000009e-01 8.11818317e-02 1.48818195e-01\n",
            " 1.32090911e-01 9.84545574e-02 1.23636372e-01 6.03636429e-02\n",
            " 1.17909096e-01 1.21818185e-01 8.03636461e-02 1.53636396e-01\n",
            " 1.29363656e-01 9.68181938e-02 1.26454562e-01 3.90909147e-03\n",
            " 9.09090959e-05 0.00000000e+00 2.69090943e-02 5.70000038e-02\n",
            " 6.88181892e-02 6.95454627e-02 6.42727390e-02 6.38181940e-02\n",
            " 6.30000010e-02 5.89090995e-02 6.07272722e-02 6.53636456e-02\n",
            " 5.79091012e-02 5.78181855e-02 6.25454560e-02 5.05454615e-02\n",
            " 5.20000011e-02 3.81818227e-02 2.61818208e-02 2.95454580e-02\n",
            " 1.23636369e-02]\u001b[0m\n",
            "\u001b[34m<NDArray 93 @cpu(0)>}\u001b[0m\n",
            "\u001b[34m[10/22/2021 09:46:02 INFO 140033973606208] nvidia-smi: took 0.037 seconds to run.\u001b[0m\n",
            "\u001b[34m[10/22/2021 09:46:02 INFO 140033973606208] nvidia-smi identified 0 GPUs.\u001b[0m\n",
            "\u001b[34m[10/22/2021 09:46:02 INFO 140033973606208] Number of GPUs being used: 0\u001b[0m\n",
            "\u001b[34m#metrics {\"StartTime\": 1634895962.449566, \"EndTime\": 1634895962.4496057, \"Dimensions\": {\"Algorithm\": \"Linear Learner\", \"Host\": \"algo-1\", \"Operation\": \"training\", \"Meta\": \"init_train_data_iter\"}, \"Metrics\": {\"Total Records Seen\": {\"sum\": 12000.0, \"count\": 1, \"min\": 12000, \"max\": 12000}, \"Total Batches Seen\": {\"sum\": 12.0, \"count\": 1, \"min\": 12, \"max\": 12}, \"Max Records Seen Between Resets\": {\"sum\": 11000.0, \"count\": 1, \"min\": 11000, \"max\": 11000}, \"Max Batches Seen Between Resets\": {\"sum\": 11.0, \"count\": 1, \"min\": 11, \"max\": 11}, \"Reset Count\": {\"sum\": 2.0, \"count\": 1, \"min\": 2, \"max\": 2}, \"Number of Records Since Last Reset\": {\"sum\": 0.0, \"count\": 1, \"min\": 0, \"max\": 0}, \"Number of Batches Since Last Reset\": {\"sum\": 0.0, \"count\": 1, \"min\": 0, \"max\": 0}}}\n",
            "\u001b[0m\n",
            "\u001b[34m[2021-10-22 09:46:52.950] [tensorio] [info] epoch_stats={\"data_pipeline\": \"/opt/ml/input/data/train\", \"epoch\": 3, \"duration\": 50500, \"num_examples\": 1309, \"num_bytes\": 549558240}\u001b[0m\n",
            "\u001b[34m#metrics {\"StartTime\": 1634896012.950612, \"EndTime\": 1634896012.9506996, \"Dimensions\": {\"Algorithm\": \"Linear Learner\", \"Host\": \"algo-1\", \"Operation\": \"training\", \"epoch\": 0, \"model\": 0}, \"Metrics\": {\"train_binary_classification_cross_entropy_objective\": {\"sum\": 0.4941865677906468, \"count\": 1, \"min\": 0.4941865677906468, \"max\": 0.4941865677906468}}}\n",
            "\u001b[0m\n",
            "\u001b[34m#metrics {\"StartTime\": 1634896012.9508271, \"EndTime\": 1634896012.9508486, \"Dimensions\": {\"Algorithm\": \"Linear Learner\", \"Host\": \"algo-1\", \"Operation\": \"training\", \"epoch\": 0, \"model\": 1}, \"Metrics\": {\"train_binary_classification_cross_entropy_objective\": {\"sum\": 0.49484909976877567, \"count\": 1, \"min\": 0.49484909976877567, \"max\": 0.49484909976877567}}}\n",
            "\u001b[0m\n",
            "\u001b[34m#metrics {\"StartTime\": 1634896012.9509203, \"EndTime\": 1634896012.9509385, \"Dimensions\": {\"Algorithm\": \"Linear Learner\", \"Host\": \"algo-1\", \"Operation\": \"training\", \"epoch\": 0, \"model\": 2}, \"Metrics\": {\"train_binary_classification_cross_entropy_objective\": {\"sum\": 0.49433697904067664, \"count\": 1, \"min\": 0.49433697904067664, \"max\": 0.49433697904067664}}}\n",
            "\u001b[0m\n",
            "\u001b[34m#metrics {\"StartTime\": 1634896012.9509943, \"EndTime\": 1634896012.9510117, \"Dimensions\": {\"Algorithm\": \"Linear Learner\", \"Host\": \"algo-1\", \"Operation\": \"training\", \"epoch\": 0, \"model\": 3}, \"Metrics\": {\"train_binary_classification_cross_entropy_objective\": {\"sum\": 0.4949004612960582, \"count\": 1, \"min\": 0.4949004612960582, \"max\": 0.4949004612960582}}}\n",
            "\u001b[0m\n",
            "\u001b[34m#metrics {\"StartTime\": 1634896012.9510808, \"EndTime\": 1634896012.9510996, \"Dimensions\": {\"Algorithm\": \"Linear Learner\", \"Host\": \"algo-1\", \"Operation\": \"training\", \"epoch\": 0, \"model\": 4}, \"Metrics\": {\"train_binary_classification_cross_entropy_objective\": {\"sum\": 0.5077583786850676, \"count\": 1, \"min\": 0.5077583786850676, \"max\": 0.5077583786850676}}}\n",
            "\u001b[0m\n",
            "\u001b[34m#metrics {\"StartTime\": 1634896012.951159, \"EndTime\": 1634896012.9511871, \"Dimensions\": {\"Algorithm\": \"Linear Learner\", \"Host\": \"algo-1\", \"Operation\": \"training\", \"epoch\": 0, \"model\": 5}, \"Metrics\": {\"train_binary_classification_cross_entropy_objective\": {\"sum\": 0.5178032927206897, \"count\": 1, \"min\": 0.5178032927206897, \"max\": 0.5178032927206897}}}\n",
            "\u001b[0m\n",
            "\u001b[34m#metrics {\"StartTime\": 1634896012.951267, \"EndTime\": 1634896012.9512854, \"Dimensions\": {\"Algorithm\": \"Linear Learner\", \"Host\": \"algo-1\", \"Operation\": \"training\", \"epoch\": 0, \"model\": 6}, \"Metrics\": {\"train_binary_classification_cross_entropy_objective\": {\"sum\": 0.507805545165269, \"count\": 1, \"min\": 0.507805545165269, \"max\": 0.507805545165269}}}\n",
            "\u001b[0m\n",
            "\u001b[34m#metrics {\"StartTime\": 1634896012.951353, \"EndTime\": 1634896012.95137, \"Dimensions\": {\"Algorithm\": \"Linear Learner\", \"Host\": \"algo-1\", \"Operation\": \"training\", \"epoch\": 0, \"model\": 7}, \"Metrics\": {\"train_binary_classification_cross_entropy_objective\": {\"sum\": 0.5177454950408469, \"count\": 1, \"min\": 0.5177454950408469, \"max\": 0.5177454950408469}}}\n",
            "\u001b[0m\n",
            "\u001b[34m#metrics {\"StartTime\": 1634896012.951421, \"EndTime\": 1634896012.9514363, \"Dimensions\": {\"Algorithm\": \"Linear Learner\", \"Host\": \"algo-1\", \"Operation\": \"training\", \"epoch\": 0, \"model\": 8}, \"Metrics\": {\"train_binary_classification_cross_entropy_objective\": {\"sum\": 0.4943765847675662, \"count\": 1, \"min\": 0.4943765847675662, \"max\": 0.4943765847675662}}}\n",
            "\u001b[0m\n",
            "\u001b[34m#metrics {\"StartTime\": 1634896012.9514863, \"EndTime\": 1634896012.951502, \"Dimensions\": {\"Algorithm\": \"Linear Learner\", \"Host\": \"algo-1\", \"Operation\": \"training\", \"epoch\": 0, \"model\": 9}, \"Metrics\": {\"train_binary_classification_cross_entropy_objective\": {\"sum\": 0.4948701604673986, \"count\": 1, \"min\": 0.4948701604673986, \"max\": 0.4948701604673986}}}\n",
            "\u001b[0m\n",
            "\u001b[34m#metrics {\"StartTime\": 1634896012.9515526, \"EndTime\": 1634896012.9515667, \"Dimensions\": {\"Algorithm\": \"Linear Learner\", \"Host\": \"algo-1\", \"Operation\": \"training\", \"epoch\": 0, \"model\": 10}, \"Metrics\": {\"train_binary_classification_cross_entropy_objective\": {\"sum\": 0.4944306057804586, \"count\": 1, \"min\": 0.4944306057804586, \"max\": 0.4944306057804586}}}\n",
            "\u001b[0m\n",
            "\u001b[34m#metrics {\"StartTime\": 1634896012.951617, \"EndTime\": 1634896012.9516325, \"Dimensions\": {\"Algorithm\": \"Linear Learner\", \"Host\": \"algo-1\", \"Operation\": \"training\", \"epoch\": 0, \"model\": 11}, \"Metrics\": {\"train_binary_classification_cross_entropy_objective\": {\"sum\": 0.49486306377725864, \"count\": 1, \"min\": 0.49486306377725864, \"max\": 0.49486306377725864}}}\n",
            "\u001b[0m\n",
            "\u001b[34m#metrics {\"StartTime\": 1634896012.9516854, \"EndTime\": 1634896012.9517007, \"Dimensions\": {\"Algorithm\": \"Linear Learner\", \"Host\": \"algo-1\", \"Operation\": \"training\", \"epoch\": 0, \"model\": 12}, \"Metrics\": {\"train_binary_classification_cross_entropy_objective\": {\"sum\": 0.5069305090481353, \"count\": 1, \"min\": 0.5069305090481353, \"max\": 0.5069305090481353}}}\n",
            "\u001b[0m\n",
            "\u001b[34m#metrics {\"StartTime\": 1634896012.9517524, \"EndTime\": 1634896012.9517672, \"Dimensions\": {\"Algorithm\": \"Linear Learner\", \"Host\": \"algo-1\", \"Operation\": \"training\", \"epoch\": 0, \"model\": 13}, \"Metrics\": {\"train_binary_classification_cross_entropy_objective\": {\"sum\": 0.5159984026567651, \"count\": 1, \"min\": 0.5159984026567651, \"max\": 0.5159984026567651}}}\n",
            "\u001b[0m\n",
            "\u001b[34m#metrics {\"StartTime\": 1634896012.951832, \"EndTime\": 1634896012.9518497, \"Dimensions\": {\"Algorithm\": \"Linear Learner\", \"Host\": \"algo-1\", \"Operation\": \"training\", \"epoch\": 0, \"model\": 14}, \"Metrics\": {\"train_binary_classification_cross_entropy_objective\": {\"sum\": 0.5069072701223765, \"count\": 1, \"min\": 0.5069072701223765, \"max\": 0.5069072701223765}}}\n",
            "\u001b[0m\n",
            "\u001b[34m#metrics {\"StartTime\": 1634896012.9519043, \"EndTime\": 1634896012.95192, \"Dimensions\": {\"Algorithm\": \"Linear Learner\", \"Host\": \"algo-1\", \"Operation\": \"training\", \"epoch\": 0, \"model\": 15}, \"Metrics\": {\"train_binary_classification_cross_entropy_objective\": {\"sum\": 0.5160089316178534, \"count\": 1, \"min\": 0.5160089316178534, \"max\": 0.5160089316178534}}}\n",
            "\u001b[0m\n",
            "\u001b[34m#metrics {\"StartTime\": 1634896012.9519742, \"EndTime\": 1634896012.9519906, \"Dimensions\": {\"Algorithm\": \"Linear Learner\", \"Host\": \"algo-1\", \"Operation\": \"training\", \"epoch\": 0, \"model\": 16}, \"Metrics\": {\"train_binary_classification_cross_entropy_objective\": {\"sum\": 0.5092370573037991, \"count\": 1, \"min\": 0.5092370573037991, \"max\": 0.5092370573037991}}}\n",
            "\u001b[0m\n",
            "\u001b[34m#metrics {\"StartTime\": 1634896012.9520428, \"EndTime\": 1634896012.9520605, \"Dimensions\": {\"Algorithm\": \"Linear Learner\", \"Host\": \"algo-1\", \"Operation\": \"training\", \"epoch\": 0, \"model\": 17}, \"Metrics\": {\"train_binary_classification_cross_entropy_objective\": {\"sum\": 0.509326433304253, \"count\": 1, \"min\": 0.509326433304253, \"max\": 0.509326433304253}}}\n",
            "\u001b[0m\n",
            "\u001b[34m#metrics {\"StartTime\": 1634896012.952114, \"EndTime\": 1634896012.9521306, \"Dimensions\": {\"Algorithm\": \"Linear Learner\", \"Host\": \"algo-1\", \"Operation\": \"training\", \"epoch\": 0, \"model\": 18}, \"Metrics\": {\"train_binary_classification_cross_entropy_objective\": {\"sum\": 0.5092128908583148, \"count\": 1, \"min\": 0.5092128908583148, \"max\": 0.5092128908583148}}}\n",
            "\u001b[0m\n",
            "\u001b[34m#metrics {\"StartTime\": 1634896012.9521844, \"EndTime\": 1634896012.9522007, \"Dimensions\": {\"Algorithm\": \"Linear Learner\", \"Host\": \"algo-1\", \"Operation\": \"training\", \"epoch\": 0, \"model\": 19}, \"Metrics\": {\"train_binary_classification_cross_entropy_objective\": {\"sum\": 0.5093334757486979, \"count\": 1, \"min\": 0.5093334757486979, \"max\": 0.5093334757486979}}}\n",
            "\u001b[0m\n",
            "\u001b[34m#metrics {\"StartTime\": 1634896012.952256, \"EndTime\": 1634896012.9522662, \"Dimensions\": {\"Algorithm\": \"Linear Learner\", \"Host\": \"algo-1\", \"Operation\": \"training\", \"epoch\": 0, \"model\": 20}, \"Metrics\": {\"train_binary_classification_cross_entropy_objective\": {\"sum\": 0.5107346494948828, \"count\": 1, \"min\": 0.5107346494948828, \"max\": 0.5107346494948828}}}\n",
            "\u001b[0m\n",
            "\u001b[34m#metrics {\"StartTime\": 1634896012.9523077, \"EndTime\": 1634896012.9523225, \"Dimensions\": {\"Algorithm\": \"Linear Learner\", \"Host\": \"algo-1\", \"Operation\": \"training\", \"epoch\": 0, \"model\": 21}, \"Metrics\": {\"train_binary_classification_cross_entropy_objective\": {\"sum\": 0.5124151885006406, \"count\": 1, \"min\": 0.5124151885006406, \"max\": 0.5124151885006406}}}\n",
            "\u001b[0m\n",
            "\u001b[34m#metrics {\"StartTime\": 1634896012.9523623, \"EndTime\": 1634896012.9523714, \"Dimensions\": {\"Algorithm\": \"Linear Learner\", \"Host\": \"algo-1\", \"Operation\": \"training\", \"epoch\": 0, \"model\": 22}, \"Metrics\": {\"train_binary_classification_cross_entropy_objective\": {\"sum\": 0.5107474240877578, \"count\": 1, \"min\": 0.5107474240877578, \"max\": 0.5107474240877578}}}\n",
            "\u001b[0m\n",
            "\u001b[34m#metrics {\"StartTime\": 1634896012.952402, \"EndTime\": 1634896012.952416, \"Dimensions\": {\"Algorithm\": \"Linear Learner\", \"Host\": \"algo-1\", \"Operation\": \"training\", \"epoch\": 0, \"model\": 23}, \"Metrics\": {\"train_binary_classification_cross_entropy_objective\": {\"sum\": 0.5124662787527848, \"count\": 1, \"min\": 0.5124662787527848, \"max\": 0.5124662787527848}}}\n",
            "\u001b[0m\n",
            "\u001b[34m#metrics {\"StartTime\": 1634896012.952465, \"EndTime\": 1634896012.9524808, \"Dimensions\": {\"Algorithm\": \"Linear Learner\", \"Host\": \"algo-1\", \"Operation\": \"training\", \"epoch\": 0, \"model\": 24}, \"Metrics\": {\"train_binary_classification_cross_entropy_objective\": {\"sum\": 0.5150503973071364, \"count\": 1, \"min\": 0.5150503973071364, \"max\": 0.5150503973071364}}}\n",
            "\u001b[0m\n",
            "\u001b[34m#metrics {\"StartTime\": 1634896012.9525306, \"EndTime\": 1634896012.9525464, \"Dimensions\": {\"Algorithm\": \"Linear Learner\", \"Host\": \"algo-1\", \"Operation\": \"training\", \"epoch\": 0, \"model\": 25}, \"Metrics\": {\"train_binary_classification_cross_entropy_objective\": {\"sum\": 0.5151065801684644, \"count\": 1, \"min\": 0.5151065801684644, \"max\": 0.5151065801684644}}}\n",
            "\u001b[0m\n",
            "\u001b[34m#metrics {\"StartTime\": 1634896012.952577, \"EndTime\": 1634896012.952585, \"Dimensions\": {\"Algorithm\": \"Linear Learner\", \"Host\": \"algo-1\", \"Operation\": \"training\", \"epoch\": 0, \"model\": 26}, \"Metrics\": {\"train_binary_classification_cross_entropy_objective\": {\"sum\": 0.5150441176154927, \"count\": 1, \"min\": 0.5150441176154927, \"max\": 0.5150441176154927}}}\n",
            "\u001b[0m\n",
            "\u001b[34m#metrics {\"StartTime\": 1634896012.95261, \"EndTime\": 1634896012.9526176, \"Dimensions\": {\"Algorithm\": \"Linear Learner\", \"Host\": \"algo-1\", \"Operation\": \"training\", \"epoch\": 0, \"model\": 27}, \"Metrics\": {\"train_binary_classification_cross_entropy_objective\": {\"sum\": 0.5151089125700318, \"count\": 1, \"min\": 0.5151089125700318, \"max\": 0.5151089125700318}}}\n",
            "\u001b[0m\n",
            "\u001b[34m#metrics {\"StartTime\": 1634896012.9526641, \"EndTime\": 1634896012.9526782, \"Dimensions\": {\"Algorithm\": \"Linear Learner\", \"Host\": \"algo-1\", \"Operation\": \"training\", \"epoch\": 0, \"model\": 28}, \"Metrics\": {\"train_binary_classification_cross_entropy_objective\": {\"sum\": 0.5150622859569864, \"count\": 1, \"min\": 0.5150622859569864, \"max\": 0.5150622859569864}}}\n",
            "\u001b[0m\n",
            "\u001b[34m#metrics {\"StartTime\": 1634896012.9527276, \"EndTime\": 1634896012.952742, \"Dimensions\": {\"Algorithm\": \"Linear Learner\", \"Host\": \"algo-1\", \"Operation\": \"training\", \"epoch\": 0, \"model\": 29}, \"Metrics\": {\"train_binary_classification_cross_entropy_objective\": {\"sum\": 0.5157960101719661, \"count\": 1, \"min\": 0.5157960101719661, \"max\": 0.5157960101719661}}}\n",
            "\u001b[0m\n",
            "\u001b[34m#metrics {\"StartTime\": 1634896012.9527915, \"EndTime\": 1634896012.9528074, \"Dimensions\": {\"Algorithm\": \"Linear Learner\", \"Host\": \"algo-1\", \"Operation\": \"training\", \"epoch\": 0, \"model\": 30}, \"Metrics\": {\"train_binary_classification_cross_entropy_objective\": {\"sum\": 0.5150646051762665, \"count\": 1, \"min\": 0.5150646051762665, \"max\": 0.5150646051762665}}}\n",
            "\u001b[0m\n",
            "\u001b[34m#metrics {\"StartTime\": 1634896012.952861, \"EndTime\": 1634896012.9528766, \"Dimensions\": {\"Algorithm\": \"Linear Learner\", \"Host\": \"algo-1\", \"Operation\": \"training\", \"epoch\": 0, \"model\": 31}, \"Metrics\": {\"train_binary_classification_cross_entropy_objective\": {\"sum\": 0.5157728095098373, \"count\": 1, \"min\": 0.5157728095098373, \"max\": 0.5157728095098373}}}\n",
            "\u001b[0m\n",
            "\u001b[34m[10/22/2021 09:46:52 INFO 140033973606208] #quality_metric: host=algo-1, epoch=0, train binary_classification_cross_entropy_objective <loss>=0.4941865677906468\u001b[0m\n",
            "\u001b[34m[2021-10-22 09:46:52.979] [tensorio] [info] epoch_stats={\"data_pipeline\": \"/opt/ml/input/data/validation\", \"epoch\": 0, \"duration\": 51092, \"num_examples\": 1, \"num_bytes\": 420000}\u001b[0m\n",
            "\u001b[34m[2021-10-22 09:46:57.984] [tensorio] [info] epoch_stats={\"data_pipeline\": \"/opt/ml/input/data/validation\", \"epoch\": 2, \"duration\": 5004, \"num_examples\": 164, \"num_bytes\": 68694780}\u001b[0m\n",
            "\u001b[34m#metrics {\"StartTime\": 1634896017.9926186, \"EndTime\": 1634896017.9926772, \"Dimensions\": {\"Algorithm\": \"Linear Learner\", \"Host\": \"algo-1\", \"Operation\": \"training\", \"epoch\": 0, \"model\": 0}, \"Metrics\": {\"validation_binary_classification_cross_entropy_objective\": {\"sum\": 0.4929350447372369, \"count\": 1, \"min\": 0.4929350447372369, \"max\": 0.4929350447372369}}}\n",
            "\u001b[0m\n",
            "\u001b[34m#metrics {\"StartTime\": 1634896017.9927626, \"EndTime\": 1634896017.9927819, \"Dimensions\": {\"Algorithm\": \"Linear Learner\", \"Host\": \"algo-1\", \"Operation\": \"training\", \"epoch\": 0, \"model\": 1}, \"Metrics\": {\"validation_binary_classification_cross_entropy_objective\": {\"sum\": 0.49418670391399283, \"count\": 1, \"min\": 0.49418670391399283, \"max\": 0.49418670391399283}}}\n",
            "\u001b[0m\n",
            "\u001b[34m#metrics {\"StartTime\": 1634896017.9928536, \"EndTime\": 1634896017.9928727, \"Dimensions\": {\"Algorithm\": \"Linear Learner\", \"Host\": \"algo-1\", \"Operation\": \"training\", \"epoch\": 0, \"model\": 2}, \"Metrics\": {\"validation_binary_classification_cross_entropy_objective\": {\"sum\": 0.4929346874278739, \"count\": 1, \"min\": 0.4929346874278739, \"max\": 0.4929346874278739}}}\n",
            "\u001b[0m\n",
            "\u001b[34m#metrics {\"StartTime\": 1634896017.9929311, \"EndTime\": 1634896017.992948, \"Dimensions\": {\"Algorithm\": \"Linear Learner\", \"Host\": \"algo-1\", \"Operation\": \"training\", \"epoch\": 0, \"model\": 3}, \"Metrics\": {\"validation_binary_classification_cross_entropy_objective\": {\"sum\": 0.49418653654767497, \"count\": 1, \"min\": 0.49418653654767497, \"max\": 0.49418653654767497}}}\n",
            "\u001b[0m\n",
            "\u001b[34m#metrics {\"StartTime\": 1634896017.9930074, \"EndTime\": 1634896017.9930248, \"Dimensions\": {\"Algorithm\": \"Linear Learner\", \"Host\": \"algo-1\", \"Operation\": \"training\", \"epoch\": 0, \"model\": 4}, \"Metrics\": {\"validation_binary_classification_cross_entropy_objective\": {\"sum\": 0.501164599211129, \"count\": 1, \"min\": 0.501164599211129, \"max\": 0.501164599211129}}}\n",
            "\u001b[0m\n",
            "\u001b[34m#metrics {\"StartTime\": 1634896017.9930866, \"EndTime\": 1634896017.9931033, \"Dimensions\": {\"Algorithm\": \"Linear Learner\", \"Host\": \"algo-1\", \"Operation\": \"training\", \"epoch\": 0, \"model\": 5}, \"Metrics\": {\"validation_binary_classification_cross_entropy_objective\": {\"sum\": 0.5078354739658285, \"count\": 1, \"min\": 0.5078354739658285, \"max\": 0.5078354739658285}}}\n",
            "\u001b[0m\n",
            "\u001b[34m#metrics {\"StartTime\": 1634896017.9931617, \"EndTime\": 1634896017.9931784, \"Dimensions\": {\"Algorithm\": \"Linear Learner\", \"Host\": \"algo-1\", \"Operation\": \"training\", \"epoch\": 0, \"model\": 6}, \"Metrics\": {\"validation_binary_classification_cross_entropy_objective\": {\"sum\": 0.5011325954872721, \"count\": 1, \"min\": 0.5011325954872721, \"max\": 0.5011325954872721}}}\n",
            "\u001b[0m\n",
            "\u001b[34m#metrics {\"StartTime\": 1634896017.9932346, \"EndTime\": 1634896017.9932516, \"Dimensions\": {\"Algorithm\": \"Linear Learner\", \"Host\": \"algo-1\", \"Operation\": \"training\", \"epoch\": 0, \"model\": 7}, \"Metrics\": {\"validation_binary_classification_cross_entropy_objective\": {\"sum\": 0.5078367276272439, \"count\": 1, \"min\": 0.5078367276272439, \"max\": 0.5078367276272439}}}\n",
            "\u001b[0m\n",
            "\u001b[34m#metrics {\"StartTime\": 1634896017.9933083, \"EndTime\": 1634896017.9933221, \"Dimensions\": {\"Algorithm\": \"Linear Learner\", \"Host\": \"algo-1\", \"Operation\": \"training\", \"epoch\": 0, \"model\": 8}, \"Metrics\": {\"validation_binary_classification_cross_entropy_objective\": {\"sum\": 0.4930696171457528, \"count\": 1, \"min\": 0.4930696171457528, \"max\": 0.4930696171457528}}}\n",
            "\u001b[0m\n",
            "\u001b[34m#metrics {\"StartTime\": 1634896017.9933786, \"EndTime\": 1634896017.993395, \"Dimensions\": {\"Algorithm\": \"Linear Learner\", \"Host\": \"algo-1\", \"Operation\": \"training\", \"epoch\": 0, \"model\": 9}, \"Metrics\": {\"validation_binary_classification_cross_entropy_objective\": {\"sum\": 0.49427181854937474, \"count\": 1, \"min\": 0.49427181854937474, \"max\": 0.49427181854937474}}}\n",
            "\u001b[0m\n",
            "\u001b[34m#metrics {\"StartTime\": 1634896017.9934502, \"EndTime\": 1634896017.9934661, \"Dimensions\": {\"Algorithm\": \"Linear Learner\", \"Host\": \"algo-1\", \"Operation\": \"training\", \"epoch\": 0, \"model\": 10}, \"Metrics\": {\"validation_binary_classification_cross_entropy_objective\": {\"sum\": 0.49306751116623293, \"count\": 1, \"min\": 0.49306751116623293, \"max\": 0.49306751116623293}}}\n",
            "\u001b[0m\n",
            "\u001b[34m#metrics {\"StartTime\": 1634896017.993519, \"EndTime\": 1634896017.993535, \"Dimensions\": {\"Algorithm\": \"Linear Learner\", \"Host\": \"algo-1\", \"Operation\": \"training\", \"epoch\": 0, \"model\": 11}, \"Metrics\": {\"validation_binary_classification_cross_entropy_objective\": {\"sum\": 0.4942710229529654, \"count\": 1, \"min\": 0.4942710229529654, \"max\": 0.4942710229529654}}}\n",
            "\u001b[0m\n",
            "\u001b[34m#metrics {\"StartTime\": 1634896017.9936056, \"EndTime\": 1634896017.993623, \"Dimensions\": {\"Algorithm\": \"Linear Learner\", \"Host\": \"algo-1\", \"Operation\": \"training\", \"epoch\": 0, \"model\": 12}, \"Metrics\": {\"validation_binary_classification_cross_entropy_objective\": {\"sum\": 0.5005715705289858, \"count\": 1, \"min\": 0.5005715705289858, \"max\": 0.5005715705289858}}}\n",
            "\u001b[0m\n",
            "\u001b[34m#metrics {\"StartTime\": 1634896017.9936924, \"EndTime\": 1634896017.9937105, \"Dimensions\": {\"Algorithm\": \"Linear Learner\", \"Host\": \"algo-1\", \"Operation\": \"training\", \"epoch\": 0, \"model\": 13}, \"Metrics\": {\"validation_binary_classification_cross_entropy_objective\": {\"sum\": 0.5060812019818011, \"count\": 1, \"min\": 0.5060812019818011, \"max\": 0.5060812019818011}}}\n",
            "\u001b[0m\n",
            "\u001b[34m#metrics {\"StartTime\": 1634896017.9937675, \"EndTime\": 1634896017.9937851, \"Dimensions\": {\"Algorithm\": \"Linear Learner\", \"Host\": \"algo-1\", \"Operation\": \"training\", \"epoch\": 0, \"model\": 14}, \"Metrics\": {\"validation_binary_classification_cross_entropy_objective\": {\"sum\": 0.5005644763988072, \"count\": 1, \"min\": 0.5005644763988072, \"max\": 0.5005644763988072}}}\n",
            "\u001b[0m\n",
            "\u001b[34m#metrics {\"StartTime\": 1634896017.993857, \"EndTime\": 1634896017.9938757, \"Dimensions\": {\"Algorithm\": \"Linear Learner\", \"Host\": \"algo-1\", \"Operation\": \"training\", \"epoch\": 0, \"model\": 15}, \"Metrics\": {\"validation_binary_classification_cross_entropy_objective\": {\"sum\": 0.5060772963945493, \"count\": 1, \"min\": 0.5060772963945493, \"max\": 0.5060772963945493}}}\n",
            "\u001b[0m\n",
            "\u001b[34m#metrics {\"StartTime\": 1634896017.9939468, \"EndTime\": 1634896017.9939656, \"Dimensions\": {\"Algorithm\": \"Linear Learner\", \"Host\": \"algo-1\", \"Operation\": \"training\", \"epoch\": 0, \"model\": 16}, \"Metrics\": {\"validation_binary_classification_cross_entropy_objective\": {\"sum\": 0.507957021468493, \"count\": 1, \"min\": 0.507957021468493, \"max\": 0.507957021468493}}}\n",
            "\u001b[0m\n",
            "\u001b[34m#metrics {\"StartTime\": 1634896017.9940345, \"EndTime\": 1634896017.9940512, \"Dimensions\": {\"Algorithm\": \"Linear Learner\", \"Host\": \"algo-1\", \"Operation\": \"training\", \"epoch\": 0, \"model\": 17}, \"Metrics\": {\"validation_binary_classification_cross_entropy_objective\": {\"sum\": 0.508481658153198, \"count\": 1, \"min\": 0.508481658153198, \"max\": 0.508481658153198}}}\n",
            "\u001b[0m\n",
            "\u001b[34m#metrics {\"StartTime\": 1634896017.994117, \"EndTime\": 1634896017.9941344, \"Dimensions\": {\"Algorithm\": \"Linear Learner\", \"Host\": \"algo-1\", \"Operation\": \"training\", \"epoch\": 0, \"model\": 18}, \"Metrics\": {\"validation_binary_classification_cross_entropy_objective\": {\"sum\": 0.5079515200238093, \"count\": 1, \"min\": 0.5079515200238093, \"max\": 0.5079515200238093}}}\n",
            "\u001b[0m\n",
            "\u001b[34m#metrics {\"StartTime\": 1634896017.9941857, \"EndTime\": 1634896017.994201, \"Dimensions\": {\"Algorithm\": \"Linear Learner\", \"Host\": \"algo-1\", \"Operation\": \"training\", \"epoch\": 0, \"model\": 19}, \"Metrics\": {\"validation_binary_classification_cross_entropy_objective\": {\"sum\": 0.5084685481648036, \"count\": 1, \"min\": 0.5084685481648036, \"max\": 0.5084685481648036}}}\n",
            "\u001b[0m\n",
            "\u001b[34m#metrics {\"StartTime\": 1634896017.9942665, \"EndTime\": 1634896017.9942849, \"Dimensions\": {\"Algorithm\": \"Linear Learner\", \"Host\": \"algo-1\", \"Operation\": \"training\", \"epoch\": 0, \"model\": 20}, \"Metrics\": {\"validation_binary_classification_cross_entropy_objective\": {\"sum\": 0.5092738760766256, \"count\": 1, \"min\": 0.5092738760766256, \"max\": 0.5092738760766256}}}\n",
            "\u001b[0m\n",
            "\u001b[34m#metrics {\"StartTime\": 1634896017.994353, \"EndTime\": 1634896017.9943705, \"Dimensions\": {\"Algorithm\": \"Linear Learner\", \"Host\": \"algo-1\", \"Operation\": \"training\", \"epoch\": 0, \"model\": 21}, \"Metrics\": {\"validation_binary_classification_cross_entropy_objective\": {\"sum\": 0.5095876173936087, \"count\": 1, \"min\": 0.5095876173936087, \"max\": 0.5095876173936087}}}\n",
            "\u001b[0m\n",
            "\u001b[34m#metrics {\"StartTime\": 1634896017.9944384, \"EndTime\": 1634896017.9944563, \"Dimensions\": {\"Algorithm\": \"Linear Learner\", \"Host\": \"algo-1\", \"Operation\": \"training\", \"epoch\": 0, \"model\": 22}, \"Metrics\": {\"validation_binary_classification_cross_entropy_objective\": {\"sum\": 0.5092740031406863, \"count\": 1, \"min\": 0.5092740031406863, \"max\": 0.5092740031406863}}}\n",
            "\u001b[0m\n",
            "\u001b[34m#metrics {\"StartTime\": 1634896017.9945242, \"EndTime\": 1634896017.9945714, \"Dimensions\": {\"Algorithm\": \"Linear Learner\", \"Host\": \"algo-1\", \"Operation\": \"training\", \"epoch\": 0, \"model\": 23}, \"Metrics\": {\"validation_binary_classification_cross_entropy_objective\": {\"sum\": 0.5095875343634957, \"count\": 1, \"min\": 0.5095875343634957, \"max\": 0.5095875343634957}}}\n",
            "\u001b[0m\n",
            "\u001b[34m#metrics {\"StartTime\": 1634896017.9946322, \"EndTime\": 1634896017.9946492, \"Dimensions\": {\"Algorithm\": \"Linear Learner\", \"Host\": \"algo-1\", \"Operation\": \"training\", \"epoch\": 0, \"model\": 24}, \"Metrics\": {\"validation_binary_classification_cross_entropy_objective\": {\"sum\": 0.513742548552995, \"count\": 1, \"min\": 0.513742548552995, \"max\": 0.513742548552995}}}\n",
            "\u001b[0m\n",
            "\u001b[34m#metrics {\"StartTime\": 1634896017.9947038, \"EndTime\": 1634896017.9947162, \"Dimensions\": {\"Algorithm\": \"Linear Learner\", \"Host\": \"algo-1\", \"Operation\": \"training\", \"epoch\": 0, \"model\": 25}, \"Metrics\": {\"validation_binary_classification_cross_entropy_objective\": {\"sum\": 0.5144104327070645, \"count\": 1, \"min\": 0.5144104327070645, \"max\": 0.5144104327070645}}}\n",
            "\u001b[0m\n",
            "\u001b[34m#metrics {\"StartTime\": 1634896017.9947479, \"EndTime\": 1634896017.9947622, \"Dimensions\": {\"Algorithm\": \"Linear Learner\", \"Host\": \"algo-1\", \"Operation\": \"training\", \"epoch\": 0, \"model\": 26}, \"Metrics\": {\"validation_binary_classification_cross_entropy_objective\": {\"sum\": 0.5137574045993628, \"count\": 1, \"min\": 0.5137574045993628, \"max\": 0.5137574045993628}}}\n",
            "\u001b[0m\n",
            "\u001b[34m#metrics {\"StartTime\": 1634896017.9948246, \"EndTime\": 1634896017.9948432, \"Dimensions\": {\"Algorithm\": \"Linear Learner\", \"Host\": \"algo-1\", \"Operation\": \"training\", \"epoch\": 0, \"model\": 27}, \"Metrics\": {\"validation_binary_classification_cross_entropy_objective\": {\"sum\": 0.5144267928112787, \"count\": 1, \"min\": 0.5144267928112787, \"max\": 0.5144267928112787}}}\n",
            "\u001b[0m\n",
            "\u001b[34m#metrics {\"StartTime\": 1634896017.9949138, \"EndTime\": 1634896017.994932, \"Dimensions\": {\"Algorithm\": \"Linear Learner\", \"Host\": \"algo-1\", \"Operation\": \"training\", \"epoch\": 0, \"model\": 28}, \"Metrics\": {\"validation_binary_classification_cross_entropy_objective\": {\"sum\": 0.5153405002095837, \"count\": 1, \"min\": 0.5153405002095837, \"max\": 0.5153405002095837}}}\n",
            "\u001b[0m\n",
            "\u001b[34m#metrics {\"StartTime\": 1634896017.994987, \"EndTime\": 1634896017.9950042, \"Dimensions\": {\"Algorithm\": \"Linear Learner\", \"Host\": \"algo-1\", \"Operation\": \"training\", \"epoch\": 0, \"model\": 29}, \"Metrics\": {\"validation_binary_classification_cross_entropy_objective\": {\"sum\": 0.5138717338931402, \"count\": 1, \"min\": 0.5138717338931402, \"max\": 0.5138717338931402}}}\n",
            "\u001b[0m\n",
            "\u001b[34m#metrics {\"StartTime\": 1634896017.9950569, \"EndTime\": 1634896017.9950697, \"Dimensions\": {\"Algorithm\": \"Linear Learner\", \"Host\": \"algo-1\", \"Operation\": \"training\", \"epoch\": 0, \"model\": 30}, \"Metrics\": {\"validation_binary_classification_cross_entropy_objective\": {\"sum\": 0.5153736456441416, \"count\": 1, \"min\": 0.5153736456441416, \"max\": 0.5153736456441416}}}\n",
            "\u001b[0m\n",
            "\u001b[34m#metrics {\"StartTime\": 1634896017.9950995, \"EndTime\": 1634896017.9951074, \"Dimensions\": {\"Algorithm\": \"Linear Learner\", \"Host\": \"algo-1\", \"Operation\": \"training\", \"epoch\": 0, \"model\": 31}, \"Metrics\": {\"validation_binary_classification_cross_entropy_objective\": {\"sum\": 0.514078403307983, \"count\": 1, \"min\": 0.514078403307983, \"max\": 0.514078403307983}}}\n",
            "\u001b[0m\n",
            "\u001b[34m[10/22/2021 09:46:57 INFO 140033973606208] #quality_metric: host=algo-1, epoch=0, validation binary_classification_cross_entropy_objective <loss>=0.4929350447372369\u001b[0m\n",
            "\u001b[34m[10/22/2021 09:46:57 INFO 140033973606208] #early_stopping_criteria_metric: host=algo-1, epoch=0, criteria=binary_classification_cross_entropy_objective, value=0.4929346874278739\u001b[0m\n",
            "\u001b[34m[10/22/2021 09:46:57 INFO 140033973606208] Epoch 0: Loss improved. Updating best model\u001b[0m\n",
            "\u001b[34m[10/22/2021 09:46:57 INFO 140033973606208] Saving model for epoch: 0\u001b[0m\n",
            "\u001b[34m[10/22/2021 09:46:58 INFO 140033973606208] Saved checkpoint to \"/tmp/tmps0fpgk9j/mx-mod-0000.params\"\u001b[0m\n",
            "\u001b[34m[10/22/2021 09:46:58 INFO 140033973606208] #progress_metric: host=algo-1, completed 6.666666666666667 % of epochs\u001b[0m\n",
            "\u001b[34m#metrics {\"StartTime\": 1634895962.4499304, \"EndTime\": 1634896018.0059743, \"Dimensions\": {\"Algorithm\": \"Linear Learner\", \"Host\": \"algo-1\", \"Operation\": \"training\", \"epoch\": 0, \"Meta\": \"training_data_iter\"}, \"Metrics\": {\"Total Records Seen\": {\"sum\": 1320472.0, \"count\": 1, \"min\": 1320472, \"max\": 1320472}, \"Total Batches Seen\": {\"sum\": 1321.0, \"count\": 1, \"min\": 1321, \"max\": 1321}, \"Max Records Seen Between Resets\": {\"sum\": 1308472.0, \"count\": 1, \"min\": 1308472, \"max\": 1308472}, \"Max Batches Seen Between Resets\": {\"sum\": 1309.0, \"count\": 1, \"min\": 1309, \"max\": 1309}, \"Reset Count\": {\"sum\": 3.0, \"count\": 1, \"min\": 3, \"max\": 3}, \"Number of Records Since Last Reset\": {\"sum\": 1308472.0, \"count\": 1, \"min\": 1308472, \"max\": 1308472}, \"Number of Batches Since Last Reset\": {\"sum\": 1309.0, \"count\": 1, \"min\": 1309, \"max\": 1309}}}\n",
            "\u001b[0m\n",
            "\u001b[34m[10/22/2021 09:46:58 INFO 140033973606208] #throughput_metric: host=algo-1, train throughput=23552.224298681995 records/second\u001b[0m\n",
            "\u001b[34m[2021-10-22 09:47:49.521] [tensorio] [info] epoch_stats={\"data_pipeline\": \"/opt/ml/input/data/train\", \"epoch\": 5, \"duration\": 51515, \"num_examples\": 1309, \"num_bytes\": 549558240}\u001b[0m\n",
            "\u001b[34m#metrics {\"StartTime\": 1634896069.5217664, \"EndTime\": 1634896069.52186, \"Dimensions\": {\"Algorithm\": \"Linear Learner\", \"Host\": \"algo-1\", \"Operation\": \"training\", \"epoch\": 1, \"model\": 0}, \"Metrics\": {\"train_binary_classification_cross_entropy_objective\": {\"sum\": 0.49207200914202115, \"count\": 1, \"min\": 0.49207200914202115, \"max\": 0.49207200914202115}}}\n",
            "\u001b[0m\n",
            "\u001b[34m#metrics {\"StartTime\": 1634896069.5219831, \"EndTime\": 1634896069.522002, \"Dimensions\": {\"Algorithm\": \"Linear Learner\", \"Host\": \"algo-1\", \"Operation\": \"training\", \"epoch\": 1, \"model\": 1}, \"Metrics\": {\"train_binary_classification_cross_entropy_objective\": {\"sum\": 0.4931041541843239, \"count\": 1, \"min\": 0.4931041541843239, \"max\": 0.4931041541843239}}}\n",
            "\u001b[0m\n",
            "\u001b[34m#metrics {\"StartTime\": 1634896069.522054, \"EndTime\": 1634896069.5220664, \"Dimensions\": {\"Algorithm\": \"Linear Learner\", \"Host\": \"algo-1\", \"Operation\": \"training\", \"epoch\": 1, \"model\": 2}, \"Metrics\": {\"train_binary_classification_cross_entropy_objective\": {\"sum\": 0.4920779330052367, \"count\": 1, \"min\": 0.4920779330052367, \"max\": 0.4920779330052367}}}\n",
            "\u001b[0m\n",
            "\u001b[34m#metrics {\"StartTime\": 1634896069.5221148, \"EndTime\": 1634896069.5221267, \"Dimensions\": {\"Algorithm\": \"Linear Learner\", \"Host\": \"algo-1\", \"Operation\": \"training\", \"epoch\": 1, \"model\": 3}, \"Metrics\": {\"train_binary_classification_cross_entropy_objective\": {\"sum\": 0.49310125527104837, \"count\": 1, \"min\": 0.49310125527104837, \"max\": 0.49310125527104837}}}\n",
            "\u001b[0m\n",
            "\u001b[34m#metrics {\"StartTime\": 1634896069.5221672, \"EndTime\": 1634896069.5221784, \"Dimensions\": {\"Algorithm\": \"Linear Learner\", \"Host\": \"algo-1\", \"Operation\": \"training\", \"epoch\": 1, \"model\": 4}, \"Metrics\": {\"train_binary_classification_cross_entropy_objective\": {\"sum\": 0.49629565063383235, \"count\": 1, \"min\": 0.49629565063383235, \"max\": 0.49629565063383235}}}\n",
            "\u001b[0m\n",
            "\u001b[34m#metrics {\"StartTime\": 1634896069.5222173, \"EndTime\": 1634896069.5222278, \"Dimensions\": {\"Algorithm\": \"Linear Learner\", \"Host\": \"algo-1\", \"Operation\": \"training\", \"epoch\": 1, \"model\": 5}, \"Metrics\": {\"train_binary_classification_cross_entropy_objective\": {\"sum\": 0.5142045047538361, \"count\": 1, \"min\": 0.5142045047538361, \"max\": 0.5142045047538361}}}\n",
            "\u001b[0m\n",
            "\u001b[34m#metrics {\"StartTime\": 1634896069.5222661, \"EndTime\": 1634896069.5223277, \"Dimensions\": {\"Algorithm\": \"Linear Learner\", \"Host\": \"algo-1\", \"Operation\": \"training\", \"epoch\": 1, \"model\": 6}, \"Metrics\": {\"train_binary_classification_cross_entropy_objective\": {\"sum\": 0.4962903252231236, \"count\": 1, \"min\": 0.4962903252231236, \"max\": 0.4962903252231236}}}\n",
            "\u001b[0m\n",
            "\u001b[34m#metrics {\"StartTime\": 1634896069.5223958, \"EndTime\": 1634896069.5224097, \"Dimensions\": {\"Algorithm\": \"Linear Learner\", \"Host\": \"algo-1\", \"Operation\": \"training\", \"epoch\": 1, \"model\": 7}, \"Metrics\": {\"train_binary_classification_cross_entropy_objective\": {\"sum\": 0.5142280537549874, \"count\": 1, \"min\": 0.5142280537549874, \"max\": 0.5142280537549874}}}\n",
            "\u001b[0m\n",
            "\u001b[34m#metrics {\"StartTime\": 1634896069.522462, \"EndTime\": 1634896069.5224745, \"Dimensions\": {\"Algorithm\": \"Linear Learner\", \"Host\": \"algo-1\", \"Operation\": \"training\", \"epoch\": 1, \"model\": 8}, \"Metrics\": {\"train_binary_classification_cross_entropy_objective\": {\"sum\": 0.49226328510902706, \"count\": 1, \"min\": 0.49226328510902706, \"max\": 0.49226328510902706}}}\n",
            "\u001b[0m\n",
            "\u001b[34m#metrics {\"StartTime\": 1634896069.522525, \"EndTime\": 1634896069.5225663, \"Dimensions\": {\"Algorithm\": \"Linear Learner\", \"Host\": \"algo-1\", \"Operation\": \"training\", \"epoch\": 1, \"model\": 9}, \"Metrics\": {\"train_binary_classification_cross_entropy_objective\": {\"sum\": 0.49324960765780296, \"count\": 1, \"min\": 0.49324960765780296, \"max\": 0.49324960765780296}}}\n",
            "\u001b[0m\n",
            "\u001b[34m#metrics {\"StartTime\": 1634896069.5226219, \"EndTime\": 1634896069.5226345, \"Dimensions\": {\"Algorithm\": \"Linear Learner\", \"Host\": \"algo-1\", \"Operation\": \"training\", \"epoch\": 1, \"model\": 10}, \"Metrics\": {\"train_binary_classification_cross_entropy_objective\": {\"sum\": 0.49226264197673275, \"count\": 1, \"min\": 0.49226264197673275, \"max\": 0.49226264197673275}}}\n",
            "\u001b[0m\n",
            "\u001b[34m#metrics {\"StartTime\": 1634896069.5226762, \"EndTime\": 1634896069.5226865, \"Dimensions\": {\"Algorithm\": \"Linear Learner\", \"Host\": \"algo-1\", \"Operation\": \"training\", \"epoch\": 1, \"model\": 11}, \"Metrics\": {\"train_binary_classification_cross_entropy_objective\": {\"sum\": 0.49324958691611565, \"count\": 1, \"min\": 0.49324958691611565, \"max\": 0.49324958691611565}}}\n",
            "\u001b[0m\n",
            "\u001b[34m#metrics {\"StartTime\": 1634896069.5227246, \"EndTime\": 1634896069.5227349, \"Dimensions\": {\"Algorithm\": \"Linear Learner\", \"Host\": \"algo-1\", \"Operation\": \"training\", \"epoch\": 1, \"model\": 12}, \"Metrics\": {\"train_binary_classification_cross_entropy_objective\": {\"sum\": 0.49622849828970905, \"count\": 1, \"min\": 0.49622849828970905, \"max\": 0.49622849828970905}}}\n",
            "\u001b[0m\n",
            "\u001b[34m#metrics {\"StartTime\": 1634896069.5227728, \"EndTime\": 1634896069.5227826, \"Dimensions\": {\"Algorithm\": \"Linear Learner\", \"Host\": \"algo-1\", \"Operation\": \"training\", \"epoch\": 1, \"model\": 13}, \"Metrics\": {\"train_binary_classification_cross_entropy_objective\": {\"sum\": 0.5127895358957646, \"count\": 1, \"min\": 0.5127895358957646, \"max\": 0.5127895358957646}}}\n",
            "\u001b[0m\n",
            "\u001b[34m#metrics {\"StartTime\": 1634896069.52282, \"EndTime\": 1634896069.5228302, \"Dimensions\": {\"Algorithm\": \"Linear Learner\", \"Host\": \"algo-1\", \"Operation\": \"training\", \"epoch\": 1, \"model\": 14}, \"Metrics\": {\"train_binary_classification_cross_entropy_objective\": {\"sum\": 0.4962278620868648, \"count\": 1, \"min\": 0.4962278620868648, \"max\": 0.4962278620868648}}}\n",
            "\u001b[0m\n",
            "\u001b[34m#metrics {\"StartTime\": 1634896069.522868, \"EndTime\": 1634896069.5228784, \"Dimensions\": {\"Algorithm\": \"Linear Learner\", \"Host\": \"algo-1\", \"Operation\": \"training\", \"epoch\": 1, \"model\": 15}, \"Metrics\": {\"train_binary_classification_cross_entropy_objective\": {\"sum\": 0.5127885736354629, \"count\": 1, \"min\": 0.5127885736354629, \"max\": 0.5127885736354629}}}\n",
            "\u001b[0m\n",
            "\u001b[34m#metrics {\"StartTime\": 1634896069.5229154, \"EndTime\": 1634896069.5229259, \"Dimensions\": {\"Algorithm\": \"Linear Learner\", \"Host\": \"algo-1\", \"Operation\": \"training\", \"epoch\": 1, \"model\": 16}, \"Metrics\": {\"train_binary_classification_cross_entropy_objective\": {\"sum\": 0.5077967987527177, \"count\": 1, \"min\": 0.5077967987527177, \"max\": 0.5077967987527177}}}\n",
            "\u001b[0m\n",
            "\u001b[34m#metrics {\"StartTime\": 1634896069.5229626, \"EndTime\": 1634896069.5229735, \"Dimensions\": {\"Algorithm\": \"Linear Learner\", \"Host\": \"algo-1\", \"Operation\": \"training\", \"epoch\": 1, \"model\": 17}, \"Metrics\": {\"train_binary_classification_cross_entropy_objective\": {\"sum\": 0.5080522586227557, \"count\": 1, \"min\": 0.5080522586227557, \"max\": 0.5080522586227557}}}\n",
            "\u001b[0m\n",
            "\u001b[34m#metrics {\"StartTime\": 1634896069.5230098, \"EndTime\": 1634896069.5230203, \"Dimensions\": {\"Algorithm\": \"Linear Learner\", \"Host\": \"algo-1\", \"Operation\": \"training\", \"epoch\": 1, \"model\": 18}, \"Metrics\": {\"train_binary_classification_cross_entropy_objective\": {\"sum\": 0.507796738230854, \"count\": 1, \"min\": 0.507796738230854, \"max\": 0.507796738230854}}}\n",
            "\u001b[0m\n",
            "\u001b[34m#metrics {\"StartTime\": 1634896069.5230591, \"EndTime\": 1634896069.5230696, \"Dimensions\": {\"Algorithm\": \"Linear Learner\", \"Host\": \"algo-1\", \"Operation\": \"training\", \"epoch\": 1, \"model\": 19}, \"Metrics\": {\"train_binary_classification_cross_entropy_objective\": {\"sum\": 0.5080524234830057, \"count\": 1, \"min\": 0.5080524234830057, \"max\": 0.5080524234830057}}}\n",
            "\u001b[0m\n",
            "\u001b[34m#metrics {\"StartTime\": 1634896069.5231087, \"EndTime\": 1634896069.523122, \"Dimensions\": {\"Algorithm\": \"Linear Learner\", \"Host\": \"algo-1\", \"Operation\": \"training\", \"epoch\": 1, \"model\": 20}, \"Metrics\": {\"train_binary_classification_cross_entropy_objective\": {\"sum\": 0.5086497171851109, \"count\": 1, \"min\": 0.5086497171851109, \"max\": 0.5086497171851109}}}\n",
            "\u001b[0m\n",
            "\u001b[34m#metrics {\"StartTime\": 1634896069.5231748, \"EndTime\": 1634896069.5231912, \"Dimensions\": {\"Algorithm\": \"Linear Learner\", \"Host\": \"algo-1\", \"Operation\": \"training\", \"epoch\": 1, \"model\": 21}, \"Metrics\": {\"train_binary_classification_cross_entropy_objective\": {\"sum\": 0.5116275151803953, \"count\": 1, \"min\": 0.5116275151803953, \"max\": 0.5116275151803953}}}\n",
            "\u001b[0m\n",
            "\u001b[34m#metrics {\"StartTime\": 1634896069.523246, \"EndTime\": 1634896069.5232623, \"Dimensions\": {\"Algorithm\": \"Linear Learner\", \"Host\": \"algo-1\", \"Operation\": \"training\", \"epoch\": 1, \"model\": 22}, \"Metrics\": {\"train_binary_classification_cross_entropy_objective\": {\"sum\": 0.5086494932262176, \"count\": 1, \"min\": 0.5086494932262176, \"max\": 0.5086494932262176}}}\n",
            "\u001b[0m\n",
            "\u001b[34m#metrics {\"StartTime\": 1634896069.523318, \"EndTime\": 1634896069.5233335, \"Dimensions\": {\"Algorithm\": \"Linear Learner\", \"Host\": \"algo-1\", \"Operation\": \"training\", \"epoch\": 1, \"model\": 23}, \"Metrics\": {\"train_binary_classification_cross_entropy_objective\": {\"sum\": 0.5116258650380172, \"count\": 1, \"min\": 0.5116258650380172, \"max\": 0.5116258650380172}}}\n",
            "\u001b[0m\n",
            "\u001b[34m#metrics {\"StartTime\": 1634896069.5233865, \"EndTime\": 1634896069.5234032, \"Dimensions\": {\"Algorithm\": \"Linear Learner\", \"Host\": \"algo-1\", \"Operation\": \"training\", \"epoch\": 1, \"model\": 24}, \"Metrics\": {\"train_binary_classification_cross_entropy_objective\": {\"sum\": 0.5137815699912721, \"count\": 1, \"min\": 0.5137815699912721, \"max\": 0.5137815699912721}}}\n",
            "\u001b[0m\n",
            "\u001b[34m#metrics {\"StartTime\": 1634896069.5234566, \"EndTime\": 1634896069.5234735, \"Dimensions\": {\"Algorithm\": \"Linear Learner\", \"Host\": \"algo-1\", \"Operation\": \"training\", \"epoch\": 1, \"model\": 25}, \"Metrics\": {\"train_binary_classification_cross_entropy_objective\": {\"sum\": 0.5138794034438761, \"count\": 1, \"min\": 0.5138794034438761, \"max\": 0.5138794034438761}}}\n",
            "\u001b[0m\n",
            "\u001b[34m#metrics {\"StartTime\": 1634896069.5235267, \"EndTime\": 1634896069.5235426, \"Dimensions\": {\"Algorithm\": \"Linear Learner\", \"Host\": \"algo-1\", \"Operation\": \"training\", \"epoch\": 1, \"model\": 26}, \"Metrics\": {\"train_binary_classification_cross_entropy_objective\": {\"sum\": 0.5137816869053272, \"count\": 1, \"min\": 0.5137816869053272, \"max\": 0.5137816869053272}}}\n",
            "\u001b[0m\n",
            "\u001b[34m#metrics {\"StartTime\": 1634896069.5235991, \"EndTime\": 1634896069.5236158, \"Dimensions\": {\"Algorithm\": \"Linear Learner\", \"Host\": \"algo-1\", \"Operation\": \"training\", \"epoch\": 1, \"model\": 27}, \"Metrics\": {\"train_binary_classification_cross_entropy_objective\": {\"sum\": 0.513878759168339, \"count\": 1, \"min\": 0.513878759168339, \"max\": 0.513878759168339}}}\n",
            "\u001b[0m\n",
            "\u001b[34m#metrics {\"StartTime\": 1634896069.523681, \"EndTime\": 1634896069.523699, \"Dimensions\": {\"Algorithm\": \"Linear Learner\", \"Host\": \"algo-1\", \"Operation\": \"training\", \"epoch\": 1, \"model\": 28}, \"Metrics\": {\"train_binary_classification_cross_entropy_objective\": {\"sum\": 0.514162650012095, \"count\": 1, \"min\": 0.514162650012095, \"max\": 0.514162650012095}}}\n",
            "\u001b[0m\n",
            "\u001b[34m#metrics {\"StartTime\": 1634896069.523759, \"EndTime\": 1634896069.523776, \"Dimensions\": {\"Algorithm\": \"Linear Learner\", \"Host\": \"algo-1\", \"Operation\": \"training\", \"epoch\": 1, \"model\": 29}, \"Metrics\": {\"train_binary_classification_cross_entropy_objective\": {\"sum\": 0.5152491145236048, \"count\": 1, \"min\": 0.5152491145236048, \"max\": 0.5152491145236048}}}\n",
            "\u001b[0m\n",
            "\u001b[34m#metrics {\"StartTime\": 1634896069.5238338, \"EndTime\": 1634896069.5238523, \"Dimensions\": {\"Algorithm\": \"Linear Learner\", \"Host\": \"algo-1\", \"Operation\": \"training\", \"epoch\": 1, \"model\": 30}, \"Metrics\": {\"train_binary_classification_cross_entropy_objective\": {\"sum\": 0.5141609651758037, \"count\": 1, \"min\": 0.5141609651758037, \"max\": 0.5141609651758037}}}\n",
            "\u001b[0m\n",
            "\u001b[34m#metrics {\"StartTime\": 1634896069.523912, \"EndTime\": 1634896069.5239296, \"Dimensions\": {\"Algorithm\": \"Linear Learner\", \"Host\": \"algo-1\", \"Operation\": \"training\", \"epoch\": 1, \"model\": 31}, \"Metrics\": {\"train_binary_classification_cross_entropy_objective\": {\"sum\": 0.5152424874028664, \"count\": 1, \"min\": 0.5152424874028664, \"max\": 0.5152424874028664}}}\n",
            "\u001b[0m\n",
            "\u001b[34m[10/22/2021 09:47:49 INFO 140033973606208] #quality_metric: host=algo-1, epoch=1, train binary_classification_cross_entropy_objective <loss>=0.49207200914202115\u001b[0m\n",
            "\u001b[34m[2021-10-22 09:47:54.153] [tensorio] [info] epoch_stats={\"data_pipeline\": \"/opt/ml/input/data/validation\", \"epoch\": 5, \"duration\": 4606, \"num_examples\": 164, \"num_bytes\": 68694780}\u001b[0m\n",
            "\u001b[34m#metrics {\"StartTime\": 1634896074.1624758, \"EndTime\": 1634896074.1625729, \"Dimensions\": {\"Algorithm\": \"Linear Learner\", \"Host\": \"algo-1\", \"Operation\": \"training\", \"epoch\": 1, \"model\": 0}, \"Metrics\": {\"validation_binary_classification_cross_entropy_objective\": {\"sum\": 0.49265959952059063, \"count\": 1, \"min\": 0.49265959952059063, \"max\": 0.49265959952059063}}}\n",
            "\u001b[0m\n",
            "\u001b[34m#metrics {\"StartTime\": 1634896074.162662, \"EndTime\": 1634896074.1626837, \"Dimensions\": {\"Algorithm\": \"Linear Learner\", \"Host\": \"algo-1\", \"Operation\": \"training\", \"epoch\": 1, \"model\": 1}, \"Metrics\": {\"validation_binary_classification_cross_entropy_objective\": {\"sum\": 0.49422777060792333, \"count\": 1, \"min\": 0.49422777060792333, \"max\": 0.49422777060792333}}}\n",
            "\u001b[0m\n",
            "\u001b[34m#metrics {\"StartTime\": 1634896074.1627417, \"EndTime\": 1634896074.1627598, \"Dimensions\": {\"Algorithm\": \"Linear Learner\", \"Host\": \"algo-1\", \"Operation\": \"training\", \"epoch\": 1, \"model\": 2}, \"Metrics\": {\"validation_binary_classification_cross_entropy_objective\": {\"sum\": 0.492660446054575, \"count\": 1, \"min\": 0.492660446054575, \"max\": 0.492660446054575}}}\n",
            "\u001b[0m\n",
            "\u001b[34m#metrics {\"StartTime\": 1634896074.162812, \"EndTime\": 1634896074.1628292, \"Dimensions\": {\"Algorithm\": \"Linear Learner\", \"Host\": \"algo-1\", \"Operation\": \"training\", \"epoch\": 1, \"model\": 3}, \"Metrics\": {\"validation_binary_classification_cross_entropy_objective\": {\"sum\": 0.494228501459503, \"count\": 1, \"min\": 0.494228501459503, \"max\": 0.494228501459503}}}\n",
            "\u001b[0m\n",
            "\u001b[34m#metrics {\"StartTime\": 1634896074.162883, \"EndTime\": 1634896074.1628995, \"Dimensions\": {\"Algorithm\": \"Linear Learner\", \"Host\": \"algo-1\", \"Operation\": \"training\", \"epoch\": 1, \"model\": 4}, \"Metrics\": {\"validation_binary_classification_cross_entropy_objective\": {\"sum\": 0.49430957430093075, \"count\": 1, \"min\": 0.49430957430093075, \"max\": 0.49430957430093075}}}\n",
            "\u001b[0m\n",
            "\u001b[34m#metrics {\"StartTime\": 1634896074.1629586, \"EndTime\": 1634896074.1629755, \"Dimensions\": {\"Algorithm\": \"Linear Learner\", \"Host\": \"algo-1\", \"Operation\": \"training\", \"epoch\": 1, \"model\": 5}, \"Metrics\": {\"validation_binary_classification_cross_entropy_objective\": {\"sum\": 0.507809710374785, \"count\": 1, \"min\": 0.507809710374785, \"max\": 0.507809710374785}}}\n",
            "\u001b[0m\n",
            "\u001b[34m#metrics {\"StartTime\": 1634896074.163035, \"EndTime\": 1634896074.163051, \"Dimensions\": {\"Algorithm\": \"Linear Learner\", \"Host\": \"algo-1\", \"Operation\": \"training\", \"epoch\": 1, \"model\": 6}, \"Metrics\": {\"validation_binary_classification_cross_entropy_objective\": {\"sum\": 0.49430886863826184, \"count\": 1, \"min\": 0.49430886863826184, \"max\": 0.49430886863826184}}}\n",
            "\u001b[0m\n",
            "\u001b[34m#metrics {\"StartTime\": 1634896074.1630979, \"EndTime\": 1634896074.1631143, \"Dimensions\": {\"Algorithm\": \"Linear Learner\", \"Host\": \"algo-1\", \"Operation\": \"training\", \"epoch\": 1, \"model\": 7}, \"Metrics\": {\"validation_binary_classification_cross_entropy_objective\": {\"sum\": 0.5078102438199384, \"count\": 1, \"min\": 0.5078102438199384, \"max\": 0.5078102438199384}}}\n",
            "\u001b[0m\n",
            "\u001b[34m#metrics {\"StartTime\": 1634896074.1631618, \"EndTime\": 1634896074.1631782, \"Dimensions\": {\"Algorithm\": \"Linear Learner\", \"Host\": \"algo-1\", \"Operation\": \"training\", \"epoch\": 1, \"model\": 8}, \"Metrics\": {\"validation_binary_classification_cross_entropy_objective\": {\"sum\": 0.49277565994557965, \"count\": 1, \"min\": 0.49277565994557965, \"max\": 0.49277565994557965}}}\n",
            "\u001b[0m\n",
            "\u001b[34m#metrics {\"StartTime\": 1634896074.163222, \"EndTime\": 1634896074.163237, \"Dimensions\": {\"Algorithm\": \"Linear Learner\", \"Host\": \"algo-1\", \"Operation\": \"training\", \"epoch\": 1, \"model\": 9}, \"Metrics\": {\"validation_binary_classification_cross_entropy_objective\": {\"sum\": 0.4943260756496294, \"count\": 1, \"min\": 0.4943260756496294, \"max\": 0.4943260756496294}}}\n",
            "\u001b[0m\n",
            "\u001b[34m#metrics {\"StartTime\": 1634896074.163288, \"EndTime\": 1634896074.1633039, \"Dimensions\": {\"Algorithm\": \"Linear Learner\", \"Host\": \"algo-1\", \"Operation\": \"training\", \"epoch\": 1, \"model\": 10}, \"Metrics\": {\"validation_binary_classification_cross_entropy_objective\": {\"sum\": 0.4927752231512095, \"count\": 1, \"min\": 0.4927752231512095, \"max\": 0.4927752231512095}}}\n",
            "\u001b[0m\n",
            "\u001b[34m#metrics {\"StartTime\": 1634896074.163365, \"EndTime\": 1634896074.1633823, \"Dimensions\": {\"Algorithm\": \"Linear Learner\", \"Host\": \"algo-1\", \"Operation\": \"training\", \"epoch\": 1, \"model\": 11}, \"Metrics\": {\"validation_binary_classification_cross_entropy_objective\": {\"sum\": 0.49432581723006397, \"count\": 1, \"min\": 0.49432581723006397, \"max\": 0.49432581723006397}}}\n",
            "\u001b[0m\n",
            "\u001b[34m#metrics {\"StartTime\": 1634896074.1634324, \"EndTime\": 1634896074.163449, \"Dimensions\": {\"Algorithm\": \"Linear Learner\", \"Host\": \"algo-1\", \"Operation\": \"training\", \"epoch\": 1, \"model\": 12}, \"Metrics\": {\"validation_binary_classification_cross_entropy_objective\": {\"sum\": 0.49434609299709414, \"count\": 1, \"min\": 0.49434609299709414, \"max\": 0.49434609299709414}}}\n",
            "\u001b[0m\n",
            "\u001b[34m#metrics {\"StartTime\": 1634896074.1634984, \"EndTime\": 1634896074.1635144, \"Dimensions\": {\"Algorithm\": \"Linear Learner\", \"Host\": \"algo-1\", \"Operation\": \"training\", \"epoch\": 1, \"model\": 13}, \"Metrics\": {\"validation_binary_classification_cross_entropy_objective\": {\"sum\": 0.5055015025248677, \"count\": 1, \"min\": 0.5055015025248677, \"max\": 0.5055015025248677}}}\n",
            "\u001b[0m\n",
            "\u001b[34m#metrics {\"StartTime\": 1634896074.1635602, \"EndTime\": 1634896074.1635761, \"Dimensions\": {\"Algorithm\": \"Linear Learner\", \"Host\": \"algo-1\", \"Operation\": \"training\", \"epoch\": 1, \"model\": 14}, \"Metrics\": {\"validation_binary_classification_cross_entropy_objective\": {\"sum\": 0.49434652717928096, \"count\": 1, \"min\": 0.49434652717928096, \"max\": 0.49434652717928096}}}\n",
            "\u001b[0m\n",
            "\u001b[34m#metrics {\"StartTime\": 1634896074.1636329, \"EndTime\": 1634896074.1636488, \"Dimensions\": {\"Algorithm\": \"Linear Learner\", \"Host\": \"algo-1\", \"Operation\": \"training\", \"epoch\": 1, \"model\": 15}, \"Metrics\": {\"validation_binary_classification_cross_entropy_objective\": {\"sum\": 0.5055011433496595, \"count\": 1, \"min\": 0.5055011433496595, \"max\": 0.5055011433496595}}}\n",
            "\u001b[0m\n",
            "\u001b[34m#metrics {\"StartTime\": 1634896074.163701, \"EndTime\": 1634896074.1637177, \"Dimensions\": {\"Algorithm\": \"Linear Learner\", \"Host\": \"algo-1\", \"Operation\": \"training\", \"epoch\": 1, \"model\": 16}, \"Metrics\": {\"validation_binary_classification_cross_entropy_objective\": {\"sum\": 0.507965445573157, \"count\": 1, \"min\": 0.507965445573157, \"max\": 0.507965445573157}}}\n",
            "\u001b[0m\n",
            "\u001b[34m#metrics {\"StartTime\": 1634896074.1637738, \"EndTime\": 1634896074.1637907, \"Dimensions\": {\"Algorithm\": \"Linear Learner\", \"Host\": \"algo-1\", \"Operation\": \"training\", \"epoch\": 1, \"model\": 17}, \"Metrics\": {\"validation_binary_classification_cross_entropy_objective\": {\"sum\": 0.5086095245273446, \"count\": 1, \"min\": 0.5086095245273446, \"max\": 0.5086095245273446}}}\n",
            "\u001b[0m\n",
            "\u001b[34m#metrics {\"StartTime\": 1634896074.163838, \"EndTime\": 1634896074.163854, \"Dimensions\": {\"Algorithm\": \"Linear Learner\", \"Host\": \"algo-1\", \"Operation\": \"training\", \"epoch\": 1, \"model\": 18}, \"Metrics\": {\"validation_binary_classification_cross_entropy_objective\": {\"sum\": 0.5079651908852821, \"count\": 1, \"min\": 0.5079651908852821, \"max\": 0.5079651908852821}}}\n",
            "\u001b[0m\n",
            "\u001b[34m#metrics {\"StartTime\": 1634896074.163897, \"EndTime\": 1634896074.1639125, \"Dimensions\": {\"Algorithm\": \"Linear Learner\", \"Host\": \"algo-1\", \"Operation\": \"training\", \"epoch\": 1, \"model\": 19}, \"Metrics\": {\"validation_binary_classification_cross_entropy_objective\": {\"sum\": 0.5086057437651393, \"count\": 1, \"min\": 0.5086057437651393, \"max\": 0.5086057437651393}}}\n",
            "\u001b[0m\n",
            "\u001b[34m#metrics {\"StartTime\": 1634896074.163955, \"EndTime\": 1634896074.1639698, \"Dimensions\": {\"Algorithm\": \"Linear Learner\", \"Host\": \"algo-1\", \"Operation\": \"training\", \"epoch\": 1, \"model\": 20}, \"Metrics\": {\"validation_binary_classification_cross_entropy_objective\": {\"sum\": 0.5082211917555363, \"count\": 1, \"min\": 0.5082211917555363, \"max\": 0.5082211917555363}}}\n",
            "\u001b[0m\n",
            "\u001b[34m#metrics {\"StartTime\": 1634896074.1640098, \"EndTime\": 1634896074.164025, \"Dimensions\": {\"Algorithm\": \"Linear Learner\", \"Host\": \"algo-1\", \"Operation\": \"training\", \"epoch\": 1, \"model\": 21}, \"Metrics\": {\"validation_binary_classification_cross_entropy_objective\": {\"sum\": 0.5095867462304672, \"count\": 1, \"min\": 0.5095867462304672, \"max\": 0.5095867462304672}}}\n",
            "\u001b[0m\n",
            "\u001b[34m#metrics {\"StartTime\": 1634896074.1640782, \"EndTime\": 1634896074.1640944, \"Dimensions\": {\"Algorithm\": \"Linear Learner\", \"Host\": \"algo-1\", \"Operation\": \"training\", \"epoch\": 1, \"model\": 22}, \"Metrics\": {\"validation_binary_classification_cross_entropy_objective\": {\"sum\": 0.5082207071955279, \"count\": 1, \"min\": 0.5082207071955279, \"max\": 0.5082207071955279}}}\n",
            "\u001b[0m\n",
            "\u001b[34m#metrics {\"StartTime\": 1634896074.1641479, \"EndTime\": 1634896074.164163, \"Dimensions\": {\"Algorithm\": \"Linear Learner\", \"Host\": \"algo-1\", \"Operation\": \"training\", \"epoch\": 1, \"model\": 23}, \"Metrics\": {\"validation_binary_classification_cross_entropy_objective\": {\"sum\": 0.5095872640025206, \"count\": 1, \"min\": 0.5095872640025206, \"max\": 0.5095872640025206}}}\n",
            "\u001b[0m\n",
            "\u001b[34m#metrics {\"StartTime\": 1634896074.164213, \"EndTime\": 1634896074.1642268, \"Dimensions\": {\"Algorithm\": \"Linear Learner\", \"Host\": \"algo-1\", \"Operation\": \"training\", \"epoch\": 1, \"model\": 24}, \"Metrics\": {\"validation_binary_classification_cross_entropy_objective\": {\"sum\": 0.5137598290786648, \"count\": 1, \"min\": 0.5137598290786648, \"max\": 0.5137598290786648}}}\n",
            "\u001b[0m\n",
            "\u001b[34m#metrics {\"StartTime\": 1634896074.1642714, \"EndTime\": 1634896074.1642847, \"Dimensions\": {\"Algorithm\": \"Linear Learner\", \"Host\": \"algo-1\", \"Operation\": \"training\", \"epoch\": 1, \"model\": 25}, \"Metrics\": {\"validation_binary_classification_cross_entropy_objective\": {\"sum\": 0.5145418540761428, \"count\": 1, \"min\": 0.5145418540761428, \"max\": 0.5145418540761428}}}\n",
            "\u001b[0m\n",
            "\u001b[34m#metrics {\"StartTime\": 1634896074.1643333, \"EndTime\": 1634896074.1643488, \"Dimensions\": {\"Algorithm\": \"Linear Learner\", \"Host\": \"algo-1\", \"Operation\": \"training\", \"epoch\": 1, \"model\": 26}, \"Metrics\": {\"validation_binary_classification_cross_entropy_objective\": {\"sum\": 0.5137670579228697, \"count\": 1, \"min\": 0.5137670579228697, \"max\": 0.5137670579228697}}}\n",
            "\u001b[0m\n",
            "\u001b[34m#metrics {\"StartTime\": 1634896074.164393, \"EndTime\": 1634896074.164408, \"Dimensions\": {\"Algorithm\": \"Linear Learner\", \"Host\": \"algo-1\", \"Operation\": \"training\", \"epoch\": 1, \"model\": 27}, \"Metrics\": {\"validation_binary_classification_cross_entropy_objective\": {\"sum\": 0.5145861621164204, \"count\": 1, \"min\": 0.5145861621164204, \"max\": 0.5145861621164204}}}\n",
            "\u001b[0m\n",
            "\u001b[34m#metrics {\"StartTime\": 1634896074.1644518, \"EndTime\": 1634896074.164467, \"Dimensions\": {\"Algorithm\": \"Linear Learner\", \"Host\": \"algo-1\", \"Operation\": \"training\", \"epoch\": 1, \"model\": 28}, \"Metrics\": {\"validation_binary_classification_cross_entropy_objective\": {\"sum\": 0.5139481604067568, \"count\": 1, \"min\": 0.5139481604067568, \"max\": 0.5139481604067568}}}\n",
            "\u001b[0m\n",
            "\u001b[34m#metrics {\"StartTime\": 1634896074.1645129, \"EndTime\": 1634896074.164529, \"Dimensions\": {\"Algorithm\": \"Linear Learner\", \"Host\": \"algo-1\", \"Operation\": \"training\", \"epoch\": 1, \"model\": 29}, \"Metrics\": {\"validation_binary_classification_cross_entropy_objective\": {\"sum\": 0.5139063354333218, \"count\": 1, \"min\": 0.5139063354333218, \"max\": 0.5139063354333218}}}\n",
            "\u001b[0m\n",
            "\u001b[34m#metrics {\"StartTime\": 1634896074.1645818, \"EndTime\": 1634896074.1645977, \"Dimensions\": {\"Algorithm\": \"Linear Learner\", \"Host\": \"algo-1\", \"Operation\": \"training\", \"epoch\": 1, \"model\": 30}, \"Metrics\": {\"validation_binary_classification_cross_entropy_objective\": {\"sum\": 0.5139345208914841, \"count\": 1, \"min\": 0.5139345208914841, \"max\": 0.5139345208914841}}}\n",
            "\u001b[0m\n",
            "\u001b[34m#metrics {\"StartTime\": 1634896074.1646469, \"EndTime\": 1634896074.164663, \"Dimensions\": {\"Algorithm\": \"Linear Learner\", \"Host\": \"algo-1\", \"Operation\": \"training\", \"epoch\": 1, \"model\": 31}, \"Metrics\": {\"validation_binary_classification_cross_entropy_objective\": {\"sum\": 0.5139631741170474, \"count\": 1, \"min\": 0.5139631741170474, \"max\": 0.5139631741170474}}}\n",
            "\u001b[0m\n",
            "\u001b[34m[10/22/2021 09:47:54 INFO 140033973606208] #quality_metric: host=algo-1, epoch=1, validation binary_classification_cross_entropy_objective <loss>=0.49265959952059063\u001b[0m\n",
            "\u001b[34m[10/22/2021 09:47:54 INFO 140033973606208] #early_stopping_criteria_metric: host=algo-1, epoch=1, criteria=binary_classification_cross_entropy_objective, value=0.49265959952059063\u001b[0m\n",
            "\u001b[34m[10/22/2021 09:47:54 INFO 140033973606208] Saving model for epoch: 1\u001b[0m\n",
            "\u001b[34m[10/22/2021 09:47:54 INFO 140033973606208] Saved checkpoint to \"/tmp/tmppqfzlyts/mx-mod-0000.params\"\u001b[0m\n",
            "\u001b[34m[10/22/2021 09:47:54 INFO 140033973606208] #progress_metric: host=algo-1, completed 13.333333333333334 % of epochs\u001b[0m\n",
            "\u001b[34m#metrics {\"StartTime\": 1634896018.006429, \"EndTime\": 1634896074.1708653, \"Dimensions\": {\"Algorithm\": \"Linear Learner\", \"Host\": \"algo-1\", \"Operation\": \"training\", \"epoch\": 1, \"Meta\": \"training_data_iter\"}, \"Metrics\": {\"Total Records Seen\": {\"sum\": 2628944.0, \"count\": 1, \"min\": 2628944, \"max\": 2628944}, \"Total Batches Seen\": {\"sum\": 2630.0, \"count\": 1, \"min\": 2630, \"max\": 2630}, \"Max Records Seen Between Resets\": {\"sum\": 1308472.0, \"count\": 1, \"min\": 1308472, \"max\": 1308472}, \"Max Batches Seen Between Resets\": {\"sum\": 1309.0, \"count\": 1, \"min\": 1309, \"max\": 1309}, \"Reset Count\": {\"sum\": 4.0, \"count\": 1, \"min\": 4, \"max\": 4}, \"Number of Records Since Last Reset\": {\"sum\": 1308472.0, \"count\": 1, \"min\": 1308472, \"max\": 1308472}, \"Number of Batches Since Last Reset\": {\"sum\": 1309.0, \"count\": 1, \"min\": 1309, \"max\": 1309}}}\n",
            "\u001b[0m\n",
            "\u001b[34m[10/22/2021 09:47:54 INFO 140033973606208] #throughput_metric: host=algo-1, train throughput=23297.091588773557 records/second\u001b[0m\n",
            "\u001b[34m[2021-10-22 09:48:45.223] [tensorio] [info] epoch_stats={\"data_pipeline\": \"/opt/ml/input/data/train\", \"epoch\": 7, \"duration\": 51051, \"num_examples\": 1309, \"num_bytes\": 549558240}\u001b[0m\n",
            "\u001b[34m#metrics {\"StartTime\": 1634896125.2231748, \"EndTime\": 1634896125.2232714, \"Dimensions\": {\"Algorithm\": \"Linear Learner\", \"Host\": \"algo-1\", \"Operation\": \"training\", \"epoch\": 2, \"model\": 0}, \"Metrics\": {\"train_binary_classification_cross_entropy_objective\": {\"sum\": 0.4919055044191693, \"count\": 1, \"min\": 0.4919055044191693, \"max\": 0.4919055044191693}}}\n",
            "\u001b[0m\n",
            "\u001b[34m#metrics {\"StartTime\": 1634896125.2233858, \"EndTime\": 1634896125.2234073, \"Dimensions\": {\"Algorithm\": \"Linear Learner\", \"Host\": \"algo-1\", \"Operation\": \"training\", \"epoch\": 2, \"model\": 1}, \"Metrics\": {\"train_binary_classification_cross_entropy_objective\": {\"sum\": 0.4929541870723806, \"count\": 1, \"min\": 0.4929541870723806, \"max\": 0.4929541870723806}}}\n",
            "\u001b[0m\n",
            "\u001b[34m#metrics {\"StartTime\": 1634896125.22349, \"EndTime\": 1634896125.2235076, \"Dimensions\": {\"Algorithm\": \"Linear Learner\", \"Host\": \"algo-1\", \"Operation\": \"training\", \"epoch\": 2, \"model\": 2}, \"Metrics\": {\"train_binary_classification_cross_entropy_objective\": {\"sum\": 0.4919108291066021, \"count\": 1, \"min\": 0.4919108291066021, \"max\": 0.4919108291066021}}}\n",
            "\u001b[0m\n",
            "\u001b[34m#metrics {\"StartTime\": 1634896125.2235613, \"EndTime\": 1634896125.2235777, \"Dimensions\": {\"Algorithm\": \"Linear Learner\", \"Host\": \"algo-1\", \"Operation\": \"training\", \"epoch\": 2, \"model\": 3}, \"Metrics\": {\"train_binary_classification_cross_entropy_objective\": {\"sum\": 0.49295316251702265, \"count\": 1, \"min\": 0.49295316251702265, \"max\": 0.49295316251702265}}}\n",
            "\u001b[0m\n",
            "\u001b[34m#metrics {\"StartTime\": 1634896125.223613, \"EndTime\": 1634896125.2236216, \"Dimensions\": {\"Algorithm\": \"Linear Learner\", \"Host\": \"algo-1\", \"Operation\": \"training\", \"epoch\": 2, \"model\": 4}, \"Metrics\": {\"train_binary_classification_cross_entropy_objective\": {\"sum\": 0.4930342824626771, \"count\": 1, \"min\": 0.4930342824626771, \"max\": 0.4930342824626771}}}\n",
            "\u001b[0m\n",
            "\u001b[34m#metrics {\"StartTime\": 1634896125.2236729, \"EndTime\": 1634896125.2236886, \"Dimensions\": {\"Algorithm\": \"Linear Learner\", \"Host\": \"algo-1\", \"Operation\": \"training\", \"epoch\": 2, \"model\": 5}, \"Metrics\": {\"train_binary_classification_cross_entropy_objective\": {\"sum\": 0.5116612090831139, \"count\": 1, \"min\": 0.5116612090831139, \"max\": 0.5116612090831139}}}\n",
            "\u001b[0m\n",
            "\u001b[34m#metrics {\"StartTime\": 1634896125.2237406, \"EndTime\": 1634896125.223751, \"Dimensions\": {\"Algorithm\": \"Linear Learner\", \"Host\": \"algo-1\", \"Operation\": \"training\", \"epoch\": 2, \"model\": 6}, \"Metrics\": {\"train_binary_classification_cross_entropy_objective\": {\"sum\": 0.4930340703095136, \"count\": 1, \"min\": 0.4930340703095136, \"max\": 0.4930340703095136}}}\n",
            "\u001b[0m\n",
            "\u001b[34m#metrics {\"StartTime\": 1634896125.2237918, \"EndTime\": 1634896125.2237992, \"Dimensions\": {\"Algorithm\": \"Linear Learner\", \"Host\": \"algo-1\", \"Operation\": \"training\", \"epoch\": 2, \"model\": 7}, \"Metrics\": {\"train_binary_classification_cross_entropy_objective\": {\"sum\": 0.5116955720627344, \"count\": 1, \"min\": 0.5116955720627344, \"max\": 0.5116955720627344}}}\n",
            "\u001b[0m\n",
            "\u001b[34m#metrics {\"StartTime\": 1634896125.223827, \"EndTime\": 1634896125.223841, \"Dimensions\": {\"Algorithm\": \"Linear Learner\", \"Host\": \"algo-1\", \"Operation\": \"training\", \"epoch\": 2, \"model\": 8}, \"Metrics\": {\"train_binary_classification_cross_entropy_objective\": {\"sum\": 0.4921097936134455, \"count\": 1, \"min\": 0.4921097936134455, \"max\": 0.4921097936134455}}}\n",
            "\u001b[0m\n",
            "\u001b[34m#metrics {\"StartTime\": 1634896125.2238913, \"EndTime\": 1634896125.2239068, \"Dimensions\": {\"Algorithm\": \"Linear Learner\", \"Host\": \"algo-1\", \"Operation\": \"training\", \"epoch\": 2, \"model\": 9}, \"Metrics\": {\"train_binary_classification_cross_entropy_objective\": {\"sum\": 0.4931155013804771, \"count\": 1, \"min\": 0.4931155013804771, \"max\": 0.4931155013804771}}}\n",
            "\u001b[0m\n",
            "\u001b[34m#metrics {\"StartTime\": 1634896125.2239573, \"EndTime\": 1634896125.2239723, \"Dimensions\": {\"Algorithm\": \"Linear Learner\", \"Host\": \"algo-1\", \"Operation\": \"training\", \"epoch\": 2, \"model\": 10}, \"Metrics\": {\"train_binary_classification_cross_entropy_objective\": {\"sum\": 0.4921093951817317, \"count\": 1, \"min\": 0.4921093951817317, \"max\": 0.4921093951817317}}}\n",
            "\u001b[0m\n",
            "\u001b[34m#metrics {\"StartTime\": 1634896125.2240245, \"EndTime\": 1634896125.2240367, \"Dimensions\": {\"Algorithm\": \"Linear Learner\", \"Host\": \"algo-1\", \"Operation\": \"training\", \"epoch\": 2, \"model\": 11}, \"Metrics\": {\"train_binary_classification_cross_entropy_objective\": {\"sum\": 0.4931154841851751, \"count\": 1, \"min\": 0.4931154841851751, \"max\": 0.4931154841851751}}}\n",
            "\u001b[0m\n",
            "\u001b[34m#metrics {\"StartTime\": 1634896125.2240658, \"EndTime\": 1634896125.2240734, \"Dimensions\": {\"Algorithm\": \"Linear Learner\", \"Host\": \"algo-1\", \"Operation\": \"training\", \"epoch\": 2, \"model\": 12}, \"Metrics\": {\"train_binary_classification_cross_entropy_objective\": {\"sum\": 0.4931905026683749, \"count\": 1, \"min\": 0.4931905026683749, \"max\": 0.4931905026683749}}}\n",
            "\u001b[0m\n",
            "\u001b[34m#metrics {\"StartTime\": 1634896125.224099, \"EndTime\": 1634896125.2241063, \"Dimensions\": {\"Algorithm\": \"Linear Learner\", \"Host\": \"algo-1\", \"Operation\": \"training\", \"epoch\": 2, \"model\": 13}, \"Metrics\": {\"train_binary_classification_cross_entropy_objective\": {\"sum\": 0.5104794247361862, \"count\": 1, \"min\": 0.5104794247361862, \"max\": 0.5104794247361862}}}\n",
            "\u001b[0m\n",
            "\u001b[34m#metrics {\"StartTime\": 1634896125.2241526, \"EndTime\": 1634896125.2241676, \"Dimensions\": {\"Algorithm\": \"Linear Learner\", \"Host\": \"algo-1\", \"Operation\": \"training\", \"epoch\": 2, \"model\": 14}, \"Metrics\": {\"train_binary_classification_cross_entropy_objective\": {\"sum\": 0.49319046508135783, \"count\": 1, \"min\": 0.49319046508135783, \"max\": 0.49319046508135783}}}\n",
            "\u001b[0m\n",
            "\u001b[34m#metrics {\"StartTime\": 1634896125.2242181, \"EndTime\": 1634896125.2242324, \"Dimensions\": {\"Algorithm\": \"Linear Learner\", \"Host\": \"algo-1\", \"Operation\": \"training\", \"epoch\": 2, \"model\": 15}, \"Metrics\": {\"train_binary_classification_cross_entropy_objective\": {\"sum\": 0.5104792739214883, \"count\": 1, \"min\": 0.5104792739214883, \"max\": 0.5104792739214883}}}\n",
            "\u001b[0m\n",
            "\u001b[34m#metrics {\"StartTime\": 1634896125.2242918, \"EndTime\": 1634896125.2243078, \"Dimensions\": {\"Algorithm\": \"Linear Learner\", \"Host\": \"algo-1\", \"Operation\": \"training\", \"epoch\": 2, \"model\": 16}, \"Metrics\": {\"train_binary_classification_cross_entropy_objective\": {\"sum\": 0.5077580284095321, \"count\": 1, \"min\": 0.5077580284095321, \"max\": 0.5077580284095321}}}\n",
            "\u001b[0m\n",
            "\u001b[34m#metrics {\"StartTime\": 1634896125.224342, \"EndTime\": 1634896125.2243507, \"Dimensions\": {\"Algorithm\": \"Linear Learner\", \"Host\": \"algo-1\", \"Operation\": \"training\", \"epoch\": 2, \"model\": 17}, \"Metrics\": {\"train_binary_classification_cross_entropy_objective\": {\"sum\": 0.5080321734133846, \"count\": 1, \"min\": 0.5080321734133846, \"max\": 0.5080321734133846}}}\n",
            "\u001b[0m\n",
            "\u001b[34m#metrics {\"StartTime\": 1634896125.224376, \"EndTime\": 1634896125.2243836, \"Dimensions\": {\"Algorithm\": \"Linear Learner\", \"Host\": \"algo-1\", \"Operation\": \"training\", \"epoch\": 2, \"model\": 18}, \"Metrics\": {\"train_binary_classification_cross_entropy_objective\": {\"sum\": 0.507758026029721, \"count\": 1, \"min\": 0.507758026029721, \"max\": 0.507758026029721}}}\n",
            "\u001b[0m\n",
            "\u001b[34m#metrics {\"StartTime\": 1634896125.2244222, \"EndTime\": 1634896125.2244368, \"Dimensions\": {\"Algorithm\": \"Linear Learner\", \"Host\": \"algo-1\", \"Operation\": \"training\", \"epoch\": 2, \"model\": 19}, \"Metrics\": {\"train_binary_classification_cross_entropy_objective\": {\"sum\": 0.5080321937117737, \"count\": 1, \"min\": 0.5080321937117737, \"max\": 0.5080321937117737}}}\n",
            "\u001b[0m\n",
            "\u001b[34m#metrics {\"StartTime\": 1634896125.2244852, \"EndTime\": 1634896125.2245, \"Dimensions\": {\"Algorithm\": \"Linear Learner\", \"Host\": \"algo-1\", \"Operation\": \"training\", \"epoch\": 2, \"model\": 20}, \"Metrics\": {\"train_binary_classification_cross_entropy_objective\": {\"sum\": 0.5080320280815848, \"count\": 1, \"min\": 0.5080320280815848, \"max\": 0.5080320280815848}}}\n",
            "\u001b[0m\n",
            "\u001b[34m#metrics {\"StartTime\": 1634896125.2245486, \"EndTime\": 1634896125.2245643, \"Dimensions\": {\"Algorithm\": \"Linear Learner\", \"Host\": \"algo-1\", \"Operation\": \"training\", \"epoch\": 2, \"model\": 21}, \"Metrics\": {\"train_binary_classification_cross_entropy_objective\": {\"sum\": 0.5112338322630716, \"count\": 1, \"min\": 0.5112338322630716, \"max\": 0.5112338322630716}}}\n",
            "\u001b[0m\n",
            "\u001b[34m#metrics {\"StartTime\": 1634896125.2246118, \"EndTime\": 1634896125.2246265, \"Dimensions\": {\"Algorithm\": \"Linear Learner\", \"Host\": \"algo-1\", \"Operation\": \"training\", \"epoch\": 2, \"model\": 22}, \"Metrics\": {\"train_binary_classification_cross_entropy_objective\": {\"sum\": 0.508031963150071, \"count\": 1, \"min\": 0.508031963150071, \"max\": 0.508031963150071}}}\n",
            "\u001b[0m\n",
            "\u001b[34m#metrics {\"StartTime\": 1634896125.2246628, \"EndTime\": 1634896125.2246766, \"Dimensions\": {\"Algorithm\": \"Linear Learner\", \"Host\": \"algo-1\", \"Operation\": \"training\", \"epoch\": 2, \"model\": 23}, \"Metrics\": {\"train_binary_classification_cross_entropy_objective\": {\"sum\": 0.5112336396850212, \"count\": 1, \"min\": 0.5112336396850212, \"max\": 0.5112336396850212}}}\n",
            "\u001b[0m\n",
            "\u001b[34m#metrics {\"StartTime\": 1634896125.224725, \"EndTime\": 1634896125.2247405, \"Dimensions\": {\"Algorithm\": \"Linear Learner\", \"Host\": \"algo-1\", \"Operation\": \"training\", \"epoch\": 2, \"model\": 24}, \"Metrics\": {\"train_binary_classification_cross_entropy_objective\": {\"sum\": 0.5137732837688668, \"count\": 1, \"min\": 0.5137732837688668, \"max\": 0.5137732837688668}}}\n",
            "\u001b[0m\n",
            "\u001b[34m#metrics {\"StartTime\": 1634896125.2247875, \"EndTime\": 1634896125.2248013, \"Dimensions\": {\"Algorithm\": \"Linear Learner\", \"Host\": \"algo-1\", \"Operation\": \"training\", \"epoch\": 2, \"model\": 25}, \"Metrics\": {\"train_binary_classification_cross_entropy_objective\": {\"sum\": 0.513879725021689, \"count\": 1, \"min\": 0.513879725021689, \"max\": 0.513879725021689}}}\n",
            "\u001b[0m\n",
            "\u001b[34m#metrics {\"StartTime\": 1634896125.2248344, \"EndTime\": 1634896125.224843, \"Dimensions\": {\"Algorithm\": \"Linear Learner\", \"Host\": \"algo-1\", \"Operation\": \"training\", \"epoch\": 2, \"model\": 26}, \"Metrics\": {\"train_binary_classification_cross_entropy_objective\": {\"sum\": 0.5137733207492653, \"count\": 1, \"min\": 0.5137733207492653, \"max\": 0.5137733207492653}}}\n",
            "\u001b[0m\n",
            "\u001b[34m#metrics {\"StartTime\": 1634896125.2248967, \"EndTime\": 1634896125.2249136, \"Dimensions\": {\"Algorithm\": \"Linear Learner\", \"Host\": \"algo-1\", \"Operation\": \"training\", \"epoch\": 2, \"model\": 27}, \"Metrics\": {\"train_binary_classification_cross_entropy_objective\": {\"sum\": 0.5138796218265452, \"count\": 1, \"min\": 0.5138796218265452, \"max\": 0.5138796218265452}}}\n",
            "\u001b[0m\n",
            "\u001b[34m#metrics {\"StartTime\": 1634896125.2249687, \"EndTime\": 1634896125.224986, \"Dimensions\": {\"Algorithm\": \"Linear Learner\", \"Host\": \"algo-1\", \"Operation\": \"training\", \"epoch\": 2, \"model\": 28}, \"Metrics\": {\"train_binary_classification_cross_entropy_objective\": {\"sum\": 0.5138746474846423, \"count\": 1, \"min\": 0.5138746474846423, \"max\": 0.5138746474846423}}}\n",
            "\u001b[0m\n",
            "\u001b[34m#metrics {\"StartTime\": 1634896125.22504, \"EndTime\": 1634896125.225057, \"Dimensions\": {\"Algorithm\": \"Linear Learner\", \"Host\": \"algo-1\", \"Operation\": \"training\", \"epoch\": 2, \"model\": 29}, \"Metrics\": {\"train_binary_classification_cross_entropy_objective\": {\"sum\": 0.5150624369116733, \"count\": 1, \"min\": 0.5150624369116733, \"max\": 0.5150624369116733}}}\n",
            "\u001b[0m\n",
            "\u001b[34m#metrics {\"StartTime\": 1634896125.2251244, \"EndTime\": 1634896125.2251422, \"Dimensions\": {\"Algorithm\": \"Linear Learner\", \"Host\": \"algo-1\", \"Operation\": \"training\", \"epoch\": 2, \"model\": 30}, \"Metrics\": {\"train_binary_classification_cross_entropy_objective\": {\"sum\": 0.5138754254729011, \"count\": 1, \"min\": 0.5138754254729011, \"max\": 0.5138754254729011}}}\n",
            "\u001b[0m\n",
            "\u001b[34m#metrics {\"StartTime\": 1634896125.2252753, \"EndTime\": 1634896125.2252939, \"Dimensions\": {\"Algorithm\": \"Linear Learner\", \"Host\": \"algo-1\", \"Operation\": \"training\", \"epoch\": 2, \"model\": 31}, \"Metrics\": {\"train_binary_classification_cross_entropy_objective\": {\"sum\": 0.5150621175270197, \"count\": 1, \"min\": 0.5150621175270197, \"max\": 0.5150621175270197}}}\n",
            "\u001b[0m\n",
            "\u001b[34m[10/22/2021 09:48:45 INFO 140033973606208] #quality_metric: host=algo-1, epoch=2, train binary_classification_cross_entropy_objective <loss>=0.4919055044191693\u001b[0m\n",
            "\u001b[34m[2021-10-22 09:48:49.598] [tensorio] [info] epoch_stats={\"data_pipeline\": \"/opt/ml/input/data/validation\", \"epoch\": 8, \"duration\": 4346, \"num_examples\": 164, \"num_bytes\": 68694780}\u001b[0m\n",
            "\u001b[34m#metrics {\"StartTime\": 1634896129.6062255, \"EndTime\": 1634896129.6062815, \"Dimensions\": {\"Algorithm\": \"Linear Learner\", \"Host\": \"algo-1\", \"Operation\": \"training\", \"epoch\": 2, \"model\": 0}, \"Metrics\": {\"validation_binary_classification_cross_entropy_objective\": {\"sum\": 0.49258695675453174, \"count\": 1, \"min\": 0.49258695675453174, \"max\": 0.49258695675453174}}}\n",
            "\u001b[0m\n",
            "\u001b[34m#metrics {\"StartTime\": 1634896129.6063614, \"EndTime\": 1634896129.6063764, \"Dimensions\": {\"Algorithm\": \"Linear Learner\", \"Host\": \"algo-1\", \"Operation\": \"training\", \"epoch\": 2, \"model\": 1}, \"Metrics\": {\"validation_binary_classification_cross_entropy_objective\": {\"sum\": 0.4940848632821456, \"count\": 1, \"min\": 0.4940848632821456, \"max\": 0.4940848632821456}}}\n",
            "\u001b[0m\n",
            "\u001b[34m#metrics {\"StartTime\": 1634896129.606437, \"EndTime\": 1634896129.606455, \"Dimensions\": {\"Algorithm\": \"Linear Learner\", \"Host\": \"algo-1\", \"Operation\": \"training\", \"epoch\": 2, \"model\": 2}, \"Metrics\": {\"validation_binary_classification_cross_entropy_objective\": {\"sum\": 0.492587739476609, \"count\": 1, \"min\": 0.492587739476609, \"max\": 0.492587739476609}}}\n",
            "\u001b[0m\n",
            "\u001b[34m#metrics {\"StartTime\": 1634896129.6065247, \"EndTime\": 1634896129.6065655, \"Dimensions\": {\"Algorithm\": \"Linear Learner\", \"Host\": \"algo-1\", \"Operation\": \"training\", \"epoch\": 2, \"model\": 3}, \"Metrics\": {\"validation_binary_classification_cross_entropy_objective\": {\"sum\": 0.49408539877972885, \"count\": 1, \"min\": 0.49408539877972885, \"max\": 0.49408539877972885}}}\n",
            "\u001b[0m\n",
            "\u001b[34m#metrics {\"StartTime\": 1634896129.6066413, \"EndTime\": 1634896129.6066592, \"Dimensions\": {\"Algorithm\": \"Linear Learner\", \"Host\": \"algo-1\", \"Operation\": \"training\", \"epoch\": 2, \"model\": 4}, \"Metrics\": {\"validation_binary_classification_cross_entropy_objective\": {\"sum\": 0.4932536960259634, \"count\": 1, \"min\": 0.4932536960259634, \"max\": 0.4932536960259634}}}\n",
            "\u001b[0m\n",
            "\u001b[34m#metrics {\"StartTime\": 1634896129.606715, \"EndTime\": 1634896129.6067321, \"Dimensions\": {\"Algorithm\": \"Linear Learner\", \"Host\": \"algo-1\", \"Operation\": \"training\", \"epoch\": 2, \"model\": 5}, \"Metrics\": {\"validation_binary_classification_cross_entropy_objective\": {\"sum\": 0.5082723181540664, \"count\": 1, \"min\": 0.5082723181540664, \"max\": 0.5082723181540664}}}\n",
            "\u001b[0m\n",
            "\u001b[34m#metrics {\"StartTime\": 1634896129.606788, \"EndTime\": 1634896129.606805, \"Dimensions\": {\"Algorithm\": \"Linear Learner\", \"Host\": \"algo-1\", \"Operation\": \"training\", \"epoch\": 2, \"model\": 6}, \"Metrics\": {\"validation_binary_classification_cross_entropy_objective\": {\"sum\": 0.4932536047861313, \"count\": 1, \"min\": 0.4932536047861313, \"max\": 0.4932536047861313}}}\n",
            "\u001b[0m\n",
            "\u001b[34m#metrics {\"StartTime\": 1634896129.606859, \"EndTime\": 1634896129.6068747, \"Dimensions\": {\"Algorithm\": \"Linear Learner\", \"Host\": \"algo-1\", \"Operation\": \"training\", \"epoch\": 2, \"model\": 7}, \"Metrics\": {\"validation_binary_classification_cross_entropy_objective\": {\"sum\": 0.5082724830947853, \"count\": 1, \"min\": 0.5082724830947853, \"max\": 0.5082724830947853}}}\n",
            "\u001b[0m\n",
            "\u001b[34m#metrics {\"StartTime\": 1634896129.6069307, \"EndTime\": 1634896129.6069472, \"Dimensions\": {\"Algorithm\": \"Linear Learner\", \"Host\": \"algo-1\", \"Operation\": \"training\", \"epoch\": 2, \"model\": 8}, \"Metrics\": {\"validation_binary_classification_cross_entropy_objective\": {\"sum\": 0.4927067397273547, \"count\": 1, \"min\": 0.4927067397273547, \"max\": 0.4927067397273547}}}\n",
            "\u001b[0m\n",
            "\u001b[34m#metrics {\"StartTime\": 1634896129.6070035, \"EndTime\": 1634896129.6070194, \"Dimensions\": {\"Algorithm\": \"Linear Learner\", \"Host\": \"algo-1\", \"Operation\": \"training\", \"epoch\": 2, \"model\": 9}, \"Metrics\": {\"validation_binary_classification_cross_entropy_objective\": {\"sum\": 0.4941954993218593, \"count\": 1, \"min\": 0.4941954993218593, \"max\": 0.4941954993218593}}}\n",
            "\u001b[0m\n",
            "\u001b[34m#metrics {\"StartTime\": 1634896129.6070883, \"EndTime\": 1634896129.607106, \"Dimensions\": {\"Algorithm\": \"Linear Learner\", \"Host\": \"algo-1\", \"Operation\": \"training\", \"epoch\": 2, \"model\": 10}, \"Metrics\": {\"validation_binary_classification_cross_entropy_objective\": {\"sum\": 0.49270652179663094, \"count\": 1, \"min\": 0.49270652179663094, \"max\": 0.49270652179663094}}}\n",
            "\u001b[0m\n",
            "\u001b[34m#metrics {\"StartTime\": 1634896129.6071627, \"EndTime\": 1634896129.607179, \"Dimensions\": {\"Algorithm\": \"Linear Learner\", \"Host\": \"algo-1\", \"Operation\": \"training\", \"epoch\": 2, \"model\": 11}, \"Metrics\": {\"validation_binary_classification_cross_entropy_objective\": {\"sum\": 0.49419542188928195, \"count\": 1, \"min\": 0.49419542188928195, \"max\": 0.49419542188928195}}}\n",
            "\u001b[0m\n",
            "\u001b[34m#metrics {\"StartTime\": 1634896129.6072347, \"EndTime\": 1634896129.607252, \"Dimensions\": {\"Algorithm\": \"Linear Learner\", \"Host\": \"algo-1\", \"Operation\": \"training\", \"epoch\": 2, \"model\": 12}, \"Metrics\": {\"validation_binary_classification_cross_entropy_objective\": {\"sum\": 0.49338655334953674, \"count\": 1, \"min\": 0.49338655334953674, \"max\": 0.49338655334953674}}}\n",
            "\u001b[0m\n",
            "\u001b[34m#metrics {\"StartTime\": 1634896129.6073015, \"EndTime\": 1634896129.6073117, \"Dimensions\": {\"Algorithm\": \"Linear Learner\", \"Host\": \"algo-1\", \"Operation\": \"training\", \"epoch\": 2, \"model\": 13}, \"Metrics\": {\"validation_binary_classification_cross_entropy_objective\": {\"sum\": 0.5060269474937298, \"count\": 1, \"min\": 0.5060269474937298, \"max\": 0.5060269474937298}}}\n",
            "\u001b[0m\n",
            "\u001b[34m#metrics {\"StartTime\": 1634896129.6073651, \"EndTime\": 1634896129.6073813, \"Dimensions\": {\"Algorithm\": \"Linear Learner\", \"Host\": \"algo-1\", \"Operation\": \"training\", \"epoch\": 2, \"model\": 14}, \"Metrics\": {\"validation_binary_classification_cross_entropy_objective\": {\"sum\": 0.49338650800949746, \"count\": 1, \"min\": 0.49338650800949746, \"max\": 0.49338650800949746}}}\n",
            "\u001b[0m\n",
            "\u001b[34m#metrics {\"StartTime\": 1634896129.6074462, \"EndTime\": 1634896129.607464, \"Dimensions\": {\"Algorithm\": \"Linear Learner\", \"Host\": \"algo-1\", \"Operation\": \"training\", \"epoch\": 2, \"model\": 15}, \"Metrics\": {\"validation_binary_classification_cross_entropy_objective\": {\"sum\": 0.5060269280889393, \"count\": 1, \"min\": 0.5060269280889393, \"max\": 0.5060269280889393}}}\n",
            "\u001b[0m\n",
            "\u001b[34m#metrics {\"StartTime\": 1634896129.607521, \"EndTime\": 1634896129.6075377, \"Dimensions\": {\"Algorithm\": \"Linear Learner\", \"Host\": \"algo-1\", \"Operation\": \"training\", \"epoch\": 2, \"model\": 16}, \"Metrics\": {\"validation_binary_classification_cross_entropy_objective\": {\"sum\": 0.5078654282452763, \"count\": 1, \"min\": 0.5078654282452763, \"max\": 0.5078654282452763}}}\n",
            "\u001b[0m\n",
            "\u001b[34m#metrics {\"StartTime\": 1634896129.6075912, \"EndTime\": 1634896129.6076074, \"Dimensions\": {\"Algorithm\": \"Linear Learner\", \"Host\": \"algo-1\", \"Operation\": \"training\", \"epoch\": 2, \"model\": 17}, \"Metrics\": {\"validation_binary_classification_cross_entropy_objective\": {\"sum\": 0.5085479079737186, \"count\": 1, \"min\": 0.5085479079737186, \"max\": 0.5085479079737186}}}\n",
            "\u001b[0m\n",
            "\u001b[34m#metrics {\"StartTime\": 1634896129.607663, \"EndTime\": 1634896129.6076803, \"Dimensions\": {\"Algorithm\": \"Linear Learner\", \"Host\": \"algo-1\", \"Operation\": \"training\", \"epoch\": 2, \"model\": 18}, \"Metrics\": {\"validation_binary_classification_cross_entropy_objective\": {\"sum\": 0.5078658988114453, \"count\": 1, \"min\": 0.5078658988114453, \"max\": 0.5078658988114453}}}\n",
            "\u001b[0m\n",
            "\u001b[34m#metrics {\"StartTime\": 1634896129.6077332, \"EndTime\": 1634896129.6077495, \"Dimensions\": {\"Algorithm\": \"Linear Learner\", \"Host\": \"algo-1\", \"Operation\": \"training\", \"epoch\": 2, \"model\": 19}, \"Metrics\": {\"validation_binary_classification_cross_entropy_objective\": {\"sum\": 0.5085470536031842, \"count\": 1, \"min\": 0.5085470536031842, \"max\": 0.5085470536031842}}}\n",
            "\u001b[0m\n",
            "\u001b[34m#metrics {\"StartTime\": 1634896129.6078038, \"EndTime\": 1634896129.6078205, \"Dimensions\": {\"Algorithm\": \"Linear Learner\", \"Host\": \"algo-1\", \"Operation\": \"training\", \"epoch\": 2, \"model\": 20}, \"Metrics\": {\"validation_binary_classification_cross_entropy_objective\": {\"sum\": 0.5080802441270118, \"count\": 1, \"min\": 0.5080802441270118, \"max\": 0.5080802441270118}}}\n",
            "\u001b[0m\n",
            "\u001b[34m#metrics {\"StartTime\": 1634896129.6078732, \"EndTime\": 1634896129.6078901, \"Dimensions\": {\"Algorithm\": \"Linear Learner\", \"Host\": \"algo-1\", \"Operation\": \"training\", \"epoch\": 2, \"model\": 21}, \"Metrics\": {\"validation_binary_classification_cross_entropy_objective\": {\"sum\": 0.5087695606855744, \"count\": 1, \"min\": 0.5087695606855744, \"max\": 0.5087695606855744}}}\n",
            "\u001b[0m\n",
            "\u001b[34m#metrics {\"StartTime\": 1634896129.6079419, \"EndTime\": 1634896129.6079588, \"Dimensions\": {\"Algorithm\": \"Linear Learner\", \"Host\": \"algo-1\", \"Operation\": \"training\", \"epoch\": 2, \"model\": 22}, \"Metrics\": {\"validation_binary_classification_cross_entropy_objective\": {\"sum\": 0.5080803202534975, \"count\": 1, \"min\": 0.5080803202534975, \"max\": 0.5080803202534975}}}\n",
            "\u001b[0m\n",
            "\u001b[34m#metrics {\"StartTime\": 1634896129.6080117, \"EndTime\": 1634896129.6080284, \"Dimensions\": {\"Algorithm\": \"Linear Learner\", \"Host\": \"algo-1\", \"Operation\": \"training\", \"epoch\": 2, \"model\": 23}, \"Metrics\": {\"validation_binary_classification_cross_entropy_objective\": {\"sum\": 0.508769298347734, \"count\": 1, \"min\": 0.508769298347734, \"max\": 0.508769298347734}}}\n",
            "\u001b[0m\n",
            "\u001b[34m#metrics {\"StartTime\": 1634896129.6080797, \"EndTime\": 1634896129.6080952, \"Dimensions\": {\"Algorithm\": \"Linear Learner\", \"Host\": \"algo-1\", \"Operation\": \"training\", \"epoch\": 2, \"model\": 24}, \"Metrics\": {\"validation_binary_classification_cross_entropy_objective\": {\"sum\": 0.5137608468972421, \"count\": 1, \"min\": 0.5137608468972421, \"max\": 0.5137608468972421}}}\n",
            "\u001b[0m\n",
            "\u001b[34m#metrics {\"StartTime\": 1634896129.6081483, \"EndTime\": 1634896129.6081643, \"Dimensions\": {\"Algorithm\": \"Linear Learner\", \"Host\": \"algo-1\", \"Operation\": \"training\", \"epoch\": 2, \"model\": 25}, \"Metrics\": {\"validation_binary_classification_cross_entropy_objective\": {\"sum\": 0.5144898822631354, \"count\": 1, \"min\": 0.5144898822631354, \"max\": 0.5144898822631354}}}\n",
            "\u001b[0m\n",
            "\u001b[34m#metrics {\"StartTime\": 1634896129.6082177, \"EndTime\": 1634896129.6082342, \"Dimensions\": {\"Algorithm\": \"Linear Learner\", \"Host\": \"algo-1\", \"Operation\": \"training\", \"epoch\": 2, \"model\": 26}, \"Metrics\": {\"validation_binary_classification_cross_entropy_objective\": {\"sum\": 0.5137616370827003, \"count\": 1, \"min\": 0.5137616370827003, \"max\": 0.5137616370827003}}}\n",
            "\u001b[0m\n",
            "\u001b[34m#metrics {\"StartTime\": 1634896129.6082842, \"EndTime\": 1634896129.6083012, \"Dimensions\": {\"Algorithm\": \"Linear Learner\", \"Host\": \"algo-1\", \"Operation\": \"training\", \"epoch\": 2, \"model\": 27}, \"Metrics\": {\"validation_binary_classification_cross_entropy_objective\": {\"sum\": 0.5145569293593262, \"count\": 1, \"min\": 0.5145569293593262, \"max\": 0.5145569293593262}}}\n",
            "\u001b[0m\n",
            "\u001b[34m#metrics {\"StartTime\": 1634896129.608357, \"EndTime\": 1634896129.6083732, \"Dimensions\": {\"Algorithm\": \"Linear Learner\", \"Host\": \"algo-1\", \"Operation\": \"training\", \"epoch\": 2, \"model\": 28}, \"Metrics\": {\"validation_binary_classification_cross_entropy_objective\": {\"sum\": 0.5139542350390977, \"count\": 1, \"min\": 0.5139542350390977, \"max\": 0.5139542350390977}}}\n",
            "\u001b[0m\n",
            "\u001b[34m#metrics {\"StartTime\": 1634896129.6084278, \"EndTime\": 1634896129.6084435, \"Dimensions\": {\"Algorithm\": \"Linear Learner\", \"Host\": \"algo-1\", \"Operation\": \"training\", \"epoch\": 2, \"model\": 29}, \"Metrics\": {\"validation_binary_classification_cross_entropy_objective\": {\"sum\": 0.514009055251445, \"count\": 1, \"min\": 0.514009055251445, \"max\": 0.514009055251445}}}\n",
            "\u001b[0m\n",
            "\u001b[34m#metrics {\"StartTime\": 1634896129.6084995, \"EndTime\": 1634896129.6085167, \"Dimensions\": {\"Algorithm\": \"Linear Learner\", \"Host\": \"algo-1\", \"Operation\": \"training\", \"epoch\": 2, \"model\": 30}, \"Metrics\": {\"validation_binary_classification_cross_entropy_objective\": {\"sum\": 0.5139433265614993, \"count\": 1, \"min\": 0.5139433265614993, \"max\": 0.5139433265614993}}}\n",
            "\u001b[0m\n",
            "\u001b[34m#metrics {\"StartTime\": 1634896129.6085722, \"EndTime\": 1634896129.6085951, \"Dimensions\": {\"Algorithm\": \"Linear Learner\", \"Host\": \"algo-1\", \"Operation\": \"training\", \"epoch\": 2, \"model\": 31}, \"Metrics\": {\"validation_binary_classification_cross_entropy_objective\": {\"sum\": 0.5140089864017557, \"count\": 1, \"min\": 0.5140089864017557, \"max\": 0.5140089864017557}}}\n",
            "\u001b[0m\n",
            "\u001b[34m[10/22/2021 09:48:49 INFO 140033973606208] #quality_metric: host=algo-1, epoch=2, validation binary_classification_cross_entropy_objective <loss>=0.49258695675453174\u001b[0m\n",
            "\u001b[34m[10/22/2021 09:48:49 INFO 140033973606208] #early_stopping_criteria_metric: host=algo-1, epoch=2, criteria=binary_classification_cross_entropy_objective, value=0.49258695675453174\u001b[0m\n",
            "\u001b[34m[10/22/2021 09:48:49 INFO 140033973606208] Saving model for epoch: 2\u001b[0m\n",
            "\u001b[34m[10/22/2021 09:48:49 INFO 140033973606208] Saved checkpoint to \"/tmp/tmpac5qylvs/mx-mod-0000.params\"\u001b[0m\n",
            "\u001b[34m[10/22/2021 09:48:49 INFO 140033973606208] #progress_metric: host=algo-1, completed 20.0 % of epochs\u001b[0m\n",
            "\u001b[34m#metrics {\"StartTime\": 1634896074.171416, \"EndTime\": 1634896129.6150281, \"Dimensions\": {\"Algorithm\": \"Linear Learner\", \"Host\": \"algo-1\", \"Operation\": \"training\", \"epoch\": 2, \"Meta\": \"training_data_iter\"}, \"Metrics\": {\"Total Records Seen\": {\"sum\": 3937416.0, \"count\": 1, \"min\": 3937416, \"max\": 3937416}, \"Total Batches Seen\": {\"sum\": 3939.0, \"count\": 1, \"min\": 3939, \"max\": 3939}, \"Max Records Seen Between Resets\": {\"sum\": 1308472.0, \"count\": 1, \"min\": 1308472, \"max\": 1308472}, \"Max Batches Seen Between Resets\": {\"sum\": 1309.0, \"count\": 1, \"min\": 1309, \"max\": 1309}, \"Reset Count\": {\"sum\": 5.0, \"count\": 1, \"min\": 5, \"max\": 5}, \"Number of Records Since Last Reset\": {\"sum\": 1308472.0, \"count\": 1, \"min\": 1308472, \"max\": 1308472}, \"Number of Batches Since Last Reset\": {\"sum\": 1309.0, \"count\": 1, \"min\": 1309, \"max\": 1309}}}\n",
            "\u001b[0m\n",
            "\u001b[34m[10/22/2021 09:48:49 INFO 140033973606208] #throughput_metric: host=algo-1, train throughput=23599.994066977477 records/second\u001b[0m\n",
            "\u001b[34m[2021-10-22 09:49:40.114] [tensorio] [info] epoch_stats={\"data_pipeline\": \"/opt/ml/input/data/train\", \"epoch\": 9, \"duration\": 50498, \"num_examples\": 1309, \"num_bytes\": 549558240}\u001b[0m\n",
            "\u001b[34m#metrics {\"StartTime\": 1634896180.1147957, \"EndTime\": 1634896180.1148927, \"Dimensions\": {\"Algorithm\": \"Linear Learner\", \"Host\": \"algo-1\", \"Operation\": \"training\", \"epoch\": 3, \"model\": 0}, \"Metrics\": {\"train_binary_classification_cross_entropy_objective\": {\"sum\": 0.491840151772222, \"count\": 1, \"min\": 0.491840151772222, \"max\": 0.491840151772222}}}\n",
            "\u001b[0m\n",
            "\u001b[34m#metrics {\"StartTime\": 1634896180.114983, \"EndTime\": 1634896180.115005, \"Dimensions\": {\"Algorithm\": \"Linear Learner\", \"Host\": \"algo-1\", \"Operation\": \"training\", \"epoch\": 3, \"model\": 1}, \"Metrics\": {\"train_binary_classification_cross_entropy_objective\": {\"sum\": 0.4928147690099314, \"count\": 1, \"min\": 0.4928147690099314, \"max\": 0.4928147690099314}}}\n",
            "\u001b[0m\n",
            "\u001b[34m#metrics {\"StartTime\": 1634896180.1150649, \"EndTime\": 1634896180.1150825, \"Dimensions\": {\"Algorithm\": \"Linear Learner\", \"Host\": \"algo-1\", \"Operation\": \"training\", \"epoch\": 3, \"model\": 2}, \"Metrics\": {\"train_binary_classification_cross_entropy_objective\": {\"sum\": 0.49186109572011033, \"count\": 1, \"min\": 0.49186109572011033, \"max\": 0.49186109572011033}}}\n",
            "\u001b[0m\n",
            "\u001b[34m#metrics {\"StartTime\": 1634896180.1151407, \"EndTime\": 1634896180.1151586, \"Dimensions\": {\"Algorithm\": \"Linear Learner\", \"Host\": \"algo-1\", \"Operation\": \"training\", \"epoch\": 3, \"model\": 3}, \"Metrics\": {\"train_binary_classification_cross_entropy_objective\": {\"sum\": 0.49281432872153935, \"count\": 1, \"min\": 0.49281432872153935, \"max\": 0.49281432872153935}}}\n",
            "\u001b[0m\n",
            "\u001b[34m#metrics {\"StartTime\": 1634896180.1152136, \"EndTime\": 1634896180.1152313, \"Dimensions\": {\"Algorithm\": \"Linear Learner\", \"Host\": \"algo-1\", \"Operation\": \"training\", \"epoch\": 3, \"model\": 4}, \"Metrics\": {\"train_binary_classification_cross_entropy_objective\": {\"sum\": 0.4921449417207584, \"count\": 1, \"min\": 0.4921449417207584, \"max\": 0.4921449417207584}}}\n",
            "\u001b[0m\n",
            "\u001b[34m#metrics {\"StartTime\": 1634896180.1152875, \"EndTime\": 1634896180.1153047, \"Dimensions\": {\"Algorithm\": \"Linear Learner\", \"Host\": \"algo-1\", \"Operation\": \"training\", \"epoch\": 3, \"model\": 5}, \"Metrics\": {\"train_binary_classification_cross_entropy_objective\": {\"sum\": 0.509403986286315, \"count\": 1, \"min\": 0.509403986286315, \"max\": 0.509403986286315}}}\n",
            "\u001b[0m\n",
            "\u001b[34m#metrics {\"StartTime\": 1634896180.1153593, \"EndTime\": 1634896180.1153758, \"Dimensions\": {\"Algorithm\": \"Linear Learner\", \"Host\": \"algo-1\", \"Operation\": \"training\", \"epoch\": 3, \"model\": 6}, \"Metrics\": {\"train_binary_classification_cross_entropy_objective\": {\"sum\": 0.49214492716191377, \"count\": 1, \"min\": 0.49214492716191377, \"max\": 0.49214492716191377}}}\n",
            "\u001b[0m\n",
            "\u001b[34m#metrics {\"StartTime\": 1634896180.1154282, \"EndTime\": 1634896180.115445, \"Dimensions\": {\"Algorithm\": \"Linear Learner\", \"Host\": \"algo-1\", \"Operation\": \"training\", \"epoch\": 3, \"model\": 7}, \"Metrics\": {\"train_binary_classification_cross_entropy_objective\": {\"sum\": 0.5094291520191624, \"count\": 1, \"min\": 0.5094291520191624, \"max\": 0.5094291520191624}}}\n",
            "\u001b[0m\n",
            "\u001b[34m#metrics {\"StartTime\": 1634896180.1155088, \"EndTime\": 1634896180.1155264, \"Dimensions\": {\"Algorithm\": \"Linear Learner\", \"Host\": \"algo-1\", \"Operation\": \"training\", \"epoch\": 3, \"model\": 8}, \"Metrics\": {\"train_binary_classification_cross_entropy_objective\": {\"sum\": 0.4920465383033869, \"count\": 1, \"min\": 0.4920465383033869, \"max\": 0.4920465383033869}}}\n",
            "\u001b[0m\n",
            "\u001b[34m#metrics {\"StartTime\": 1634896180.1155899, \"EndTime\": 1634896180.1156075, \"Dimensions\": {\"Algorithm\": \"Linear Learner\", \"Host\": \"algo-1\", \"Operation\": \"training\", \"epoch\": 3, \"model\": 9}, \"Metrics\": {\"train_binary_classification_cross_entropy_objective\": {\"sum\": 0.49298603414833, \"count\": 1, \"min\": 0.49298603414833, \"max\": 0.49298603414833}}}\n",
            "\u001b[0m\n",
            "\u001b[34m#metrics {\"StartTime\": 1634896180.1156714, \"EndTime\": 1634896180.1156893, \"Dimensions\": {\"Algorithm\": \"Linear Learner\", \"Host\": \"algo-1\", \"Operation\": \"training\", \"epoch\": 3, \"model\": 10}, \"Metrics\": {\"train_binary_classification_cross_entropy_objective\": {\"sum\": 0.4920610070418145, \"count\": 1, \"min\": 0.4920610070418145, \"max\": 0.4920610070418145}}}\n",
            "\u001b[0m\n",
            "\u001b[34m#metrics {\"StartTime\": 1634896180.11575, \"EndTime\": 1634896180.1157675, \"Dimensions\": {\"Algorithm\": \"Linear Learner\", \"Host\": \"algo-1\", \"Operation\": \"training\", \"epoch\": 3, \"model\": 11}, \"Metrics\": {\"train_binary_classification_cross_entropy_objective\": {\"sum\": 0.4929860303452985, \"count\": 1, \"min\": 0.4929860303452985, \"max\": 0.4929860303452985}}}\n",
            "\u001b[0m\n",
            "\u001b[34m#metrics {\"StartTime\": 1634896180.1158214, \"EndTime\": 1634896180.1158392, \"Dimensions\": {\"Algorithm\": \"Linear Learner\", \"Host\": \"algo-1\", \"Operation\": \"training\", \"epoch\": 3, \"model\": 12}, \"Metrics\": {\"train_binary_classification_cross_entropy_objective\": {\"sum\": 0.4923542861471847, \"count\": 1, \"min\": 0.4923542861471847, \"max\": 0.4923542861471847}}}\n",
            "\u001b[0m\n",
            "\u001b[34m#metrics {\"StartTime\": 1634896180.115895, \"EndTime\": 1634896180.1159115, \"Dimensions\": {\"Algorithm\": \"Linear Learner\", \"Host\": \"algo-1\", \"Operation\": \"training\", \"epoch\": 3, \"model\": 13}, \"Metrics\": {\"train_binary_classification_cross_entropy_objective\": {\"sum\": 0.5084156053875565, \"count\": 1, \"min\": 0.5084156053875565, \"max\": 0.5084156053875565}}}\n",
            "\u001b[0m\n",
            "\u001b[34m#metrics {\"StartTime\": 1634896180.1159608, \"EndTime\": 1634896180.1159778, \"Dimensions\": {\"Algorithm\": \"Linear Learner\", \"Host\": \"algo-1\", \"Operation\": \"training\", \"epoch\": 3, \"model\": 14}, \"Metrics\": {\"train_binary_classification_cross_entropy_objective\": {\"sum\": 0.49235428341740134, \"count\": 1, \"min\": 0.49235428341740134, \"max\": 0.49235428341740134}}}\n",
            "\u001b[0m\n",
            "\u001b[34m#metrics {\"StartTime\": 1634896180.116028, \"EndTime\": 1634896180.1160452, \"Dimensions\": {\"Algorithm\": \"Linear Learner\", \"Host\": \"algo-1\", \"Operation\": \"training\", \"epoch\": 3, \"model\": 15}, \"Metrics\": {\"train_binary_classification_cross_entropy_objective\": {\"sum\": 0.5084155777630821, \"count\": 1, \"min\": 0.5084155777630821, \"max\": 0.5084155777630821}}}\n",
            "\u001b[0m\n",
            "\u001b[34m#metrics {\"StartTime\": 1634896180.1160948, \"EndTime\": 1634896180.1161115, \"Dimensions\": {\"Algorithm\": \"Linear Learner\", \"Host\": \"algo-1\", \"Operation\": \"training\", \"epoch\": 3, \"model\": 16}, \"Metrics\": {\"train_binary_classification_cross_entropy_objective\": {\"sum\": 0.5077500222349021, \"count\": 1, \"min\": 0.5077500222349021, \"max\": 0.5077500222349021}}}\n",
            "\u001b[0m\n",
            "\u001b[34m#metrics {\"StartTime\": 1634896180.1161623, \"EndTime\": 1634896180.1161785, \"Dimensions\": {\"Algorithm\": \"Linear Learner\", \"Host\": \"algo-1\", \"Operation\": \"training\", \"epoch\": 3, \"model\": 17}, \"Metrics\": {\"train_binary_classification_cross_entropy_objective\": {\"sum\": 0.5080002332681545, \"count\": 1, \"min\": 0.5080002332681545, \"max\": 0.5080002332681545}}}\n",
            "\u001b[0m\n",
            "\u001b[34m#metrics {\"StartTime\": 1634896180.1162276, \"EndTime\": 1634896180.1162446, \"Dimensions\": {\"Algorithm\": \"Linear Learner\", \"Host\": \"algo-1\", \"Operation\": \"training\", \"epoch\": 3, \"model\": 18}, \"Metrics\": {\"train_binary_classification_cross_entropy_objective\": {\"sum\": 0.5077503214378241, \"count\": 1, \"min\": 0.5077503214378241, \"max\": 0.5077503214378241}}}\n",
            "\u001b[0m\n",
            "\u001b[34m#metrics {\"StartTime\": 1634896180.1162932, \"EndTime\": 1634896180.1163101, \"Dimensions\": {\"Algorithm\": \"Linear Learner\", \"Host\": \"algo-1\", \"Operation\": \"training\", \"epoch\": 3, \"model\": 19}, \"Metrics\": {\"train_binary_classification_cross_entropy_objective\": {\"sum\": 0.5080002328481878, \"count\": 1, \"min\": 0.5080002328481878, \"max\": 0.5080002328481878}}}\n",
            "\u001b[0m\n",
            "\u001b[34m#metrics {\"StartTime\": 1634896180.116352, \"EndTime\": 1634896180.116373, \"Dimensions\": {\"Algorithm\": \"Linear Learner\", \"Host\": \"algo-1\", \"Operation\": \"training\", \"epoch\": 3, \"model\": 20}, \"Metrics\": {\"train_binary_classification_cross_entropy_objective\": {\"sum\": 0.5078189798990885, \"count\": 1, \"min\": 0.5078189798990885, \"max\": 0.5078189798990885}}}\n",
            "\u001b[0m\n",
            "\u001b[34m#metrics {\"StartTime\": 1634896180.1164198, \"EndTime\": 1634896180.1164365, \"Dimensions\": {\"Algorithm\": \"Linear Learner\", \"Host\": \"algo-1\", \"Operation\": \"training\", \"epoch\": 3, \"model\": 21}, \"Metrics\": {\"train_binary_classification_cross_entropy_objective\": {\"sum\": 0.5108302793356986, \"count\": 1, \"min\": 0.5108302793356986, \"max\": 0.5108302793356986}}}\n",
            "\u001b[0m\n",
            "\u001b[34m#metrics {\"StartTime\": 1634896180.1164951, \"EndTime\": 1634896180.1165118, \"Dimensions\": {\"Algorithm\": \"Linear Learner\", \"Host\": \"algo-1\", \"Operation\": \"training\", \"epoch\": 3, \"model\": 22}, \"Metrics\": {\"train_binary_classification_cross_entropy_objective\": {\"sum\": 0.5078189760727255, \"count\": 1, \"min\": 0.5078189760727255, \"max\": 0.5078189760727255}}}\n",
            "\u001b[0m\n",
            "\u001b[34m#metrics {\"StartTime\": 1634896180.1165578, \"EndTime\": 1634896180.116573, \"Dimensions\": {\"Algorithm\": \"Linear Learner\", \"Host\": \"algo-1\", \"Operation\": \"training\", \"epoch\": 3, \"model\": 23}, \"Metrics\": {\"train_binary_classification_cross_entropy_objective\": {\"sum\": 0.5108302579640613, \"count\": 1, \"min\": 0.5108302579640613, \"max\": 0.5108302579640613}}}\n",
            "\u001b[0m\n",
            "\u001b[34m#metrics {\"StartTime\": 1634896180.116629, \"EndTime\": 1634896180.1166458, \"Dimensions\": {\"Algorithm\": \"Linear Learner\", \"Host\": \"algo-1\", \"Operation\": \"training\", \"epoch\": 3, \"model\": 24}, \"Metrics\": {\"train_binary_classification_cross_entropy_objective\": {\"sum\": 0.5137683560432644, \"count\": 1, \"min\": 0.5137683560432644, \"max\": 0.5137683560432644}}}\n",
            "\u001b[0m\n",
            "\u001b[34m#metrics {\"StartTime\": 1634896180.1166928, \"EndTime\": 1634896180.1167092, \"Dimensions\": {\"Algorithm\": \"Linear Learner\", \"Host\": \"algo-1\", \"Operation\": \"training\", \"epoch\": 3, \"model\": 25}, \"Metrics\": {\"train_binary_classification_cross_entropy_objective\": {\"sum\": 0.5138671561891515, \"count\": 1, \"min\": 0.5138671561891515, \"max\": 0.5138671561891515}}}\n",
            "\u001b[0m\n",
            "\u001b[34m#metrics {\"StartTime\": 1634896180.1167614, \"EndTime\": 1634896180.1167781, \"Dimensions\": {\"Algorithm\": \"Linear Learner\", \"Host\": \"algo-1\", \"Operation\": \"training\", \"epoch\": 3, \"model\": 26}, \"Metrics\": {\"train_binary_classification_cross_entropy_objective\": {\"sum\": 0.5137701750589073, \"count\": 1, \"min\": 0.5137701750589073, \"max\": 0.5137701750589073}}}\n",
            "\u001b[0m\n",
            "\u001b[34m#metrics {\"StartTime\": 1634896180.1168346, \"EndTime\": 1634896180.1168516, \"Dimensions\": {\"Algorithm\": \"Linear Learner\", \"Host\": \"algo-1\", \"Operation\": \"training\", \"epoch\": 3, \"model\": 27}, \"Metrics\": {\"train_binary_classification_cross_entropy_objective\": {\"sum\": 0.51386735362015, \"count\": 1, \"min\": 0.51386735362015, \"max\": 0.51386735362015}}}\n",
            "\u001b[0m\n",
            "\u001b[34m#metrics {\"StartTime\": 1634896180.1169074, \"EndTime\": 1634896180.1169238, \"Dimensions\": {\"Algorithm\": \"Linear Learner\", \"Host\": \"algo-1\", \"Operation\": \"training\", \"epoch\": 3, \"model\": 28}, \"Metrics\": {\"train_binary_classification_cross_entropy_objective\": {\"sum\": 0.5137897106718944, \"count\": 1, \"min\": 0.5137897106718944, \"max\": 0.5137897106718944}}}\n",
            "\u001b[0m\n",
            "\u001b[34m#metrics {\"StartTime\": 1634896180.1169765, \"EndTime\": 1634896180.1169932, \"Dimensions\": {\"Algorithm\": \"Linear Learner\", \"Host\": \"algo-1\", \"Operation\": \"training\", \"epoch\": 3, \"model\": 29}, \"Metrics\": {\"train_binary_classification_cross_entropy_objective\": {\"sum\": 0.5148461633851404, \"count\": 1, \"min\": 0.5148461633851404, \"max\": 0.5148461633851404}}}\n",
            "\u001b[0m\n",
            "\u001b[34m#metrics {\"StartTime\": 1634896180.1170478, \"EndTime\": 1634896180.1170645, \"Dimensions\": {\"Algorithm\": \"Linear Learner\", \"Host\": \"algo-1\", \"Operation\": \"training\", \"epoch\": 3, \"model\": 30}, \"Metrics\": {\"train_binary_classification_cross_entropy_objective\": {\"sum\": 0.5137894917992641, \"count\": 1, \"min\": 0.5137894917992641, \"max\": 0.5137894917992641}}}\n",
            "\u001b[0m\n",
            "\u001b[34m#metrics {\"StartTime\": 1634896180.1171086, \"EndTime\": 1634896180.1171238, \"Dimensions\": {\"Algorithm\": \"Linear Learner\", \"Host\": \"algo-1\", \"Operation\": \"training\", \"epoch\": 3, \"model\": 31}, \"Metrics\": {\"train_binary_classification_cross_entropy_objective\": {\"sum\": 0.5148461624752126, \"count\": 1, \"min\": 0.5148461624752126, \"max\": 0.5148461624752126}}}\n",
            "\u001b[0m\n",
            "\u001b[34m[10/22/2021 09:49:40 INFO 140033973606208] #quality_metric: host=algo-1, epoch=3, train binary_classification_cross_entropy_objective <loss>=0.491840151772222\u001b[0m\n",
            "\u001b[34m[2021-10-22 09:49:44.690] [tensorio] [info] epoch_stats={\"data_pipeline\": \"/opt/ml/input/data/validation\", \"epoch\": 11, \"duration\": 4551, \"num_examples\": 164, \"num_bytes\": 68694780}\u001b[0m\n",
            "\u001b[34m#metrics {\"StartTime\": 1634896184.6998608, \"EndTime\": 1634896184.6999178, \"Dimensions\": {\"Algorithm\": \"Linear Learner\", \"Host\": \"algo-1\", \"Operation\": \"training\", \"epoch\": 3, \"model\": 0}, \"Metrics\": {\"validation_binary_classification_cross_entropy_objective\": {\"sum\": 0.4925787196075604, \"count\": 1, \"min\": 0.4925787196075604, \"max\": 0.4925787196075604}}}\n",
            "\u001b[0m\n",
            "\u001b[34m#metrics {\"StartTime\": 1634896184.700005, \"EndTime\": 1634896184.700026, \"Dimensions\": {\"Algorithm\": \"Linear Learner\", \"Host\": \"algo-1\", \"Operation\": \"training\", \"epoch\": 3, \"model\": 1}, \"Metrics\": {\"validation_binary_classification_cross_entropy_objective\": {\"sum\": 0.4938873781173169, \"count\": 1, \"min\": 0.4938873781173169, \"max\": 0.4938873781173169}}}\n",
            "\u001b[0m\n",
            "\u001b[34m#metrics {\"StartTime\": 1634896184.7000852, \"EndTime\": 1634896184.7001038, \"Dimensions\": {\"Algorithm\": \"Linear Learner\", \"Host\": \"algo-1\", \"Operation\": \"training\", \"epoch\": 3, \"model\": 2}, \"Metrics\": {\"validation_binary_classification_cross_entropy_objective\": {\"sum\": 0.49258775757530776, \"count\": 1, \"min\": 0.49258775757530776, \"max\": 0.49258775757530776}}}\n",
            "\u001b[0m\n",
            "\u001b[34m#metrics {\"StartTime\": 1634896184.7001598, \"EndTime\": 1634896184.7001767, \"Dimensions\": {\"Algorithm\": \"Linear Learner\", \"Host\": \"algo-1\", \"Operation\": \"training\", \"epoch\": 3, \"model\": 3}, \"Metrics\": {\"validation_binary_classification_cross_entropy_objective\": {\"sum\": 0.4938877477412585, \"count\": 1, \"min\": 0.4938877477412585, \"max\": 0.4938877477412585}}}\n",
            "\u001b[0m\n",
            "\u001b[34m#metrics {\"StartTime\": 1634896184.7002318, \"EndTime\": 1634896184.700248, \"Dimensions\": {\"Algorithm\": \"Linear Learner\", \"Host\": \"algo-1\", \"Operation\": \"training\", \"epoch\": 3, \"model\": 4}, \"Metrics\": {\"validation_binary_classification_cross_entropy_objective\": {\"sum\": 0.4927070384491773, \"count\": 1, \"min\": 0.4927070384491773, \"max\": 0.4927070384491773}}}\n",
            "\u001b[0m\n",
            "\u001b[34m#metrics {\"StartTime\": 1634896184.7002997, \"EndTime\": 1634896184.700315, \"Dimensions\": {\"Algorithm\": \"Linear Learner\", \"Host\": \"algo-1\", \"Operation\": \"training\", \"epoch\": 3, \"model\": 5}, \"Metrics\": {\"validation_binary_classification_cross_entropy_objective\": {\"sum\": 0.5080149755545017, \"count\": 1, \"min\": 0.5080149755545017, \"max\": 0.5080149755545017}}}\n",
            "\u001b[0m\n",
            "\u001b[34m#metrics {\"StartTime\": 1634896184.7003698, \"EndTime\": 1634896184.7003858, \"Dimensions\": {\"Algorithm\": \"Linear Learner\", \"Host\": \"algo-1\", \"Operation\": \"training\", \"epoch\": 3, \"model\": 6}, \"Metrics\": {\"validation_binary_classification_cross_entropy_objective\": {\"sum\": 0.4927070397552689, \"count\": 1, \"min\": 0.4927070397552689, \"max\": 0.4927070397552689}}}\n",
            "\u001b[0m\n",
            "\u001b[34m#metrics {\"StartTime\": 1634896184.700436, \"EndTime\": 1634896184.7004516, \"Dimensions\": {\"Algorithm\": \"Linear Learner\", \"Host\": \"algo-1\", \"Operation\": \"training\", \"epoch\": 3, \"model\": 7}, \"Metrics\": {\"validation_binary_classification_cross_entropy_objective\": {\"sum\": 0.5080147361665577, \"count\": 1, \"min\": 0.5080147361665577, \"max\": 0.5080147361665577}}}\n",
            "\u001b[0m\n",
            "\u001b[34m#metrics {\"StartTime\": 1634896184.7005153, \"EndTime\": 1634896184.7005324, \"Dimensions\": {\"Algorithm\": \"Linear Learner\", \"Host\": \"algo-1\", \"Operation\": \"training\", \"epoch\": 3, \"model\": 8}, \"Metrics\": {\"validation_binary_classification_cross_entropy_objective\": {\"sum\": 0.4927024745917256, \"count\": 1, \"min\": 0.4927024745917256, \"max\": 0.4927024745917256}}}\n",
            "\u001b[0m\n",
            "\u001b[34m#metrics {\"StartTime\": 1634896184.7005885, \"EndTime\": 1634896184.7006044, \"Dimensions\": {\"Algorithm\": \"Linear Learner\", \"Host\": \"algo-1\", \"Operation\": \"training\", \"epoch\": 3, \"model\": 9}, \"Metrics\": {\"validation_binary_classification_cross_entropy_objective\": {\"sum\": 0.49400940570196095, \"count\": 1, \"min\": 0.49400940570196095, \"max\": 0.49400940570196095}}}\n",
            "\u001b[0m\n",
            "\u001b[34m#metrics {\"StartTime\": 1634896184.700657, \"EndTime\": 1634896184.7006721, \"Dimensions\": {\"Algorithm\": \"Linear Learner\", \"Host\": \"algo-1\", \"Operation\": \"training\", \"epoch\": 3, \"model\": 10}, \"Metrics\": {\"validation_binary_classification_cross_entropy_objective\": {\"sum\": 0.49270767414264977, \"count\": 1, \"min\": 0.49270767414264977, \"max\": 0.49270767414264977}}}\n",
            "\u001b[0m\n",
            "\u001b[34m#metrics {\"StartTime\": 1634896184.700725, \"EndTime\": 1634896184.7007406, \"Dimensions\": {\"Algorithm\": \"Linear Learner\", \"Host\": \"algo-1\", \"Operation\": \"training\", \"epoch\": 3, \"model\": 11}, \"Metrics\": {\"validation_binary_classification_cross_entropy_objective\": {\"sum\": 0.494009386856924, \"count\": 1, \"min\": 0.494009386856924, \"max\": 0.494009386856924}}}\n",
            "\u001b[0m\n",
            "\u001b[34m#metrics {\"StartTime\": 1634896184.7007945, \"EndTime\": 1634896184.70081, \"Dimensions\": {\"Algorithm\": \"Linear Learner\", \"Host\": \"algo-1\", \"Operation\": \"training\", \"epoch\": 3, \"model\": 12}, \"Metrics\": {\"validation_binary_classification_cross_entropy_objective\": {\"sum\": 0.49281747988123265, \"count\": 1, \"min\": 0.49281747988123265, \"max\": 0.49281747988123265}}}\n",
            "\u001b[0m\n",
            "\u001b[34m#metrics {\"StartTime\": 1634896184.700865, \"EndTime\": 1634896184.7008812, \"Dimensions\": {\"Algorithm\": \"Linear Learner\", \"Host\": \"algo-1\", \"Operation\": \"training\", \"epoch\": 3, \"model\": 13}, \"Metrics\": {\"validation_binary_classification_cross_entropy_objective\": {\"sum\": 0.5062563302158214, \"count\": 1, \"min\": 0.5062563302158214, \"max\": 0.5062563302158214}}}\n",
            "\u001b[0m\n",
            "\u001b[34m#metrics {\"StartTime\": 1634896184.7009325, \"EndTime\": 1634896184.7009485, \"Dimensions\": {\"Algorithm\": \"Linear Learner\", \"Host\": \"algo-1\", \"Operation\": \"training\", \"epoch\": 3, \"model\": 14}, \"Metrics\": {\"validation_binary_classification_cross_entropy_objective\": {\"sum\": 0.4928174802544017, \"count\": 1, \"min\": 0.4928174802544017, \"max\": 0.4928174802544017}}}\n",
            "\u001b[0m\n",
            "\u001b[34m#metrics {\"StartTime\": 1634896184.701009, \"EndTime\": 1634896184.7010267, \"Dimensions\": {\"Algorithm\": \"Linear Learner\", \"Host\": \"algo-1\", \"Operation\": \"training\", \"epoch\": 3, \"model\": 15}, \"Metrics\": {\"validation_binary_classification_cross_entropy_objective\": {\"sum\": 0.5062563277902226, \"count\": 1, \"min\": 0.5062563277902226, \"max\": 0.5062563277902226}}}\n",
            "\u001b[0m\n",
            "\u001b[34m#metrics {\"StartTime\": 1634896184.7010882, \"EndTime\": 1634896184.7011049, \"Dimensions\": {\"Algorithm\": \"Linear Learner\", \"Host\": \"algo-1\", \"Operation\": \"training\", \"epoch\": 3, \"model\": 16}, \"Metrics\": {\"validation_binary_classification_cross_entropy_objective\": {\"sum\": 0.5078260669338931, \"count\": 1, \"min\": 0.5078260669338931, \"max\": 0.5078260669338931}}}\n",
            "\u001b[0m\n",
            "\u001b[34m#metrics {\"StartTime\": 1634896184.7011566, \"EndTime\": 1634896184.7011726, \"Dimensions\": {\"Algorithm\": \"Linear Learner\", \"Host\": \"algo-1\", \"Operation\": \"training\", \"epoch\": 3, \"model\": 17}, \"Metrics\": {\"validation_binary_classification_cross_entropy_objective\": {\"sum\": 0.5084414424712804, \"count\": 1, \"min\": 0.5084414424712804, \"max\": 0.5084414424712804}}}\n",
            "\u001b[0m\n",
            "\u001b[34m#metrics {\"StartTime\": 1634896184.701226, \"EndTime\": 1634896184.701243, \"Dimensions\": {\"Algorithm\": \"Linear Learner\", \"Host\": \"algo-1\", \"Operation\": \"training\", \"epoch\": 3, \"model\": 18}, \"Metrics\": {\"validation_binary_classification_cross_entropy_objective\": {\"sum\": 0.5078672599455463, \"count\": 1, \"min\": 0.5078672599455463, \"max\": 0.5078672599455463}}}\n",
            "\u001b[0m\n",
            "\u001b[34m#metrics {\"StartTime\": 1634896184.7013109, \"EndTime\": 1634896184.7013288, \"Dimensions\": {\"Algorithm\": \"Linear Learner\", \"Host\": \"algo-1\", \"Operation\": \"training\", \"epoch\": 3, \"model\": 19}, \"Metrics\": {\"validation_binary_classification_cross_entropy_objective\": {\"sum\": 0.5084412974951055, \"count\": 1, \"min\": 0.5084412974951055, \"max\": 0.5084412974951055}}}\n",
            "\u001b[0m\n",
            "\u001b[34m#metrics {\"StartTime\": 1634896184.7013977, \"EndTime\": 1634896184.7014146, \"Dimensions\": {\"Algorithm\": \"Linear Learner\", \"Host\": \"algo-1\", \"Operation\": \"training\", \"epoch\": 3, \"model\": 20}, \"Metrics\": {\"validation_binary_classification_cross_entropy_objective\": {\"sum\": 0.5079882305288631, \"count\": 1, \"min\": 0.5079882305288631, \"max\": 0.5079882305288631}}}\n",
            "\u001b[0m\n",
            "\u001b[34m#metrics {\"StartTime\": 1634896184.701467, \"EndTime\": 1634896184.7014825, \"Dimensions\": {\"Algorithm\": \"Linear Learner\", \"Host\": \"algo-1\", \"Operation\": \"training\", \"epoch\": 3, \"model\": 21}, \"Metrics\": {\"validation_binary_classification_cross_entropy_objective\": {\"sum\": 0.5078189976194561, \"count\": 1, \"min\": 0.5078189976194561, \"max\": 0.5078189976194561}}}\n",
            "\u001b[0m\n",
            "\u001b[34m#metrics {\"StartTime\": 1634896184.7015224, \"EndTime\": 1634896184.7015374, \"Dimensions\": {\"Algorithm\": \"Linear Learner\", \"Host\": \"algo-1\", \"Operation\": \"training\", \"epoch\": 3, \"model\": 22}, \"Metrics\": {\"validation_binary_classification_cross_entropy_objective\": {\"sum\": 0.5079882424702726, \"count\": 1, \"min\": 0.5079882424702726, \"max\": 0.5079882424702726}}}\n",
            "\u001b[0m\n",
            "\u001b[34m#metrics {\"StartTime\": 1634896184.701581, \"EndTime\": 1634896184.7015908, \"Dimensions\": {\"Algorithm\": \"Linear Learner\", \"Host\": \"algo-1\", \"Operation\": \"training\", \"epoch\": 3, \"model\": 23}, \"Metrics\": {\"validation_binary_classification_cross_entropy_objective\": {\"sum\": 0.5078189742963907, \"count\": 1, \"min\": 0.5078189742963907, \"max\": 0.5078189742963907}}}\n",
            "\u001b[0m\n",
            "\u001b[34m#metrics {\"StartTime\": 1634896184.701619, \"EndTime\": 1634896184.701633, \"Dimensions\": {\"Algorithm\": \"Linear Learner\", \"Host\": \"algo-1\", \"Operation\": \"training\", \"epoch\": 3, \"model\": 24}, \"Metrics\": {\"validation_binary_classification_cross_entropy_objective\": {\"sum\": 0.5137641970223665, \"count\": 1, \"min\": 0.5137641970223665, \"max\": 0.5137641970223665}}}\n",
            "\u001b[0m\n",
            "\u001b[34m#metrics {\"StartTime\": 1634896184.7016973, \"EndTime\": 1634896184.7017157, \"Dimensions\": {\"Algorithm\": \"Linear Learner\", \"Host\": \"algo-1\", \"Operation\": \"training\", \"epoch\": 3, \"model\": 25}, \"Metrics\": {\"validation_binary_classification_cross_entropy_objective\": {\"sum\": 0.5144566556643096, \"count\": 1, \"min\": 0.5144566556643096, \"max\": 0.5144566556643096}}}\n",
            "\u001b[0m\n",
            "\u001b[34m#metrics {\"StartTime\": 1634896184.7017794, \"EndTime\": 1634896184.7017975, \"Dimensions\": {\"Algorithm\": \"Linear Learner\", \"Host\": \"algo-1\", \"Operation\": \"training\", \"epoch\": 3, \"model\": 26}, \"Metrics\": {\"validation_binary_classification_cross_entropy_objective\": {\"sum\": 0.5137581891872853, \"count\": 1, \"min\": 0.5137581891872853, \"max\": 0.5137581891872853}}}\n",
            "\u001b[0m\n",
            "\u001b[34m#metrics {\"StartTime\": 1634896184.701865, \"EndTime\": 1634896184.7018824, \"Dimensions\": {\"Algorithm\": \"Linear Learner\", \"Host\": \"algo-1\", \"Operation\": \"training\", \"epoch\": 3, \"model\": 27}, \"Metrics\": {\"validation_binary_classification_cross_entropy_objective\": {\"sum\": 0.5144441503963568, \"count\": 1, \"min\": 0.5144441503963568, \"max\": 0.5144441503963568}}}\n",
            "\u001b[0m\n",
            "\u001b[34m#metrics {\"StartTime\": 1634896184.701949, \"EndTime\": 1634896184.7019653, \"Dimensions\": {\"Algorithm\": \"Linear Learner\", \"Host\": \"algo-1\", \"Operation\": \"training\", \"epoch\": 3, \"model\": 28}, \"Metrics\": {\"validation_binary_classification_cross_entropy_objective\": {\"sum\": 0.5137543080426061, \"count\": 1, \"min\": 0.5137543080426061, \"max\": 0.5137543080426061}}}\n",
            "\u001b[0m\n",
            "\u001b[34m#metrics {\"StartTime\": 1634896184.7020283, \"EndTime\": 1634896184.7020447, \"Dimensions\": {\"Algorithm\": \"Linear Learner\", \"Host\": \"algo-1\", \"Operation\": \"training\", \"epoch\": 3, \"model\": 29}, \"Metrics\": {\"validation_binary_classification_cross_entropy_objective\": {\"sum\": 0.513932916451164, \"count\": 1, \"min\": 0.513932916451164, \"max\": 0.513932916451164}}}\n",
            "\u001b[0m\n",
            "\u001b[34m#metrics {\"StartTime\": 1634896184.7020943, \"EndTime\": 1634896184.70211, \"Dimensions\": {\"Algorithm\": \"Linear Learner\", \"Host\": \"algo-1\", \"Operation\": \"training\", \"epoch\": 3, \"model\": 30}, \"Metrics\": {\"validation_binary_classification_cross_entropy_objective\": {\"sum\": 0.5137634126210285, \"count\": 1, \"min\": 0.5137634126210285, \"max\": 0.5137634126210285}}}\n",
            "\u001b[0m\n",
            "\u001b[34m#metrics {\"StartTime\": 1634896184.702159, \"EndTime\": 1634896184.7021694, \"Dimensions\": {\"Algorithm\": \"Linear Learner\", \"Host\": \"algo-1\", \"Operation\": \"training\", \"epoch\": 3, \"model\": 31}, \"Metrics\": {\"validation_binary_classification_cross_entropy_objective\": {\"sum\": 0.5139329168243331, \"count\": 1, \"min\": 0.5139329168243331, \"max\": 0.5139329168243331}}}\n",
            "\u001b[0m\n",
            "\u001b[34m[10/22/2021 09:49:44 INFO 140033973606208] #quality_metric: host=algo-1, epoch=3, validation binary_classification_cross_entropy_objective <loss>=0.4925787196075604\u001b[0m\n",
            "\u001b[34m[10/22/2021 09:49:44 INFO 140033973606208] #early_stopping_criteria_metric: host=algo-1, epoch=3, criteria=binary_classification_cross_entropy_objective, value=0.4925787196075604\u001b[0m\n",
            "\u001b[34m[10/22/2021 09:49:44 INFO 140033973606208] Saving model for epoch: 3\u001b[0m\n",
            "\u001b[34m[10/22/2021 09:49:44 INFO 140033973606208] Saved checkpoint to \"/tmp/tmprwcpvxgp/mx-mod-0000.params\"\u001b[0m\n",
            "\u001b[34m[10/22/2021 09:49:44 INFO 140033973606208] #progress_metric: host=algo-1, completed 26.666666666666668 % of epochs\u001b[0m\n",
            "\u001b[34m#metrics {\"StartTime\": 1634896129.6156142, \"EndTime\": 1634896184.7087998, \"Dimensions\": {\"Algorithm\": \"Linear Learner\", \"Host\": \"algo-1\", \"Operation\": \"training\", \"epoch\": 3, \"Meta\": \"training_data_iter\"}, \"Metrics\": {\"Total Records Seen\": {\"sum\": 5245888.0, \"count\": 1, \"min\": 5245888, \"max\": 5245888}, \"Total Batches Seen\": {\"sum\": 5248.0, \"count\": 1, \"min\": 5248, \"max\": 5248}, \"Max Records Seen Between Resets\": {\"sum\": 1308472.0, \"count\": 1, \"min\": 1308472, \"max\": 1308472}, \"Max Batches Seen Between Resets\": {\"sum\": 1309.0, \"count\": 1, \"min\": 1309, \"max\": 1309}, \"Reset Count\": {\"sum\": 6.0, \"count\": 1, \"min\": 6, \"max\": 6}, \"Number of Records Since Last Reset\": {\"sum\": 1308472.0, \"count\": 1, \"min\": 1308472, \"max\": 1308472}, \"Number of Batches Since Last Reset\": {\"sum\": 1309.0, \"count\": 1, \"min\": 1309, \"max\": 1309}}}\n",
            "\u001b[0m\n",
            "\u001b[34m[10/22/2021 09:49:44 INFO 140033973606208] #throughput_metric: host=algo-1, train throughput=23750.095713217845 records/second\u001b[0m\n",
            "\u001b[34m[2021-10-22 09:50:34.567] [tensorio] [info] epoch_stats={\"data_pipeline\": \"/opt/ml/input/data/train\", \"epoch\": 11, \"duration\": 49855, \"num_examples\": 1309, \"num_bytes\": 549558240}\u001b[0m\n",
            "\u001b[34m#metrics {\"StartTime\": 1634896234.5677269, \"EndTime\": 1634896234.5678139, \"Dimensions\": {\"Algorithm\": \"Linear Learner\", \"Host\": \"algo-1\", \"Operation\": \"training\", \"epoch\": 4, \"model\": 0}, \"Metrics\": {\"train_binary_classification_cross_entropy_objective\": {\"sum\": 0.49181411997477215, \"count\": 1, \"min\": 0.49181411997477215, \"max\": 0.49181411997477215}}}\n",
            "\u001b[0m\n",
            "\u001b[34m#metrics {\"StartTime\": 1634896234.5679035, \"EndTime\": 1634896234.5679193, \"Dimensions\": {\"Algorithm\": \"Linear Learner\", \"Host\": \"algo-1\", \"Operation\": \"training\", \"epoch\": 4, \"model\": 1}, \"Metrics\": {\"train_binary_classification_cross_entropy_objective\": {\"sum\": 0.49269088033506997, \"count\": 1, \"min\": 0.49269088033506997, \"max\": 0.49269088033506997}}}\n",
            "\u001b[0m\n",
            "\u001b[34m#metrics {\"StartTime\": 1634896234.5679662, \"EndTime\": 1634896234.5679781, \"Dimensions\": {\"Algorithm\": \"Linear Learner\", \"Host\": \"algo-1\", \"Operation\": \"training\", \"epoch\": 4, \"model\": 2}, \"Metrics\": {\"train_binary_classification_cross_entropy_objective\": {\"sum\": 0.4918598070757105, \"count\": 1, \"min\": 0.4918598070757105, \"max\": 0.4918598070757105}}}\n",
            "\u001b[0m\n",
            "\u001b[34m#metrics {\"StartTime\": 1634896234.5680199, \"EndTime\": 1634896234.5680308, \"Dimensions\": {\"Algorithm\": \"Linear Learner\", \"Host\": \"algo-1\", \"Operation\": \"training\", \"epoch\": 4, \"model\": 3}, \"Metrics\": {\"train_binary_classification_cross_entropy_objective\": {\"sum\": 0.4926906581027063, \"count\": 1, \"min\": 0.4926906581027063, \"max\": 0.4926906581027063}}}\n",
            "\u001b[0m\n",
            "\u001b[34m#metrics {\"StartTime\": 1634896234.568069, \"EndTime\": 1634896234.568079, \"Dimensions\": {\"Algorithm\": \"Linear Learner\", \"Host\": \"algo-1\", \"Operation\": \"training\", \"epoch\": 4, \"model\": 4}, \"Metrics\": {\"train_binary_classification_cross_entropy_objective\": {\"sum\": 0.4919127747888594, \"count\": 1, \"min\": 0.4919127747888594, \"max\": 0.4919127747888594}}}\n",
            "\u001b[0m\n",
            "\u001b[34m#metrics {\"StartTime\": 1634896234.5681183, \"EndTime\": 1634896234.568129, \"Dimensions\": {\"Algorithm\": \"Linear Learner\", \"Host\": \"algo-1\", \"Operation\": \"training\", \"epoch\": 4, \"model\": 5}, \"Metrics\": {\"train_binary_classification_cross_entropy_objective\": {\"sum\": 0.507437565911436, \"count\": 1, \"min\": 0.507437565911436, \"max\": 0.507437565911436}}}\n",
            "\u001b[0m\n",
            "\u001b[34m#metrics {\"StartTime\": 1634896234.5681665, \"EndTime\": 1634896234.568177, \"Dimensions\": {\"Algorithm\": \"Linear Learner\", \"Host\": \"algo-1\", \"Operation\": \"training\", \"epoch\": 4, \"model\": 6}, \"Metrics\": {\"train_binary_classification_cross_entropy_objective\": {\"sum\": 0.49191277247904275, \"count\": 1, \"min\": 0.49191277247904275, \"max\": 0.49191277247904275}}}\n",
            "\u001b[0m\n",
            "\u001b[34m#metrics {\"StartTime\": 1634896234.568214, \"EndTime\": 1634896234.568224, \"Dimensions\": {\"Algorithm\": \"Linear Learner\", \"Host\": \"algo-1\", \"Operation\": \"training\", \"epoch\": 4, \"model\": 7}, \"Metrics\": {\"train_binary_classification_cross_entropy_objective\": {\"sum\": 0.5073876989522111, \"count\": 1, \"min\": 0.5073876989522111, \"max\": 0.5073876989522111}}}\n",
            "\u001b[0m\n",
            "\u001b[34m#metrics {\"StartTime\": 1634896234.5682602, \"EndTime\": 1634896234.56827, \"Dimensions\": {\"Algorithm\": \"Linear Learner\", \"Host\": \"algo-1\", \"Operation\": \"training\", \"epoch\": 4, \"model\": 8}, \"Metrics\": {\"train_binary_classification_cross_entropy_objective\": {\"sum\": 0.49202081149506643, \"count\": 1, \"min\": 0.49202081149506643, \"max\": 0.49202081149506643}}}\n",
            "\u001b[0m\n",
            "\u001b[34m#metrics {\"StartTime\": 1634896234.5683072, \"EndTime\": 1634896234.5683172, \"Dimensions\": {\"Algorithm\": \"Linear Learner\", \"Host\": \"algo-1\", \"Operation\": \"training\", \"epoch\": 4, \"model\": 9}, \"Metrics\": {\"train_binary_classification_cross_entropy_objective\": {\"sum\": 0.49286973060817896, \"count\": 1, \"min\": 0.49286973060817896, \"max\": 0.49286973060817896}}}\n",
            "\u001b[0m\n",
            "\u001b[34m#metrics {\"StartTime\": 1634896234.5683541, \"EndTime\": 1634896234.5683641, \"Dimensions\": {\"Algorithm\": \"Linear Learner\", \"Host\": \"algo-1\", \"Operation\": \"training\", \"epoch\": 4, \"model\": 10}, \"Metrics\": {\"train_binary_classification_cross_entropy_objective\": {\"sum\": 0.4920609607288232, \"count\": 1, \"min\": 0.4920609607288232, \"max\": 0.4920609607288232}}}\n",
            "\u001b[0m\n",
            "\u001b[34m#metrics {\"StartTime\": 1634896234.5684123, \"EndTime\": 1634896234.5684245, \"Dimensions\": {\"Algorithm\": \"Linear Learner\", \"Host\": \"algo-1\", \"Operation\": \"training\", \"epoch\": 4, \"model\": 11}, \"Metrics\": {\"train_binary_classification_cross_entropy_objective\": {\"sum\": 0.4928697292782845, \"count\": 1, \"min\": 0.4928697292782845, \"max\": 0.4928697292782845}}}\n",
            "\u001b[0m\n",
            "\u001b[34m#metrics {\"StartTime\": 1634896234.5684662, \"EndTime\": 1634896234.5684767, \"Dimensions\": {\"Algorithm\": \"Linear Learner\", \"Host\": \"algo-1\", \"Operation\": \"training\", \"epoch\": 4, \"model\": 12}, \"Metrics\": {\"train_binary_classification_cross_entropy_objective\": {\"sum\": 0.49213601054620304, \"count\": 1, \"min\": 0.49213601054620304, \"max\": 0.49213601054620304}}}\n",
            "\u001b[0m\n",
            "\u001b[34m#metrics {\"StartTime\": 1634896234.568515, \"EndTime\": 1634896234.5685253, \"Dimensions\": {\"Algorithm\": \"Linear Learner\", \"Host\": \"algo-1\", \"Operation\": \"training\", \"epoch\": 4, \"model\": 13}, \"Metrics\": {\"train_binary_classification_cross_entropy_objective\": {\"sum\": 0.5065803019905674, \"count\": 1, \"min\": 0.5065803019905674, \"max\": 0.5065803019905674}}}\n",
            "\u001b[0m\n",
            "\u001b[34m#metrics {\"StartTime\": 1634896234.5685625, \"EndTime\": 1634896234.5685728, \"Dimensions\": {\"Algorithm\": \"Linear Learner\", \"Host\": \"algo-1\", \"Operation\": \"training\", \"epoch\": 4, \"model\": 14}, \"Metrics\": {\"train_binary_classification_cross_entropy_objective\": {\"sum\": 0.49213601082618086, \"count\": 1, \"min\": 0.49213601082618086, \"max\": 0.49213601082618086}}}\n",
            "\u001b[0m\n",
            "\u001b[34m#metrics {\"StartTime\": 1634896234.5686193, \"EndTime\": 1634896234.5686307, \"Dimensions\": {\"Algorithm\": \"Linear Learner\", \"Host\": \"algo-1\", \"Operation\": \"training\", \"epoch\": 4, \"model\": 15}, \"Metrics\": {\"train_binary_classification_cross_entropy_objective\": {\"sum\": 0.5065802944311673, \"count\": 1, \"min\": 0.5065802944311673, \"max\": 0.5065802944311673}}}\n",
            "\u001b[0m\n",
            "\u001b[34m#metrics {\"StartTime\": 1634896234.568672, \"EndTime\": 1634896234.5686824, \"Dimensions\": {\"Algorithm\": \"Linear Learner\", \"Host\": \"algo-1\", \"Operation\": \"training\", \"epoch\": 4, \"model\": 16}, \"Metrics\": {\"train_binary_classification_cross_entropy_objective\": {\"sum\": 0.5077433042380424, \"count\": 1, \"min\": 0.5077433042380424, \"max\": 0.5077433042380424}}}\n",
            "\u001b[0m\n",
            "\u001b[34m#metrics {\"StartTime\": 1634896234.5687213, \"EndTime\": 1634896234.5687315, \"Dimensions\": {\"Algorithm\": \"Linear Learner\", \"Host\": \"algo-1\", \"Operation\": \"training\", \"epoch\": 4, \"model\": 17}, \"Metrics\": {\"train_binary_classification_cross_entropy_objective\": {\"sum\": 0.5079681273294151, \"count\": 1, \"min\": 0.5079681273294151, \"max\": 0.5079681273294151}}}\n",
            "\u001b[0m\n",
            "\u001b[34m#metrics {\"StartTime\": 1634896234.5687792, \"EndTime\": 1634896234.5687907, \"Dimensions\": {\"Algorithm\": \"Linear Learner\", \"Host\": \"algo-1\", \"Operation\": \"training\", \"epoch\": 4, \"model\": 18}, \"Metrics\": {\"train_binary_classification_cross_entropy_objective\": {\"sum\": 0.5077504723925109, \"count\": 1, \"min\": 0.5077504723925109, \"max\": 0.5077504723925109}}}\n",
            "\u001b[0m\n",
            "\u001b[34m#metrics {\"StartTime\": 1634896234.5688322, \"EndTime\": 1634896234.5688505, \"Dimensions\": {\"Algorithm\": \"Linear Learner\", \"Host\": \"algo-1\", \"Operation\": \"training\", \"epoch\": 4, \"model\": 19}, \"Metrics\": {\"train_binary_classification_cross_entropy_objective\": {\"sum\": 0.5079681273060836, \"count\": 1, \"min\": 0.5079681273060836, \"max\": 0.5079681273060836}}}\n",
            "\u001b[0m\n",
            "\u001b[34m#metrics {\"StartTime\": 1634896234.5688887, \"EndTime\": 1634896234.568899, \"Dimensions\": {\"Algorithm\": \"Linear Learner\", \"Host\": \"algo-1\", \"Operation\": \"training\", \"epoch\": 4, \"model\": 20}, \"Metrics\": {\"train_binary_classification_cross_entropy_objective\": {\"sum\": 0.5077650265241617, \"count\": 1, \"min\": 0.5077650265241617, \"max\": 0.5077650265241617}}}\n",
            "\u001b[0m\n",
            "\u001b[34m#metrics {\"StartTime\": 1634896234.5689454, \"EndTime\": 1634896234.5689569, \"Dimensions\": {\"Algorithm\": \"Linear Learner\", \"Host\": \"algo-1\", \"Operation\": \"training\", \"epoch\": 4, \"model\": 21}, \"Metrics\": {\"train_binary_classification_cross_entropy_objective\": {\"sum\": 0.5104714171849989, \"count\": 1, \"min\": 0.5104714171849989, \"max\": 0.5104714171849989}}}\n",
            "\u001b[0m\n",
            "\u001b[34m#metrics {\"StartTime\": 1634896234.5689979, \"EndTime\": 1634896234.5690086, \"Dimensions\": {\"Algorithm\": \"Linear Learner\", \"Host\": \"algo-1\", \"Operation\": \"training\", \"epoch\": 4, \"model\": 22}, \"Metrics\": {\"train_binary_classification_cross_entropy_objective\": {\"sum\": 0.5077650274340895, \"count\": 1, \"min\": 0.5077650274340895, \"max\": 0.5077650274340895}}}\n",
            "\u001b[0m\n",
            "\u001b[34m#metrics {\"StartTime\": 1634896234.569056, \"EndTime\": 1634896234.5690677, \"Dimensions\": {\"Algorithm\": \"Linear Learner\", \"Host\": \"algo-1\", \"Operation\": \"training\", \"epoch\": 4, \"model\": 23}, \"Metrics\": {\"train_binary_classification_cross_entropy_objective\": {\"sum\": 0.5104714133586359, \"count\": 1, \"min\": 0.5104714133586359, \"max\": 0.5104714133586359}}}\n",
            "\u001b[0m\n",
            "\u001b[34m#metrics {\"StartTime\": 1634896234.5691066, \"EndTime\": 1634896234.5691168, \"Dimensions\": {\"Algorithm\": \"Linear Learner\", \"Host\": \"algo-1\", \"Operation\": \"training\", \"epoch\": 4, \"model\": 24}, \"Metrics\": {\"train_binary_classification_cross_entropy_objective\": {\"sum\": 0.5137662835544038, \"count\": 1, \"min\": 0.5137662835544038, \"max\": 0.5137662835544038}}}\n",
            "\u001b[0m\n",
            "\u001b[34m#metrics {\"StartTime\": 1634896234.569154, \"EndTime\": 1634896234.569164, \"Dimensions\": {\"Algorithm\": \"Linear Learner\", \"Host\": \"algo-1\", \"Operation\": \"training\", \"epoch\": 4, \"model\": 25}, \"Metrics\": {\"train_binary_classification_cross_entropy_objective\": {\"sum\": 0.5138535987084065, \"count\": 1, \"min\": 0.5138535987084065, \"max\": 0.5138535987084065}}}\n",
            "\u001b[0m\n",
            "\u001b[34m#metrics {\"StartTime\": 1634896234.5692008, \"EndTime\": 1634896234.5692105, \"Dimensions\": {\"Algorithm\": \"Linear Learner\", \"Host\": \"algo-1\", \"Operation\": \"training\", \"epoch\": 4, \"model\": 26}, \"Metrics\": {\"train_binary_classification_cross_entropy_objective\": {\"sum\": 0.5137703272734943, \"count\": 1, \"min\": 0.5137703272734943, \"max\": 0.5137703272734943}}}\n",
            "\u001b[0m\n",
            "\u001b[34m#metrics {\"StartTime\": 1634896234.569265, \"EndTime\": 1634896234.5692806, \"Dimensions\": {\"Algorithm\": \"Linear Learner\", \"Host\": \"algo-1\", \"Operation\": \"training\", \"epoch\": 4, \"model\": 27}, \"Metrics\": {\"train_binary_classification_cross_entropy_objective\": {\"sum\": 0.5138534130598063, \"count\": 1, \"min\": 0.5138534130598063, \"max\": 0.5138534130598063}}}\n",
            "\u001b[0m\n",
            "\u001b[34m#metrics {\"StartTime\": 1634896234.5693417, \"EndTime\": 1634896234.5693574, \"Dimensions\": {\"Algorithm\": \"Linear Learner\", \"Host\": \"algo-1\", \"Operation\": \"training\", \"epoch\": 4, \"model\": 28}, \"Metrics\": {\"train_binary_classification_cross_entropy_objective\": {\"sum\": 0.5137756561139308, \"count\": 1, \"min\": 0.5137756561139308, \"max\": 0.5137756561139308}}}\n",
            "\u001b[0m\n",
            "\u001b[34m#metrics {\"StartTime\": 1634896234.569413, \"EndTime\": 1634896234.569429, \"Dimensions\": {\"Algorithm\": \"Linear Learner\", \"Host\": \"algo-1\", \"Operation\": \"training\", \"epoch\": 4, \"model\": 29}, \"Metrics\": {\"train_binary_classification_cross_entropy_objective\": {\"sum\": 0.5147164244578883, \"count\": 1, \"min\": 0.5147164244578883, \"max\": 0.5147164244578883}}}\n",
            "\u001b[0m\n",
            "\u001b[34m#metrics {\"StartTime\": 1634896234.5694706, \"EndTime\": 1634896234.5694854, \"Dimensions\": {\"Algorithm\": \"Linear Learner\", \"Host\": \"algo-1\", \"Operation\": \"training\", \"epoch\": 4, \"model\": 30}, \"Metrics\": {\"train_binary_classification_cross_entropy_objective\": {\"sum\": 0.5137755469692592, \"count\": 1, \"min\": 0.5137755469692592, \"max\": 0.5137755469692592}}}\n",
            "\u001b[0m\n",
            "\u001b[34m#metrics {\"StartTime\": 1634896234.569536, \"EndTime\": 1634896234.5695522, \"Dimensions\": {\"Algorithm\": \"Linear Learner\", \"Host\": \"algo-1\", \"Operation\": \"training\", \"epoch\": 4, \"model\": 31}, \"Metrics\": {\"train_binary_classification_cross_entropy_objective\": {\"sum\": 0.5147164234313032, \"count\": 1, \"min\": 0.5147164234313032, \"max\": 0.5147164234313032}}}\n",
            "\u001b[0m\n",
            "\u001b[34m[10/22/2021 09:50:34 INFO 140033973606208] #quality_metric: host=algo-1, epoch=4, train binary_classification_cross_entropy_objective <loss>=0.49181411997477215\u001b[0m\n",
            "\u001b[34m[2021-10-22 09:50:38.847] [tensorio] [info] epoch_stats={\"data_pipeline\": \"/opt/ml/input/data/validation\", \"epoch\": 14, \"duration\": 4250, \"num_examples\": 164, \"num_bytes\": 68694780}\u001b[0m\n",
            "\u001b[34m#metrics {\"StartTime\": 1634896238.8545043, \"EndTime\": 1634896238.8545802, \"Dimensions\": {\"Algorithm\": \"Linear Learner\", \"Host\": \"algo-1\", \"Operation\": \"training\", \"epoch\": 4, \"model\": 0}, \"Metrics\": {\"validation_binary_classification_cross_entropy_objective\": {\"sum\": 0.4925791299069282, \"count\": 1, \"min\": 0.4925791299069282, \"max\": 0.4925791299069282}}}\n",
            "\u001b[0m\n",
            "\u001b[34m#metrics {\"StartTime\": 1634896238.8546603, \"EndTime\": 1634896238.8546746, \"Dimensions\": {\"Algorithm\": \"Linear Learner\", \"Host\": \"algo-1\", \"Operation\": \"training\", \"epoch\": 4, \"model\": 1}, \"Metrics\": {\"validation_binary_classification_cross_entropy_objective\": {\"sum\": 0.49367876057346133, \"count\": 1, \"min\": 0.49367876057346133, \"max\": 0.49367876057346133}}}\n",
            "\u001b[0m\n",
            "\u001b[34m#metrics {\"StartTime\": 1634896238.8547354, \"EndTime\": 1634896238.8547537, \"Dimensions\": {\"Algorithm\": \"Linear Learner\", \"Host\": \"algo-1\", \"Operation\": \"training\", \"epoch\": 4, \"model\": 2}, \"Metrics\": {\"validation_binary_classification_cross_entropy_objective\": {\"sum\": 0.49258806973121605, \"count\": 1, \"min\": 0.49258806973121605, \"max\": 0.49258806973121605}}}\n",
            "\u001b[0m\n",
            "\u001b[34m#metrics {\"StartTime\": 1634896238.8548195, \"EndTime\": 1634896238.8548372, \"Dimensions\": {\"Algorithm\": \"Linear Learner\", \"Host\": \"algo-1\", \"Operation\": \"training\", \"epoch\": 4, \"model\": 3}, \"Metrics\": {\"validation_binary_classification_cross_entropy_objective\": {\"sum\": 0.493679028695422, \"count\": 1, \"min\": 0.493679028695422, \"max\": 0.493679028695422}}}\n",
            "\u001b[0m\n",
            "\u001b[34m#metrics {\"StartTime\": 1634896238.8549066, \"EndTime\": 1634896238.8549256, \"Dimensions\": {\"Algorithm\": \"Linear Learner\", \"Host\": \"algo-1\", \"Operation\": \"training\", \"epoch\": 4, \"model\": 4}, \"Metrics\": {\"validation_binary_classification_cross_entropy_objective\": {\"sum\": 0.49260215518350076, \"count\": 1, \"min\": 0.49260215518350076, \"max\": 0.49260215518350076}}}\n",
            "\u001b[0m\n",
            "\u001b[34m#metrics {\"StartTime\": 1634896238.8549933, \"EndTime\": 1634896238.8550112, \"Dimensions\": {\"Algorithm\": \"Linear Learner\", \"Host\": \"algo-1\", \"Operation\": \"training\", \"epoch\": 4, \"model\": 5}, \"Metrics\": {\"validation_binary_classification_cross_entropy_objective\": {\"sum\": 0.5065262907803911, \"count\": 1, \"min\": 0.5065262907803911, \"max\": 0.5065262907803911}}}\n",
            "\u001b[0m\n",
            "\u001b[34m#metrics {\"StartTime\": 1634896238.8550668, \"EndTime\": 1634896238.8550825, \"Dimensions\": {\"Algorithm\": \"Linear Learner\", \"Host\": \"algo-1\", \"Operation\": \"training\", \"epoch\": 4, \"model\": 6}, \"Metrics\": {\"validation_binary_classification_cross_entropy_objective\": {\"sum\": 0.4926021563030079, \"count\": 1, \"min\": 0.4926021563030079, \"max\": 0.4926021563030079}}}\n",
            "\u001b[0m\n",
            "\u001b[34m#metrics {\"StartTime\": 1634896238.8551347, \"EndTime\": 1634896238.8551507, \"Dimensions\": {\"Algorithm\": \"Linear Learner\", \"Host\": \"algo-1\", \"Operation\": \"training\", \"epoch\": 4, \"model\": 7}, \"Metrics\": {\"validation_binary_classification_cross_entropy_objective\": {\"sum\": 0.5065249723741462, \"count\": 1, \"min\": 0.5065249723741462, \"max\": 0.5065249723741462}}}\n",
            "\u001b[0m\n",
            "\u001b[34m#metrics {\"StartTime\": 1634896238.855207, \"EndTime\": 1634896238.855223, \"Dimensions\": {\"Algorithm\": \"Linear Learner\", \"Host\": \"algo-1\", \"Operation\": \"training\", \"epoch\": 4, \"model\": 8}, \"Metrics\": {\"validation_binary_classification_cross_entropy_objective\": {\"sum\": 0.4927039181961861, \"count\": 1, \"min\": 0.4927039181961861, \"max\": 0.4927039181961861}}}\n",
            "\u001b[0m\n",
            "\u001b[34m#metrics {\"StartTime\": 1634896238.8552778, \"EndTime\": 1634896238.8552947, \"Dimensions\": {\"Algorithm\": \"Linear Learner\", \"Host\": \"algo-1\", \"Operation\": \"training\", \"epoch\": 4, \"model\": 9}, \"Metrics\": {\"validation_binary_classification_cross_entropy_objective\": {\"sum\": 0.49380906523416485, \"count\": 1, \"min\": 0.49380906523416485, \"max\": 0.49380906523416485}}}\n",
            "\u001b[0m\n",
            "\u001b[34m#metrics {\"StartTime\": 1634896238.8553479, \"EndTime\": 1634896238.855365, \"Dimensions\": {\"Algorithm\": \"Linear Learner\", \"Host\": \"algo-1\", \"Operation\": \"training\", \"epoch\": 4, \"model\": 10}, \"Metrics\": {\"validation_binary_classification_cross_entropy_objective\": {\"sum\": 0.4927081294088878, \"count\": 1, \"min\": 0.4927081294088878, \"max\": 0.4927081294088878}}}\n",
            "\u001b[0m\n",
            "\u001b[34m#metrics {\"StartTime\": 1634896238.8554192, \"EndTime\": 1634896238.8554363, \"Dimensions\": {\"Algorithm\": \"Linear Learner\", \"Host\": \"algo-1\", \"Operation\": \"training\", \"epoch\": 4, \"model\": 11}, \"Metrics\": {\"validation_binary_classification_cross_entropy_objective\": {\"sum\": 0.4938090559049386, \"count\": 1, \"min\": 0.4938090559049386, \"max\": 0.4938090559049386}}}\n",
            "\u001b[0m\n",
            "\u001b[34m#metrics {\"StartTime\": 1634896238.85549, \"EndTime\": 1634896238.8555064, \"Dimensions\": {\"Algorithm\": \"Linear Learner\", \"Host\": \"algo-1\", \"Operation\": \"training\", \"epoch\": 4, \"model\": 12}, \"Metrics\": {\"validation_binary_classification_cross_entropy_objective\": {\"sum\": 0.4927141435878428, \"count\": 1, \"min\": 0.4927141435878428, \"max\": 0.4927141435878428}}}\n",
            "\u001b[0m\n",
            "\u001b[34m#metrics {\"StartTime\": 1634896238.8555675, \"EndTime\": 1634896238.8555846, \"Dimensions\": {\"Algorithm\": \"Linear Learner\", \"Host\": \"algo-1\", \"Operation\": \"training\", \"epoch\": 4, \"model\": 13}, \"Metrics\": {\"validation_binary_classification_cross_entropy_objective\": {\"sum\": 0.5053415370821724, \"count\": 1, \"min\": 0.5053415370821724, \"max\": 0.5053415370821724}}}\n",
            "\u001b[0m\n",
            "\u001b[34m#metrics {\"StartTime\": 1634896238.8556535, \"EndTime\": 1634896238.855671, \"Dimensions\": {\"Algorithm\": \"Linear Learner\", \"Host\": \"algo-1\", \"Operation\": \"training\", \"epoch\": 4, \"model\": 14}, \"Metrics\": {\"validation_binary_classification_cross_entropy_objective\": {\"sum\": 0.49271414713294875, \"count\": 1, \"min\": 0.49271414713294875, \"max\": 0.49271414713294875}}}\n",
            "\u001b[0m\n",
            "\u001b[34m#metrics {\"StartTime\": 1634896238.8557258, \"EndTime\": 1634896238.855742, \"Dimensions\": {\"Algorithm\": \"Linear Learner\", \"Host\": \"algo-1\", \"Operation\": \"training\", \"epoch\": 4, \"model\": 15}, \"Metrics\": {\"validation_binary_classification_cross_entropy_objective\": {\"sum\": 0.5053415389480177, \"count\": 1, \"min\": 0.5053415389480177, \"max\": 0.5053415389480177}}}\n",
            "\u001b[0m\n",
            "\u001b[34m#metrics {\"StartTime\": 1634896238.8557956, \"EndTime\": 1634896238.8558128, \"Dimensions\": {\"Algorithm\": \"Linear Learner\", \"Host\": \"algo-1\", \"Operation\": \"training\", \"epoch\": 4, \"model\": 16}, \"Metrics\": {\"validation_binary_classification_cross_entropy_objective\": {\"sum\": 0.5078317988104637, \"count\": 1, \"min\": 0.5078317988104637, \"max\": 0.5078317988104637}}}\n",
            "\u001b[0m\n",
            "\u001b[34m#metrics {\"StartTime\": 1634896238.8558657, \"EndTime\": 1634896238.8558817, \"Dimensions\": {\"Algorithm\": \"Linear Learner\", \"Host\": \"algo-1\", \"Operation\": \"training\", \"epoch\": 4, \"model\": 17}, \"Metrics\": {\"validation_binary_classification_cross_entropy_objective\": {\"sum\": 0.5083250973183081, \"count\": 1, \"min\": 0.5083250973183081, \"max\": 0.5083250973183081}}}\n",
            "\u001b[0m\n",
            "\u001b[34m#metrics {\"StartTime\": 1634896238.8559344, \"EndTime\": 1634896238.85595, \"Dimensions\": {\"Algorithm\": \"Linear Learner\", \"Host\": \"algo-1\", \"Operation\": \"training\", \"epoch\": 4, \"model\": 18}, \"Metrics\": {\"validation_binary_classification_cross_entropy_objective\": {\"sum\": 0.5078673730157677, \"count\": 1, \"min\": 0.5078673730157677, \"max\": 0.5078673730157677}}}\n",
            "\u001b[0m\n",
            "\u001b[34m#metrics {\"StartTime\": 1634896238.8560135, \"EndTime\": 1634896238.8560312, \"Dimensions\": {\"Algorithm\": \"Linear Learner\", \"Host\": \"algo-1\", \"Operation\": \"training\", \"epoch\": 4, \"model\": 19}, \"Metrics\": {\"validation_binary_classification_cross_entropy_objective\": {\"sum\": 0.5083250745549962, \"count\": 1, \"min\": 0.5083250745549962, \"max\": 0.5083250745549962}}}\n",
            "\u001b[0m\n",
            "\u001b[34m#metrics {\"StartTime\": 1634896238.8560972, \"EndTime\": 1634896238.8561144, \"Dimensions\": {\"Algorithm\": \"Linear Learner\", \"Host\": \"algo-1\", \"Operation\": \"training\", \"epoch\": 4, \"model\": 20}, \"Metrics\": {\"validation_binary_classification_cross_entropy_objective\": {\"sum\": 0.50789362489851, \"count\": 1, \"min\": 0.50789362489851, \"max\": 0.50789362489851}}}\n",
            "\u001b[0m\n",
            "\u001b[34m#metrics {\"StartTime\": 1634896238.856164, \"EndTime\": 1634896238.856179, \"Dimensions\": {\"Algorithm\": \"Linear Learner\", \"Host\": \"algo-1\", \"Operation\": \"training\", \"epoch\": 4, \"model\": 21}, \"Metrics\": {\"validation_binary_classification_cross_entropy_objective\": {\"sum\": 0.5075575600493482, \"count\": 1, \"min\": 0.5075575600493482, \"max\": 0.5075575600493482}}}\n",
            "\u001b[0m\n",
            "\u001b[34m#metrics {\"StartTime\": 1634896238.856232, \"EndTime\": 1634896238.8562472, \"Dimensions\": {\"Algorithm\": \"Linear Learner\", \"Host\": \"algo-1\", \"Operation\": \"training\", \"epoch\": 4, \"model\": 22}, \"Metrics\": {\"validation_binary_classification_cross_entropy_objective\": {\"sum\": 0.5078936271375243, \"count\": 1, \"min\": 0.5078936271375243, \"max\": 0.5078936271375243}}}\n",
            "\u001b[0m\n",
            "\u001b[34m#metrics {\"StartTime\": 1634896238.8562996, \"EndTime\": 1634896238.8563151, \"Dimensions\": {\"Algorithm\": \"Linear Learner\", \"Host\": \"algo-1\", \"Operation\": \"training\", \"epoch\": 4, \"model\": 23}, \"Metrics\": {\"validation_binary_classification_cross_entropy_objective\": {\"sum\": 0.5075575598627636, \"count\": 1, \"min\": 0.5075575598627636, \"max\": 0.5075575598627636}}}\n",
            "\u001b[0m\n",
            "\u001b[34m#metrics {\"StartTime\": 1634896238.8563673, \"EndTime\": 1634896238.8563817, \"Dimensions\": {\"Algorithm\": \"Linear Learner\", \"Host\": \"algo-1\", \"Operation\": \"training\", \"epoch\": 4, \"model\": 24}, \"Metrics\": {\"validation_binary_classification_cross_entropy_objective\": {\"sum\": 0.513763784670569, \"count\": 1, \"min\": 0.513763784670569, \"max\": 0.513763784670569}}}\n",
            "\u001b[0m\n",
            "\u001b[34m#metrics {\"StartTime\": 1634896238.8564296, \"EndTime\": 1634896238.8564441, \"Dimensions\": {\"Algorithm\": \"Linear Learner\", \"Host\": \"algo-1\", \"Operation\": \"training\", \"epoch\": 4, \"model\": 25}, \"Metrics\": {\"validation_binary_classification_cross_entropy_objective\": {\"sum\": 0.5143107517910801, \"count\": 1, \"min\": 0.5143107517910801, \"max\": 0.5143107517910801}}}\n",
            "\u001b[0m\n",
            "\u001b[34m#metrics {\"StartTime\": 1634896238.8565042, \"EndTime\": 1634896238.8565192, \"Dimensions\": {\"Algorithm\": \"Linear Learner\", \"Host\": \"algo-1\", \"Operation\": \"training\", \"epoch\": 4, \"model\": 26}, \"Metrics\": {\"validation_binary_classification_cross_entropy_objective\": {\"sum\": 0.5137592980591101, \"count\": 1, \"min\": 0.5137592980591101, \"max\": 0.5137592980591101}}}\n",
            "\u001b[0m\n",
            "\u001b[34m#metrics {\"StartTime\": 1634896238.8565676, \"EndTime\": 1634896238.856583, \"Dimensions\": {\"Algorithm\": \"Linear Learner\", \"Host\": \"algo-1\", \"Operation\": \"training\", \"epoch\": 4, \"model\": 27}, \"Metrics\": {\"validation_binary_classification_cross_entropy_objective\": {\"sum\": 0.5143088544130577, \"count\": 1, \"min\": 0.5143088544130577, \"max\": 0.5143088544130577}}}\n",
            "\u001b[0m\n",
            "\u001b[34m#metrics {\"StartTime\": 1634896238.8566334, \"EndTime\": 1634896238.8566482, \"Dimensions\": {\"Algorithm\": \"Linear Learner\", \"Host\": \"algo-1\", \"Operation\": \"training\", \"epoch\": 4, \"model\": 28}, \"Metrics\": {\"validation_binary_classification_cross_entropy_objective\": {\"sum\": 0.5137616846617539, \"count\": 1, \"min\": 0.5137616846617539, \"max\": 0.5137616846617539}}}\n",
            "\u001b[0m\n",
            "\u001b[34m#metrics {\"StartTime\": 1634896238.856696, \"EndTime\": 1634896238.8567119, \"Dimensions\": {\"Algorithm\": \"Linear Learner\", \"Host\": \"algo-1\", \"Operation\": \"training\", \"epoch\": 4, \"model\": 29}, \"Metrics\": {\"validation_binary_classification_cross_entropy_objective\": {\"sum\": 0.5140230595394619, \"count\": 1, \"min\": 0.5140230595394619, \"max\": 0.5140230595394619}}}\n",
            "\u001b[0m\n",
            "\u001b[34m#metrics {\"StartTime\": 1634896238.8567762, \"EndTime\": 1634896238.856794, \"Dimensions\": {\"Algorithm\": \"Linear Learner\", \"Host\": \"algo-1\", \"Operation\": \"training\", \"epoch\": 4, \"model\": 30}, \"Metrics\": {\"validation_binary_classification_cross_entropy_objective\": {\"sum\": 0.5137617895222563, \"count\": 1, \"min\": 0.5137617895222563, \"max\": 0.5137617895222563}}}\n",
            "\u001b[0m\n",
            "\u001b[34m#metrics {\"StartTime\": 1634896238.8568509, \"EndTime\": 1634896238.8568676, \"Dimensions\": {\"Algorithm\": \"Linear Learner\", \"Host\": \"algo-1\", \"Operation\": \"training\", \"epoch\": 4, \"model\": 31}, \"Metrics\": {\"validation_binary_classification_cross_entropy_objective\": {\"sum\": 0.5140230565541095, \"count\": 1, \"min\": 0.5140230565541095, \"max\": 0.5140230565541095}}}\n",
            "\u001b[0m\n",
            "\u001b[34m[10/22/2021 09:50:38 INFO 140033973606208] #quality_metric: host=algo-1, epoch=4, validation binary_classification_cross_entropy_objective <loss>=0.4925791299069282\u001b[0m\n",
            "\u001b[34m[10/22/2021 09:50:38 INFO 140033973606208] #early_stopping_criteria_metric: host=algo-1, epoch=4, criteria=binary_classification_cross_entropy_objective, value=0.4925791299069282\u001b[0m\n",
            "\u001b[34m[10/22/2021 09:50:38 INFO 140033973606208] Saving model for epoch: 4\u001b[0m\n",
            "\u001b[34m[10/22/2021 09:50:38 INFO 140033973606208] Saved checkpoint to \"/tmp/tmp5jbs5qvb/mx-mod-0000.params\"\u001b[0m\n",
            "\u001b[34m[10/22/2021 09:50:38 INFO 140033973606208] Early stop condition met. Stopping training.\u001b[0m\n",
            "\u001b[34m[10/22/2021 09:50:38 INFO 140033973606208] #progress_metric: host=algo-1, completed 100 % epochs\u001b[0m\n",
            "\u001b[34m#metrics {\"StartTime\": 1634896184.7115936, \"EndTime\": 1634896238.8636818, \"Dimensions\": {\"Algorithm\": \"Linear Learner\", \"Host\": \"algo-1\", \"Operation\": \"training\", \"epoch\": 4, \"Meta\": \"training_data_iter\"}, \"Metrics\": {\"Total Records Seen\": {\"sum\": 6554360.0, \"count\": 1, \"min\": 6554360, \"max\": 6554360}, \"Total Batches Seen\": {\"sum\": 6557.0, \"count\": 1, \"min\": 6557, \"max\": 6557}, \"Max Records Seen Between Resets\": {\"sum\": 1308472.0, \"count\": 1, \"min\": 1308472, \"max\": 1308472}, \"Max Batches Seen Between Resets\": {\"sum\": 1309.0, \"count\": 1, \"min\": 1309, \"max\": 1309}, \"Reset Count\": {\"sum\": 7.0, \"count\": 1, \"min\": 7, \"max\": 7}, \"Number of Records Since Last Reset\": {\"sum\": 1308472.0, \"count\": 1, \"min\": 1308472, \"max\": 1308472}, \"Number of Batches Since Last Reset\": {\"sum\": 1309.0, \"count\": 1, \"min\": 1309, \"max\": 1309}}}\n",
            "\u001b[0m\n",
            "\u001b[34m[10/22/2021 09:50:38 INFO 140033973606208] #throughput_metric: host=algo-1, train throughput=24162.853439501563 records/second\u001b[0m\n",
            "\u001b[34m[10/22/2021 09:50:38 WARNING 140033973606208] wait_for_all_workers will not sync workers since the kv store is not running distributed\u001b[0m\n",
            "\u001b[34m[10/22/2021 09:50:38 WARNING 140033973606208] wait_for_all_workers will not sync workers since the kv store is not running distributed\u001b[0m\n",
            "\u001b[34m[2021-10-22 09:50:43.316] [tensorio] [info] epoch_stats={\"data_pipeline\": \"/opt/ml/input/data/validation\", \"epoch\": 17, \"duration\": 4433, \"num_examples\": 164, \"num_bytes\": 68694780}\u001b[0m\n",
            "\u001b[34m[10/22/2021 09:50:43 INFO 140033973606208] #early_stopping_criteria_metric: host=algo-1, epoch=4, criteria=binary_classification_cross_entropy_objective, value=0.4925791299069282\u001b[0m\n",
            "\u001b[34m[2021-10-22 09:50:43.997] [tensorio] [info] epoch_stats={\"data_pipeline\": \"/opt/ml/input/data/validation\", \"epoch\": 19, \"duration\": 669, \"num_examples\": 164, \"num_bytes\": 68694780}\u001b[0m\n",
            "\u001b[34m[10/22/2021 09:50:44 INFO 140033973606208] #validation_score (algo-1) : ('binary_classification_cross_entropy_objective', 0.4929346874278739)\u001b[0m\n",
            "\u001b[34m[10/22/2021 09:50:44 INFO 140033973606208] #validation_score (algo-1) : ('binary_classification_accuracy', 0.7903997945695437)\u001b[0m\n",
            "\u001b[34m[10/22/2021 09:50:44 INFO 140033973606208] #validation_score (algo-1) : ('binary_f_1.000', 0.010106260106260105)\u001b[0m\n",
            "\u001b[34m[10/22/2021 09:50:44 INFO 140033973606208] #validation_score (algo-1) : ('precision', 0.5852842809364549)\u001b[0m\n",
            "\u001b[34m[10/22/2021 09:50:44 INFO 140033973606208] #validation_score (algo-1) : ('recall', 0.00509713686540646)\u001b[0m\n",
            "\u001b[34m[10/22/2021 09:50:44 INFO 140033973606208] #validation_score (algo-1) : ('roc_auc_score', 0.6414278981371813)\u001b[0m\n",
            "\u001b[34m[10/22/2021 09:50:44 INFO 140033973606208] #quality_metric: host=algo-1, validation binary_classification_cross_entropy_objective <loss>=0.4929346874278739\u001b[0m\n",
            "\u001b[34m[10/22/2021 09:50:44 INFO 140033973606208] #quality_metric: host=algo-1, validation binary_classification_accuracy <score>=0.7903997945695437\u001b[0m\n",
            "\u001b[34m[10/22/2021 09:50:44 INFO 140033973606208] #quality_metric: host=algo-1, validation binary_f_1.000 <score>=0.010106260106260105\u001b[0m\n",
            "\u001b[34m[10/22/2021 09:50:44 INFO 140033973606208] #quality_metric: host=algo-1, validation precision <score>=0.5852842809364549\u001b[0m\n",
            "\u001b[34m[10/22/2021 09:50:44 INFO 140033973606208] #quality_metric: host=algo-1, validation recall <score>=0.00509713686540646\u001b[0m\n",
            "\u001b[34m[10/22/2021 09:50:44 INFO 140033973606208] #quality_metric: host=algo-1, validation roc_auc_score <score>=0.6414278981371813\u001b[0m\n",
            "\u001b[34m[10/22/2021 09:50:44 INFO 140033973606208] Best model found for hyperparameters: {\"optimizer\": \"adam\", \"learning_rate\": 0.005, \"wd\": 0.0001, \"l1\": 0.0, \"lr_scheduler_step\": 10, \"lr_scheduler_factor\": 0.99, \"lr_scheduler_minimum_lr\": 0.0001}\u001b[0m\n",
            "\u001b[34m[10/22/2021 09:50:44 INFO 140033973606208] Saved checkpoint to \"/tmp/tmpup97ee7s/mx-mod-0000.params\"\u001b[0m\n",
            "\u001b[34m[2021-10-22 09:50:44.072] [tensorio] [info] epoch_stats={\"data_pipeline\": \"/opt/ml/input/data/test\", \"epoch\": 0, \"duration\": 282174, \"num_examples\": 1, \"num_bytes\": 420000}\u001b[0m\n",
            "\u001b[34m[2021-10-22 09:50:44.778] [tensorio] [info] epoch_stats={\"data_pipeline\": \"/opt/ml/input/data/test\", \"epoch\": 1, \"duration\": 706, \"num_examples\": 164, \"num_bytes\": 68694780}\u001b[0m\n",
            "\u001b[34m#metrics {\"StartTime\": 1634896244.0693629, \"EndTime\": 1634896244.8378205, \"Dimensions\": {\"Algorithm\": \"Linear Learner\", \"Host\": \"algo-1\", \"Operation\": \"training\", \"Meta\": \"test_data_iter\"}, \"Metrics\": {\"Total Records Seen\": {\"sum\": 163559.0, \"count\": 1, \"min\": 163559, \"max\": 163559}, \"Total Batches Seen\": {\"sum\": 164.0, \"count\": 1, \"min\": 164, \"max\": 164}, \"Max Records Seen Between Resets\": {\"sum\": 163559.0, \"count\": 1, \"min\": 163559, \"max\": 163559}, \"Max Batches Seen Between Resets\": {\"sum\": 164.0, \"count\": 1, \"min\": 164, \"max\": 164}, \"Reset Count\": {\"sum\": 1.0, \"count\": 1, \"min\": 1, \"max\": 1}, \"Number of Records Since Last Reset\": {\"sum\": 163559.0, \"count\": 1, \"min\": 163559, \"max\": 163559}, \"Number of Batches Since Last Reset\": {\"sum\": 164.0, \"count\": 1, \"min\": 164, \"max\": 164}}}\n",
            "\u001b[0m\n",
            "\u001b[34m[10/22/2021 09:50:44 INFO 140033973606208] #test_score (algo-1) : ('binary_classification_cross_entropy_objective', 0.4930683136662697)\u001b[0m\n",
            "\u001b[34m[10/22/2021 09:50:44 INFO 140033973606208] #test_score (algo-1) : ('binary_classification_accuracy', 0.7901063224891324)\u001b[0m\n",
            "\u001b[34m[10/22/2021 09:50:44 INFO 140033973606208] #test_score (algo-1) : ('binary_f_1.000', 0.008090147356255418)\u001b[0m\n",
            "\u001b[34m[10/22/2021 09:50:44 INFO 140033973606208] #test_score (algo-1) : ('precision', 0.5054151624548736)\u001b[0m\n",
            "\u001b[34m[10/22/2021 09:50:44 INFO 140033973606208] #test_score (algo-1) : ('recall', 0.004077709492325168)\u001b[0m\n",
            "\u001b[34m[10/22/2021 09:50:44 INFO 140033973606208] #test_score (algo-1) : ('roc_auc_score', 0.6414830102935107)\u001b[0m\n",
            "\u001b[34m[10/22/2021 09:50:44 INFO 140033973606208] #quality_metric: host=algo-1, test binary_classification_cross_entropy_objective <loss>=0.4930683136662697\u001b[0m\n",
            "\u001b[34m[10/22/2021 09:50:44 INFO 140033973606208] #quality_metric: host=algo-1, test binary_classification_accuracy <score>=0.7901063224891324\u001b[0m\n",
            "\u001b[34m[10/22/2021 09:50:44 INFO 140033973606208] #quality_metric: host=algo-1, test binary_f_1.000 <score>=0.008090147356255418\u001b[0m\n",
            "\u001b[34m[10/22/2021 09:50:44 INFO 140033973606208] #quality_metric: host=algo-1, test precision <score>=0.5054151624548736\u001b[0m\n",
            "\u001b[34m[10/22/2021 09:50:44 INFO 140033973606208] #quality_metric: host=algo-1, test recall <score>=0.004077709492325168\u001b[0m\n",
            "\u001b[34m[10/22/2021 09:50:44 INFO 140033973606208] #quality_metric: host=algo-1, test roc_auc_score <score>=0.6414830102935107\u001b[0m\n",
            "\u001b[34m#metrics {\"StartTime\": 1634895961.8760326, \"EndTime\": 1634896244.844976, \"Dimensions\": {\"Algorithm\": \"Linear Learner\", \"Host\": \"algo-1\", \"Operation\": \"training\"}, \"Metrics\": {\"initialize.time\": {\"sum\": 530.8949947357178, \"count\": 1, \"min\": 530.8949947357178, \"max\": 530.8949947357178}, \"epochs\": {\"sum\": 15.0, \"count\": 1, \"min\": 15, \"max\": 15}, \"check_early_stopping.time\": {\"sum\": 2.171039581298828, \"count\": 6, \"min\": 0.2300739288330078, \"max\": 0.9119510650634766}, \"update.time\": {\"sum\": 276390.6877040863, \"count\": 5, \"min\": 54148.97441864014, \"max\": 56161.58390045166}, \"finalize.time\": {\"sum\": 5202.357769012451, \"count\": 1, \"min\": 5202.357769012451, \"max\": 5202.357769012451}, \"setuptime\": {\"sum\": 53.80749702453613, \"count\": 1, \"min\": 53.80749702453613, \"max\": 53.80749702453613}, \"totaltime\": {\"sum\": 283291.2685871124, \"count\": 1, \"min\": 283291.2685871124, \"max\": 283291.2685871124}}}\n",
            "\u001b[0m\n",
            "\n",
            "2021-10-22 09:51:10 Uploading - Uploading generated training model\n",
            "2021-10-22 09:51:10 Completed - Training job completed\n",
            "Training seconds: 380\n",
            "Billable seconds: 380\n"
          ]
        }
      ]
    },
    {
      "cell_type": "markdown",
      "metadata": {
        "id": "92q3jTAT8y2O"
      },
      "source": [
        "## Model evaluation\n",
        "In this section, you will evaluate your trained model. "
      ]
    },
    {
      "cell_type": "markdown",
      "metadata": {
        "id": "8IE-ed3y8y2O"
      },
      "source": [
        "First, examine the metrics for the training job:"
      ]
    },
    {
      "cell_type": "code",
      "metadata": {
        "id": "Gqv607Ut8y2O",
        "outputId": "215b2cb4-1a49-4448-c082-0497a725da8b"
      },
      "source": [
        "sagemaker.analytics.TrainingJobAnalytics(classifier_estimator._current_job_name, \n",
        "                                         metric_names = ['test:objective_loss', \n",
        "                                                         'test:binary_f_beta',\n",
        "                                                         'test:precision',\n",
        "                                                         'test:recall']\n",
        "                                        ).dataframe()"
      ],
      "execution_count": null,
      "outputs": [
        {
          "data": {
            "text/html": [
              "<div>\n",
              "<style scoped>\n",
              "    .dataframe tbody tr th:only-of-type {\n",
              "        vertical-align: middle;\n",
              "    }\n",
              "\n",
              "    .dataframe tbody tr th {\n",
              "        vertical-align: top;\n",
              "    }\n",
              "\n",
              "    .dataframe thead th {\n",
              "        text-align: right;\n",
              "    }\n",
              "</style>\n",
              "<table border=\"1\" class=\"dataframe\">\n",
              "  <thead>\n",
              "    <tr style=\"text-align: right;\">\n",
              "      <th></th>\n",
              "      <th>timestamp</th>\n",
              "      <th>metric_name</th>\n",
              "      <th>value</th>\n",
              "    </tr>\n",
              "  </thead>\n",
              "  <tbody>\n",
              "    <tr>\n",
              "      <th>0</th>\n",
              "      <td>0.0</td>\n",
              "      <td>test:objective_loss</td>\n",
              "      <td>0.493068</td>\n",
              "    </tr>\n",
              "    <tr>\n",
              "      <th>1</th>\n",
              "      <td>0.0</td>\n",
              "      <td>test:binary_f_beta</td>\n",
              "      <td>0.008090</td>\n",
              "    </tr>\n",
              "    <tr>\n",
              "      <th>2</th>\n",
              "      <td>0.0</td>\n",
              "      <td>test:precision</td>\n",
              "      <td>0.505415</td>\n",
              "    </tr>\n",
              "    <tr>\n",
              "      <th>3</th>\n",
              "      <td>0.0</td>\n",
              "      <td>test:recall</td>\n",
              "      <td>0.004078</td>\n",
              "    </tr>\n",
              "  </tbody>\n",
              "</table>\n",
              "</div>"
            ],
            "text/plain": [
              "   timestamp          metric_name     value\n",
              "0        0.0  test:objective_loss  0.493068\n",
              "1        0.0   test:binary_f_beta  0.008090\n",
              "2        0.0       test:precision  0.505415\n",
              "3        0.0          test:recall  0.004078"
            ]
          },
          "execution_count": 53,
          "metadata": {},
          "output_type": "execute_result"
        }
      ]
    },
    {
      "cell_type": "markdown",
      "metadata": {
        "id": "cdgmGrJv8y2P"
      },
      "source": [
        "Next, set up some functions that will help load the test data into Amazon S3 and perform a prediction by using the batch prediction function. Using batch prediction will help reduce costs because the instances will only run when predictions are performed on the supplied test data.\n",
        "\n",
        "**Note:** Replace `<LabBucketName>` with the name of the lab bucket that was created during the lab setup."
      ]
    },
    {
      "cell_type": "code",
      "metadata": {
        "id": "9jEscLPJ8y2P"
      },
      "source": [
        "import io\n",
        "sess = sagemaker.Session()\n",
        "bucket = sess.default_bucket()  \n",
        "prefix='flight-linear'\n",
        "train_file='flight_train.csv'\n",
        "test_file='flight_test.csv'\n",
        "validate_file='flight_validate.csv'\n",
        "whole_file='flight.csv'\n",
        "s3_resource = boto3.Session().resource('s3')\n",
        "\n",
        "def upload_s3_csv(filename, folder, dataframe):\n",
        "    csv_buffer = io.StringIO()\n",
        "    dataframe.to_csv(csv_buffer, header=False, index=False )\n",
        "    s3_resource.Bucket(bucket).Object(os.path.join(prefix, folder, filename)).put(Body=csv_buffer.getvalue())"
      ],
      "execution_count": null,
      "outputs": []
    },
    {
      "cell_type": "code",
      "metadata": {
        "id": "7anaGmOE8y2P"
      },
      "source": [
        "def batch_linear_predict(test_data, estimator):\n",
        "    batch_X = test_data.iloc[:,1:];\n",
        "    batch_X_file='batch-in.csv'\n",
        "    upload_s3_csv(batch_X_file, 'batch-in', batch_X)\n",
        "\n",
        "    batch_output = \"s3://{}/{}/batch-out/\".format(bucket,prefix)\n",
        "    batch_input = \"s3://{}/{}/batch-in/{}\".format(bucket,prefix,batch_X_file)\n",
        "\n",
        "    classifier_transformer = estimator.transformer(instance_count=1,\n",
        "                                           instance_type='ml.m4.xlarge',\n",
        "                                           strategy='MultiRecord',\n",
        "                                           assemble_with='Line',\n",
        "                                           output_path=batch_output)\n",
        "\n",
        "    classifier_transformer.transform(data=batch_input,\n",
        "                             data_type='S3Prefix',\n",
        "                             content_type='text/csv',\n",
        "                             split_type='Line')\n",
        "    \n",
        "    classifier_transformer.wait()\n",
        "\n",
        "    s3 = boto3.client('s3')\n",
        "    obj = s3.get_object(Bucket=bucket, Key=\"{}/batch-out/{}\".format(prefix,'batch-in.csv.out'))\n",
        "    target_predicted_df = pd.read_json(io.BytesIO(obj['Body'].read()),orient=\"records\",lines=True)\n",
        "    return test_data.iloc[:,0], target_predicted_df.iloc[:,0]"
      ],
      "execution_count": null,
      "outputs": []
    },
    {
      "cell_type": "markdown",
      "metadata": {
        "id": "yWRbrlGT8y2Q"
      },
      "source": [
        "\n",
        "To run the predictions on the test dataset, run the `batch_linear_predict` function (which was defined previously) on your test dataset.\n"
      ]
    },
    {
      "cell_type": "code",
      "metadata": {
        "id": "ioEempgC8y2Q",
        "outputId": "0e464c86-b552-48e3-9815-b174bd53b21c"
      },
      "source": [
        "test_labels, target_predicted = batch_linear_predict(test, classifier_estimator)"
      ],
      "execution_count": null,
      "outputs": [
        {
          "name": "stderr",
          "output_type": "stream",
          "text": [
            "Defaulting to the only supported framework/algorithm version: 1. Ignoring framework/algorithm version: 1.\n"
          ]
        },
        {
          "name": "stdout",
          "output_type": "stream",
          "text": [
            ".................................\u001b[34mDocker entrypoint called with argument(s): serve\u001b[0m\n",
            "\u001b[35mDocker entrypoint called with argument(s): serve\u001b[0m\n",
            "\u001b[34mRunning default environment configuration script\u001b[0m\n",
            "\u001b[35mRunning default environment configuration script\u001b[0m\n",
            "\u001b[34m[10/22/2021 09:57:17 INFO 140545446115136] loaded entry point class algorithm.serve.server_config:config_api\u001b[0m\n",
            "\u001b[34m[10/22/2021 09:57:17 INFO 140545446115136] loading entry points\u001b[0m\n",
            "\u001b[34m[10/22/2021 09:57:17 INFO 140545446115136] loaded request iterator application/json\u001b[0m\n",
            "\u001b[34m[10/22/2021 09:57:17 INFO 140545446115136] loaded request iterator application/jsonlines\u001b[0m\n",
            "\u001b[34m[10/22/2021 09:57:17 INFO 140545446115136] loaded request iterator application/x-recordio-protobuf\u001b[0m\n",
            "\u001b[34m[10/22/2021 09:57:17 INFO 140545446115136] loaded request iterator text/csv\u001b[0m\n",
            "\u001b[34m[10/22/2021 09:57:17 INFO 140545446115136] loaded response encoder application/json\u001b[0m\n",
            "\u001b[34m[10/22/2021 09:57:17 INFO 140545446115136] loaded response encoder application/jsonlines\u001b[0m\n",
            "\u001b[34m[10/22/2021 09:57:17 INFO 140545446115136] loaded response encoder application/x-recordio-protobuf\u001b[0m\n",
            "\u001b[34m[10/22/2021 09:57:17 INFO 140545446115136] loaded response encoder text/csv\u001b[0m\n",
            "\u001b[35m[10/22/2021 09:57:17 INFO 140545446115136] loaded entry point class algorithm.serve.server_config:config_api\u001b[0m\n",
            "\u001b[35m[10/22/2021 09:57:17 INFO 140545446115136] loading entry points\u001b[0m\n",
            "\u001b[35m[10/22/2021 09:57:17 INFO 140545446115136] loaded request iterator application/json\u001b[0m\n",
            "\u001b[35m[10/22/2021 09:57:17 INFO 140545446115136] loaded request iterator application/jsonlines\u001b[0m\n",
            "\u001b[35m[10/22/2021 09:57:17 INFO 140545446115136] loaded request iterator application/x-recordio-protobuf\u001b[0m\n",
            "\u001b[35m[10/22/2021 09:57:17 INFO 140545446115136] loaded request iterator text/csv\u001b[0m\n",
            "\u001b[35m[10/22/2021 09:57:17 INFO 140545446115136] loaded response encoder application/json\u001b[0m\n",
            "\u001b[35m[10/22/2021 09:57:17 INFO 140545446115136] loaded response encoder application/jsonlines\u001b[0m\n",
            "\u001b[35m[10/22/2021 09:57:17 INFO 140545446115136] loaded response encoder application/x-recordio-protobuf\u001b[0m\n",
            "\u001b[35m[10/22/2021 09:57:17 INFO 140545446115136] loaded response encoder text/csv\u001b[0m\n",
            "\u001b[34m[10/22/2021 09:57:18 INFO 140545446115136] loaded entry point class algorithm:model\u001b[0m\n",
            "\u001b[34m[10/22/2021 09:57:18 INFO 140545446115136] Number of server workers: 4\u001b[0m\n",
            "\u001b[34m[10/22/2021 09:57:18 INFO 140545446115136] loading model...\u001b[0m\n",
            "\u001b[34m[10/22/2021 09:57:18 INFO 140545446115136] ...model loaded.\u001b[0m\n",
            "\u001b[34m[2021-10-22 09:57:18 +0000] [1] [INFO] Starting gunicorn 20.0.4\u001b[0m\n",
            "\u001b[34m[2021-10-22 09:57:18 +0000] [1] [INFO] Listening at: http://0.0.0.0:8080 (1)\u001b[0m\n",
            "\u001b[34m[2021-10-22 09:57:18 +0000] [1] [INFO] Using worker: sync\u001b[0m\n",
            "\u001b[34m[2021-10-22 09:57:18 +0000] [60] [INFO] Booting worker with pid: 60\u001b[0m\n",
            "\u001b[34m[2021-10-22 09:57:18 +0000] [69] [INFO] Booting worker with pid: 69\u001b[0m\n",
            "\u001b[34m[2021-10-22 09:57:18 +0000] [78] [INFO] Booting worker with pid: 78\u001b[0m\n",
            "\u001b[34m[2021-10-22 09:57:18 +0000] [87] [INFO] Booting worker with pid: 87\u001b[0m\n",
            "\u001b[35m[10/22/2021 09:57:18 INFO 140545446115136] loaded entry point class algorithm:model\u001b[0m\n",
            "\u001b[35m[10/22/2021 09:57:18 INFO 140545446115136] Number of server workers: 4\u001b[0m\n",
            "\u001b[35m[10/22/2021 09:57:18 INFO 140545446115136] loading model...\u001b[0m\n",
            "\u001b[35m[10/22/2021 09:57:18 INFO 140545446115136] ...model loaded.\u001b[0m\n",
            "\u001b[35m[2021-10-22 09:57:18 +0000] [1] [INFO] Starting gunicorn 20.0.4\u001b[0m\n",
            "\u001b[35m[2021-10-22 09:57:18 +0000] [1] [INFO] Listening at: http://0.0.0.0:8080 (1)\u001b[0m\n",
            "\u001b[35m[2021-10-22 09:57:18 +0000] [1] [INFO] Using worker: sync\u001b[0m\n",
            "\u001b[35m[2021-10-22 09:57:18 +0000] [60] [INFO] Booting worker with pid: 60\u001b[0m\n",
            "\u001b[35m[2021-10-22 09:57:18 +0000] [69] [INFO] Booting worker with pid: 69\u001b[0m\n",
            "\u001b[35m[2021-10-22 09:57:18 +0000] [78] [INFO] Booting worker with pid: 78\u001b[0m\n",
            "\u001b[35m[2021-10-22 09:57:18 +0000] [87] [INFO] Booting worker with pid: 87\u001b[0m\n",
            "\u001b[34m#metrics {\"StartTime\": 1634896638.0338373, \"EndTime\": 1634896639.2182703, \"Dimensions\": {\"Algorithm\": \"LinearLearnerModel\", \"Host\": \"UNKNOWN\", \"Operation\": \"scoring\"}, \"Metrics\": {\"execution_parameters.count\": {\"sum\": 1.0, \"count\": 1, \"min\": 1, \"max\": 1}}}\u001b[0m\n",
            "\u001b[35m#metrics {\"StartTime\": 1634896638.0338373, \"EndTime\": 1634896639.2182703, \"Dimensions\": {\"Algorithm\": \"LinearLearnerModel\", \"Host\": \"UNKNOWN\", \"Operation\": \"scoring\"}, \"Metrics\": {\"execution_parameters.count\": {\"sum\": 1.0, \"count\": 1, \"min\": 1, \"max\": 1}}}\u001b[0m\n",
            "\u001b[32m2021-10-22T09:57:19.233:[sagemaker logs]: MaxConcurrentTransforms=4, MaxPayloadInMB=6, BatchStrategy=MULTI_RECORD\u001b[0m\n",
            "\u001b[34m#metrics {\"StartTime\": 1634896638.0338373, \"EndTime\": 1634896641.607171, \"Dimensions\": {\"Algorithm\": \"LinearLearnerModel\", \"Host\": \"UNKNOWN\", \"Operation\": \"scoring\"}, \"Metrics\": {\"json.encoder.time\": {\"sum\": 74.38373565673828, \"count\": 1, \"min\": 74.38373565673828, \"max\": 74.38373565673828}, \"invocations.count\": {\"sum\": 1.0, \"count\": 1, \"min\": 1, \"max\": 1}}}\u001b[0m\n",
            "\u001b[34m#metrics {\"StartTime\": 1634896638.0338373, \"EndTime\": 1634896641.6441698, \"Dimensions\": {\"Algorithm\": \"LinearLearnerModel\", \"Host\": \"UNKNOWN\", \"Operation\": \"scoring\"}, \"Metrics\": {\"json.encoder.time\": {\"sum\": 74.0814208984375, \"count\": 1, \"min\": 74.0814208984375, \"max\": 74.0814208984375}, \"invocations.count\": {\"sum\": 1.0, \"count\": 1, \"min\": 1, \"max\": 1}}}\u001b[0m\n",
            "\u001b[34m#metrics {\"StartTime\": 1634896638.0338373, \"EndTime\": 1634896641.7242827, \"Dimensions\": {\"Algorithm\": \"LinearLearnerModel\", \"Host\": \"UNKNOWN\", \"Operation\": \"scoring\"}, \"Metrics\": {\"json.encoder.time\": {\"sum\": 76.27415657043457, \"count\": 1, \"min\": 76.27415657043457, \"max\": 76.27415657043457}, \"invocations.count\": {\"sum\": 1.0, \"count\": 1, \"min\": 1, \"max\": 1}}}\u001b[0m\n",
            "\u001b[35m#metrics {\"StartTime\": 1634896638.0338373, \"EndTime\": 1634896641.607171, \"Dimensions\": {\"Algorithm\": \"LinearLearnerModel\", \"Host\": \"UNKNOWN\", \"Operation\": \"scoring\"}, \"Metrics\": {\"json.encoder.time\": {\"sum\": 74.38373565673828, \"count\": 1, \"min\": 74.38373565673828, \"max\": 74.38373565673828}, \"invocations.count\": {\"sum\": 1.0, \"count\": 1, \"min\": 1, \"max\": 1}}}\u001b[0m\n",
            "\u001b[35m#metrics {\"StartTime\": 1634896638.0338373, \"EndTime\": 1634896641.6441698, \"Dimensions\": {\"Algorithm\": \"LinearLearnerModel\", \"Host\": \"UNKNOWN\", \"Operation\": \"scoring\"}, \"Metrics\": {\"json.encoder.time\": {\"sum\": 74.0814208984375, \"count\": 1, \"min\": 74.0814208984375, \"max\": 74.0814208984375}, \"invocations.count\": {\"sum\": 1.0, \"count\": 1, \"min\": 1, \"max\": 1}}}\u001b[0m\n",
            "\u001b[35m#metrics {\"StartTime\": 1634896638.0338373, \"EndTime\": 1634896641.7242827, \"Dimensions\": {\"Algorithm\": \"LinearLearnerModel\", \"Host\": \"UNKNOWN\", \"Operation\": \"scoring\"}, \"Metrics\": {\"json.encoder.time\": {\"sum\": 76.27415657043457, \"count\": 1, \"min\": 76.27415657043457, \"max\": 76.27415657043457}, \"invocations.count\": {\"sum\": 1.0, \"count\": 1, \"min\": 1, \"max\": 1}}}\u001b[0m\n",
            "\u001b[34m#metrics {\"StartTime\": 1634896639.2184968, \"EndTime\": 1634896641.815827, \"Dimensions\": {\"Algorithm\": \"LinearLearnerModel\", \"Host\": \"UNKNOWN\", \"Operation\": \"scoring\"}, \"Metrics\": {\"json.encoder.time\": {\"sum\": 76.67064666748047, \"count\": 1, \"min\": 76.67064666748047, \"max\": 76.67064666748047}, \"invocations.count\": {\"sum\": 1.0, \"count\": 1, \"min\": 1, \"max\": 1}}}\u001b[0m\n",
            "\u001b[35m#metrics {\"StartTime\": 1634896639.2184968, \"EndTime\": 1634896641.815827, \"Dimensions\": {\"Algorithm\": \"LinearLearnerModel\", \"Host\": \"UNKNOWN\", \"Operation\": \"scoring\"}, \"Metrics\": {\"json.encoder.time\": {\"sum\": 76.67064666748047, \"count\": 1, \"min\": 76.67064666748047, \"max\": 76.67064666748047}, \"invocations.count\": {\"sum\": 1.0, \"count\": 1, \"min\": 1, \"max\": 1}}}\u001b[0m\n",
            "\u001b[34m#metrics {\"StartTime\": 1634896641.724535, \"EndTime\": 1634896642.6826694, \"Dimensions\": {\"Algorithm\": \"LinearLearnerModel\", \"Host\": \"UNKNOWN\", \"Operation\": \"scoring\"}, \"Metrics\": {\"json.encoder.time\": {\"sum\": 71.87676429748535, \"count\": 1, \"min\": 71.87676429748535, \"max\": 71.87676429748535}, \"invocations.count\": {\"sum\": 1.0, \"count\": 1, \"min\": 1, \"max\": 1}}}\u001b[0m\n",
            "\u001b[34m#metrics {\"StartTime\": 1634896641.6080098, \"EndTime\": 1634896642.7456737, \"Dimensions\": {\"Algorithm\": \"LinearLearnerModel\", \"Host\": \"UNKNOWN\", \"Operation\": \"scoring\"}, \"Metrics\": {\"json.encoder.time\": {\"sum\": 78.21059226989746, \"count\": 1, \"min\": 78.21059226989746, \"max\": 78.21059226989746}, \"invocations.count\": {\"sum\": 1.0, \"count\": 1, \"min\": 1, \"max\": 1}}}\u001b[0m\n",
            "\u001b[34m#metrics {\"StartTime\": 1634896641.6443768, \"EndTime\": 1634896642.817743, \"Dimensions\": {\"Algorithm\": \"LinearLearnerModel\", \"Host\": \"UNKNOWN\", \"Operation\": \"scoring\"}, \"Metrics\": {\"json.encoder.time\": {\"sum\": 75.9284496307373, \"count\": 1, \"min\": 75.9284496307373, \"max\": 75.9284496307373}, \"invocations.count\": {\"sum\": 1.0, \"count\": 1, \"min\": 1, \"max\": 1}}}\u001b[0m\n",
            "\u001b[35m#metrics {\"StartTime\": 1634896641.724535, \"EndTime\": 1634896642.6826694, \"Dimensions\": {\"Algorithm\": \"LinearLearnerModel\", \"Host\": \"UNKNOWN\", \"Operation\": \"scoring\"}, \"Metrics\": {\"json.encoder.time\": {\"sum\": 71.87676429748535, \"count\": 1, \"min\": 71.87676429748535, \"max\": 71.87676429748535}, \"invocations.count\": {\"sum\": 1.0, \"count\": 1, \"min\": 1, \"max\": 1}}}\u001b[0m\n",
            "\u001b[35m#metrics {\"StartTime\": 1634896641.6080098, \"EndTime\": 1634896642.7456737, \"Dimensions\": {\"Algorithm\": \"LinearLearnerModel\", \"Host\": \"UNKNOWN\", \"Operation\": \"scoring\"}, \"Metrics\": {\"json.encoder.time\": {\"sum\": 78.21059226989746, \"count\": 1, \"min\": 78.21059226989746, \"max\": 78.21059226989746}, \"invocations.count\": {\"sum\": 1.0, \"count\": 1, \"min\": 1, \"max\": 1}}}\u001b[0m\n",
            "\u001b[35m#metrics {\"StartTime\": 1634896641.6443768, \"EndTime\": 1634896642.817743, \"Dimensions\": {\"Algorithm\": \"LinearLearnerModel\", \"Host\": \"UNKNOWN\", \"Operation\": \"scoring\"}, \"Metrics\": {\"json.encoder.time\": {\"sum\": 75.9284496307373, \"count\": 1, \"min\": 75.9284496307373, \"max\": 75.9284496307373}, \"invocations.count\": {\"sum\": 1.0, \"count\": 1, \"min\": 1, \"max\": 1}}}\u001b[0m\n",
            "\u001b[34m#metrics {\"StartTime\": 1634896641.8159854, \"EndTime\": 1634896642.9560866, \"Dimensions\": {\"Algorithm\": \"LinearLearnerModel\", \"Host\": \"UNKNOWN\", \"Operation\": \"scoring\"}, \"Metrics\": {\"json.encoder.time\": {\"sum\": 38.048505783081055, \"count\": 1, \"min\": 38.048505783081055, \"max\": 38.048505783081055}, \"invocations.count\": {\"sum\": 1.0, \"count\": 1, \"min\": 1, \"max\": 1}}}\u001b[0m\n",
            "\u001b[34m#metrics {\"StartTime\": 1634896642.7458038, \"EndTime\": 1634896643.2151532, \"Dimensions\": {\"Algorithm\": \"LinearLearnerModel\", \"Host\": \"UNKNOWN\", \"Operation\": \"scoring\"}, \"Metrics\": {\"json.encoder.time\": {\"sum\": 27.127981185913086, \"count\": 1, \"min\": 27.127981185913086, \"max\": 27.127981185913086}, \"invocations.count\": {\"sum\": 1.0, \"count\": 1, \"min\": 1, \"max\": 1}}}\u001b[0m\n",
            "\u001b[34m#metrics {\"StartTime\": 1634896642.6830616, \"EndTime\": 1634896643.3164463, \"Dimensions\": {\"Algorithm\": \"LinearLearnerModel\", \"Host\": \"UNKNOWN\", \"Operation\": \"scoring\"}, \"Metrics\": {\"json.encoder.time\": {\"sum\": 36.33546829223633, \"count\": 1, \"min\": 36.33546829223633, \"max\": 36.33546829223633}, \"invocations.count\": {\"sum\": 1.0, \"count\": 1, \"min\": 1, \"max\": 1}}}\u001b[0m\n",
            "\u001b[35m#metrics {\"StartTime\": 1634896641.8159854, \"EndTime\": 1634896642.9560866, \"Dimensions\": {\"Algorithm\": \"LinearLearnerModel\", \"Host\": \"UNKNOWN\", \"Operation\": \"scoring\"}, \"Metrics\": {\"json.encoder.time\": {\"sum\": 38.048505783081055, \"count\": 1, \"min\": 38.048505783081055, \"max\": 38.048505783081055}, \"invocations.count\": {\"sum\": 1.0, \"count\": 1, \"min\": 1, \"max\": 1}}}\u001b[0m\n",
            "\u001b[35m#metrics {\"StartTime\": 1634896642.7458038, \"EndTime\": 1634896643.2151532, \"Dimensions\": {\"Algorithm\": \"LinearLearnerModel\", \"Host\": \"UNKNOWN\", \"Operation\": \"scoring\"}, \"Metrics\": {\"json.encoder.time\": {\"sum\": 27.127981185913086, \"count\": 1, \"min\": 27.127981185913086, \"max\": 27.127981185913086}, \"invocations.count\": {\"sum\": 1.0, \"count\": 1, \"min\": 1, \"max\": 1}}}\u001b[0m\n",
            "\u001b[35m#metrics {\"StartTime\": 1634896642.6830616, \"EndTime\": 1634896643.3164463, \"Dimensions\": {\"Algorithm\": \"LinearLearnerModel\", \"Host\": \"UNKNOWN\", \"Operation\": \"scoring\"}, \"Metrics\": {\"json.encoder.time\": {\"sum\": 36.33546829223633, \"count\": 1, \"min\": 36.33546829223633, \"max\": 36.33546829223633}, \"invocations.count\": {\"sum\": 1.0, \"count\": 1, \"min\": 1, \"max\": 1}}}\u001b[0m\n",
            "\n",
            "\u001b[34mDocker entrypoint called with argument(s): serve\u001b[0m\n",
            "\u001b[35mDocker entrypoint called with argument(s): serve\u001b[0m\n",
            "\u001b[34mRunning default environment configuration script\u001b[0m\n",
            "\u001b[35mRunning default environment configuration script\u001b[0m\n",
            "\u001b[34m[10/22/2021 09:57:17 INFO 140545446115136] loaded entry point class algorithm.serve.server_config:config_api\u001b[0m\n",
            "\u001b[34m[10/22/2021 09:57:17 INFO 140545446115136] loading entry points\u001b[0m\n",
            "\u001b[34m[10/22/2021 09:57:17 INFO 140545446115136] loaded request iterator application/json\u001b[0m\n",
            "\u001b[34m[10/22/2021 09:57:17 INFO 140545446115136] loaded request iterator application/jsonlines\u001b[0m\n",
            "\u001b[34m[10/22/2021 09:57:17 INFO 140545446115136] loaded request iterator application/x-recordio-protobuf\u001b[0m\n",
            "\u001b[34m[10/22/2021 09:57:17 INFO 140545446115136] loaded request iterator text/csv\u001b[0m\n",
            "\u001b[34m[10/22/2021 09:57:17 INFO 140545446115136] loaded response encoder application/json\u001b[0m\n",
            "\u001b[34m[10/22/2021 09:57:17 INFO 140545446115136] loaded response encoder application/jsonlines\u001b[0m\n",
            "\u001b[34m[10/22/2021 09:57:17 INFO 140545446115136] loaded response encoder application/x-recordio-protobuf\u001b[0m\n",
            "\u001b[34m[10/22/2021 09:57:17 INFO 140545446115136] loaded response encoder text/csv\u001b[0m\n",
            "\u001b[35m[10/22/2021 09:57:17 INFO 140545446115136] loaded entry point class algorithm.serve.server_config:config_api\u001b[0m\n",
            "\u001b[35m[10/22/2021 09:57:17 INFO 140545446115136] loading entry points\u001b[0m\n",
            "\u001b[35m[10/22/2021 09:57:17 INFO 140545446115136] loaded request iterator application/json\u001b[0m\n",
            "\u001b[35m[10/22/2021 09:57:17 INFO 140545446115136] loaded request iterator application/jsonlines\u001b[0m\n",
            "\u001b[35m[10/22/2021 09:57:17 INFO 140545446115136] loaded request iterator application/x-recordio-protobuf\u001b[0m\n",
            "\u001b[35m[10/22/2021 09:57:17 INFO 140545446115136] loaded request iterator text/csv\u001b[0m\n",
            "\u001b[35m[10/22/2021 09:57:17 INFO 140545446115136] loaded response encoder application/json\u001b[0m\n",
            "\u001b[35m[10/22/2021 09:57:17 INFO 140545446115136] loaded response encoder application/jsonlines\u001b[0m\n",
            "\u001b[35m[10/22/2021 09:57:17 INFO 140545446115136] loaded response encoder application/x-recordio-protobuf\u001b[0m\n",
            "\u001b[35m[10/22/2021 09:57:17 INFO 140545446115136] loaded response encoder text/csv\u001b[0m\n",
            "\u001b[34m[10/22/2021 09:57:18 INFO 140545446115136] loaded entry point class algorithm:model\u001b[0m\n",
            "\u001b[34m[10/22/2021 09:57:18 INFO 140545446115136] Number of server workers: 4\u001b[0m\n",
            "\u001b[34m[10/22/2021 09:57:18 INFO 140545446115136] loading model...\u001b[0m\n",
            "\u001b[34m[10/22/2021 09:57:18 INFO 140545446115136] ...model loaded.\u001b[0m\n",
            "\u001b[34m[2021-10-22 09:57:18 +0000] [1] [INFO] Starting gunicorn 20.0.4\u001b[0m\n",
            "\u001b[34m[2021-10-22 09:57:18 +0000] [1] [INFO] Listening at: http://0.0.0.0:8080 (1)\u001b[0m\n",
            "\u001b[34m[2021-10-22 09:57:18 +0000] [1] [INFO] Using worker: sync\u001b[0m\n",
            "\u001b[34m[2021-10-22 09:57:18 +0000] [60] [INFO] Booting worker with pid: 60\u001b[0m\n",
            "\u001b[34m[2021-10-22 09:57:18 +0000] [69] [INFO] Booting worker with pid: 69\u001b[0m\n",
            "\u001b[34m[2021-10-22 09:57:18 +0000] [78] [INFO] Booting worker with pid: 78\u001b[0m\n",
            "\u001b[34m[2021-10-22 09:57:18 +0000] [87] [INFO] Booting worker with pid: 87\u001b[0m\n",
            "\u001b[35m[10/22/2021 09:57:18 INFO 140545446115136] loaded entry point class algorithm:model\u001b[0m\n",
            "\u001b[35m[10/22/2021 09:57:18 INFO 140545446115136] Number of server workers: 4\u001b[0m\n",
            "\u001b[35m[10/22/2021 09:57:18 INFO 140545446115136] loading model...\u001b[0m\n",
            "\u001b[35m[10/22/2021 09:57:18 INFO 140545446115136] ...model loaded.\u001b[0m\n",
            "\u001b[35m[2021-10-22 09:57:18 +0000] [1] [INFO] Starting gunicorn 20.0.4\u001b[0m\n",
            "\u001b[35m[2021-10-22 09:57:18 +0000] [1] [INFO] Listening at: http://0.0.0.0:8080 (1)\u001b[0m\n",
            "\u001b[35m[2021-10-22 09:57:18 +0000] [1] [INFO] Using worker: sync\u001b[0m\n",
            "\u001b[35m[2021-10-22 09:57:18 +0000] [60] [INFO] Booting worker with pid: 60\u001b[0m\n",
            "\u001b[35m[2021-10-22 09:57:18 +0000] [69] [INFO] Booting worker with pid: 69\u001b[0m\n",
            "\u001b[35m[2021-10-22 09:57:18 +0000] [78] [INFO] Booting worker with pid: 78\u001b[0m\n",
            "\u001b[35m[2021-10-22 09:57:18 +0000] [87] [INFO] Booting worker with pid: 87\u001b[0m\n",
            "\u001b[34m#metrics {\"StartTime\": 1634896638.0338373, \"EndTime\": 1634896639.2182703, \"Dimensions\": {\"Algorithm\": \"LinearLearnerModel\", \"Host\": \"UNKNOWN\", \"Operation\": \"scoring\"}, \"Metrics\": {\"execution_parameters.count\": {\"sum\": 1.0, \"count\": 1, \"min\": 1, \"max\": 1}}}\u001b[0m\n",
            "\u001b[35m#metrics {\"StartTime\": 1634896638.0338373, \"EndTime\": 1634896639.2182703, \"Dimensions\": {\"Algorithm\": \"LinearLearnerModel\", \"Host\": \"UNKNOWN\", \"Operation\": \"scoring\"}, \"Metrics\": {\"execution_parameters.count\": {\"sum\": 1.0, \"count\": 1, \"min\": 1, \"max\": 1}}}\u001b[0m\n",
            "\u001b[32m2021-10-22T09:57:19.233:[sagemaker logs]: MaxConcurrentTransforms=4, MaxPayloadInMB=6, BatchStrategy=MULTI_RECORD\u001b[0m\n",
            "\u001b[34m#metrics {\"StartTime\": 1634896638.0338373, \"EndTime\": 1634896641.607171, \"Dimensions\": {\"Algorithm\": \"LinearLearnerModel\", \"Host\": \"UNKNOWN\", \"Operation\": \"scoring\"}, \"Metrics\": {\"json.encoder.time\": {\"sum\": 74.38373565673828, \"count\": 1, \"min\": 74.38373565673828, \"max\": 74.38373565673828}, \"invocations.count\": {\"sum\": 1.0, \"count\": 1, \"min\": 1, \"max\": 1}}}\u001b[0m\n",
            "\u001b[34m#metrics {\"StartTime\": 1634896638.0338373, \"EndTime\": 1634896641.6441698, \"Dimensions\": {\"Algorithm\": \"LinearLearnerModel\", \"Host\": \"UNKNOWN\", \"Operation\": \"scoring\"}, \"Metrics\": {\"json.encoder.time\": {\"sum\": 74.0814208984375, \"count\": 1, \"min\": 74.0814208984375, \"max\": 74.0814208984375}, \"invocations.count\": {\"sum\": 1.0, \"count\": 1, \"min\": 1, \"max\": 1}}}\u001b[0m\n",
            "\u001b[34m#metrics {\"StartTime\": 1634896638.0338373, \"EndTime\": 1634896641.7242827, \"Dimensions\": {\"Algorithm\": \"LinearLearnerModel\", \"Host\": \"UNKNOWN\", \"Operation\": \"scoring\"}, \"Metrics\": {\"json.encoder.time\": {\"sum\": 76.27415657043457, \"count\": 1, \"min\": 76.27415657043457, \"max\": 76.27415657043457}, \"invocations.count\": {\"sum\": 1.0, \"count\": 1, \"min\": 1, \"max\": 1}}}\u001b[0m\n",
            "\u001b[35m#metrics {\"StartTime\": 1634896638.0338373, \"EndTime\": 1634896641.607171, \"Dimensions\": {\"Algorithm\": \"LinearLearnerModel\", \"Host\": \"UNKNOWN\", \"Operation\": \"scoring\"}, \"Metrics\": {\"json.encoder.time\": {\"sum\": 74.38373565673828, \"count\": 1, \"min\": 74.38373565673828, \"max\": 74.38373565673828}, \"invocations.count\": {\"sum\": 1.0, \"count\": 1, \"min\": 1, \"max\": 1}}}\u001b[0m\n",
            "\u001b[35m#metrics {\"StartTime\": 1634896638.0338373, \"EndTime\": 1634896641.6441698, \"Dimensions\": {\"Algorithm\": \"LinearLearnerModel\", \"Host\": \"UNKNOWN\", \"Operation\": \"scoring\"}, \"Metrics\": {\"json.encoder.time\": {\"sum\": 74.0814208984375, \"count\": 1, \"min\": 74.0814208984375, \"max\": 74.0814208984375}, \"invocations.count\": {\"sum\": 1.0, \"count\": 1, \"min\": 1, \"max\": 1}}}\u001b[0m\n",
            "\u001b[35m#metrics {\"StartTime\": 1634896638.0338373, \"EndTime\": 1634896641.7242827, \"Dimensions\": {\"Algorithm\": \"LinearLearnerModel\", \"Host\": \"UNKNOWN\", \"Operation\": \"scoring\"}, \"Metrics\": {\"json.encoder.time\": {\"sum\": 76.27415657043457, \"count\": 1, \"min\": 76.27415657043457, \"max\": 76.27415657043457}, \"invocations.count\": {\"sum\": 1.0, \"count\": 1, \"min\": 1, \"max\": 1}}}\u001b[0m\n",
            "\u001b[34m#metrics {\"StartTime\": 1634896639.2184968, \"EndTime\": 1634896641.815827, \"Dimensions\": {\"Algorithm\": \"LinearLearnerModel\", \"Host\": \"UNKNOWN\", \"Operation\": \"scoring\"}, \"Metrics\": {\"json.encoder.time\": {\"sum\": 76.67064666748047, \"count\": 1, \"min\": 76.67064666748047, \"max\": 76.67064666748047}, \"invocations.count\": {\"sum\": 1.0, \"count\": 1, \"min\": 1, \"max\": 1}}}\u001b[0m\n",
            "\u001b[35m#metrics {\"StartTime\": 1634896639.2184968, \"EndTime\": 1634896641.815827, \"Dimensions\": {\"Algorithm\": \"LinearLearnerModel\", \"Host\": \"UNKNOWN\", \"Operation\": \"scoring\"}, \"Metrics\": {\"json.encoder.time\": {\"sum\": 76.67064666748047, \"count\": 1, \"min\": 76.67064666748047, \"max\": 76.67064666748047}, \"invocations.count\": {\"sum\": 1.0, \"count\": 1, \"min\": 1, \"max\": 1}}}\u001b[0m\n",
            "\u001b[34m#metrics {\"StartTime\": 1634896641.724535, \"EndTime\": 1634896642.6826694, \"Dimensions\": {\"Algorithm\": \"LinearLearnerModel\", \"Host\": \"UNKNOWN\", \"Operation\": \"scoring\"}, \"Metrics\": {\"json.encoder.time\": {\"sum\": 71.87676429748535, \"count\": 1, \"min\": 71.87676429748535, \"max\": 71.87676429748535}, \"invocations.count\": {\"sum\": 1.0, \"count\": 1, \"min\": 1, \"max\": 1}}}\u001b[0m\n",
            "\u001b[34m#metrics {\"StartTime\": 1634896641.6080098, \"EndTime\": 1634896642.7456737, \"Dimensions\": {\"Algorithm\": \"LinearLearnerModel\", \"Host\": \"UNKNOWN\", \"Operation\": \"scoring\"}, \"Metrics\": {\"json.encoder.time\": {\"sum\": 78.21059226989746, \"count\": 1, \"min\": 78.21059226989746, \"max\": 78.21059226989746}, \"invocations.count\": {\"sum\": 1.0, \"count\": 1, \"min\": 1, \"max\": 1}}}\u001b[0m\n",
            "\u001b[34m#metrics {\"StartTime\": 1634896641.6443768, \"EndTime\": 1634896642.817743, \"Dimensions\": {\"Algorithm\": \"LinearLearnerModel\", \"Host\": \"UNKNOWN\", \"Operation\": \"scoring\"}, \"Metrics\": {\"json.encoder.time\": {\"sum\": 75.9284496307373, \"count\": 1, \"min\": 75.9284496307373, \"max\": 75.9284496307373}, \"invocations.count\": {\"sum\": 1.0, \"count\": 1, \"min\": 1, \"max\": 1}}}\u001b[0m\n",
            "\u001b[35m#metrics {\"StartTime\": 1634896641.724535, \"EndTime\": 1634896642.6826694, \"Dimensions\": {\"Algorithm\": \"LinearLearnerModel\", \"Host\": \"UNKNOWN\", \"Operation\": \"scoring\"}, \"Metrics\": {\"json.encoder.time\": {\"sum\": 71.87676429748535, \"count\": 1, \"min\": 71.87676429748535, \"max\": 71.87676429748535}, \"invocations.count\": {\"sum\": 1.0, \"count\": 1, \"min\": 1, \"max\": 1}}}\u001b[0m\n",
            "\u001b[35m#metrics {\"StartTime\": 1634896641.6080098, \"EndTime\": 1634896642.7456737, \"Dimensions\": {\"Algorithm\": \"LinearLearnerModel\", \"Host\": \"UNKNOWN\", \"Operation\": \"scoring\"}, \"Metrics\": {\"json.encoder.time\": {\"sum\": 78.21059226989746, \"count\": 1, \"min\": 78.21059226989746, \"max\": 78.21059226989746}, \"invocations.count\": {\"sum\": 1.0, \"count\": 1, \"min\": 1, \"max\": 1}}}\u001b[0m\n",
            "\u001b[35m#metrics {\"StartTime\": 1634896641.6443768, \"EndTime\": 1634896642.817743, \"Dimensions\": {\"Algorithm\": \"LinearLearnerModel\", \"Host\": \"UNKNOWN\", \"Operation\": \"scoring\"}, \"Metrics\": {\"json.encoder.time\": {\"sum\": 75.9284496307373, \"count\": 1, \"min\": 75.9284496307373, \"max\": 75.9284496307373}, \"invocations.count\": {\"sum\": 1.0, \"count\": 1, \"min\": 1, \"max\": 1}}}\u001b[0m\n",
            "\u001b[34m#metrics {\"StartTime\": 1634896641.8159854, \"EndTime\": 1634896642.9560866, \"Dimensions\": {\"Algorithm\": \"LinearLearnerModel\", \"Host\": \"UNKNOWN\", \"Operation\": \"scoring\"}, \"Metrics\": {\"json.encoder.time\": {\"sum\": 38.048505783081055, \"count\": 1, \"min\": 38.048505783081055, \"max\": 38.048505783081055}, \"invocations.count\": {\"sum\": 1.0, \"count\": 1, \"min\": 1, \"max\": 1}}}\u001b[0m\n",
            "\u001b[34m#metrics {\"StartTime\": 1634896642.7458038, \"EndTime\": 1634896643.2151532, \"Dimensions\": {\"Algorithm\": \"LinearLearnerModel\", \"Host\": \"UNKNOWN\", \"Operation\": \"scoring\"}, \"Metrics\": {\"json.encoder.time\": {\"sum\": 27.127981185913086, \"count\": 1, \"min\": 27.127981185913086, \"max\": 27.127981185913086}, \"invocations.count\": {\"sum\": 1.0, \"count\": 1, \"min\": 1, \"max\": 1}}}\u001b[0m\n",
            "\u001b[34m#metrics {\"StartTime\": 1634896642.6830616, \"EndTime\": 1634896643.3164463, \"Dimensions\": {\"Algorithm\": \"LinearLearnerModel\", \"Host\": \"UNKNOWN\", \"Operation\": \"scoring\"}, \"Metrics\": {\"json.encoder.time\": {\"sum\": 36.33546829223633, \"count\": 1, \"min\": 36.33546829223633, \"max\": 36.33546829223633}, \"invocations.count\": {\"sum\": 1.0, \"count\": 1, \"min\": 1, \"max\": 1}}}\u001b[0m\n",
            "\u001b[35m#metrics {\"StartTime\": 1634896641.8159854, \"EndTime\": 1634896642.9560866, \"Dimensions\": {\"Algorithm\": \"LinearLearnerModel\", \"Host\": \"UNKNOWN\", \"Operation\": \"scoring\"}, \"Metrics\": {\"json.encoder.time\": {\"sum\": 38.048505783081055, \"count\": 1, \"min\": 38.048505783081055, \"max\": 38.048505783081055}, \"invocations.count\": {\"sum\": 1.0, \"count\": 1, \"min\": 1, \"max\": 1}}}\u001b[0m\n",
            "\u001b[35m#metrics {\"StartTime\": 1634896642.7458038, \"EndTime\": 1634896643.2151532, \"Dimensions\": {\"Algorithm\": \"LinearLearnerModel\", \"Host\": \"UNKNOWN\", \"Operation\": \"scoring\"}, \"Metrics\": {\"json.encoder.time\": {\"sum\": 27.127981185913086, \"count\": 1, \"min\": 27.127981185913086, \"max\": 27.127981185913086}, \"invocations.count\": {\"sum\": 1.0, \"count\": 1, \"min\": 1, \"max\": 1}}}\u001b[0m\n",
            "\u001b[35m#metrics {\"StartTime\": 1634896642.6830616, \"EndTime\": 1634896643.3164463, \"Dimensions\": {\"Algorithm\": \"LinearLearnerModel\", \"Host\": \"UNKNOWN\", \"Operation\": \"scoring\"}, \"Metrics\": {\"json.encoder.time\": {\"sum\": 36.33546829223633, \"count\": 1, \"min\": 36.33546829223633, \"max\": 36.33546829223633}, \"invocations.count\": {\"sum\": 1.0, \"count\": 1, \"min\": 1, \"max\": 1}}}\u001b[0m\n"
          ]
        }
      ]
    },
    {
      "cell_type": "markdown",
      "metadata": {
        "id": "8OO1hK8H8y2Q"
      },
      "source": [
        "To view a plot of the confusion matrix, and various scoring metrics, create a couple of functions:"
      ]
    },
    {
      "cell_type": "code",
      "metadata": {
        "id": "K4u2PpYt8y2R"
      },
      "source": [
        "from sklearn.metrics import confusion_matrix\n",
        "\n",
        "def plot_confusion_matrix(test_labels, target_predicted):\n",
        "    matrix = confusion_matrix(test_labels, target_predicted)\n",
        "    df_confusion = pd.DataFrame(matrix)\n",
        "    colormap = sns.color_palette(\"BrBG\", 10)\n",
        "    sns.heatmap(df_confusion, annot=True, fmt='.2f', cbar=None, cmap=colormap)\n",
        "    plt.title(\"Confusion Matrix\")\n",
        "    plt.tight_layout()\n",
        "    plt.ylabel(\"True Class\")\n",
        "    plt.xlabel(\"Predicted Class\")\n",
        "    plt.show()\n",
        "    "
      ],
      "execution_count": null,
      "outputs": []
    },
    {
      "cell_type": "code",
      "metadata": {
        "id": "09SSXL3d8y2R"
      },
      "source": [
        "from sklearn import metrics\n",
        "\n",
        "def plot_roc(test_labels, target_predicted):\n",
        "    TN, FP, FN, TP = confusion_matrix(test_labels, target_predicted).ravel()\n",
        "    # Sensitivity, hit rate, recall, or true positive rate\n",
        "    Sensitivity  = float(TP)/(TP+FN)*100\n",
        "    # Specificity or true negative rate\n",
        "    Specificity  = float(TN)/(TN+FP)*100\n",
        "    # Precision or positive predictive value\n",
        "    Precision = float(TP)/(TP+FP)*100\n",
        "    # Negative predictive value\n",
        "    NPV = float(TN)/(TN+FN)*100\n",
        "    # Fall out or false positive rate\n",
        "    FPR = float(FP)/(FP+TN)*100\n",
        "    # False negative rate\n",
        "    FNR = float(FN)/(TP+FN)*100\n",
        "    # False discovery rate\n",
        "    FDR = float(FP)/(TP+FP)*100\n",
        "    # Overall accuracy\n",
        "    ACC = float(TP+TN)/(TP+FP+FN+TN)*100\n",
        "\n",
        "    print(\"Sensitivity or TPR: \", Sensitivity, \"%\") \n",
        "    print( \"Specificity or TNR: \",Specificity, \"%\") \n",
        "    print(\"Precision: \",Precision, \"%\") \n",
        "    print(\"Negative Predictive Value: \",NPV, \"%\") \n",
        "    print( \"False Positive Rate: \",FPR,\"%\")\n",
        "    print(\"False Negative Rate: \",FNR, \"%\") \n",
        "    print(\"False Discovery Rate: \",FDR, \"%\" )\n",
        "    print(\"Accuracy: \",ACC, \"%\") \n",
        "\n",
        "    test_labels = test.iloc[:,0];\n",
        "    print(\"Validation AUC\", metrics.roc_auc_score(test_labels, target_predicted) )\n",
        "\n",
        "    fpr, tpr, thresholds = metrics.roc_curve(test_labels, target_predicted)\n",
        "    roc_auc = metrics.auc(fpr, tpr)\n",
        "\n",
        "    plt.figure()\n",
        "    plt.plot(fpr, tpr, label='ROC curve (area = %0.2f)' % (roc_auc))\n",
        "    plt.plot([0, 1], [0, 1], 'k--')\n",
        "    plt.xlim([0.0, 1.0])\n",
        "    plt.ylim([0.0, 1.05])\n",
        "    plt.xlabel('False Positive Rate')\n",
        "    plt.ylabel('True Positive Rate')\n",
        "    plt.title('Receiver operating characteristic')\n",
        "    plt.legend(loc=\"lower right\")\n",
        "\n",
        "    # create the axis of thresholds (scores)\n",
        "    ax2 = plt.gca().twinx()\n",
        "    ax2.plot(fpr, thresholds, markeredgecolor='r',linestyle='dashed', color='r')\n",
        "    ax2.set_ylabel('Threshold',color='r')\n",
        "    ax2.set_ylim([thresholds[-1],thresholds[0]])\n",
        "    ax2.set_xlim([fpr[0],fpr[-1]])\n",
        "\n",
        "    print(plt.figure())"
      ],
      "execution_count": null,
      "outputs": []
    },
    {
      "cell_type": "markdown",
      "metadata": {
        "id": "8_xPPBbq8y2S"
      },
      "source": [
        "To plot the confusion matrix, call the `plot_confusion_matrix` function on the `test_labels` and the `target_predicted` data from your batch job:"
      ]
    },
    {
      "cell_type": "code",
      "metadata": {
        "id": "01JICEzq8y2S",
        "outputId": "154d7a8c-b032-4aea-a1f6-66b846766f19"
      },
      "source": [
        "plot_confusion_matrix(test_labels,target_predicted)"
      ],
      "execution_count": null,
      "outputs": [
        {
          "data": {
            "image/png": "[encoded data removed]",
            "text/plain": [
              "<Figure size 432x288 with 1 Axes>"
            ]
          },
          "metadata": {
            "needs_background": "light"
          },
          "output_type": "display_data"
        }
      ]
    },
    {
      "cell_type": "markdown",
      "metadata": {
        "id": "AdYIcBDD8y2S"
      },
      "source": [
        "To print statistics and plot a receiver operating characteristic (ROC) curve, call the `plot_roc` function on the `test_labels` and `target_predicted` data from your batch job:"
      ]
    },
    {
      "cell_type": "code",
      "metadata": {
        "id": "r0Z-UpoJ8y2T",
        "outputId": "a4607d79-af6b-4218-8517-6cf236a1e66b"
      },
      "source": [
        "plot_roc(test_labels,target_predicted)"
      ],
      "execution_count": null,
      "outputs": [
        {
          "name": "stdout",
          "output_type": "stream",
          "text": [
            "Sensitivity or TPR:  0.40777094923251683 %\n",
            "Specificity or TNR:  99.8939841827496 %\n",
            "Precision:  50.54151624548736 %\n",
            "Negative Predictive Value:  79.0589287245379 %\n",
            "False Positive Rate:  0.10601581725039853 %\n",
            "False Negative Rate:  99.59222905076747 %\n",
            "False Discovery Rate:  49.458483754512635 %\n",
            "Accuracy:  79.01063224891324 %\n",
            "Validation AUC 0.5015087756599107\n",
            "Figure(432x288)\n"
          ]
        },
        {
          "data": {
            "image/png": "[encoded data removed]",
            "text/plain": [
              "<Figure size 432x288 with 2 Axes>"
            ]
          },
          "metadata": {
            "needs_background": "light"
          },
          "output_type": "display_data"
        },
        {
          "data": {
            "text/plain": [
              "<Figure size 432x288 with 0 Axes>"
            ]
          },
          "metadata": {},
          "output_type": "display_data"
        }
      ]
    },
    {
      "cell_type": "markdown",
      "metadata": {
        "id": "syKeUF2P8y2T"
      },
      "source": [
        "### Key questions to consider:\n",
        "\n",
        "1. How does your model's performance on the test set compare to its performance on the training set? What can you deduce from this comparison? \n",
        "2. Are there obvious differences between the outcomes of metrics like accuracy, precision, and recall? If so, why might you be seeing those differences? \n",
        "3. Given your business situation and goals, which metric (or metrics) is the most important for you to consider? Why?\n",
        "4. From a business standpoint, is the outcome for the metric (or metrics) that you consider to be the most important sufficient for what you need? If not, what are some things you might change in your next iteration? (This will happen in the feature engineering section, which is next.)\n",
        "\n",
        "Use the following cells to answer these (and other) questions. Insert and delete cells where needed.\n",
        "\n",
        "#### <span style=\"color: blue;\">Project presentation: In your project presentation, write down your answers to these questions -- and other similar questions that you might answer -- in this section. Record the key details and decisions that you made.</span>"
      ]
    },
    {
      "cell_type": "markdown",
      "metadata": {
        "id": "LfosOI6z8y2T"
      },
      "source": [
        "\n",
        "**Question**: What can you summarize from the confusion matrix?\n"
      ]
    },
    {
      "cell_type": "code",
      "metadata": {
        "id": "WssZtkNW8y2T"
      },
      "source": [
        "# Enter your answer here\n",
        "# The perfomance of the model is very poor at the moment especially if you look at the AUC and sensitivity"
      ],
      "execution_count": null,
      "outputs": []
    },
    {
      "cell_type": "markdown",
      "metadata": {
        "id": "dfYxBepN8y2U"
      },
      "source": [
        "## <span style=\"color:red\"> End of Step 3 </span>\n",
        "\n",
        "Save the project file to your local computer. Follow these steps:\n",
        "\n",
        "1. In the file explorer on the left, right-click the notebook that you're working on. \n",
        "\n",
        "2. Select **Download**, and save the file locally.  \n",
        "\n",
        "This action downloads the current notebook to the default download folder on your computer."
      ]
    },
    {
      "cell_type": "markdown",
      "metadata": {
        "id": "vLYcj7m-8y2U"
      },
      "source": [
        "# Iteration II"
      ]
    },
    {
      "cell_type": "markdown",
      "metadata": {
        "id": "t4bjOIda8y2U"
      },
      "source": [
        "# Step 4: Feature engineering\n",
        "\n",
        "You have now gone through one iteration of training and evaluating your model. Given that the first outcome that you reached for your model probably wasn't sufficient for solving your business problem, what could you change about your data to possibly improve model performance?\n",
        "\n",
        "### Key questions to consider:\n",
        "\n",
        "1. How might the balance of your two main classes (*delay* and *no delay*) impact model performance?\n",
        "2. Do you have any features that are correlated?\n",
        "3. At this stage, could you perform any feature-reduction techniques that might have a positive impact on model performance? \n",
        "4. Can you think of adding some more data or datasets?\n",
        "5. After performing some feature engineering, how does the performance of your model compare to the first iteration?\n",
        "\n",
        "Use the following cells to perform specific feature-engineering techniques that you think could improve your model performance (use the previous questions as a guide). Insert and delete cells where needed.\n",
        "\n",
        "#### <span style=\"color: blue;\">Project presentation: In your project presentation, record your key decisions and the methods that you use in this section. Also include any new performance metrics that you obtain after you evaluate your model again.</span>\n",
        "\n",
        "Before you start, think about why the precision and recall are around 80 percent, and the accuracy is at 99 percent."
      ]
    },
    {
      "cell_type": "markdown",
      "metadata": {
        "id": "nFe1y38j8y2V"
      },
      "source": [
        "Add more features:\n",
        "\n",
        "1. Holidays\n",
        "2. Weather"
      ]
    },
    {
      "cell_type": "markdown",
      "metadata": {
        "id": "ZHo45Gg28y2V"
      },
      "source": [
        "Because the list of holidays from 2014 to 2018 is known, you can create an indicator variable **is_holiday** to mark them.\n",
        "\n",
        "The hypothesis is that airplane delays could be higher during holidays compared to the rest of the days. Add a boolean variable `is_holiday` that includes the holidays for the years 2014-2018."
      ]
    },
    {
      "cell_type": "code",
      "metadata": {
        "id": "jGJqbtxv8y2V"
      },
      "source": [
        "# Source: http://www.calendarpedia.com/holidays/federal-holidays-2014.html\n",
        "\n",
        "holidays_14 = ['2014-01-01',  '2014-01-20', '2014-02-17', '2014-05-26', '2014-07-04', '2014-09-01', '2014-10-13', '2014-11-11', '2014-11-27', '2014-12-25' ] \n",
        "holidays_15 = ['2015-01-01',  '2015-01-19', '2015-02-16', '2015-05-25', '2015-06-03', '2015-07-04', '2015-09-07', '2015-10-12', '2015-11-11', '2015-11-26', '2015-12-25'] \n",
        "holidays_16 = ['2016-01-01',  '2016-01-18', '2016-02-15', '2016-05-30', '2016-07-04', '2016-09-05', '2016-10-10', '2016-11-11', '2016-11-24', '2016-12-25', '2016-12-26']\n",
        "holidays_17 = ['2017-01-02', '2017-01-16', '2017-02-20', '2017-05-29' , '2017-07-04', '2017-09-04' ,'2017-10-09', '2017-11-10', '2017-11-23', '2017-12-25']\n",
        "holidays_18 = ['2018-01-01', '2018-01-15', '2018-02-19', '2018-05-28' , '2018-07-04', '2018-09-03' ,'2018-10-08', '2018-11-12','2018-11-22', '2018-12-25']\n",
        "holidays = holidays_14+ holidays_15+ holidays_16 + holidays_17+ holidays_18\n",
        "\n",
        "### Add indicator variable for holidays\n",
        "data_orig['is_holiday'] = 'holidays'"
      ],
      "execution_count": null,
      "outputs": []
    },
    {
      "cell_type": "markdown",
      "metadata": {
        "id": "z2dmBWJx8y2V"
      },
      "source": [
        "Weather data was fetched from https://www.ncei.noaa.gov/access/services/data/v1?dataset=daily-summaries&stations=USW00023174,USW00012960,USW00003017,USW00094846,USW00013874,USW00023234,USW00003927,USW00023183,USW00013881&dataTypes=AWND,PRCP,SNOW,SNWD,TAVG,TMIN,TMAX&startDate=2014-01-01&endDate=2018-12-31.\n",
        "<br>\n",
        "\n",
        "This dataset has information on wind speed, precipitation, snow, and temperature for cities by their airport codes.\n",
        "\n",
        "**Question**: Could bad weather because of rain, heavy winds, or snow lead to airplane delays? You will now check."
      ]
    },
    {
      "cell_type": "code",
      "metadata": {
        "id": "Y54Ddyot8y2W",
        "outputId": "93bb8081-9217-4052-a0ce-a5736ed00279"
      },
      "source": [
        "!aws s3 cp s3://aws-tc-largeobjects/CUR-TF-200-ACMLFO-1/flight_delay_project/data2/daily-summaries.csv /home/ec2-user/SageMaker/project/data/\n",
        "#!wget 'https://www.ncei.noaa.gov/access/services/data/v1?dataset=daily-summaries&stations=USW00023174,USW00012960,USW00003017,USW00094846,USW00013874,USW00023234,USW00003927,USW00023183,USW00013881&dataTypes=AWND,PRCP,SNOW,SNWD,TAVG,TMIN,TMAX&startDate=2014-01-01&endDate=2018-12-31' -O /home/ec2-user/SageMaker/project/data/daily-summaries.csv"
      ],
      "execution_count": null,
      "outputs": [
        {
          "name": "stdout",
          "output_type": "stream",
          "text": [
            "download: s3://aws-tc-largeobjects/CUR-TF-200-ACMLFO-1/flight_delay_project/data2/daily-summaries.csv to ../project/data/daily-summaries.csv\n"
          ]
        }
      ]
    },
    {
      "cell_type": "markdown",
      "metadata": {
        "id": "Nf1F6qBA8y2W"
      },
      "source": [
        "Import the weather data that was prepared for the airport codes in the dataset. Use the following stations and airports  for the analysis. Create a new column called *airport* that maps the weather station to the airport name."
      ]
    },
    {
      "cell_type": "code",
      "metadata": {
        "id": "H9yJXp0J8y2W"
      },
      "source": [
        "weather = pd.read_csv('/home/ec2-user/SageMaker/project/data/daily-summaries.csv')\n",
        "station = ['USW00023174','USW00012960','USW00003017','USW00094846','USW00013874','USW00023234','USW00003927','USW00023183','USW00013881'] \n",
        "airports = ['LAX', 'IAH', 'DEN', 'ORD', 'ATL', 'SFO', 'DFW', 'PHX', 'CLT']\n",
        "\n",
        "### Map weather stations to airport code\n",
        "station_map = {s:a for s,a in zip(station, airports)}\n",
        "weather['airport'] = weather['STATION'].map(station_map)"
      ],
      "execution_count": null,
      "outputs": []
    },
    {
      "cell_type": "markdown",
      "metadata": {
        "id": "4ss8R6BG8y2X"
      },
      "source": [
        "From the **DATE** column, create another column called *MONTH*."
      ]
    },
    {
      "cell_type": "code",
      "metadata": {
        "id": "pMfuD1gX8y2X",
        "outputId": "cce61dae-e0cd-498d-fd60-0c4744d9940c"
      },
      "source": [
        "weather['MONTH'] = weather['DATE'].apply(lambda x: x.split('-')[1])\n",
        "weather.head()"
      ],
      "execution_count": null,
      "outputs": [
        {
          "data": {
            "text/html": [
              "<div>\n",
              "<style scoped>\n",
              "    .dataframe tbody tr th:only-of-type {\n",
              "        vertical-align: middle;\n",
              "    }\n",
              "\n",
              "    .dataframe tbody tr th {\n",
              "        vertical-align: top;\n",
              "    }\n",
              "\n",
              "    .dataframe thead th {\n",
              "        text-align: right;\n",
              "    }\n",
              "</style>\n",
              "<table border=\"1\" class=\"dataframe\">\n",
              "  <thead>\n",
              "    <tr style=\"text-align: right;\">\n",
              "      <th></th>\n",
              "      <th>STATION</th>\n",
              "      <th>DATE</th>\n",
              "      <th>AWND</th>\n",
              "      <th>PRCP</th>\n",
              "      <th>SNOW</th>\n",
              "      <th>SNWD</th>\n",
              "      <th>TAVG</th>\n",
              "      <th>TMAX</th>\n",
              "      <th>TMIN</th>\n",
              "      <th>airport</th>\n",
              "      <th>MONTH</th>\n",
              "    </tr>\n",
              "  </thead>\n",
              "  <tbody>\n",
              "    <tr>\n",
              "      <th>0</th>\n",
              "      <td>USW00023174</td>\n",
              "      <td>2014-01-01</td>\n",
              "      <td>16</td>\n",
              "      <td>0</td>\n",
              "      <td>NaN</td>\n",
              "      <td>NaN</td>\n",
              "      <td>131.0</td>\n",
              "      <td>178.0</td>\n",
              "      <td>78.0</td>\n",
              "      <td>LAX</td>\n",
              "      <td>01</td>\n",
              "    </tr>\n",
              "    <tr>\n",
              "      <th>1</th>\n",
              "      <td>USW00023174</td>\n",
              "      <td>2014-01-02</td>\n",
              "      <td>22</td>\n",
              "      <td>0</td>\n",
              "      <td>NaN</td>\n",
              "      <td>NaN</td>\n",
              "      <td>159.0</td>\n",
              "      <td>256.0</td>\n",
              "      <td>100.0</td>\n",
              "      <td>LAX</td>\n",
              "      <td>01</td>\n",
              "    </tr>\n",
              "    <tr>\n",
              "      <th>2</th>\n",
              "      <td>USW00023174</td>\n",
              "      <td>2014-01-03</td>\n",
              "      <td>17</td>\n",
              "      <td>0</td>\n",
              "      <td>NaN</td>\n",
              "      <td>NaN</td>\n",
              "      <td>140.0</td>\n",
              "      <td>178.0</td>\n",
              "      <td>83.0</td>\n",
              "      <td>LAX</td>\n",
              "      <td>01</td>\n",
              "    </tr>\n",
              "    <tr>\n",
              "      <th>3</th>\n",
              "      <td>USW00023174</td>\n",
              "      <td>2014-01-04</td>\n",
              "      <td>18</td>\n",
              "      <td>0</td>\n",
              "      <td>NaN</td>\n",
              "      <td>NaN</td>\n",
              "      <td>136.0</td>\n",
              "      <td>183.0</td>\n",
              "      <td>100.0</td>\n",
              "      <td>LAX</td>\n",
              "      <td>01</td>\n",
              "    </tr>\n",
              "    <tr>\n",
              "      <th>4</th>\n",
              "      <td>USW00023174</td>\n",
              "      <td>2014-01-05</td>\n",
              "      <td>18</td>\n",
              "      <td>0</td>\n",
              "      <td>NaN</td>\n",
              "      <td>NaN</td>\n",
              "      <td>151.0</td>\n",
              "      <td>244.0</td>\n",
              "      <td>83.0</td>\n",
              "      <td>LAX</td>\n",
              "      <td>01</td>\n",
              "    </tr>\n",
              "  </tbody>\n",
              "</table>\n",
              "</div>"
            ],
            "text/plain": [
              "       STATION        DATE  AWND  PRCP  SNOW  SNWD   TAVG   TMAX   TMIN  \\\n",
              "0  USW00023174  2014-01-01    16     0   NaN   NaN  131.0  178.0   78.0   \n",
              "1  USW00023174  2014-01-02    22     0   NaN   NaN  159.0  256.0  100.0   \n",
              "2  USW00023174  2014-01-03    17     0   NaN   NaN  140.0  178.0   83.0   \n",
              "3  USW00023174  2014-01-04    18     0   NaN   NaN  136.0  183.0  100.0   \n",
              "4  USW00023174  2014-01-05    18     0   NaN   NaN  151.0  244.0   83.0   \n",
              "\n",
              "  airport MONTH  \n",
              "0     LAX    01  \n",
              "1     LAX    01  \n",
              "2     LAX    01  \n",
              "3     LAX    01  \n",
              "4     LAX    01  "
            ]
          },
          "execution_count": 65,
          "metadata": {},
          "output_type": "execute_result"
        }
      ]
    },
    {
      "cell_type": "markdown",
      "metadata": {
        "id": "XYegRFXV8y2X"
      },
      "source": [
        "### Sample output\n",
        "```\n",
        "  STATION     DATE      AWND PRCP SNOW SNWD TAVG TMAX  TMIN airport MONTH\n",
        "0 USW00023174 2014-01-01 16   0   NaN  NaN 131.0 178.0 78.0  LAX    01\n",
        "1 USW00023174 2014-01-02 22   0   NaN  NaN 159.0 256.0 100.0 LAX    01\n",
        "2 USW00023174 2014-01-03 17   0   NaN  NaN 140.0 178.0 83.0  LAX    01\n",
        "3 USW00023174 2014-01-04 18   0   NaN  NaN 136.0 183.0 100.0 LAX    01\n",
        "4 USW00023174 2014-01-05 18   0   NaN  NaN 151.0 244.0 83.0  LAX    01\n",
        "```"
      ]
    },
    {
      "cell_type": "markdown",
      "metadata": {
        "id": "ThQk5ahy8y2X"
      },
      "source": [
        "Analyze and handle the **SNOW** and **SNWD** columns for missing values by using `fillna()`. To check the missing values for all the columns, use the `isna()` function."
      ]
    },
    {
      "cell_type": "code",
      "metadata": {
        "id": "rdQgkour8y2X",
        "outputId": "c2cda7e1-c2bc-4420-fbe6-599a04668395"
      },
      "source": [
        "weather.SNOW.fillna(0, inplace=True)\n",
        "weather.SNWD.fillna(0, inplace=True)\n",
        "weather.isna().sum()"
      ],
      "execution_count": null,
      "outputs": [
        {
          "data": {
            "text/plain": [
              "STATION     0\n",
              "DATE        0\n",
              "AWND        0\n",
              "PRCP        0\n",
              "SNOW        0\n",
              "SNWD        0\n",
              "TAVG       62\n",
              "TMAX       20\n",
              "TMIN       20\n",
              "airport     0\n",
              "MONTH       0\n",
              "dtype: int64"
            ]
          },
          "execution_count": 66,
          "metadata": {},
          "output_type": "execute_result"
        }
      ]
    },
    {
      "cell_type": "markdown",
      "metadata": {
        "id": "_6wSRhhZ8y2Y"
      },
      "source": [
        "**Question**: Print the index of the rows that have missing values for *TAVG*, *TMAX*, *TMIN*.\n",
        "\n",
        "**Hint**: To find the rows that are missing, use the `isna()` function. Then, to get the index, use the list on the *idx* variable."
      ]
    },
    {
      "cell_type": "code",
      "metadata": {
        "id": "SL-4hsjx8y2Y",
        "outputId": "978dc903-dc92-40d5-a163-3201656c38fa"
      },
      "source": [
        "idx = np.array([i for i in range(len(weather))])\n",
        "TAVG_idx = idx[weather.TAVG.isna()] \n",
        "TMAX_idx =idx[weather.TMAX.isna()]\n",
        "TMIN_idx = idx[weather.TMIN.isna()]\n",
        "TAVG_idx"
      ],
      "execution_count": null,
      "outputs": [
        {
          "data": {
            "text/plain": [
              "array([ 3956,  3957,  3958,  3959,  3960,  3961,  3962,  3963,  3964,\n",
              "        3965,  3966,  3967,  3968,  3969,  3970,  3971,  3972,  3973,\n",
              "        3974,  3975,  3976,  3977,  3978,  3979,  3980,  3981,  3982,\n",
              "        3983,  3984,  3985,  4017,  4018,  4019,  4020,  4021,  4022,\n",
              "        4023,  4024,  4025,  4026,  4027,  4028,  4029,  4030,  4031,\n",
              "        4032,  4033,  4034,  4035,  4036,  4037,  4038,  4039,  4040,\n",
              "        4041,  4042,  4043,  4044,  4045,  4046,  4047, 13420])"
            ]
          },
          "execution_count": 67,
          "metadata": {},
          "output_type": "execute_result"
        }
      ]
    },
    {
      "cell_type": "markdown",
      "metadata": {
        "id": "wSA3fqo_8y2Y"
      },
      "source": [
        "### Sample output\n",
        "\n",
        "```\n",
        "array([ 3956,  3957,  3958,  3959,  3960,  3961,  3962,  3963,  3964,\n",
        "        3965,  3966,  3967,  3968,  3969,  3970,  3971,  3972,  3973,\n",
        "        3974,  3975,  3976,  3977,  3978,  3979,  3980,  3981,  3982,\n",
        "        3983,  3984,  3985,  4017,  4018,  4019,  4020,  4021,  4022,\n",
        "        4023,  4024,  4025,  4026,  4027,  4028,  4029,  4030,  4031,\n",
        "        4032,  4033,  4034,  4035,  4036,  4037,  4038,  4039,  4040,\n",
        "        4041,  4042,  4043,  4044,  4045,  4046,  4047, 13420])\n",
        "```"
      ]
    },
    {
      "cell_type": "markdown",
      "metadata": {
        "id": "MfScxwoL8y2Z"
      },
      "source": [
        "You can replace the missing *TAVG*, *TMAX*, and *TMIN* values with the average value for a particular station or airport. Because consecutive rows of *TAVG_idx* are missing, replacing them with a previous value would not be possible. Instead, replace them with the mean. Use the `groupby` function to aggregate the variables with a mean value.\n",
        "\n",
        "**Hint:** Group by `MONTH` and `STATION`."
      ]
    },
    {
      "cell_type": "code",
      "metadata": {
        "id": "iUNwYOOD8y2Z",
        "outputId": "6145ee5e-50b0-4d4d-c337-9098bb0b0e21"
      },
      "source": [
        "weather_impute = weather.groupby(['MONTH','STATION']).agg({'TAVG':'mean','TMAX':'mean', 'TMIN':'mean' }).reset_index()# Enter your code here\n",
        "weather_impute.head(2)"
      ],
      "execution_count": null,
      "outputs": [
        {
          "data": {
            "text/html": [
              "<div>\n",
              "<style scoped>\n",
              "    .dataframe tbody tr th:only-of-type {\n",
              "        vertical-align: middle;\n",
              "    }\n",
              "\n",
              "    .dataframe tbody tr th {\n",
              "        vertical-align: top;\n",
              "    }\n",
              "\n",
              "    .dataframe thead th {\n",
              "        text-align: right;\n",
              "    }\n",
              "</style>\n",
              "<table border=\"1\" class=\"dataframe\">\n",
              "  <thead>\n",
              "    <tr style=\"text-align: right;\">\n",
              "      <th></th>\n",
              "      <th>MONTH</th>\n",
              "      <th>STATION</th>\n",
              "      <th>TAVG</th>\n",
              "      <th>TMAX</th>\n",
              "      <th>TMIN</th>\n",
              "    </tr>\n",
              "  </thead>\n",
              "  <tbody>\n",
              "    <tr>\n",
              "      <th>0</th>\n",
              "      <td>01</td>\n",
              "      <td>USW00003017</td>\n",
              "      <td>-2.741935</td>\n",
              "      <td>74.000000</td>\n",
              "      <td>-69.858065</td>\n",
              "    </tr>\n",
              "    <tr>\n",
              "      <th>1</th>\n",
              "      <td>01</td>\n",
              "      <td>USW00003927</td>\n",
              "      <td>79.529032</td>\n",
              "      <td>143.767742</td>\n",
              "      <td>20.696774</td>\n",
              "    </tr>\n",
              "  </tbody>\n",
              "</table>\n",
              "</div>"
            ],
            "text/plain": [
              "  MONTH      STATION       TAVG        TMAX       TMIN\n",
              "0    01  USW00003017  -2.741935   74.000000 -69.858065\n",
              "1    01  USW00003927  79.529032  143.767742  20.696774"
            ]
          },
          "execution_count": 68,
          "metadata": {},
          "output_type": "execute_result"
        }
      ]
    },
    {
      "cell_type": "markdown",
      "metadata": {
        "id": "azNOMv0n8y2Z"
      },
      "source": [
        "Merge the mean data with the weather data."
      ]
    },
    {
      "cell_type": "code",
      "metadata": {
        "id": "vWoTx0TO8y2Z"
      },
      "source": [
        "\n",
        "weather = pd.merge(weather, weather_impute,  how='left', left_on=['MONTH','STATION'], right_on = ['MONTH','STATION'])\\\n",
        ".rename(columns = {'TAVG_y':'TAVG_AVG',\n",
        "                   'TMAX_y':'TMAX_AVG', \n",
        "                   'TMIN_y':'TMIN_AVG',\n",
        "                   'TAVG_x':'TAVG',\n",
        "                   'TMAX_x':'TMAX', \n",
        "                   'TMIN_x':'TMIN'})"
      ],
      "execution_count": null,
      "outputs": []
    },
    {
      "cell_type": "markdown",
      "metadata": {
        "id": "3DrhP5gD8y2a"
      },
      "source": [
        "Check for missing values again."
      ]
    },
    {
      "cell_type": "code",
      "metadata": {
        "id": "UTQ_gqv58y2a",
        "outputId": "5efb037e-309b-492e-e63c-2790ad134f3b"
      },
      "source": [
        "weather.TAVG[TAVG_idx] = weather.TAVG_AVG[TAVG_idx]\n",
        "weather.TMAX[TMAX_idx] = weather.TMAX_AVG[TMAX_idx]\n",
        "weather.TMIN[TMIN_idx] = weather.TMIN_AVG[TMIN_idx]\n",
        "weather.isna().sum()"
      ],
      "execution_count": null,
      "outputs": [
        {
          "data": {
            "text/plain": [
              "STATION     0\n",
              "DATE        0\n",
              "AWND        0\n",
              "PRCP        0\n",
              "SNOW        0\n",
              "SNWD        0\n",
              "TAVG        0\n",
              "TMAX        0\n",
              "TMIN        0\n",
              "airport     0\n",
              "MONTH       0\n",
              "TAVG_AVG    0\n",
              "TMAX_AVG    0\n",
              "TMIN_AVG    0\n",
              "dtype: int64"
            ]
          },
          "execution_count": 70,
          "metadata": {},
          "output_type": "execute_result"
        }
      ]
    },
    {
      "cell_type": "markdown",
      "metadata": {
        "id": "y3NgHI0E8y2b"
      },
      "source": [
        "Drop `STATION,MONTH,TAVG_AVG,TMAX_AVG,TMIN_AVG,TMAX,TMIN,SNWD` from the dataset."
      ]
    },
    {
      "cell_type": "code",
      "metadata": {
        "id": "yk3xb8aN8y2b"
      },
      "source": [
        "weather.drop(columns=['STATION','MONTH','TAVG_AVG', 'TMAX_AVG', 'TMIN_AVG', 'TMAX' ,'TMIN', 'SNWD'],inplace=True)"
      ],
      "execution_count": null,
      "outputs": []
    },
    {
      "cell_type": "markdown",
      "metadata": {
        "id": "oi04MELd8y2b"
      },
      "source": [
        "Add the origin and destination weather conditions to the dataset."
      ]
    },
    {
      "cell_type": "code",
      "metadata": {
        "id": "8MB0g2YJ8y2b"
      },
      "source": [
        "### Add origin weather conditions\n",
        "data_orig = pd.merge(data_orig, weather,  how='left', left_on=['FlightDate','Origin'], right_on = ['DATE','airport'])\\\n",
        ".rename(columns = {'AWND':'AWND_O','PRCP':'PRCP_O', 'TAVG':'TAVG_O', 'SNOW': 'SNOW_O'})\\\n",
        ".drop(columns=['DATE','airport'])\n",
        "\n",
        "### Add destination weather conditions\n",
        "data_orig = pd.merge(data_orig, weather,  how='left', left_on=['FlightDate','Dest'], right_on = ['DATE','airport'])\\\n",
        ".rename(columns = {'AWND':'AWND_D','PRCP':'PRCP_D', 'TAVG':'TAVG_D', 'SNOW': 'SNOW_D'})\\\n",
        ".drop(columns=['DATE','airport'])"
      ],
      "execution_count": null,
      "outputs": []
    },
    {
      "cell_type": "markdown",
      "metadata": {
        "id": "yba0e5q28y2c"
      },
      "source": [
        "**Note**: It's always a good practice to check for nulls or NAs after joins."
      ]
    },
    {
      "cell_type": "code",
      "metadata": {
        "id": "b3JyI7NF8y2c",
        "outputId": "f6bd2f92-754e-486f-aa43-037f161b061b"
      },
      "source": [
        "sum(data.isna().any())"
      ],
      "execution_count": null,
      "outputs": [
        {
          "data": {
            "text/plain": [
              "0"
            ]
          },
          "execution_count": 73,
          "metadata": {},
          "output_type": "execute_result"
        }
      ]
    },
    {
      "cell_type": "code",
      "metadata": {
        "id": "_enijkES8y2c",
        "outputId": "0b2a138c-03dc-4d50-bcbb-005fa4f5c064"
      },
      "source": [
        "data_orig.columns"
      ],
      "execution_count": null,
      "outputs": [
        {
          "data": {
            "text/plain": [
              "Index(['Year', 'Quarter', 'Month', 'DayofMonth', 'DayOfWeek', 'FlightDate',\n",
              "       'Reporting_Airline', 'Origin', 'OriginState', 'Dest', 'DestState',\n",
              "       'CRSDepTime', 'Cancelled', 'Diverted', 'Distance', 'DistanceGroup',\n",
              "       'ArrDelay', 'ArrDelayMinutes', ' is_delay', 'AirTime', 'DepHourofDay',\n",
              "       'is_holiday', 'AWND_O', 'PRCP_O', 'SNOW_O', 'TAVG_O', 'AWND_D',\n",
              "       'PRCP_D', 'SNOW_D', 'TAVG_D'],\n",
              "      dtype='object')"
            ]
          },
          "execution_count": 74,
          "metadata": {},
          "output_type": "execute_result"
        }
      ]
    },
    {
      "cell_type": "markdown",
      "metadata": {
        "id": "xcif2oiM8y2d"
      },
      "source": [
        "Convert the categorical data into numerical data by using one-hot encoding."
      ]
    },
    {
      "cell_type": "code",
      "metadata": {
        "id": "Cs1WgPNe8y2d"
      },
      "source": [
        "data = data_orig.copy()\n",
        "data = data[[' is_delay', 'Year', 'Quarter', 'Month', 'DayofMonth', 'DayOfWeek', \n",
        "       'Reporting_Airline', 'Origin', 'Dest','Distance','DepHourofDay','is_holiday', 'AWND_O', 'PRCP_O',\n",
        "       'TAVG_O', 'AWND_D', 'PRCP_D', 'TAVG_D', 'SNOW_O', 'SNOW_D']]\n",
        "\n",
        "\n",
        "categorical_columns  = ['Year', 'Quarter', 'Month', 'DayofMonth', 'DayOfWeek', \n",
        "       'Reporting_Airline', 'Origin', 'Dest', 'is_holiday']\n",
        "for c in categorical_columns:\n",
        "    data[c] = data[c].astype('category')"
      ],
      "execution_count": null,
      "outputs": []
    },
    {
      "cell_type": "code",
      "metadata": {
        "id": "c-lIXT8k8y2d"
      },
      "source": [
        "data_dummies = pd.get_dummies(data[['Year', 'Quarter', 'Month', 'DayofMonth', 'DayOfWeek', 'Reporting_Airline', 'Origin', 'Dest', 'is_holiday']], drop_first=True)\n",
        "data = pd.concat([data, data_dummies], axis = 1)\n",
        "data.drop(categorical_columns,axis=1, inplace=True)"
      ],
      "execution_count": null,
      "outputs": []
    },
    {
      "cell_type": "markdown",
      "metadata": {
        "id": "685pk0Ql8y2e"
      },
      "source": [
        "Check the new columns."
      ]
    },
    {
      "cell_type": "code",
      "metadata": {
        "id": "7hCjYwAG8y2e",
        "outputId": "57862309-7707-4591-9ec9-603f9d9f882d"
      },
      "source": [
        "data.shape"
      ],
      "execution_count": null,
      "outputs": [
        {
          "data": {
            "text/plain": [
              "(1635590, 85)"
            ]
          },
          "execution_count": 78,
          "metadata": {},
          "output_type": "execute_result"
        }
      ]
    },
    {
      "cell_type": "code",
      "metadata": {
        "id": "1bVGUAWH8y2e",
        "outputId": "b15f03d8-6277-4999-ca50-e7e74449e8af"
      },
      "source": [
        "data.columns"
      ],
      "execution_count": null,
      "outputs": [
        {
          "data": {
            "text/plain": [
              "Index([' is_delay', 'Distance', 'DepHourofDay', 'AWND_O', 'PRCP_O', 'TAVG_O',\n",
              "       'AWND_D', 'PRCP_D', 'TAVG_D', 'SNOW_O', 'SNOW_D', 'Year_2015',\n",
              "       'Year_2016', 'Year_2017', 'Year_2018', 'Quarter_2', 'Quarter_3',\n",
              "       'Quarter_4', 'Month_2', 'Month_3', 'Month_4', 'Month_5', 'Month_6',\n",
              "       'Month_7', 'Month_8', 'Month_9', 'Month_10', 'Month_11', 'Month_12',\n",
              "       'DayofMonth_2', 'DayofMonth_3', 'DayofMonth_4', 'DayofMonth_5',\n",
              "       'DayofMonth_6', 'DayofMonth_7', 'DayofMonth_8', 'DayofMonth_9',\n",
              "       'DayofMonth_10', 'DayofMonth_11', 'DayofMonth_12', 'DayofMonth_13',\n",
              "       'DayofMonth_14', 'DayofMonth_15', 'DayofMonth_16', 'DayofMonth_17',\n",
              "       'DayofMonth_18', 'DayofMonth_19', 'DayofMonth_20', 'DayofMonth_21',\n",
              "       'DayofMonth_22', 'DayofMonth_23', 'DayofMonth_24', 'DayofMonth_25',\n",
              "       'DayofMonth_26', 'DayofMonth_27', 'DayofMonth_28', 'DayofMonth_29',\n",
              "       'DayofMonth_30', 'DayofMonth_31', 'DayOfWeek_2', 'DayOfWeek_3',\n",
              "       'DayOfWeek_4', 'DayOfWeek_5', 'DayOfWeek_6', 'DayOfWeek_7',\n",
              "       'Reporting_Airline_DL', 'Reporting_Airline_OO', 'Reporting_Airline_UA',\n",
              "       'Reporting_Airline_WN', 'Origin_CLT', 'Origin_DEN', 'Origin_DFW',\n",
              "       'Origin_IAH', 'Origin_LAX', 'Origin_ORD', 'Origin_PHX', 'Origin_SFO',\n",
              "       'Dest_CLT', 'Dest_DEN', 'Dest_DFW', 'Dest_IAH', 'Dest_LAX', 'Dest_ORD',\n",
              "       'Dest_PHX', 'Dest_SFO'],\n",
              "      dtype='object')"
            ]
          },
          "execution_count": 79,
          "metadata": {},
          "output_type": "execute_result"
        }
      ]
    },
    {
      "cell_type": "markdown",
      "metadata": {
        "id": "RIPlf3yX8y2k"
      },
      "source": [
        "### Sample output\n",
        "\n",
        "```\n",
        "Index(['Distance', 'DepHourofDay', 'is_delay', 'AWND_O', 'PRCP_O', 'TAVG_O',\n",
        "       'AWND_D', 'PRCP_D', 'TAVG_D', 'SNOW_O', 'SNOW_D', 'Year_2015',\n",
        "       'Year_2016', 'Year_2017', 'Year_2018', 'Quarter_2', 'Quarter_3',\n",
        "       'Quarter_4', 'Month_2', 'Month_3', 'Month_4', 'Month_5', 'Month_6',\n",
        "       'Month_7', 'Month_8', 'Month_9', 'Month_10', 'Month_11', 'Month_12',\n",
        "       'DayofMonth_2', 'DayofMonth_3', 'DayofMonth_4', 'DayofMonth_5',\n",
        "       'DayofMonth_6', 'DayofMonth_7', 'DayofMonth_8', 'DayofMonth_9',\n",
        "       'DayofMonth_10', 'DayofMonth_11', 'DayofMonth_12', 'DayofMonth_13',\n",
        "       'DayofMonth_14', 'DayofMonth_15', 'DayofMonth_16', 'DayofMonth_17',\n",
        "       'DayofMonth_18', 'DayofMonth_19', 'DayofMonth_20', 'DayofMonth_21',\n",
        "       'DayofMonth_22', 'DayofMonth_23', 'DayofMonth_24', 'DayofMonth_25',\n",
        "       'DayofMonth_26', 'DayofMonth_27', 'DayofMonth_28', 'DayofMonth_29',\n",
        "       'DayofMonth_30', 'DayofMonth_31', 'DayOfWeek_2', 'DayOfWeek_3',\n",
        "       'DayOfWeek_4', 'DayOfWeek_5', 'DayOfWeek_6', 'DayOfWeek_7',\n",
        "       'Reporting_Airline_DL', 'Reporting_Airline_OO', 'Reporting_Airline_UA',\n",
        "       'Reporting_Airline_WN', 'Origin_CLT', 'Origin_DEN', 'Origin_DFW',\n",
        "       'Origin_IAH', 'Origin_LAX', 'Origin_ORD', 'Origin_PHX', 'Origin_SFO',\n",
        "       'Dest_CLT', 'Dest_DEN', 'Dest_DFW', 'Dest_IAH', 'Dest_LAX', 'Dest_ORD',\n",
        "       'Dest_PHX', 'Dest_SFO', 'is_holiday_1'],\n",
        "      dtype='object')\n",
        "```"
      ]
    },
    {
      "cell_type": "markdown",
      "metadata": {
        "id": "gt0_iAAa8y2k"
      },
      "source": [
        "Rename the **is_delay** column to *target* again. Use the same code that you used previously."
      ]
    },
    {
      "cell_type": "code",
      "metadata": {
        "id": "-cq24Tzi8y2l"
      },
      "source": [
        "data.rename(columns = {' is_delay':'target'}, inplace=True )# Enter your code here"
      ],
      "execution_count": null,
      "outputs": []
    },
    {
      "cell_type": "markdown",
      "metadata": {
        "id": "O4DYr7at8y2l"
      },
      "source": [
        "Create the training sets again.\n",
        "\n",
        "**Hint:** Use the `split_data` function that you defined (and used) earlier."
      ]
    },
    {
      "cell_type": "code",
      "metadata": {
        "id": "lHNu71BS8y2l"
      },
      "source": [
        "train, validate, test = split_data(data)"
      ],
      "execution_count": null,
      "outputs": []
    },
    {
      "cell_type": "markdown",
      "metadata": {
        "id": "QhoRGV1q8y2m"
      },
      "source": [
        "### New baseline classifier\n",
        "\n",
        "Now, see if these new features add any predictive power to the model."
      ]
    },
    {
      "cell_type": "code",
      "metadata": {
        "id": "UPRqDObn8y2m"
      },
      "source": [
        "# Instantiate the LinearLearner estimator object\n",
        "# Instantiate the LinearLearner estimator object\n",
        "classifier_estimator2 = sagemaker.LinearLearner(role=sagemaker.get_execution_role(),\n",
        "                                               instance_count=1,\n",
        "                                               instance_type='ml.m4.xlarge',\n",
        "                                               predictor_type='binary_classifier',\n",
        "                                               binary_classifier_model_selection_criteria = 'cross_entropy_loss')"
      ],
      "execution_count": null,
      "outputs": []
    },
    {
      "cell_type": "markdown",
      "metadata": {
        "id": "krtpWW9b8y2n"
      },
      "source": [
        "### Sample code\n",
        "\n",
        "```\n",
        "num_classes = len(pd.unique(train_labels)) \n",
        "classifier_estimator2 = sagemaker.LinearLearner(role=sagemaker.get_execution_role(),\n",
        "                                               instance_count=1,\n",
        "                                               instance_type='ml.m4.xlarge',\n",
        "                                               predictor_type='binary_classifier',\n",
        "                                               binary_classifier_model_selection_criteria = 'cross_entropy_loss')\n",
        "```"
      ]
    },
    {
      "cell_type": "code",
      "metadata": {
        "id": "rVs-c5GF8y2n"
      },
      "source": [
        "train_records = classifier_estimator2.record_set(train.values[:, 1:].astype(np.float32), train.values[:, 0].astype(np.float32), channel='train')\n",
        "val_records = classifier_estimator2.record_set(validate.values[:, 1:].astype(np.float32), validate.values[:, 0].astype(np.float32), channel='validation')\n",
        "test_records = classifier_estimator2.record_set(test.values[:, 1:].astype(np.float32), test.values[:, 0].astype(np.float32), channel='test')"
      ],
      "execution_count": null,
      "outputs": []
    },
    {
      "cell_type": "markdown",
      "metadata": {
        "id": "UME-gW2A8y2o"
      },
      "source": [
        "Train your model by using the three datasets that you just created."
      ]
    },
    {
      "cell_type": "code",
      "metadata": {
        "id": "8ZLPxbje8y2o",
        "outputId": "ce052469-0e1e-4eb4-e667-8c20e5e63d11"
      },
      "source": [
        "classifier_estimator2.fit([train_records,val_records,test_records])"
      ],
      "execution_count": null,
      "outputs": [
        {
          "name": "stderr",
          "output_type": "stream",
          "text": [
            "Defaulting to the only supported framework/algorithm version: 1. Ignoring framework/algorithm version: 1.\n",
            "Defaulting to the only supported framework/algorithm version: 1. Ignoring framework/algorithm version: 1.\n"
          ]
        },
        {
          "name": "stdout",
          "output_type": "stream",
          "text": [
            "2021-10-22 10:12:39 Starting - Starting the training job...\n",
            "2021-10-22 10:13:04 Starting - Launching requested ML instancesProfilerReport-1634897558: InProgress\n",
            "......\n",
            "2021-10-22 10:14:05 Starting - Preparing the instances for training............\n",
            "2021-10-22 10:16:06 Downloading - Downloading input data......\n",
            "2021-10-22 10:17:08 Training - Training image download completed. Training in progress..\u001b[34mDocker entrypoint called with argument(s): train\u001b[0m\n",
            "\u001b[34mRunning default environment configuration script\u001b[0m\n",
            "\u001b[34m[10/22/2021 10:17:15 INFO 140300387239744] Reading default configuration from /opt/amazon/lib/python3.7/site-packages/algorithm/resources/default-input.json: {'mini_batch_size': '1000', 'epochs': '15', 'feature_dim': 'auto', 'use_bias': 'true', 'binary_classifier_model_selection_criteria': 'accuracy', 'f_beta': '1.0', 'target_recall': '0.8', 'target_precision': '0.8', 'num_models': 'auto', 'num_calibration_samples': '10000000', 'init_method': 'uniform', 'init_scale': '0.07', 'init_sigma': '0.01', 'init_bias': '0.0', 'optimizer': 'auto', 'loss': 'auto', 'margin': '1.0', 'quantile': '0.5', 'loss_insensitivity': '0.01', 'huber_delta': '1.0', 'num_classes': '1', 'accuracy_top_k': '3', 'wd': 'auto', 'l1': 'auto', 'momentum': 'auto', 'learning_rate': 'auto', 'beta_1': 'auto', 'beta_2': 'auto', 'bias_lr_mult': 'auto', 'bias_wd_mult': 'auto', 'use_lr_scheduler': 'true', 'lr_scheduler_step': 'auto', 'lr_scheduler_factor': 'auto', 'lr_scheduler_minimum_lr': 'auto', 'positive_example_weight_mult': '1.0', 'balance_multiclass_weights': 'false', 'normalize_data': 'true', 'normalize_label': 'auto', 'unbias_data': 'auto', 'unbias_label': 'auto', 'num_point_for_scaler': '10000', '_kvstore': 'auto', '_num_gpus': 'auto', '_num_kv_servers': 'auto', '_log_level': 'info', '_tuning_objective_metric': '', 'early_stopping_patience': '3', 'early_stopping_tolerance': '0.001', '_enable_profiler': 'false'}\u001b[0m\n",
            "\u001b[34m[10/22/2021 10:17:15 INFO 140300387239744] Merging with provided configuration from /opt/ml/input/config/hyperparameters.json: {'feature_dim': '84', 'predictor_type': 'binary_classifier', 'binary_classifier_model_selection_criteria': 'cross_entropy_loss', 'mini_batch_size': '1000'}\u001b[0m\n",
            "\u001b[34m[10/22/2021 10:17:15 INFO 140300387239744] Final configuration: {'mini_batch_size': '1000', 'epochs': '15', 'feature_dim': '84', 'use_bias': 'true', 'binary_classifier_model_selection_criteria': 'cross_entropy_loss', 'f_beta': '1.0', 'target_recall': '0.8', 'target_precision': '0.8', 'num_models': 'auto', 'num_calibration_samples': '10000000', 'init_method': 'uniform', 'init_scale': '0.07', 'init_sigma': '0.01', 'init_bias': '0.0', 'optimizer': 'auto', 'loss': 'auto', 'margin': '1.0', 'quantile': '0.5', 'loss_insensitivity': '0.01', 'huber_delta': '1.0', 'num_classes': '1', 'accuracy_top_k': '3', 'wd': 'auto', 'l1': 'auto', 'momentum': 'auto', 'learning_rate': 'auto', 'beta_1': 'auto', 'beta_2': 'auto', 'bias_lr_mult': 'auto', 'bias_wd_mult': 'auto', 'use_lr_scheduler': 'true', 'lr_scheduler_step': 'auto', 'lr_scheduler_factor': 'auto', 'lr_scheduler_minimum_lr': 'auto', 'positive_example_weight_mult': '1.0', 'balance_multiclass_weights': 'false', 'normalize_data': 'true', 'normalize_label': 'auto', 'unbias_data': 'auto', 'unbias_label': 'auto', 'num_point_for_scaler': '10000', '_kvstore': 'auto', '_num_gpus': 'auto', '_num_kv_servers': 'auto', '_log_level': 'info', '_tuning_objective_metric': '', 'early_stopping_patience': '3', 'early_stopping_tolerance': '0.001', '_enable_profiler': 'false', 'predictor_type': 'binary_classifier'}\u001b[0m\n",
            "\u001b[34m[10/22/2021 10:17:15 WARNING 140300387239744] Loggers have already been setup.\u001b[0m\n",
            "\u001b[34mProcess 1 is a worker.\u001b[0m\n",
            "\u001b[34m[10/22/2021 10:17:15 INFO 140300387239744] Using default worker.\u001b[0m\n",
            "\u001b[34m[10/22/2021 10:17:15 INFO 140300387239744] Checkpoint loading and saving are disabled.\u001b[0m\n",
            "\u001b[34m[2021-10-22 10:17:15.350] [tensorio] [warning] TensorIO is already initialized; ignoring the initialization routine.\u001b[0m\n",
            "\u001b[34m[2021-10-22 10:17:15.367] [tensorio] [warning] TensorIO is already initialized; ignoring the initialization routine.\u001b[0m\n",
            "\u001b[34m[2021-10-22 10:17:15.459] [tensorio] [info] epoch_stats={\"data_pipeline\": \"/opt/ml/input/data/train\", \"epoch\": 0, \"duration\": 117, \"num_examples\": 1, \"num_bytes\": 384000}\u001b[0m\n",
            "\u001b[34m[10/22/2021 10:17:15 INFO 140300387239744] Create Store: local\u001b[0m\n",
            "\u001b[34m[2021-10-22 10:17:15.654] [tensorio] [info] epoch_stats={\"data_pipeline\": \"/opt/ml/input/data/train\", \"epoch\": 1, \"duration\": 193, \"num_examples\": 11, \"num_bytes\": 4224000}\u001b[0m\n",
            "\u001b[34m[10/22/2021 10:17:15 INFO 140300387239744] Scaler algorithm parameters\n",
            " <algorithm.scaler.ScalerAlgorithmStable object at 0x7f99d9bc2290>\u001b[0m\n",
            "\u001b[34m[10/22/2021 10:17:15 INFO 140300387239744] Scaling model computed with parameters:\n",
            " {'stdev_label': None, 'stdev_weight': \u001b[0m\n",
            "\u001b[34m[5.3371051e+02 5.0105882e+00 1.6276621e+01 7.4873360e+01 8.9294312e+01\n",
            " 1.6420748e+01 7.9026497e+01 8.8065872e+01 7.5585423e+00 7.5979524e+00\n",
            " 4.0040854e-01 4.0930018e-01 4.1195276e-01 4.0548384e-01 4.2889518e-01\n",
            " 4.3888268e-01 4.4200853e-01 2.5345418e-01 2.7874640e-01 2.6630276e-01\n",
            " 2.7779642e-01 2.7422616e-01 2.8276536e-01 2.8644204e-01 2.7533183e-01\n",
            " 2.8979445e-01 2.8696164e-01 2.7615681e-01 1.7744362e-01 1.8515393e-01\n",
            " 1.8146275e-01 1.7696394e-01 1.7307143e-01 1.7768295e-01 1.7478655e-01\n",
            " 1.7454271e-01 1.7816046e-01 1.7257783e-01 1.8099521e-01 1.8331905e-01\n",
            " 1.7958426e-01 1.7600001e-01 1.7934786e-01 1.8809140e-01 1.8538183e-01\n",
            " 1.8122914e-01 1.7380886e-01 1.7648272e-01 1.8515393e-01 1.7696394e-01\n",
            " 1.6806139e-01 1.7429848e-01 1.8005599e-01 1.7839867e-01 1.7958425e-01\n",
            " 1.7233042e-01 1.7108734e-01 1.3162568e-01 3.4585163e-01 3.5383385e-01\n",
            " 3.5875633e-01 3.6328566e-01 3.2570422e-01 3.4432659e-01 3.7052286e-01\n",
            " 2.3511356e-01 4.6059969e-01 3.1026554e-01 2.3799145e-01 3.1978834e-01\n",
            " 3.2728580e-01 2.7311414e-01 3.5590917e-01 3.3858958e-01 2.9792824e-01\n",
            " 3.2916623e-01 2.3815931e-01 3.2250047e-01 3.2707569e-01 2.7185535e-01\n",
            " 3.6059985e-01 3.3560199e-01 2.9571003e-01 3.3236092e-01]\u001b[0m\n",
            "\u001b[34m<NDArray 84 @cpu(0)>, 'mean_label': None, 'mean_weight': \u001b[0m\n",
            "\u001b[34m[1.01357312e+03 1.28424559e+01 3.87066383e+01 2.01139107e+01\n",
            " 1.71943069e+02 3.87091827e+01 2.01643639e+01 1.71260239e+02\n",
            " 6.66454554e-01 6.98727369e-01 2.00545460e-01 2.12818190e-01\n",
            " 2.16636375e-01 2.07454562e-01 2.43000031e-01 2.60454535e-01\n",
            " 2.66272753e-01 6.89999983e-02 8.49091038e-02 7.68181831e-02\n",
            " 8.42727348e-02 8.19090903e-02 8.76363739e-02 9.01818126e-02\n",
            " 8.26363638e-02 9.25454646e-02 9.05454606e-02 8.31818208e-02\n",
            " 3.25454548e-02 3.55454572e-02 3.40909101e-02 3.23636346e-02\n",
            " 3.09090968e-02 3.26363668e-02 3.15454565e-02 3.14545482e-02\n",
            " 3.28181870e-02 3.07272766e-02 3.39090899e-02 3.48181836e-02\n",
            " 3.33636366e-02 3.20000015e-02 3.32727283e-02 3.67272720e-02\n",
            " 3.56363654e-02 3.40000018e-02 3.11818216e-02 3.21818218e-02\n",
            " 3.55454572e-02 3.23636420e-02 2.90909093e-02 3.13636400e-02\n",
            " 3.35454568e-02 3.29090916e-02 3.33636403e-02 3.06363665e-02\n",
            " 3.01818214e-02 1.76363662e-02 1.38909101e-01 1.46727294e-01\n",
            " 1.51727274e-01 1.56454563e-01 1.20636374e-01 1.37454554e-01\n",
            " 1.64272740e-01 5.87272756e-02 3.05454582e-01 1.07909098e-01\n",
            " 6.02727309e-02 1.15636371e-01 1.22000009e-01 8.11818317e-02\n",
            " 1.48818195e-01 1.32090911e-01 9.84545574e-02 1.23636372e-01\n",
            " 6.03636429e-02 1.17909096e-01 1.21818185e-01 8.03636461e-02\n",
            " 1.53636396e-01 1.29363656e-01 9.68181938e-02 1.26454562e-01]\u001b[0m\n",
            "\u001b[34m<NDArray 84 @cpu(0)>}\u001b[0m\n",
            "\u001b[34m[10/22/2021 10:17:15 INFO 140300387239744] nvidia-smi: took 0.059 seconds to run.\u001b[0m\n",
            "\u001b[34m[10/22/2021 10:17:15 INFO 140300387239744] nvidia-smi identified 0 GPUs.\u001b[0m\n",
            "\u001b[34m[10/22/2021 10:17:15 INFO 140300387239744] Number of GPUs being used: 0\u001b[0m\n",
            "\u001b[34m#metrics {\"StartTime\": 1634897835.8175335, \"EndTime\": 1634897835.8175778, \"Dimensions\": {\"Algorithm\": \"Linear Learner\", \"Host\": \"algo-1\", \"Operation\": \"training\", \"Meta\": \"init_train_data_iter\"}, \"Metrics\": {\"Total Records Seen\": {\"sum\": 12000.0, \"count\": 1, \"min\": 12000, \"max\": 12000}, \"Total Batches Seen\": {\"sum\": 12.0, \"count\": 1, \"min\": 12, \"max\": 12}, \"Max Records Seen Between Resets\": {\"sum\": 11000.0, \"count\": 1, \"min\": 11000, \"max\": 11000}, \"Max Batches Seen Between Resets\": {\"sum\": 11.0, \"count\": 1, \"min\": 11, \"max\": 11}, \"Reset Count\": {\"sum\": 2.0, \"count\": 1, \"min\": 2, \"max\": 2}, \"Number of Records Since Last Reset\": {\"sum\": 0.0, \"count\": 1, \"min\": 0, \"max\": 0}, \"Number of Batches Since Last Reset\": {\"sum\": 0.0, \"count\": 1, \"min\": 0, \"max\": 0}}}\n",
            "\u001b[0m\n",
            "\u001b[34m[2021-10-22 10:18:04.861] [tensorio] [info] epoch_stats={\"data_pipeline\": \"/opt/ml/input/data/train\", \"epoch\": 3, \"duration\": 49043, \"num_examples\": 1309, \"num_bytes\": 502453248}\u001b[0m\n",
            "\u001b[34m#metrics {\"StartTime\": 1634897884.861661, \"EndTime\": 1634897884.8617697, \"Dimensions\": {\"Algorithm\": \"Linear Learner\", \"Host\": \"algo-1\", \"Operation\": \"training\", \"epoch\": 0, \"model\": 0}, \"Metrics\": {\"train_binary_classification_cross_entropy_objective\": {\"sum\": 0.4828383362096384, \"count\": 1, \"min\": 0.4828383362096384, \"max\": 0.4828383362096384}}}\n",
            "\u001b[0m\n",
            "\u001b[34m#metrics {\"StartTime\": 1634897884.861949, \"EndTime\": 1634897884.8619738, \"Dimensions\": {\"Algorithm\": \"Linear Learner\", \"Host\": \"algo-1\", \"Operation\": \"training\", \"epoch\": 0, \"model\": 1}, \"Metrics\": {\"train_binary_classification_cross_entropy_objective\": {\"sum\": 0.4834385624456843, \"count\": 1, \"min\": 0.4834385624456843, \"max\": 0.4834385624456843}}}\n",
            "\u001b[0m\n",
            "\u001b[34m#metrics {\"StartTime\": 1634897884.8620367, \"EndTime\": 1634897884.8620555, \"Dimensions\": {\"Algorithm\": \"Linear Learner\", \"Host\": \"algo-1\", \"Operation\": \"training\", \"epoch\": 0, \"model\": 2}, \"Metrics\": {\"train_binary_classification_cross_entropy_objective\": {\"sum\": 0.48297203213286327, \"count\": 1, \"min\": 0.48297203213286327, \"max\": 0.48297203213286327}}}\n",
            "\u001b[0m\n",
            "\u001b[34m#metrics {\"StartTime\": 1634897884.8621101, \"EndTime\": 1634897884.8621244, \"Dimensions\": {\"Algorithm\": \"Linear Learner\", \"Host\": \"algo-1\", \"Operation\": \"training\", \"epoch\": 0, \"model\": 3}, \"Metrics\": {\"train_binary_classification_cross_entropy_objective\": {\"sum\": 0.4836811349617961, \"count\": 1, \"min\": 0.4836811349617961, \"max\": 0.4836811349617961}}}\n",
            "\u001b[0m\n",
            "\u001b[34m#metrics {\"StartTime\": 1634897884.8621721, \"EndTime\": 1634897884.862186, \"Dimensions\": {\"Algorithm\": \"Linear Learner\", \"Host\": \"algo-1\", \"Operation\": \"training\", \"epoch\": 0, \"model\": 4}, \"Metrics\": {\"train_binary_classification_cross_entropy_objective\": {\"sum\": 0.49485218332739783, \"count\": 1, \"min\": 0.49485218332739783, \"max\": 0.49485218332739783}}}\n",
            "\u001b[0m\n",
            "\u001b[34m#metrics {\"StartTime\": 1634897884.8622332, \"EndTime\": 1634897884.8622468, \"Dimensions\": {\"Algorithm\": \"Linear Learner\", \"Host\": \"algo-1\", \"Operation\": \"training\", \"epoch\": 0, \"model\": 5}, \"Metrics\": {\"train_binary_classification_cross_entropy_objective\": {\"sum\": 0.5039534921208653, \"count\": 1, \"min\": 0.5039534921208653, \"max\": 0.5039534921208653}}}\n",
            "\u001b[0m\n",
            "\u001b[34m#metrics {\"StartTime\": 1634897884.8622947, \"EndTime\": 1634897884.8623116, \"Dimensions\": {\"Algorithm\": \"Linear Learner\", \"Host\": \"algo-1\", \"Operation\": \"training\", \"epoch\": 0, \"model\": 6}, \"Metrics\": {\"train_binary_classification_cross_entropy_objective\": {\"sum\": 0.49482913751631336, \"count\": 1, \"min\": 0.49482913751631336, \"max\": 0.49482913751631336}}}\n",
            "\u001b[0m\n",
            "\u001b[34m#metrics {\"StartTime\": 1634897884.8623676, \"EndTime\": 1634897884.862386, \"Dimensions\": {\"Algorithm\": \"Linear Learner\", \"Host\": \"algo-1\", \"Operation\": \"training\", \"epoch\": 0, \"model\": 7}, \"Metrics\": {\"train_binary_classification_cross_entropy_objective\": {\"sum\": 0.5039228896861412, \"count\": 1, \"min\": 0.5039228896861412, \"max\": 0.5039228896861412}}}\n",
            "\u001b[0m\n",
            "\u001b[34m#metrics {\"StartTime\": 1634897884.8625088, \"EndTime\": 1634897884.8626094, \"Dimensions\": {\"Algorithm\": \"Linear Learner\", \"Host\": \"algo-1\", \"Operation\": \"training\", \"epoch\": 0, \"model\": 8}, \"Metrics\": {\"train_binary_classification_cross_entropy_objective\": {\"sum\": 0.4833343359104355, \"count\": 1, \"min\": 0.4833343359104355, \"max\": 0.4833343359104355}}}\n",
            "\u001b[0m\n",
            "\u001b[34m#metrics {\"StartTime\": 1634897884.8626788, \"EndTime\": 1634897884.8626983, \"Dimensions\": {\"Algorithm\": \"Linear Learner\", \"Host\": \"algo-1\", \"Operation\": \"training\", \"epoch\": 0, \"model\": 9}, \"Metrics\": {\"train_binary_classification_cross_entropy_objective\": {\"sum\": 0.4836575008707309, \"count\": 1, \"min\": 0.4836575008707309, \"max\": 0.4836575008707309}}}\n",
            "\u001b[0m\n",
            "\u001b[34m#metrics {\"StartTime\": 1634897884.8627536, \"EndTime\": 1634897884.8627708, \"Dimensions\": {\"Algorithm\": \"Linear Learner\", \"Host\": \"algo-1\", \"Operation\": \"training\", \"epoch\": 0, \"model\": 10}, \"Metrics\": {\"train_binary_classification_cross_entropy_objective\": {\"sum\": 0.48312329106228796, \"count\": 1, \"min\": 0.48312329106228796, \"max\": 0.48312329106228796}}}\n",
            "\u001b[0m\n",
            "\u001b[34m#metrics {\"StartTime\": 1634897884.862827, \"EndTime\": 1634897884.8628442, \"Dimensions\": {\"Algorithm\": \"Linear Learner\", \"Host\": \"algo-1\", \"Operation\": \"training\", \"epoch\": 0, \"model\": 11}, \"Metrics\": {\"train_binary_classification_cross_entropy_objective\": {\"sum\": 0.4836043888057044, \"count\": 1, \"min\": 0.4836043888057044, \"max\": 0.4836043888057044}}}\n",
            "\u001b[0m\n",
            "\u001b[34m#metrics {\"StartTime\": 1634897884.8629005, \"EndTime\": 1634897884.8629174, \"Dimensions\": {\"Algorithm\": \"Linear Learner\", \"Host\": \"algo-1\", \"Operation\": \"training\", \"epoch\": 0, \"model\": 12}, \"Metrics\": {\"train_binary_classification_cross_entropy_objective\": {\"sum\": 0.49403284006381254, \"count\": 1, \"min\": 0.49403284006381254, \"max\": 0.49403284006381254}}}\n",
            "\u001b[0m\n",
            "\u001b[34m#metrics {\"StartTime\": 1634897884.8629725, \"EndTime\": 1634897884.8629894, \"Dimensions\": {\"Algorithm\": \"Linear Learner\", \"Host\": \"algo-1\", \"Operation\": \"training\", \"epoch\": 0, \"model\": 13}, \"Metrics\": {\"train_binary_classification_cross_entropy_objective\": {\"sum\": 0.5024953449727563, \"count\": 1, \"min\": 0.5024953449727563, \"max\": 0.5024953449727563}}}\n",
            "\u001b[0m\n",
            "\u001b[34m#metrics {\"StartTime\": 1634897884.8630471, \"EndTime\": 1634897884.8630595, \"Dimensions\": {\"Algorithm\": \"Linear Learner\", \"Host\": \"algo-1\", \"Operation\": \"training\", \"epoch\": 0, \"model\": 14}, \"Metrics\": {\"train_binary_classification_cross_entropy_objective\": {\"sum\": 0.4940458091945823, \"count\": 1, \"min\": 0.4940458091945823, \"max\": 0.4940458091945823}}}\n",
            "\u001b[0m\n",
            "\u001b[34m#metrics {\"StartTime\": 1634897884.8631096, \"EndTime\": 1634897884.8631258, \"Dimensions\": {\"Algorithm\": \"Linear Learner\", \"Host\": \"algo-1\", \"Operation\": \"training\", \"epoch\": 0, \"model\": 15}, \"Metrics\": {\"train_binary_classification_cross_entropy_objective\": {\"sum\": 0.5024802896342146, \"count\": 1, \"min\": 0.5024802896342146, \"max\": 0.5024802896342146}}}\n",
            "\u001b[0m\n",
            "\u001b[34m#metrics {\"StartTime\": 1634897884.8631887, \"EndTime\": 1634897884.8632064, \"Dimensions\": {\"Algorithm\": \"Linear Learner\", \"Host\": \"algo-1\", \"Operation\": \"training\", \"epoch\": 0, \"model\": 16}, \"Metrics\": {\"train_binary_classification_cross_entropy_objective\": {\"sum\": 0.5057930841475087, \"count\": 1, \"min\": 0.5057930841475087, \"max\": 0.5057930841475087}}}\n",
            "\u001b[0m\n",
            "\u001b[34m#metrics {\"StartTime\": 1634897884.86327, \"EndTime\": 1634897884.8632865, \"Dimensions\": {\"Algorithm\": \"Linear Learner\", \"Host\": \"algo-1\", \"Operation\": \"training\", \"epoch\": 0, \"model\": 17}, \"Metrics\": {\"train_binary_classification_cross_entropy_objective\": {\"sum\": 0.5058773240488968, \"count\": 1, \"min\": 0.5058773240488968, \"max\": 0.5058773240488968}}}\n",
            "\u001b[0m\n",
            "\u001b[34m#metrics {\"StartTime\": 1634897884.863338, \"EndTime\": 1634897884.8633542, \"Dimensions\": {\"Algorithm\": \"Linear Learner\", \"Host\": \"algo-1\", \"Operation\": \"training\", \"epoch\": 0, \"model\": 18}, \"Metrics\": {\"train_binary_classification_cross_entropy_objective\": {\"sum\": 0.5057744719012432, \"count\": 1, \"min\": 0.5057744719012432, \"max\": 0.5057744719012432}}}\n",
            "\u001b[0m\n",
            "\u001b[34m#metrics {\"StartTime\": 1634897884.863417, \"EndTime\": 1634897884.8634334, \"Dimensions\": {\"Algorithm\": \"Linear Learner\", \"Host\": \"algo-1\", \"Operation\": \"training\", \"epoch\": 0, \"model\": 19}, \"Metrics\": {\"train_binary_classification_cross_entropy_objective\": {\"sum\": 0.5058958542850039, \"count\": 1, \"min\": 0.5058958542850039, \"max\": 0.5058958542850039}}}\n",
            "\u001b[0m\n",
            "\u001b[34m#metrics {\"StartTime\": 1634897884.8634915, \"EndTime\": 1634897884.8635097, \"Dimensions\": {\"Algorithm\": \"Linear Learner\", \"Host\": \"algo-1\", \"Operation\": \"training\", \"epoch\": 0, \"model\": 20}, \"Metrics\": {\"train_binary_classification_cross_entropy_objective\": {\"sum\": 0.5071759402773796, \"count\": 1, \"min\": 0.5071759402773796, \"max\": 0.5071759402773796}}}\n",
            "\u001b[0m\n",
            "\u001b[34m#metrics {\"StartTime\": 1634897884.8635716, \"EndTime\": 1634897884.8635876, \"Dimensions\": {\"Algorithm\": \"Linear Learner\", \"Host\": \"algo-1\", \"Operation\": \"training\", \"epoch\": 0, \"model\": 21}, \"Metrics\": {\"train_binary_classification_cross_entropy_objective\": {\"sum\": 0.5088113313960737, \"count\": 1, \"min\": 0.5088113313960737, \"max\": 0.5088113313960737}}}\n",
            "\u001b[0m\n",
            "\u001b[34m#metrics {\"StartTime\": 1634897884.863643, \"EndTime\": 1634897884.8636577, \"Dimensions\": {\"Algorithm\": \"Linear Learner\", \"Host\": \"algo-1\", \"Operation\": \"training\", \"epoch\": 0, \"model\": 22}, \"Metrics\": {\"train_binary_classification_cross_entropy_objective\": {\"sum\": 0.5071590665998079, \"count\": 1, \"min\": 0.5071590665998079, \"max\": 0.5071590665998079}}}\n",
            "\u001b[0m\n",
            "\u001b[34m#metrics {\"StartTime\": 1634897884.8637364, \"EndTime\": 1634897884.8637543, \"Dimensions\": {\"Algorithm\": \"Linear Learner\", \"Host\": \"algo-1\", \"Operation\": \"training\", \"epoch\": 0, \"model\": 23}, \"Metrics\": {\"train_binary_classification_cross_entropy_objective\": {\"sum\": 0.5088280019964282, \"count\": 1, \"min\": 0.5088280019964282, \"max\": 0.5088280019964282}}}\n",
            "\u001b[0m\n",
            "\u001b[34m#metrics {\"StartTime\": 1634897884.8638084, \"EndTime\": 1634897884.8638244, \"Dimensions\": {\"Algorithm\": \"Linear Learner\", \"Host\": \"algo-1\", \"Operation\": \"training\", \"epoch\": 0, \"model\": 24}, \"Metrics\": {\"train_binary_classification_cross_entropy_objective\": {\"sum\": 0.5150427551736161, \"count\": 1, \"min\": 0.5150427551736161, \"max\": 0.5150427551736161}}}\n",
            "\u001b[0m\n",
            "\u001b[34m#metrics {\"StartTime\": 1634897884.8638825, \"EndTime\": 1634897884.8638995, \"Dimensions\": {\"Algorithm\": \"Linear Learner\", \"Host\": \"algo-1\", \"Operation\": \"training\", \"epoch\": 0, \"model\": 25}, \"Metrics\": {\"train_binary_classification_cross_entropy_objective\": {\"sum\": 0.5150579095309663, \"count\": 1, \"min\": 0.5150579095309663, \"max\": 0.5150579095309663}}}\n",
            "\u001b[0m\n",
            "\u001b[34m#metrics {\"StartTime\": 1634897884.863954, \"EndTime\": 1634897884.86397, \"Dimensions\": {\"Algorithm\": \"Linear Learner\", \"Host\": \"algo-1\", \"Operation\": \"training\", \"epoch\": 0, \"model\": 26}, \"Metrics\": {\"train_binary_classification_cross_entropy_objective\": {\"sum\": 0.5149888034552245, \"count\": 1, \"min\": 0.5149888034552245, \"max\": 0.5149888034552245}}}\n",
            "\u001b[0m\n",
            "\u001b[34m#metrics {\"StartTime\": 1634897884.8640234, \"EndTime\": 1634897884.86404, \"Dimensions\": {\"Algorithm\": \"Linear Learner\", \"Host\": \"algo-1\", \"Operation\": \"training\", \"epoch\": 0, \"model\": 27}, \"Metrics\": {\"train_binary_classification_cross_entropy_objective\": {\"sum\": 0.5150436091291795, \"count\": 1, \"min\": 0.5150436091291795, \"max\": 0.5150436091291795}}}\n",
            "\u001b[0m\n",
            "\u001b[34m#metrics {\"StartTime\": 1634897884.864103, \"EndTime\": 1634897884.8641214, \"Dimensions\": {\"Algorithm\": \"Linear Learner\", \"Host\": \"algo-1\", \"Operation\": \"training\", \"epoch\": 0, \"model\": 28}, \"Metrics\": {\"train_binary_classification_cross_entropy_objective\": {\"sum\": 0.5150322404680632, \"count\": 1, \"min\": 0.5150322404680632, \"max\": 0.5150322404680632}}}\n",
            "\u001b[0m\n",
            "\u001b[34m#metrics {\"StartTime\": 1634897884.8641863, \"EndTime\": 1634897884.8642056, \"Dimensions\": {\"Algorithm\": \"Linear Learner\", \"Host\": \"algo-1\", \"Operation\": \"training\", \"epoch\": 0, \"model\": 29}, \"Metrics\": {\"train_binary_classification_cross_entropy_objective\": {\"sum\": 0.5157423636526872, \"count\": 1, \"min\": 0.5157423636526872, \"max\": 0.5157423636526872}}}\n",
            "\u001b[0m\n",
            "\u001b[34m#metrics {\"StartTime\": 1634897884.8642707, \"EndTime\": 1634897884.8642893, \"Dimensions\": {\"Algorithm\": \"Linear Learner\", \"Host\": \"algo-1\", \"Operation\": \"training\", \"epoch\": 0, \"model\": 30}, \"Metrics\": {\"train_binary_classification_cross_entropy_objective\": {\"sum\": 0.5149890106854453, \"count\": 1, \"min\": 0.5149890106854453, \"max\": 0.5149890106854453}}}\n",
            "\u001b[0m\n",
            "\u001b[34m#metrics {\"StartTime\": 1634897884.864353, \"EndTime\": 1634897884.864371, \"Dimensions\": {\"Algorithm\": \"Linear Learner\", \"Host\": \"algo-1\", \"Operation\": \"training\", \"epoch\": 0, \"model\": 31}, \"Metrics\": {\"train_binary_classification_cross_entropy_objective\": {\"sum\": 0.5157691661823051, \"count\": 1, \"min\": 0.5157691661823051, \"max\": 0.5157691661823051}}}\n",
            "\u001b[0m\n",
            "\u001b[34m[10/22/2021 10:18:04 INFO 140300387239744] #quality_metric: host=algo-1, epoch=0, train binary_classification_cross_entropy_objective <loss>=0.4828383362096384\u001b[0m\n",
            "\u001b[34m[2021-10-22 10:18:04.894] [tensorio] [info] epoch_stats={\"data_pipeline\": \"/opt/ml/input/data/validation\", \"epoch\": 0, \"duration\": 49544, \"num_examples\": 1, \"num_bytes\": 384000}\u001b[0m\n",
            "\u001b[34m[2021-10-22 10:18:10.670] [tensorio] [info] epoch_stats={\"data_pipeline\": \"/opt/ml/input/data/validation\", \"epoch\": 2, \"duration\": 5775, \"num_examples\": 164, \"num_bytes\": 62806656}\u001b[0m\n",
            "\u001b[34m#metrics {\"StartTime\": 1634897890.6783319, \"EndTime\": 1634897890.67839, \"Dimensions\": {\"Algorithm\": \"Linear Learner\", \"Host\": \"algo-1\", \"Operation\": \"training\", \"epoch\": 0, \"model\": 0}, \"Metrics\": {\"validation_binary_classification_cross_entropy_objective\": {\"sum\": 0.48191418112297685, \"count\": 1, \"min\": 0.48191418112297685, \"max\": 0.48191418112297685}}}\n",
            "\u001b[0m\n",
            "\u001b[34m#metrics {\"StartTime\": 1634897890.678476, \"EndTime\": 1634897890.6784978, \"Dimensions\": {\"Algorithm\": \"Linear Learner\", \"Host\": \"algo-1\", \"Operation\": \"training\", \"epoch\": 0, \"model\": 1}, \"Metrics\": {\"validation_binary_classification_cross_entropy_objective\": {\"sum\": 0.4835268904958895, \"count\": 1, \"min\": 0.4835268904958895, \"max\": 0.4835268904958895}}}\n",
            "\u001b[0m\n",
            "\u001b[34m#metrics {\"StartTime\": 1634897890.6785576, \"EndTime\": 1634897890.6785753, \"Dimensions\": {\"Algorithm\": \"Linear Learner\", \"Host\": \"algo-1\", \"Operation\": \"training\", \"epoch\": 0, \"model\": 2}, \"Metrics\": {\"validation_binary_classification_cross_entropy_objective\": {\"sum\": 0.4819142889688316, \"count\": 1, \"min\": 0.4819142889688316, \"max\": 0.4819142889688316}}}\n",
            "\u001b[0m\n",
            "\u001b[34m#metrics {\"StartTime\": 1634897890.678627, \"EndTime\": 1634897890.6786444, \"Dimensions\": {\"Algorithm\": \"Linear Learner\", \"Host\": \"algo-1\", \"Operation\": \"training\", \"epoch\": 0, \"model\": 3}, \"Metrics\": {\"validation_binary_classification_cross_entropy_objective\": {\"sum\": 0.4835254832754111, \"count\": 1, \"min\": 0.4835254832754111, \"max\": 0.4835254832754111}}}\n",
            "\u001b[0m\n",
            "\u001b[34m#metrics {\"StartTime\": 1634897890.6787002, \"EndTime\": 1634897890.6787171, \"Dimensions\": {\"Algorithm\": \"Linear Learner\", \"Host\": \"algo-1\", \"Operation\": \"training\", \"epoch\": 0, \"model\": 4}, \"Metrics\": {\"validation_binary_classification_cross_entropy_objective\": {\"sum\": 0.4896194937250162, \"count\": 1, \"min\": 0.4896194937250162, \"max\": 0.4896194937250162}}}\n",
            "\u001b[0m\n",
            "\u001b[34m#metrics {\"StartTime\": 1634897890.6787717, \"EndTime\": 1634897890.678789, \"Dimensions\": {\"Algorithm\": \"Linear Learner\", \"Host\": \"algo-1\", \"Operation\": \"training\", \"epoch\": 0, \"model\": 5}, \"Metrics\": {\"validation_binary_classification_cross_entropy_objective\": {\"sum\": 0.4968481819451787, \"count\": 1, \"min\": 0.4968481819451787, \"max\": 0.4968481819451787}}}\n",
            "\u001b[0m\n",
            "\u001b[34m#metrics {\"StartTime\": 1634897890.6788554, \"EndTime\": 1634897890.6788728, \"Dimensions\": {\"Algorithm\": \"Linear Learner\", \"Host\": \"algo-1\", \"Operation\": \"training\", \"epoch\": 0, \"model\": 6}, \"Metrics\": {\"validation_binary_classification_cross_entropy_objective\": {\"sum\": 0.48961902203934005, \"count\": 1, \"min\": 0.48961902203934005, \"max\": 0.48961902203934005}}}\n",
            "\u001b[0m\n",
            "\u001b[34m#metrics {\"StartTime\": 1634897890.678929, \"EndTime\": 1634897890.678947, \"Dimensions\": {\"Algorithm\": \"Linear Learner\", \"Host\": \"algo-1\", \"Operation\": \"training\", \"epoch\": 0, \"model\": 7}, \"Metrics\": {\"validation_binary_classification_cross_entropy_objective\": {\"sum\": 0.4968508661501378, \"count\": 1, \"min\": 0.4968508661501378, \"max\": 0.4968508661501378}}}\n",
            "\u001b[0m\n",
            "\u001b[34m#metrics {\"StartTime\": 1634897890.6790004, \"EndTime\": 1634897890.679018, \"Dimensions\": {\"Algorithm\": \"Linear Learner\", \"Host\": \"algo-1\", \"Operation\": \"training\", \"epoch\": 0, \"model\": 8}, \"Metrics\": {\"validation_binary_classification_cross_entropy_objective\": {\"sum\": 0.48203397976889983, \"count\": 1, \"min\": 0.48203397976889983, \"max\": 0.48203397976889983}}}\n",
            "\u001b[0m\n",
            "\u001b[34m#metrics {\"StartTime\": 1634897890.679085, \"EndTime\": 1634897890.6791043, \"Dimensions\": {\"Algorithm\": \"Linear Learner\", \"Host\": \"algo-1\", \"Operation\": \"training\", \"epoch\": 0, \"model\": 9}, \"Metrics\": {\"validation_binary_classification_cross_entropy_objective\": {\"sum\": 0.483542304243399, \"count\": 1, \"min\": 0.483542304243399, \"max\": 0.483542304243399}}}\n",
            "\u001b[0m\n",
            "\u001b[34m#metrics {\"StartTime\": 1634897890.6791587, \"EndTime\": 1634897890.6791754, \"Dimensions\": {\"Algorithm\": \"Linear Learner\", \"Host\": \"algo-1\", \"Operation\": \"training\", \"epoch\": 0, \"model\": 10}, \"Metrics\": {\"validation_binary_classification_cross_entropy_objective\": {\"sum\": 0.4820357771376174, \"count\": 1, \"min\": 0.4820357771376174, \"max\": 0.4820357771376174}}}\n",
            "\u001b[0m\n",
            "\u001b[34m#metrics {\"StartTime\": 1634897890.6792328, \"EndTime\": 1634897890.6792495, \"Dimensions\": {\"Algorithm\": \"Linear Learner\", \"Host\": \"algo-1\", \"Operation\": \"training\", \"epoch\": 0, \"model\": 11}, \"Metrics\": {\"validation_binary_classification_cross_entropy_objective\": {\"sum\": 0.48354538923191515, \"count\": 1, \"min\": 0.48354538923191515, \"max\": 0.48354538923191515}}}\n",
            "\u001b[0m\n",
            "\u001b[34m#metrics {\"StartTime\": 1634897890.6793058, \"EndTime\": 1634897890.6793237, \"Dimensions\": {\"Algorithm\": \"Linear Learner\", \"Host\": \"algo-1\", \"Operation\": \"training\", \"epoch\": 0, \"model\": 12}, \"Metrics\": {\"validation_binary_classification_cross_entropy_objective\": {\"sum\": 0.48917698147211497, \"count\": 1, \"min\": 0.48917698147211497, \"max\": 0.48917698147211497}}}\n",
            "\u001b[0m\n",
            "\u001b[34m#metrics {\"StartTime\": 1634897890.6793718, \"EndTime\": 1634897890.6793878, \"Dimensions\": {\"Algorithm\": \"Linear Learner\", \"Host\": \"algo-1\", \"Operation\": \"training\", \"epoch\": 0, \"model\": 13}, \"Metrics\": {\"validation_binary_classification_cross_entropy_objective\": {\"sum\": 0.4945233757226105, \"count\": 1, \"min\": 0.4945233757226105, \"max\": 0.4945233757226105}}}\n",
            "\u001b[0m\n",
            "\u001b[34m#metrics {\"StartTime\": 1634897890.6794415, \"EndTime\": 1634897890.6794584, \"Dimensions\": {\"Algorithm\": \"Linear Learner\", \"Host\": \"algo-1\", \"Operation\": \"training\", \"epoch\": 0, \"model\": 14}, \"Metrics\": {\"validation_binary_classification_cross_entropy_objective\": {\"sum\": 0.4891764558635115, \"count\": 1, \"min\": 0.4891764558635115, \"max\": 0.4891764558635115}}}\n",
            "\u001b[0m\n",
            "\u001b[34m#metrics {\"StartTime\": 1634897890.679511, \"EndTime\": 1634897890.6795225, \"Dimensions\": {\"Algorithm\": \"Linear Learner\", \"Host\": \"algo-1\", \"Operation\": \"training\", \"epoch\": 0, \"model\": 15}, \"Metrics\": {\"validation_binary_classification_cross_entropy_objective\": {\"sum\": 0.4945168226875508, \"count\": 1, \"min\": 0.4945168226875508, \"max\": 0.4945168226875508}}}\n",
            "\u001b[0m\n",
            "\u001b[34m#metrics {\"StartTime\": 1634897890.6795654, \"EndTime\": 1634897890.679581, \"Dimensions\": {\"Algorithm\": \"Linear Learner\", \"Host\": \"algo-1\", \"Operation\": \"training\", \"epoch\": 0, \"model\": 16}, \"Metrics\": {\"validation_binary_classification_cross_entropy_objective\": {\"sum\": 0.5045593839011266, \"count\": 1, \"min\": 0.5045593839011266, \"max\": 0.5045593839011266}}}\n",
            "\u001b[0m\n",
            "\u001b[34m#metrics {\"StartTime\": 1634897890.6796322, \"EndTime\": 1634897890.6796489, \"Dimensions\": {\"Algorithm\": \"Linear Learner\", \"Host\": \"algo-1\", \"Operation\": \"training\", \"epoch\": 0, \"model\": 17}, \"Metrics\": {\"validation_binary_classification_cross_entropy_objective\": {\"sum\": 0.5050758308313295, \"count\": 1, \"min\": 0.5050758308313295, \"max\": 0.5050758308313295}}}\n",
            "\u001b[0m\n",
            "\u001b[34m#metrics {\"StartTime\": 1634897890.6797335, \"EndTime\": 1634897890.679752, \"Dimensions\": {\"Algorithm\": \"Linear Learner\", \"Host\": \"algo-1\", \"Operation\": \"training\", \"epoch\": 0, \"model\": 18}, \"Metrics\": {\"validation_binary_classification_cross_entropy_objective\": {\"sum\": 0.5045514290565398, \"count\": 1, \"min\": 0.5045514290565398, \"max\": 0.5045514290565398}}}\n",
            "\u001b[0m\n",
            "\u001b[34m#metrics {\"StartTime\": 1634897890.6798081, \"EndTime\": 1634897890.6798263, \"Dimensions\": {\"Algorithm\": \"Linear Learner\", \"Host\": \"algo-1\", \"Operation\": \"training\", \"epoch\": 0, \"model\": 19}, \"Metrics\": {\"validation_binary_classification_cross_entropy_objective\": {\"sum\": 0.5050850053789482, \"count\": 1, \"min\": 0.5050850053789482, \"max\": 0.5050850053789482}}}\n",
            "\u001b[0m\n",
            "\u001b[34m#metrics {\"StartTime\": 1634897890.6798801, \"EndTime\": 1634897890.679897, \"Dimensions\": {\"Algorithm\": \"Linear Learner\", \"Host\": \"algo-1\", \"Operation\": \"training\", \"epoch\": 0, \"model\": 20}, \"Metrics\": {\"validation_binary_classification_cross_entropy_objective\": {\"sum\": 0.5066174477689912, \"count\": 1, \"min\": 0.5066174477689912, \"max\": 0.5066174477689912}}}\n",
            "\u001b[0m\n",
            "\u001b[34m#metrics {\"StartTime\": 1634897890.6799533, \"EndTime\": 1634897890.6799695, \"Dimensions\": {\"Algorithm\": \"Linear Learner\", \"Host\": \"algo-1\", \"Operation\": \"training\", \"epoch\": 0, \"model\": 21}, \"Metrics\": {\"validation_binary_classification_cross_entropy_objective\": {\"sum\": 0.5074300164664275, \"count\": 1, \"min\": 0.5074300164664275, \"max\": 0.5074300164664275}}}\n",
            "\u001b[0m\n",
            "\u001b[34m#metrics {\"StartTime\": 1634897890.6800098, \"EndTime\": 1634897890.6800191, \"Dimensions\": {\"Algorithm\": \"Linear Learner\", \"Host\": \"algo-1\", \"Operation\": \"training\", \"epoch\": 0, \"model\": 22}, \"Metrics\": {\"validation_binary_classification_cross_entropy_objective\": {\"sum\": 0.5066188910002827, \"count\": 1, \"min\": 0.5066188910002827, \"max\": 0.5066188910002827}}}\n",
            "\u001b[0m\n",
            "\u001b[34m#metrics {\"StartTime\": 1634897890.6800559, \"EndTime\": 1634897890.680066, \"Dimensions\": {\"Algorithm\": \"Linear Learner\", \"Host\": \"algo-1\", \"Operation\": \"training\", \"epoch\": 0, \"model\": 23}, \"Metrics\": {\"validation_binary_classification_cross_entropy_objective\": {\"sum\": 0.5074180160961961, \"count\": 1, \"min\": 0.5074180160961961, \"max\": 0.5074180160961961}}}\n",
            "\u001b[0m\n",
            "\u001b[34m#metrics {\"StartTime\": 1634897890.6801224, \"EndTime\": 1634897890.6801388, \"Dimensions\": {\"Algorithm\": \"Linear Learner\", \"Host\": \"algo-1\", \"Operation\": \"training\", \"epoch\": 0, \"model\": 24}, \"Metrics\": {\"validation_binary_classification_cross_entropy_objective\": {\"sum\": 0.5137422278141985, \"count\": 1, \"min\": 0.5137422278141985, \"max\": 0.5137422278141985}}}\n",
            "\u001b[0m\n",
            "\u001b[34m#metrics {\"StartTime\": 1634897890.6801932, \"EndTime\": 1634897890.6802113, \"Dimensions\": {\"Algorithm\": \"Linear Learner\", \"Host\": \"algo-1\", \"Operation\": \"training\", \"epoch\": 0, \"model\": 25}, \"Metrics\": {\"validation_binary_classification_cross_entropy_objective\": {\"sum\": 0.5144094499663777, \"count\": 1, \"min\": 0.5144094499663777, \"max\": 0.5144094499663777}}}\n",
            "\u001b[0m\n",
            "\u001b[34m#metrics {\"StartTime\": 1634897890.6802623, \"EndTime\": 1634897890.6802797, \"Dimensions\": {\"Algorithm\": \"Linear Learner\", \"Host\": \"algo-1\", \"Operation\": \"training\", \"epoch\": 0, \"model\": 26}, \"Metrics\": {\"validation_binary_classification_cross_entropy_objective\": {\"sum\": 0.5136984520995673, \"count\": 1, \"min\": 0.5136984520995673, \"max\": 0.5136984520995673}}}\n",
            "\u001b[0m\n",
            "\u001b[34m#metrics {\"StartTime\": 1634897890.6803312, \"EndTime\": 1634897890.6803474, \"Dimensions\": {\"Algorithm\": \"Linear Learner\", \"Host\": \"algo-1\", \"Operation\": \"training\", \"epoch\": 0, \"model\": 27}, \"Metrics\": {\"validation_binary_classification_cross_entropy_objective\": {\"sum\": 0.5144094548175754, \"count\": 1, \"min\": 0.5144094548175754, \"max\": 0.5144094548175754}}}\n",
            "\u001b[0m\n",
            "\u001b[34m#metrics {\"StartTime\": 1634897890.6804013, \"EndTime\": 1634897890.680419, \"Dimensions\": {\"Algorithm\": \"Linear Learner\", \"Host\": \"algo-1\", \"Operation\": \"training\", \"epoch\": 0, \"model\": 28}, \"Metrics\": {\"validation_binary_classification_cross_entropy_objective\": {\"sum\": 0.5152643399520824, \"count\": 1, \"min\": 0.5152643399520824, \"max\": 0.5152643399520824}}}\n",
            "\u001b[0m\n",
            "\u001b[34m#metrics {\"StartTime\": 1634897890.680467, \"EndTime\": 1634897890.6804838, \"Dimensions\": {\"Algorithm\": \"Linear Learner\", \"Host\": \"algo-1\", \"Operation\": \"training\", \"epoch\": 0, \"model\": 29}, \"Metrics\": {\"validation_binary_classification_cross_entropy_objective\": {\"sum\": 0.5139467845324786, \"count\": 1, \"min\": 0.5139467845324786, \"max\": 0.5139467845324786}}}\n",
            "\u001b[0m\n",
            "\u001b[34m#metrics {\"StartTime\": 1634897890.680531, \"EndTime\": 1634897890.6805465, \"Dimensions\": {\"Algorithm\": \"Linear Learner\", \"Host\": \"algo-1\", \"Operation\": \"training\", \"epoch\": 0, \"model\": 30}, \"Metrics\": {\"validation_binary_classification_cross_entropy_objective\": {\"sum\": 0.5152841766857282, \"count\": 1, \"min\": 0.5152841766857282, \"max\": 0.5152841766857282}}}\n",
            "\u001b[0m\n",
            "\u001b[34m#metrics {\"StartTime\": 1634897890.6805973, \"EndTime\": 1634897890.680613, \"Dimensions\": {\"Algorithm\": \"Linear Learner\", \"Host\": \"algo-1\", \"Operation\": \"training\", \"epoch\": 0, \"model\": 31}, \"Metrics\": {\"validation_binary_classification_cross_entropy_objective\": {\"sum\": 0.5138439658245577, \"count\": 1, \"min\": 0.5138439658245577, \"max\": 0.5138439658245577}}}\n",
            "\u001b[0m\n",
            "\u001b[34m[10/22/2021 10:18:10 INFO 140300387239744] #quality_metric: host=algo-1, epoch=0, validation binary_classification_cross_entropy_objective <loss>=0.48191418112297685\u001b[0m\n",
            "\u001b[34m[10/22/2021 10:18:10 INFO 140300387239744] #early_stopping_criteria_metric: host=algo-1, epoch=0, criteria=binary_classification_cross_entropy_objective, value=0.48191418112297685\u001b[0m\n",
            "\u001b[34m[10/22/2021 10:18:10 INFO 140300387239744] Epoch 0: Loss improved. Updating best model\u001b[0m\n",
            "\u001b[34m[10/22/2021 10:18:10 INFO 140300387239744] Saving model for epoch: 0\u001b[0m\n",
            "\u001b[34m[10/22/2021 10:18:10 INFO 140300387239744] Saved checkpoint to \"/tmp/tmpvy_ytcjl/mx-mod-0000.params\"\u001b[0m\n",
            "\u001b[34m[10/22/2021 10:18:10 INFO 140300387239744] #progress_metric: host=algo-1, completed 6.666666666666667 % of epochs\u001b[0m\n",
            "\u001b[34m#metrics {\"StartTime\": 1634897835.8178682, \"EndTime\": 1634897890.6929672, \"Dimensions\": {\"Algorithm\": \"Linear Learner\", \"Host\": \"algo-1\", \"Operation\": \"training\", \"epoch\": 0, \"Meta\": \"training_data_iter\"}, \"Metrics\": {\"Total Records Seen\": {\"sum\": 1320472.0, \"count\": 1, \"min\": 1320472, \"max\": 1320472}, \"Total Batches Seen\": {\"sum\": 1321.0, \"count\": 1, \"min\": 1321, \"max\": 1321}, \"Max Records Seen Between Resets\": {\"sum\": 1308472.0, \"count\": 1, \"min\": 1308472, \"max\": 1308472}, \"Max Batches Seen Between Resets\": {\"sum\": 1309.0, \"count\": 1, \"min\": 1309, \"max\": 1309}, \"Reset Count\": {\"sum\": 3.0, \"count\": 1, \"min\": 3, \"max\": 3}, \"Number of Records Since Last Reset\": {\"sum\": 1308472.0, \"count\": 1, \"min\": 1308472, \"max\": 1308472}, \"Number of Batches Since Last Reset\": {\"sum\": 1309.0, \"count\": 1, \"min\": 1309, \"max\": 1309}}}\n",
            "\u001b[0m\n",
            "\u001b[34m[10/22/2021 10:18:10 INFO 140300387239744] #throughput_metric: host=algo-1, train throughput=23844.465761446703 records/second\u001b[0m\n",
            "\u001b[34m[2021-10-22 10:18:59.483] [tensorio] [info] epoch_stats={\"data_pipeline\": \"/opt/ml/input/data/train\", \"epoch\": 5, \"duration\": 48789, \"num_examples\": 1309, \"num_bytes\": 502453248}\u001b[0m\n",
            "\u001b[34m#metrics {\"StartTime\": 1634897939.4832668, \"EndTime\": 1634897939.4833634, \"Dimensions\": {\"Algorithm\": \"Linear Learner\", \"Host\": \"algo-1\", \"Operation\": \"training\", \"epoch\": 1, \"model\": 0}, \"Metrics\": {\"train_binary_classification_cross_entropy_objective\": {\"sum\": 0.48054620809292575, \"count\": 1, \"min\": 0.48054620809292575, \"max\": 0.48054620809292575}}}\n",
            "\u001b[0m\n",
            "\u001b[34m#metrics {\"StartTime\": 1634897939.4834447, \"EndTime\": 1634897939.4834657, \"Dimensions\": {\"Algorithm\": \"Linear Learner\", \"Host\": \"algo-1\", \"Operation\": \"training\", \"epoch\": 1, \"model\": 1}, \"Metrics\": {\"train_binary_classification_cross_entropy_objective\": {\"sum\": 0.4814967994806599, \"count\": 1, \"min\": 0.4814967994806599, \"max\": 0.4814967994806599}}}\n",
            "\u001b[0m\n",
            "\u001b[34m#metrics {\"StartTime\": 1634897939.4835315, \"EndTime\": 1634897939.483549, \"Dimensions\": {\"Algorithm\": \"Linear Learner\", \"Host\": \"algo-1\", \"Operation\": \"training\", \"epoch\": 1, \"model\": 2}, \"Metrics\": {\"train_binary_classification_cross_entropy_objective\": {\"sum\": 0.480546493460279, \"count\": 1, \"min\": 0.480546493460279, \"max\": 0.480546493460279}}}\n",
            "\u001b[0m\n",
            "\u001b[34m#metrics {\"StartTime\": 1634897939.4836128, \"EndTime\": 1634897939.4836316, \"Dimensions\": {\"Algorithm\": \"Linear Learner\", \"Host\": \"algo-1\", \"Operation\": \"training\", \"epoch\": 1, \"model\": 3}, \"Metrics\": {\"train_binary_classification_cross_entropy_objective\": {\"sum\": 0.48149610891546313, \"count\": 1, \"min\": 0.48149610891546313, \"max\": 0.48149610891546313}}}\n",
            "\u001b[0m\n",
            "\u001b[34m#metrics {\"StartTime\": 1634897939.4837234, \"EndTime\": 1634897939.4837449, \"Dimensions\": {\"Algorithm\": \"Linear Learner\", \"Host\": \"algo-1\", \"Operation\": \"training\", \"epoch\": 1, \"model\": 4}, \"Metrics\": {\"train_binary_classification_cross_entropy_objective\": {\"sum\": 0.4844372875435272, \"count\": 1, \"min\": 0.4844372875435272, \"max\": 0.4844372875435272}}}\n",
            "\u001b[0m\n",
            "\u001b[34m#metrics {\"StartTime\": 1634897939.483816, \"EndTime\": 1634897939.4838352, \"Dimensions\": {\"Algorithm\": \"Linear Learner\", \"Host\": \"algo-1\", \"Operation\": \"training\", \"epoch\": 1, \"model\": 5}, \"Metrics\": {\"train_binary_classification_cross_entropy_objective\": {\"sum\": 0.5005493079135906, \"count\": 1, \"min\": 0.5005493079135906, \"max\": 0.5005493079135906}}}\n",
            "\u001b[0m\n",
            "\u001b[34m#metrics {\"StartTime\": 1634897939.483901, \"EndTime\": 1634897939.4839196, \"Dimensions\": {\"Algorithm\": \"Linear Learner\", \"Host\": \"algo-1\", \"Operation\": \"training\", \"epoch\": 1, \"model\": 6}, \"Metrics\": {\"train_binary_classification_cross_entropy_objective\": {\"sum\": 0.4844377384710749, \"count\": 1, \"min\": 0.4844377384710749, \"max\": 0.4844377384710749}}}\n",
            "\u001b[0m\n",
            "\u001b[34m#metrics {\"StartTime\": 1634897939.4839878, \"EndTime\": 1634897939.4840052, \"Dimensions\": {\"Algorithm\": \"Linear Learner\", \"Host\": \"algo-1\", \"Operation\": \"training\", \"epoch\": 1, \"model\": 7}, \"Metrics\": {\"train_binary_classification_cross_entropy_objective\": {\"sum\": 0.5005499461696054, \"count\": 1, \"min\": 0.5005499461696054, \"max\": 0.5005499461696054}}}\n",
            "\u001b[0m\n",
            "\u001b[34m#metrics {\"StartTime\": 1634897939.484059, \"EndTime\": 1634897939.4840746, \"Dimensions\": {\"Algorithm\": \"Linear Learner\", \"Host\": \"algo-1\", \"Operation\": \"training\", \"epoch\": 1, \"model\": 8}, \"Metrics\": {\"train_binary_classification_cross_entropy_objective\": {\"sum\": 0.4808067230784565, \"count\": 1, \"min\": 0.4808067230784565, \"max\": 0.4808067230784565}}}\n",
            "\u001b[0m\n",
            "\u001b[34m#metrics {\"StartTime\": 1634897939.4841275, \"EndTime\": 1634897939.4841425, \"Dimensions\": {\"Algorithm\": \"Linear Learner\", \"Host\": \"algo-1\", \"Operation\": \"training\", \"epoch\": 1, \"model\": 9}, \"Metrics\": {\"train_binary_classification_cross_entropy_objective\": {\"sum\": 0.48169792256953153, \"count\": 1, \"min\": 0.48169792256953153, \"max\": 0.48169792256953153}}}\n",
            "\u001b[0m\n",
            "\u001b[34m#metrics {\"StartTime\": 1634897939.4841936, \"EndTime\": 1634897939.484211, \"Dimensions\": {\"Algorithm\": \"Linear Learner\", \"Host\": \"algo-1\", \"Operation\": \"training\", \"epoch\": 1, \"model\": 10}, \"Metrics\": {\"train_binary_classification_cross_entropy_objective\": {\"sum\": 0.48080676033883285, \"count\": 1, \"min\": 0.48080676033883285, \"max\": 0.48080676033883285}}}\n",
            "\u001b[0m\n",
            "\u001b[34m#metrics {\"StartTime\": 1634897939.4842665, \"EndTime\": 1634897939.484283, \"Dimensions\": {\"Algorithm\": \"Linear Learner\", \"Host\": \"algo-1\", \"Operation\": \"training\", \"epoch\": 1, \"model\": 11}, \"Metrics\": {\"train_binary_classification_cross_entropy_objective\": {\"sum\": 0.4816980950358446, \"count\": 1, \"min\": 0.4816980950358446, \"max\": 0.4816980950358446}}}\n",
            "\u001b[0m\n",
            "\u001b[34m#metrics {\"StartTime\": 1634897939.484336, \"EndTime\": 1634897939.4843535, \"Dimensions\": {\"Algorithm\": \"Linear Learner\", \"Host\": \"algo-1\", \"Operation\": \"training\", \"epoch\": 1, \"model\": 12}, \"Metrics\": {\"train_binary_classification_cross_entropy_objective\": {\"sum\": 0.48445583719142715, \"count\": 1, \"min\": 0.48445583719142715, \"max\": 0.48445583719142715}}}\n",
            "\u001b[0m\n",
            "\u001b[34m#metrics {\"StartTime\": 1634897939.4844234, \"EndTime\": 1634897939.484442, \"Dimensions\": {\"Algorithm\": \"Linear Learner\", \"Host\": \"algo-1\", \"Operation\": \"training\", \"epoch\": 1, \"model\": 13}, \"Metrics\": {\"train_binary_classification_cross_entropy_objective\": {\"sum\": 0.49933740150381667, \"count\": 1, \"min\": 0.49933740150381667, \"max\": 0.49933740150381667}}}\n",
            "\u001b[0m\n",
            "\u001b[34m#metrics {\"StartTime\": 1634897939.4845202, \"EndTime\": 1634897939.4845386, \"Dimensions\": {\"Algorithm\": \"Linear Learner\", \"Host\": \"algo-1\", \"Operation\": \"training\", \"epoch\": 1, \"model\": 14}, \"Metrics\": {\"train_binary_classification_cross_entropy_objective\": {\"sum\": 0.4844555110406438, \"count\": 1, \"min\": 0.4844555110406438, \"max\": 0.4844555110406438}}}\n",
            "\u001b[0m\n",
            "\u001b[34m#metrics {\"StartTime\": 1634897939.4846058, \"EndTime\": 1634897939.4846234, \"Dimensions\": {\"Algorithm\": \"Linear Learner\", \"Host\": \"algo-1\", \"Operation\": \"training\", \"epoch\": 1, \"model\": 15}, \"Metrics\": {\"train_binary_classification_cross_entropy_objective\": {\"sum\": 0.49933864077880113, \"count\": 1, \"min\": 0.49933864077880113, \"max\": 0.49933864077880113}}}\n",
            "\u001b[0m\n",
            "\u001b[34m#metrics {\"StartTime\": 1634897939.4846911, \"EndTime\": 1634897939.48471, \"Dimensions\": {\"Algorithm\": \"Linear Learner\", \"Host\": \"algo-1\", \"Operation\": \"training\", \"epoch\": 1, \"model\": 16}, \"Metrics\": {\"train_binary_classification_cross_entropy_objective\": {\"sum\": 0.504333679409202, \"count\": 1, \"min\": 0.504333679409202, \"max\": 0.504333679409202}}}\n",
            "\u001b[0m\n",
            "\u001b[34m#metrics {\"StartTime\": 1634897939.4847844, \"EndTime\": 1634897939.4848025, \"Dimensions\": {\"Algorithm\": \"Linear Learner\", \"Host\": \"algo-1\", \"Operation\": \"training\", \"epoch\": 1, \"model\": 17}, \"Metrics\": {\"train_binary_classification_cross_entropy_objective\": {\"sum\": 0.5045877253681148, \"count\": 1, \"min\": 0.5045877253681148, \"max\": 0.5045877253681148}}}\n",
            "\u001b[0m\n",
            "\u001b[34m#metrics {\"StartTime\": 1634897939.4848673, \"EndTime\": 1634897939.484886, \"Dimensions\": {\"Algorithm\": \"Linear Learner\", \"Host\": \"algo-1\", \"Operation\": \"training\", \"epoch\": 1, \"model\": 18}, \"Metrics\": {\"train_binary_classification_cross_entropy_objective\": {\"sum\": 0.5043336700066149, \"count\": 1, \"min\": 0.5043336700066149, \"max\": 0.5043336700066149}}}\n",
            "\u001b[0m\n",
            "\u001b[34m#metrics {\"StartTime\": 1634897939.4849482, \"EndTime\": 1634897939.4849658, \"Dimensions\": {\"Algorithm\": \"Linear Learner\", \"Host\": \"algo-1\", \"Operation\": \"training\", \"epoch\": 1, \"model\": 19}, \"Metrics\": {\"train_binary_classification_cross_entropy_objective\": {\"sum\": 0.5045873930811517, \"count\": 1, \"min\": 0.5045873930811517, \"max\": 0.5045873930811517}}}\n",
            "\u001b[0m\n",
            "\u001b[34m#metrics {\"StartTime\": 1634897939.4850307, \"EndTime\": 1634897939.4850488, \"Dimensions\": {\"Algorithm\": \"Linear Learner\", \"Host\": \"algo-1\", \"Operation\": \"training\", \"epoch\": 1, \"model\": 20}, \"Metrics\": {\"train_binary_classification_cross_entropy_objective\": {\"sum\": 0.5051732538205768, \"count\": 1, \"min\": 0.5051732538205768, \"max\": 0.5051732538205768}}}\n",
            "\u001b[0m\n",
            "\u001b[34m#metrics {\"StartTime\": 1634897939.4851074, \"EndTime\": 1634897939.4851258, \"Dimensions\": {\"Algorithm\": \"Linear Learner\", \"Host\": \"algo-1\", \"Operation\": \"training\", \"epoch\": 1, \"model\": 21}, \"Metrics\": {\"train_binary_classification_cross_entropy_objective\": {\"sum\": 0.5080563660367913, \"count\": 1, \"min\": 0.5080563660367913, \"max\": 0.5080563660367913}}}\n",
            "\u001b[0m\n",
            "\u001b[34m#metrics {\"StartTime\": 1634897939.4851837, \"EndTime\": 1634897939.4852018, \"Dimensions\": {\"Algorithm\": \"Linear Learner\", \"Host\": \"algo-1\", \"Operation\": \"training\", \"epoch\": 1, \"model\": 22}, \"Metrics\": {\"train_binary_classification_cross_entropy_objective\": {\"sum\": 0.5051735038407352, \"count\": 1, \"min\": 0.5051735038407352, \"max\": 0.5051735038407352}}}\n",
            "\u001b[0m\n",
            "\u001b[34m#metrics {\"StartTime\": 1634897939.4852555, \"EndTime\": 1634897939.4852724, \"Dimensions\": {\"Algorithm\": \"Linear Learner\", \"Host\": \"algo-1\", \"Operation\": \"training\", \"epoch\": 1, \"model\": 23}, \"Metrics\": {\"train_binary_classification_cross_entropy_objective\": {\"sum\": 0.5080557670476604, \"count\": 1, \"min\": 0.5080557670476604, \"max\": 0.5080557670476604}}}\n",
            "\u001b[0m\n",
            "\u001b[34m#metrics {\"StartTime\": 1634897939.4853387, \"EndTime\": 1634897939.4853573, \"Dimensions\": {\"Algorithm\": \"Linear Learner\", \"Host\": \"algo-1\", \"Operation\": \"training\", \"epoch\": 1, \"model\": 24}, \"Metrics\": {\"train_binary_classification_cross_entropy_objective\": {\"sum\": 0.5137368454539448, \"count\": 1, \"min\": 0.5137368454539448, \"max\": 0.5137368454539448}}}\n",
            "\u001b[0m\n",
            "\u001b[34m#metrics {\"StartTime\": 1634897939.4854045, \"EndTime\": 1634897939.4854198, \"Dimensions\": {\"Algorithm\": \"Linear Learner\", \"Host\": \"algo-1\", \"Operation\": \"training\", \"epoch\": 1, \"model\": 25}, \"Metrics\": {\"train_binary_classification_cross_entropy_objective\": {\"sum\": 0.5138340214020616, \"count\": 1, \"min\": 0.5138340214020616, \"max\": 0.5138340214020616}}}\n",
            "\u001b[0m\n",
            "\u001b[34m#metrics {\"StartTime\": 1634897939.4854844, \"EndTime\": 1634897939.485503, \"Dimensions\": {\"Algorithm\": \"Linear Learner\", \"Host\": \"algo-1\", \"Operation\": \"training\", \"epoch\": 1, \"model\": 26}, \"Metrics\": {\"train_binary_classification_cross_entropy_objective\": {\"sum\": 0.5137367080081858, \"count\": 1, \"min\": 0.5137367080081858, \"max\": 0.5137367080081858}}}\n",
            "\u001b[0m\n",
            "\u001b[34m#metrics {\"StartTime\": 1634897939.485558, \"EndTime\": 1634897939.4855747, \"Dimensions\": {\"Algorithm\": \"Linear Learner\", \"Host\": \"algo-1\", \"Operation\": \"training\", \"epoch\": 1, \"model\": 27}, \"Metrics\": {\"train_binary_classification_cross_entropy_objective\": {\"sum\": 0.5138336595074482, \"count\": 1, \"min\": 0.5138336595074482, \"max\": 0.5138336595074482}}}\n",
            "\u001b[0m\n",
            "\u001b[34m#metrics {\"StartTime\": 1634897939.48563, \"EndTime\": 1634897939.4856462, \"Dimensions\": {\"Algorithm\": \"Linear Learner\", \"Host\": \"algo-1\", \"Operation\": \"training\", \"epoch\": 1, \"model\": 28}, \"Metrics\": {\"train_binary_classification_cross_entropy_objective\": {\"sum\": 0.5141170028546534, \"count\": 1, \"min\": 0.5141170028546534, \"max\": 0.5141170028546534}}}\n",
            "\u001b[0m\n",
            "\u001b[34m#metrics {\"StartTime\": 1634897939.4857101, \"EndTime\": 1634897939.4857285, \"Dimensions\": {\"Algorithm\": \"Linear Learner\", \"Host\": \"algo-1\", \"Operation\": \"training\", \"epoch\": 1, \"model\": 29}, \"Metrics\": {\"train_binary_classification_cross_entropy_objective\": {\"sum\": 0.5151983478324493, \"count\": 1, \"min\": 0.5151983478324493, \"max\": 0.5151983478324493}}}\n",
            "\u001b[0m\n",
            "\u001b[34m#metrics {\"StartTime\": 1634897939.4857938, \"EndTime\": 1634897939.485811, \"Dimensions\": {\"Algorithm\": \"Linear Learner\", \"Host\": \"algo-1\", \"Operation\": \"training\", \"epoch\": 1, \"model\": 30}, \"Metrics\": {\"train_binary_classification_cross_entropy_objective\": {\"sum\": 0.5141182881859829, \"count\": 1, \"min\": 0.5141182881859829, \"max\": 0.5141182881859829}}}\n",
            "\u001b[0m\n",
            "\u001b[34m#metrics {\"StartTime\": 1634897939.4858735, \"EndTime\": 1634897939.4858904, \"Dimensions\": {\"Algorithm\": \"Linear Learner\", \"Host\": \"algo-1\", \"Operation\": \"training\", \"epoch\": 1, \"model\": 31}, \"Metrics\": {\"train_binary_classification_cross_entropy_objective\": {\"sum\": 0.5152016951068097, \"count\": 1, \"min\": 0.5152016951068097, \"max\": 0.5152016951068097}}}\n",
            "\u001b[0m\n",
            "\u001b[34m[10/22/2021 10:18:59 INFO 140300387239744] #quality_metric: host=algo-1, epoch=1, train binary_classification_cross_entropy_objective <loss>=0.48054620809292575\u001b[0m\n",
            "\u001b[34m[2021-10-22 10:19:04.195] [tensorio] [info] epoch_stats={\"data_pipeline\": \"/opt/ml/input/data/validation\", \"epoch\": 5, \"duration\": 4687, \"num_examples\": 164, \"num_bytes\": 62806656}\u001b[0m\n",
            "\u001b[34m#metrics {\"StartTime\": 1634897944.2038193, \"EndTime\": 1634897944.203914, \"Dimensions\": {\"Algorithm\": \"Linear Learner\", \"Host\": \"algo-1\", \"Operation\": \"training\", \"epoch\": 1, \"model\": 0}, \"Metrics\": {\"validation_binary_classification_cross_entropy_objective\": {\"sum\": 0.48162735350404184, \"count\": 1, \"min\": 0.48162735350404184, \"max\": 0.48162735350404184}}}\n",
            "\u001b[0m\n",
            "\u001b[34m#metrics {\"StartTime\": 1634897944.2040308, \"EndTime\": 1634897944.2040534, \"Dimensions\": {\"Algorithm\": \"Linear Learner\", \"Host\": \"algo-1\", \"Operation\": \"training\", \"epoch\": 1, \"model\": 1}, \"Metrics\": {\"validation_binary_classification_cross_entropy_objective\": {\"sum\": 0.4835194069638097, \"count\": 1, \"min\": 0.4835194069638097, \"max\": 0.4835194069638097}}}\n",
            "\u001b[0m\n",
            "\u001b[34m#metrics {\"StartTime\": 1634897944.2041185, \"EndTime\": 1634897944.2041345, \"Dimensions\": {\"Algorithm\": \"Linear Learner\", \"Host\": \"algo-1\", \"Operation\": \"training\", \"epoch\": 1, \"model\": 2}, \"Metrics\": {\"validation_binary_classification_cross_entropy_objective\": {\"sum\": 0.48162728129583116, \"count\": 1, \"min\": 0.48162728129583116, \"max\": 0.48162728129583116}}}\n",
            "\u001b[0m\n",
            "\u001b[34m#metrics {\"StartTime\": 1634897944.2043533, \"EndTime\": 1634897944.2043772, \"Dimensions\": {\"Algorithm\": \"Linear Learner\", \"Host\": \"algo-1\", \"Operation\": \"training\", \"epoch\": 1, \"model\": 3}, \"Metrics\": {\"validation_binary_classification_cross_entropy_objective\": {\"sum\": 0.4835191002188526, \"count\": 1, \"min\": 0.4835191002188526, \"max\": 0.4835191002188526}}}\n",
            "\u001b[0m\n",
            "\u001b[34m#metrics {\"StartTime\": 1634897944.2044394, \"EndTime\": 1634897944.2044537, \"Dimensions\": {\"Algorithm\": \"Linear Learner\", \"Host\": \"algo-1\", \"Operation\": \"training\", \"epoch\": 1, \"model\": 4}, \"Metrics\": {\"validation_binary_classification_cross_entropy_objective\": {\"sum\": 0.48427833018506034, \"count\": 1, \"min\": 0.48427833018506034, \"max\": 0.48427833018506034}}}\n",
            "\u001b[0m\n",
            "\u001b[34m#metrics {\"StartTime\": 1634897944.2045028, \"EndTime\": 1634897944.2045178, \"Dimensions\": {\"Algorithm\": \"Linear Learner\", \"Host\": \"algo-1\", \"Operation\": \"training\", \"epoch\": 1, \"model\": 5}, \"Metrics\": {\"validation_binary_classification_cross_entropy_objective\": {\"sum\": 0.498220200267767, \"count\": 1, \"min\": 0.498220200267767, \"max\": 0.498220200267767}}}\n",
            "\u001b[0m\n",
            "\u001b[34m#metrics {\"StartTime\": 1634897944.2045693, \"EndTime\": 1634897944.2045844, \"Dimensions\": {\"Algorithm\": \"Linear Learner\", \"Host\": \"algo-1\", \"Operation\": \"training\", \"epoch\": 1, \"model\": 6}, \"Metrics\": {\"validation_binary_classification_cross_entropy_objective\": {\"sum\": 0.484277876224914, \"count\": 1, \"min\": 0.484277876224914, \"max\": 0.484277876224914}}}\n",
            "\u001b[0m\n",
            "\u001b[34m#metrics {\"StartTime\": 1634897944.2046356, \"EndTime\": 1634897944.2046525, \"Dimensions\": {\"Algorithm\": \"Linear Learner\", \"Host\": \"algo-1\", \"Operation\": \"training\", \"epoch\": 1, \"model\": 7}, \"Metrics\": {\"validation_binary_classification_cross_entropy_objective\": {\"sum\": 0.4982201773178706, \"count\": 1, \"min\": 0.4982201773178706, \"max\": 0.4982201773178706}}}\n",
            "\u001b[0m\n",
            "\u001b[34m#metrics {\"StartTime\": 1634897944.2047043, \"EndTime\": 1634897944.2047186, \"Dimensions\": {\"Algorithm\": \"Linear Learner\", \"Host\": \"algo-1\", \"Operation\": \"training\", \"epoch\": 1, \"model\": 8}, \"Metrics\": {\"validation_binary_classification_cross_entropy_objective\": {\"sum\": 0.4817775473286422, \"count\": 1, \"min\": 0.4817775473286422, \"max\": 0.4817775473286422}}}\n",
            "\u001b[0m\n",
            "\u001b[34m#metrics {\"StartTime\": 1634897944.2047668, \"EndTime\": 1634897944.2047808, \"Dimensions\": {\"Algorithm\": \"Linear Learner\", \"Host\": \"algo-1\", \"Operation\": \"training\", \"epoch\": 1, \"model\": 9}, \"Metrics\": {\"validation_binary_classification_cross_entropy_objective\": {\"sum\": 0.48355724779790854, \"count\": 1, \"min\": 0.48355724779790854, \"max\": 0.48355724779790854}}}\n",
            "\u001b[0m\n",
            "\u001b[34m#metrics {\"StartTime\": 1634897944.204832, \"EndTime\": 1634897944.2048483, \"Dimensions\": {\"Algorithm\": \"Linear Learner\", \"Host\": \"algo-1\", \"Operation\": \"training\", \"epoch\": 1, \"model\": 10}, \"Metrics\": {\"validation_binary_classification_cross_entropy_objective\": {\"sum\": 0.4817776626378779, \"count\": 1, \"min\": 0.4817776626378779, \"max\": 0.4817776626378779}}}\n",
            "\u001b[0m\n",
            "\u001b[34m#metrics {\"StartTime\": 1634897944.2048986, \"EndTime\": 1634897944.204913, \"Dimensions\": {\"Algorithm\": \"Linear Learner\", \"Host\": \"algo-1\", \"Operation\": \"training\", \"epoch\": 1, \"model\": 11}, \"Metrics\": {\"validation_binary_classification_cross_entropy_objective\": {\"sum\": 0.48355772974573347, \"count\": 1, \"min\": 0.48355772974573347, \"max\": 0.48355772974573347}}}\n",
            "\u001b[0m\n",
            "\u001b[34m#metrics {\"StartTime\": 1634897944.204965, \"EndTime\": 1634897944.20498, \"Dimensions\": {\"Algorithm\": \"Linear Learner\", \"Host\": \"algo-1\", \"Operation\": \"training\", \"epoch\": 1, \"model\": 12}, \"Metrics\": {\"validation_binary_classification_cross_entropy_objective\": {\"sum\": 0.4841284515017206, \"count\": 1, \"min\": 0.4841284515017206, \"max\": 0.4841284515017206}}}\n",
            "\u001b[0m\n",
            "\u001b[34m#metrics {\"StartTime\": 1634897944.2050278, \"EndTime\": 1634897944.2050424, \"Dimensions\": {\"Algorithm\": \"Linear Learner\", \"Host\": \"algo-1\", \"Operation\": \"training\", \"epoch\": 1, \"model\": 13}, \"Metrics\": {\"validation_binary_classification_cross_entropy_objective\": {\"sum\": 0.49560787923546273, \"count\": 1, \"min\": 0.49560787923546273, \"max\": 0.49560787923546273}}}\n",
            "\u001b[0m\n",
            "\u001b[34m#metrics {\"StartTime\": 1634897944.205091, \"EndTime\": 1634897944.205106, \"Dimensions\": {\"Algorithm\": \"Linear Learner\", \"Host\": \"algo-1\", \"Operation\": \"training\", \"epoch\": 1, \"model\": 14}, \"Metrics\": {\"validation_binary_classification_cross_entropy_objective\": {\"sum\": 0.48412819289557063, \"count\": 1, \"min\": 0.48412819289557063, \"max\": 0.48412819289557063}}}\n",
            "\u001b[0m\n",
            "\u001b[34m#metrics {\"StartTime\": 1634897944.2051558, \"EndTime\": 1634897944.2051704, \"Dimensions\": {\"Algorithm\": \"Linear Learner\", \"Host\": \"algo-1\", \"Operation\": \"training\", \"epoch\": 1, \"model\": 15}, \"Metrics\": {\"validation_binary_classification_cross_entropy_objective\": {\"sum\": 0.49560705956964973, \"count\": 1, \"min\": 0.49560705956964973, \"max\": 0.49560705956964973}}}\n",
            "\u001b[0m\n",
            "\u001b[34m#metrics {\"StartTime\": 1634897944.2052188, \"EndTime\": 1634897944.2052324, \"Dimensions\": {\"Algorithm\": \"Linear Learner\", \"Host\": \"algo-1\", \"Operation\": \"training\", \"epoch\": 1, \"model\": 16}, \"Metrics\": {\"validation_binary_classification_cross_entropy_objective\": {\"sum\": 0.5044469853840013, \"count\": 1, \"min\": 0.5044469853840013, \"max\": 0.5044469853840013}}}\n",
            "\u001b[0m\n",
            "\u001b[34m#metrics {\"StartTime\": 1634897944.20528, \"EndTime\": 1634897944.2052934, \"Dimensions\": {\"Algorithm\": \"Linear Learner\", \"Host\": \"algo-1\", \"Operation\": \"training\", \"epoch\": 1, \"model\": 17}, \"Metrics\": {\"validation_binary_classification_cross_entropy_objective\": {\"sum\": 0.5052147264032613, \"count\": 1, \"min\": 0.5052147264032613, \"max\": 0.5052147264032613}}}\n",
            "\u001b[0m\n",
            "\u001b[34m#metrics {\"StartTime\": 1634897944.2053423, \"EndTime\": 1634897944.2053564, \"Dimensions\": {\"Algorithm\": \"Linear Learner\", \"Host\": \"algo-1\", \"Operation\": \"training\", \"epoch\": 1, \"model\": 18}, \"Metrics\": {\"validation_binary_classification_cross_entropy_objective\": {\"sum\": 0.5044469853840013, \"count\": 1, \"min\": 0.5044469853840013, \"max\": 0.5044469853840013}}}\n",
            "\u001b[0m\n",
            "\u001b[34m#metrics {\"StartTime\": 1634897944.2054048, \"EndTime\": 1634897944.2054634, \"Dimensions\": {\"Algorithm\": \"Linear Learner\", \"Host\": \"algo-1\", \"Operation\": \"training\", \"epoch\": 1, \"model\": 19}, \"Metrics\": {\"validation_binary_classification_cross_entropy_objective\": {\"sum\": 0.5052163095729456, \"count\": 1, \"min\": 0.5052163095729456, \"max\": 0.5052163095729456}}}\n",
            "\u001b[0m\n",
            "\u001b[34m#metrics {\"StartTime\": 1634897944.2055366, \"EndTime\": 1634897944.205555, \"Dimensions\": {\"Algorithm\": \"Linear Learner\", \"Host\": \"algo-1\", \"Operation\": \"training\", \"epoch\": 1, \"model\": 20}, \"Metrics\": {\"validation_binary_classification_cross_entropy_objective\": {\"sum\": 0.5048976015625238, \"count\": 1, \"min\": 0.5048976015625238, \"max\": 0.5048976015625238}}}\n",
            "\u001b[0m\n",
            "\u001b[34m#metrics {\"StartTime\": 1634897944.2056048, \"EndTime\": 1634897944.2056198, \"Dimensions\": {\"Algorithm\": \"Linear Learner\", \"Host\": \"algo-1\", \"Operation\": \"training\", \"epoch\": 1, \"model\": 21}, \"Metrics\": {\"validation_binary_classification_cross_entropy_objective\": {\"sum\": 0.5079471339814088, \"count\": 1, \"min\": 0.5079471339814088, \"max\": 0.5079471339814088}}}\n",
            "\u001b[0m\n",
            "\u001b[34m#metrics {\"StartTime\": 1634897944.2056665, \"EndTime\": 1634897944.20568, \"Dimensions\": {\"Algorithm\": \"Linear Learner\", \"Host\": \"algo-1\", \"Operation\": \"training\", \"epoch\": 1, \"model\": 22}, \"Metrics\": {\"validation_binary_classification_cross_entropy_objective\": {\"sum\": 0.5048969735190169, \"count\": 1, \"min\": 0.5048969735190169, \"max\": 0.5048969735190169}}}\n",
            "\u001b[0m\n",
            "\u001b[34m#metrics {\"StartTime\": 1634897944.2057247, \"EndTime\": 1634897944.2057383, \"Dimensions\": {\"Algorithm\": \"Linear Learner\", \"Host\": \"algo-1\", \"Operation\": \"training\", \"epoch\": 1, \"model\": 23}, \"Metrics\": {\"validation_binary_classification_cross_entropy_objective\": {\"sum\": 0.5079483607746527, \"count\": 1, \"min\": 0.5079483607746527, \"max\": 0.5079483607746527}}}\n",
            "\u001b[0m\n",
            "\u001b[34m#metrics {\"StartTime\": 1634897944.2057858, \"EndTime\": 1634897944.2057998, \"Dimensions\": {\"Algorithm\": \"Linear Learner\", \"Host\": \"algo-1\", \"Operation\": \"training\", \"epoch\": 1, \"model\": 24}, \"Metrics\": {\"validation_binary_classification_cross_entropy_objective\": {\"sum\": 0.5137298259140719, \"count\": 1, \"min\": 0.5137298259140719, \"max\": 0.5137298259140719}}}\n",
            "\u001b[0m\n",
            "\u001b[34m#metrics {\"StartTime\": 1634897944.20585, \"EndTime\": 1634897944.2058635, \"Dimensions\": {\"Algorithm\": \"Linear Learner\", \"Host\": \"algo-1\", \"Operation\": \"training\", \"epoch\": 1, \"model\": 25}, \"Metrics\": {\"validation_binary_classification_cross_entropy_objective\": {\"sum\": 0.5145304520824792, \"count\": 1, \"min\": 0.5145304520824792, \"max\": 0.5145304520824792}}}\n",
            "\u001b[0m\n",
            "\u001b[34m#metrics {\"StartTime\": 1634897944.2059102, \"EndTime\": 1634897944.2059236, \"Dimensions\": {\"Algorithm\": \"Linear Learner\", \"Host\": \"algo-1\", \"Operation\": \"training\", \"epoch\": 1, \"model\": 26}, \"Metrics\": {\"validation_binary_classification_cross_entropy_objective\": {\"sum\": 0.5137284461215186, \"count\": 1, \"min\": 0.5137284461215186, \"max\": 0.5137284461215186}}}\n",
            "\u001b[0m\n",
            "\u001b[34m#metrics {\"StartTime\": 1634897944.2059686, \"EndTime\": 1634897944.205982, \"Dimensions\": {\"Algorithm\": \"Linear Learner\", \"Host\": \"algo-1\", \"Operation\": \"training\", \"epoch\": 1, \"model\": 27}, \"Metrics\": {\"validation_binary_classification_cross_entropy_objective\": {\"sum\": 0.5145212012217901, \"count\": 1, \"min\": 0.5145212012217901, \"max\": 0.5145212012217901}}}\n",
            "\u001b[0m\n",
            "\u001b[34m#metrics {\"StartTime\": 1634897944.2060313, \"EndTime\": 1634897944.206048, \"Dimensions\": {\"Algorithm\": \"Linear Learner\", \"Host\": \"algo-1\", \"Operation\": \"training\", \"epoch\": 1, \"model\": 28}, \"Metrics\": {\"validation_binary_classification_cross_entropy_objective\": {\"sum\": 0.5139119575981923, \"count\": 1, \"min\": 0.5139119575981923, \"max\": 0.5139119575981923}}}\n",
            "\u001b[0m\n",
            "\u001b[34m#metrics {\"StartTime\": 1634897944.2061033, \"EndTime\": 1634897944.2061186, \"Dimensions\": {\"Algorithm\": \"Linear Learner\", \"Host\": \"algo-1\", \"Operation\": \"training\", \"epoch\": 1, \"model\": 29}, \"Metrics\": {\"validation_binary_classification_cross_entropy_objective\": {\"sum\": 0.5138162197729489, \"count\": 1, \"min\": 0.5138162197729489, \"max\": 0.5138162197729489}}}\n",
            "\u001b[0m\n",
            "\u001b[34m#metrics {\"StartTime\": 1634897944.2061677, \"EndTime\": 1634897944.2061825, \"Dimensions\": {\"Algorithm\": \"Linear Learner\", \"Host\": \"algo-1\", \"Operation\": \"training\", \"epoch\": 1, \"model\": 30}, \"Metrics\": {\"validation_binary_classification_cross_entropy_objective\": {\"sum\": 0.5138927768957322, \"count\": 1, \"min\": 0.5138927768957322, \"max\": 0.5138927768957322}}}\n",
            "\u001b[0m\n",
            "\u001b[34m#metrics {\"StartTime\": 1634897944.2062292, \"EndTime\": 1634897944.2062423, \"Dimensions\": {\"Algorithm\": \"Linear Learner\", \"Host\": \"algo-1\", \"Operation\": \"training\", \"epoch\": 1, \"model\": 31}, \"Metrics\": {\"validation_binary_classification_cross_entropy_objective\": {\"sum\": 0.5138546257715703, \"count\": 1, \"min\": 0.5138546257715703, \"max\": 0.5138546257715703}}}\n",
            "\u001b[0m\n",
            "\u001b[34m[10/22/2021 10:19:04 INFO 140300387239744] #quality_metric: host=algo-1, epoch=1, validation binary_classification_cross_entropy_objective <loss>=0.48162735350404184\u001b[0m\n",
            "\u001b[34m[10/22/2021 10:19:04 INFO 140300387239744] #early_stopping_criteria_metric: host=algo-1, epoch=1, criteria=binary_classification_cross_entropy_objective, value=0.48162728129583116\u001b[0m\n",
            "\u001b[34m[10/22/2021 10:19:04 INFO 140300387239744] Saving model for epoch: 1\u001b[0m\n",
            "\u001b[34m[10/22/2021 10:19:04 INFO 140300387239744] Saved checkpoint to \"/tmp/tmpjdk90qir/mx-mod-0000.params\"\u001b[0m\n",
            "\u001b[34m[10/22/2021 10:19:04 INFO 140300387239744] #progress_metric: host=algo-1, completed 13.333333333333334 % of epochs\u001b[0m\n",
            "\u001b[34m#metrics {\"StartTime\": 1634897890.693886, \"EndTime\": 1634897944.2148056, \"Dimensions\": {\"Algorithm\": \"Linear Learner\", \"Host\": \"algo-1\", \"Operation\": \"training\", \"epoch\": 1, \"Meta\": \"training_data_iter\"}, \"Metrics\": {\"Total Records Seen\": {\"sum\": 2628944.0, \"count\": 1, \"min\": 2628944, \"max\": 2628944}, \"Total Batches Seen\": {\"sum\": 2630.0, \"count\": 1, \"min\": 2630, \"max\": 2630}, \"Max Records Seen Between Resets\": {\"sum\": 1308472.0, \"count\": 1, \"min\": 1308472, \"max\": 1308472}, \"Max Batches Seen Between Resets\": {\"sum\": 1309.0, \"count\": 1, \"min\": 1309, \"max\": 1309}, \"Reset Count\": {\"sum\": 4.0, \"count\": 1, \"min\": 4, \"max\": 4}, \"Number of Records Since Last Reset\": {\"sum\": 1308472.0, \"count\": 1, \"min\": 1308472, \"max\": 1308472}, \"Number of Batches Since Last Reset\": {\"sum\": 1309.0, \"count\": 1, \"min\": 1309, \"max\": 1309}}}\n",
            "\u001b[0m\n",
            "\u001b[34m[10/22/2021 10:19:04 INFO 140300387239744] #throughput_metric: host=algo-1, train throughput=24447.790934832003 records/second\u001b[0m\n",
            "\u001b[34m[2021-10-22 10:19:53.168] [tensorio] [info] epoch_stats={\"data_pipeline\": \"/opt/ml/input/data/train\", \"epoch\": 7, \"duration\": 48952, \"num_examples\": 1309, \"num_bytes\": 502453248}\u001b[0m\n",
            "\u001b[34m#metrics {\"StartTime\": 1634897993.1683297, \"EndTime\": 1634897993.1684308, \"Dimensions\": {\"Algorithm\": \"Linear Learner\", \"Host\": \"algo-1\", \"Operation\": \"training\", \"epoch\": 2, \"model\": 0}, \"Metrics\": {\"train_binary_classification_cross_entropy_objective\": {\"sum\": 0.4803906123310054, \"count\": 1, \"min\": 0.4803906123310054, \"max\": 0.4803906123310054}}}\n",
            "\u001b[0m\n",
            "\u001b[34m#metrics {\"StartTime\": 1634897993.1687257, \"EndTime\": 1634897993.1687489, \"Dimensions\": {\"Algorithm\": \"Linear Learner\", \"Host\": \"algo-1\", \"Operation\": \"training\", \"epoch\": 2, \"model\": 1}, \"Metrics\": {\"train_binary_classification_cross_entropy_objective\": {\"sum\": 0.4813706575912802, \"count\": 1, \"min\": 0.4813706575912802, \"max\": 0.4813706575912802}}}\n",
            "\u001b[0m\n",
            "\u001b[34m#metrics {\"StartTime\": 1634897993.168813, \"EndTime\": 1634897993.1688313, \"Dimensions\": {\"Algorithm\": \"Linear Learner\", \"Host\": \"algo-1\", \"Operation\": \"training\", \"epoch\": 2, \"model\": 2}, \"Metrics\": {\"train_binary_classification_cross_entropy_objective\": {\"sum\": 0.48039078517062217, \"count\": 1, \"min\": 0.48039078517062217, \"max\": 0.48039078517062217}}}\n",
            "\u001b[0m\n",
            "\u001b[34m#metrics {\"StartTime\": 1634897993.1688905, \"EndTime\": 1634897993.1689088, \"Dimensions\": {\"Algorithm\": \"Linear Learner\", \"Host\": \"algo-1\", \"Operation\": \"training\", \"epoch\": 2, \"model\": 3}, \"Metrics\": {\"train_binary_classification_cross_entropy_objective\": {\"sum\": 0.48137051218948596, \"count\": 1, \"min\": 0.48137051218948596, \"max\": 0.48137051218948596}}}\n",
            "\u001b[0m\n",
            "\u001b[34m#metrics {\"StartTime\": 1634897993.1689692, \"EndTime\": 1634897993.1689866, \"Dimensions\": {\"Algorithm\": \"Linear Learner\", \"Host\": \"algo-1\", \"Operation\": \"training\", \"epoch\": 2, \"model\": 4}, \"Metrics\": {\"train_binary_classification_cross_entropy_objective\": {\"sum\": 0.4814420374365757, \"count\": 1, \"min\": 0.4814420374365757, \"max\": 0.4814420374365757}}}\n",
            "\u001b[0m\n",
            "\u001b[34m#metrics {\"StartTime\": 1634897993.169047, \"EndTime\": 1634897993.169065, \"Dimensions\": {\"Algorithm\": \"Linear Learner\", \"Host\": \"algo-1\", \"Operation\": \"training\", \"epoch\": 2, \"model\": 5}, \"Metrics\": {\"train_binary_classification_cross_entropy_objective\": {\"sum\": 0.4982133496719034, \"count\": 1, \"min\": 0.4982133496719034, \"max\": 0.4982133496719034}}}\n",
            "\u001b[0m\n",
            "\u001b[34m#metrics {\"StartTime\": 1634897993.169125, \"EndTime\": 1634897993.1691427, \"Dimensions\": {\"Algorithm\": \"Linear Learner\", \"Host\": \"algo-1\", \"Operation\": \"training\", \"epoch\": 2, \"model\": 6}, \"Metrics\": {\"train_binary_classification_cross_entropy_objective\": {\"sum\": 0.4814420639644704, \"count\": 1, \"min\": 0.4814420639644704, \"max\": 0.4814420639644704}}}\n",
            "\u001b[0m\n",
            "\u001b[34m#metrics {\"StartTime\": 1634897993.1691961, \"EndTime\": 1634897993.1692128, \"Dimensions\": {\"Algorithm\": \"Linear Learner\", \"Host\": \"algo-1\", \"Operation\": \"training\", \"epoch\": 2, \"model\": 7}, \"Metrics\": {\"train_binary_classification_cross_entropy_objective\": {\"sum\": 0.4982134636461917, \"count\": 1, \"min\": 0.4982134636461917, \"max\": 0.4982134636461917}}}\n",
            "\u001b[0m\n",
            "\u001b[34m#metrics {\"StartTime\": 1634897993.169268, \"EndTime\": 1634897993.1692863, \"Dimensions\": {\"Algorithm\": \"Linear Learner\", \"Host\": \"algo-1\", \"Operation\": \"training\", \"epoch\": 2, \"model\": 8}, \"Metrics\": {\"train_binary_classification_cross_entropy_objective\": {\"sum\": 0.4806574182306225, \"count\": 1, \"min\": 0.4806574182306225, \"max\": 0.4806574182306225}}}\n",
            "\u001b[0m\n",
            "\u001b[34m#metrics {\"StartTime\": 1634897993.1693377, \"EndTime\": 1634897993.169355, \"Dimensions\": {\"Algorithm\": \"Linear Learner\", \"Host\": \"algo-1\", \"Operation\": \"training\", \"epoch\": 2, \"model\": 9}, \"Metrics\": {\"train_binary_classification_cross_entropy_objective\": {\"sum\": 0.4815806446367083, \"count\": 1, \"min\": 0.4815806446367083, \"max\": 0.4815806446367083}}}\n",
            "\u001b[0m\n",
            "\u001b[34m#metrics {\"StartTime\": 1634897993.1694129, \"EndTime\": 1634897993.1694307, \"Dimensions\": {\"Algorithm\": \"Linear Learner\", \"Host\": \"algo-1\", \"Operation\": \"training\", \"epoch\": 2, \"model\": 10}, \"Metrics\": {\"train_binary_classification_cross_entropy_objective\": {\"sum\": 0.4806574256966967, \"count\": 1, \"min\": 0.4806574256966967, \"max\": 0.4806574256966967}}}\n",
            "\u001b[0m\n",
            "\u001b[34m#metrics {\"StartTime\": 1634897993.1694841, \"EndTime\": 1634897993.1695025, \"Dimensions\": {\"Algorithm\": \"Linear Learner\", \"Host\": \"algo-1\", \"Operation\": \"training\", \"epoch\": 2, \"model\": 11}, \"Metrics\": {\"train_binary_classification_cross_entropy_objective\": {\"sum\": 0.48158067125792897, \"count\": 1, \"min\": 0.48158067125792897, \"max\": 0.48158067125792897}}}\n",
            "\u001b[0m\n",
            "\u001b[34m#metrics {\"StartTime\": 1634897993.169556, \"EndTime\": 1634897993.1695738, \"Dimensions\": {\"Algorithm\": \"Linear Learner\", \"Host\": \"algo-1\", \"Operation\": \"training\", \"epoch\": 2, \"model\": 12}, \"Metrics\": {\"train_binary_classification_cross_entropy_objective\": {\"sum\": 0.4816450596613986, \"count\": 1, \"min\": 0.4816450596613986, \"max\": 0.4816450596613986}}}\n",
            "\u001b[0m\n",
            "\u001b[34m#metrics {\"StartTime\": 1634897993.1696289, \"EndTime\": 1634897993.1696458, \"Dimensions\": {\"Algorithm\": \"Linear Learner\", \"Host\": \"algo-1\", \"Operation\": \"training\", \"epoch\": 2, \"model\": 13}, \"Metrics\": {\"train_binary_classification_cross_entropy_objective\": {\"sum\": 0.4971851328578564, \"count\": 1, \"min\": 0.4971851328578564, \"max\": 0.4971851328578564}}}\n",
            "\u001b[0m\n",
            "\u001b[34m#metrics {\"StartTime\": 1634897993.1697, \"EndTime\": 1634897993.1697178, \"Dimensions\": {\"Algorithm\": \"Linear Learner\", \"Host\": \"algo-1\", \"Operation\": \"training\", \"epoch\": 2, \"model\": 14}, \"Metrics\": {\"train_binary_classification_cross_entropy_objective\": {\"sum\": 0.4816450293538038, \"count\": 1, \"min\": 0.4816450293538038, \"max\": 0.4816450293538038}}}\n",
            "\u001b[0m\n",
            "\u001b[34m#metrics {\"StartTime\": 1634897993.1697736, \"EndTime\": 1634897993.1697915, \"Dimensions\": {\"Algorithm\": \"Linear Learner\", \"Host\": \"algo-1\", \"Operation\": \"training\", \"epoch\": 2, \"model\": 15}, \"Metrics\": {\"train_binary_classification_cross_entropy_objective\": {\"sum\": 0.497185297601449, \"count\": 1, \"min\": 0.497185297601449, \"max\": 0.497185297601449}}}\n",
            "\u001b[0m\n",
            "\u001b[34m#metrics {\"StartTime\": 1634897993.1698468, \"EndTime\": 1634897993.1698637, \"Dimensions\": {\"Algorithm\": \"Linear Learner\", \"Host\": \"algo-1\", \"Operation\": \"training\", \"epoch\": 2, \"model\": 16}, \"Metrics\": {\"train_binary_classification_cross_entropy_objective\": {\"sum\": 0.5043006423343577, \"count\": 1, \"min\": 0.5043006423343577, \"max\": 0.5043006423343577}}}\n",
            "\u001b[0m\n",
            "\u001b[34m#metrics {\"StartTime\": 1634897993.1699195, \"EndTime\": 1634897993.1699364, \"Dimensions\": {\"Algorithm\": \"Linear Learner\", \"Host\": \"algo-1\", \"Operation\": \"training\", \"epoch\": 2, \"model\": 17}, \"Metrics\": {\"train_binary_classification_cross_entropy_objective\": {\"sum\": 0.5045668541444551, \"count\": 1, \"min\": 0.5045668541444551, \"max\": 0.5045668541444551}}}\n",
            "\u001b[0m\n",
            "\u001b[34m#metrics {\"StartTime\": 1634897993.1699934, \"EndTime\": 1634897993.1700103, \"Dimensions\": {\"Algorithm\": \"Linear Learner\", \"Host\": \"algo-1\", \"Operation\": \"training\", \"epoch\": 2, \"model\": 18}, \"Metrics\": {\"train_binary_classification_cross_entropy_objective\": {\"sum\": 0.5043006523202319, \"count\": 1, \"min\": 0.5043006523202319, \"max\": 0.5043006523202319}}}\n",
            "\u001b[0m\n",
            "\u001b[34m#metrics {\"StartTime\": 1634897993.1700668, \"EndTime\": 1634897993.1700847, \"Dimensions\": {\"Algorithm\": \"Linear Learner\", \"Host\": \"algo-1\", \"Operation\": \"training\", \"epoch\": 2, \"model\": 19}, \"Metrics\": {\"train_binary_classification_cross_entropy_objective\": {\"sum\": 0.5045667733475339, \"count\": 1, \"min\": 0.5045667733475339, \"max\": 0.5045667733475339}}}\n",
            "\u001b[0m\n",
            "\u001b[34m#metrics {\"StartTime\": 1634897993.1701448, \"EndTime\": 1634897993.1701627, \"Dimensions\": {\"Algorithm\": \"Linear Learner\", \"Host\": \"algo-1\", \"Operation\": \"training\", \"epoch\": 2, \"model\": 20}, \"Metrics\": {\"train_binary_classification_cross_entropy_objective\": {\"sum\": 0.5045665228840772, \"count\": 1, \"min\": 0.5045665228840772, \"max\": 0.5045665228840772}}}\n",
            "\u001b[0m\n",
            "\u001b[34m#metrics {\"StartTime\": 1634897993.1702256, \"EndTime\": 1634897993.1702425, \"Dimensions\": {\"Algorithm\": \"Linear Learner\", \"Host\": \"algo-1\", \"Operation\": \"training\", \"epoch\": 2, \"model\": 21}, \"Metrics\": {\"train_binary_classification_cross_entropy_objective\": {\"sum\": 0.5076749233980792, \"count\": 1, \"min\": 0.5076749233980792, \"max\": 0.5076749233980792}}}\n",
            "\u001b[0m\n",
            "\u001b[34m#metrics {\"StartTime\": 1634897993.1702971, \"EndTime\": 1634897993.1703138, \"Dimensions\": {\"Algorithm\": \"Linear Learner\", \"Host\": \"algo-1\", \"Operation\": \"training\", \"epoch\": 2, \"model\": 22}, \"Metrics\": {\"train_binary_classification_cross_entropy_objective\": {\"sum\": 0.5045665414326053, \"count\": 1, \"min\": 0.5045665414326053, \"max\": 0.5045665414326053}}}\n",
            "\u001b[0m\n",
            "\u001b[34m#metrics {\"StartTime\": 1634897993.1703653, \"EndTime\": 1634897993.1703804, \"Dimensions\": {\"Algorithm\": \"Linear Learner\", \"Host\": \"algo-1\", \"Operation\": \"training\", \"epoch\": 2, \"model\": 23}, \"Metrics\": {\"train_binary_classification_cross_entropy_objective\": {\"sum\": 0.5076747629941422, \"count\": 1, \"min\": 0.5076747629941422, \"max\": 0.5076747629941422}}}\n",
            "\u001b[0m\n",
            "\u001b[34m#metrics {\"StartTime\": 1634897993.1704311, \"EndTime\": 1634897993.1704478, \"Dimensions\": {\"Algorithm\": \"Linear Learner\", \"Host\": \"algo-1\", \"Operation\": \"training\", \"epoch\": 2, \"model\": 24}, \"Metrics\": {\"train_binary_classification_cross_entropy_objective\": {\"sum\": 0.5137283555710352, \"count\": 1, \"min\": 0.5137283555710352, \"max\": 0.5137283555710352}}}\n",
            "\u001b[0m\n",
            "\u001b[34m#metrics {\"StartTime\": 1634897993.170513, \"EndTime\": 1634897993.1705313, \"Dimensions\": {\"Algorithm\": \"Linear Learner\", \"Host\": \"algo-1\", \"Operation\": \"training\", \"epoch\": 2, \"model\": 25}, \"Metrics\": {\"train_binary_classification_cross_entropy_objective\": {\"sum\": 0.5138352448816329, \"count\": 1, \"min\": 0.5138352448816329, \"max\": 0.5138352448816329}}}\n",
            "\u001b[0m\n",
            "\u001b[34m#metrics {\"StartTime\": 1634897993.1705873, \"EndTime\": 1634897993.1706047, \"Dimensions\": {\"Algorithm\": \"Linear Learner\", \"Host\": \"algo-1\", \"Operation\": \"training\", \"epoch\": 2, \"model\": 26}, \"Metrics\": {\"train_binary_classification_cross_entropy_objective\": {\"sum\": 0.5137281772018573, \"count\": 1, \"min\": 0.5137281772018573, \"max\": 0.5137281772018573}}}\n",
            "\u001b[0m\n",
            "\u001b[34m#metrics {\"StartTime\": 1634897993.1706617, \"EndTime\": 1634897993.1706786, \"Dimensions\": {\"Algorithm\": \"Linear Learner\", \"Host\": \"algo-1\", \"Operation\": \"training\", \"epoch\": 2, \"model\": 27}, \"Metrics\": {\"train_binary_classification_cross_entropy_objective\": {\"sum\": 0.5138357120245604, \"count\": 1, \"min\": 0.5138357120245604, \"max\": 0.5138357120245604}}}\n",
            "\u001b[0m\n",
            "\u001b[34m#metrics {\"StartTime\": 1634897993.170732, \"EndTime\": 1634897993.170748, \"Dimensions\": {\"Algorithm\": \"Linear Learner\", \"Host\": \"algo-1\", \"Operation\": \"training\", \"epoch\": 2, \"model\": 28}, \"Metrics\": {\"train_binary_classification_cross_entropy_objective\": {\"sum\": 0.5138297660431002, \"count\": 1, \"min\": 0.5138297660431002, \"max\": 0.5138297660431002}}}\n",
            "\u001b[0m\n",
            "\u001b[34m#metrics {\"StartTime\": 1634897993.1708026, \"EndTime\": 1634897993.1708255, \"Dimensions\": {\"Algorithm\": \"Linear Learner\", \"Host\": \"algo-1\", \"Operation\": \"training\", \"epoch\": 2, \"model\": 29}, \"Metrics\": {\"train_binary_classification_cross_entropy_objective\": {\"sum\": 0.5150183926036963, \"count\": 1, \"min\": 0.5150183926036963, \"max\": 0.5150183926036963}}}\n",
            "\u001b[0m\n",
            "\u001b[34m#metrics {\"StartTime\": 1634897993.1708784, \"EndTime\": 1634897993.1708934, \"Dimensions\": {\"Algorithm\": \"Linear Learner\", \"Host\": \"algo-1\", \"Operation\": \"training\", \"epoch\": 2, \"model\": 30}, \"Metrics\": {\"train_binary_classification_cross_entropy_objective\": {\"sum\": 0.5138293551290436, \"count\": 1, \"min\": 0.5138293551290436, \"max\": 0.5138293551290436}}}\n",
            "\u001b[0m\n",
            "\u001b[34m#metrics {\"StartTime\": 1634897993.1709547, \"EndTime\": 1634897993.1709745, \"Dimensions\": {\"Algorithm\": \"Linear Learner\", \"Host\": \"algo-1\", \"Operation\": \"training\", \"epoch\": 2, \"model\": 31}, \"Metrics\": {\"train_binary_classification_cross_entropy_objective\": {\"sum\": 0.5150186785543366, \"count\": 1, \"min\": 0.5150186785543366, \"max\": 0.5150186785543366}}}\n",
            "\u001b[0m\n",
            "\u001b[34m[10/22/2021 10:19:53 INFO 140300387239744] #quality_metric: host=algo-1, epoch=2, train binary_classification_cross_entropy_objective <loss>=0.4803906123310054\u001b[0m\n",
            "\u001b[34m[2021-10-22 10:19:57.611] [tensorio] [info] epoch_stats={\"data_pipeline\": \"/opt/ml/input/data/validation\", \"epoch\": 8, \"duration\": 4415, \"num_examples\": 164, \"num_bytes\": 62806656}\u001b[0m\n",
            "\u001b[34m#metrics {\"StartTime\": 1634897997.618693, \"EndTime\": 1634897997.6187534, \"Dimensions\": {\"Algorithm\": \"Linear Learner\", \"Host\": \"algo-1\", \"Operation\": \"training\", \"epoch\": 2, \"model\": 0}, \"Metrics\": {\"validation_binary_classification_cross_entropy_objective\": {\"sum\": 0.4815571184246778, \"count\": 1, \"min\": 0.4815571184246778, \"max\": 0.4815571184246778}}}\n",
            "\u001b[0m\n",
            "\u001b[34m#metrics {\"StartTime\": 1634897997.6188412, \"EndTime\": 1634897997.6188636, \"Dimensions\": {\"Algorithm\": \"Linear Learner\", \"Host\": \"algo-1\", \"Operation\": \"training\", \"epoch\": 2, \"model\": 1}, \"Metrics\": {\"validation_binary_classification_cross_entropy_objective\": {\"sum\": 0.4832895674828039, \"count\": 1, \"min\": 0.4832895674828039, \"max\": 0.4832895674828039}}}\n",
            "\u001b[0m\n",
            "\u001b[34m#metrics {\"StartTime\": 1634897997.6189241, \"EndTime\": 1634897997.6189427, \"Dimensions\": {\"Algorithm\": \"Linear Learner\", \"Host\": \"algo-1\", \"Operation\": \"training\", \"epoch\": 2, \"model\": 2}, \"Metrics\": {\"validation_binary_classification_cross_entropy_objective\": {\"sum\": 0.48155712570147424, \"count\": 1, \"min\": 0.48155712570147424, \"max\": 0.48155712570147424}}}\n",
            "\u001b[0m\n",
            "\u001b[34m#metrics {\"StartTime\": 1634897997.6190057, \"EndTime\": 1634897997.6190252, \"Dimensions\": {\"Algorithm\": \"Linear Learner\", \"Host\": \"algo-1\", \"Operation\": \"training\", \"epoch\": 2, \"model\": 3}, \"Metrics\": {\"validation_binary_classification_cross_entropy_objective\": {\"sum\": 0.4832894857587825, \"count\": 1, \"min\": 0.4832894857587825, \"max\": 0.4832894857587825}}}\n",
            "\u001b[0m\n",
            "\u001b[34m#metrics {\"StartTime\": 1634897997.619079, \"EndTime\": 1634897997.6190963, \"Dimensions\": {\"Algorithm\": \"Linear Learner\", \"Host\": \"algo-1\", \"Operation\": \"training\", \"epoch\": 2, \"model\": 4}, \"Metrics\": {\"validation_binary_classification_cross_entropy_objective\": {\"sum\": 0.4822786616756033, \"count\": 1, \"min\": 0.4822786616756033, \"max\": 0.4822786616756033}}}\n",
            "\u001b[0m\n",
            "\u001b[34m#metrics {\"StartTime\": 1634897997.6191509, \"EndTime\": 1634897997.6191683, \"Dimensions\": {\"Algorithm\": \"Linear Learner\", \"Host\": \"algo-1\", \"Operation\": \"training\", \"epoch\": 2, \"model\": 5}, \"Metrics\": {\"validation_binary_classification_cross_entropy_objective\": {\"sum\": 0.4997119373781021, \"count\": 1, \"min\": 0.4997119373781021, \"max\": 0.4997119373781021}}}\n",
            "\u001b[0m\n",
            "\u001b[34m#metrics {\"StartTime\": 1634897997.6192236, \"EndTime\": 1634897997.6192415, \"Dimensions\": {\"Algorithm\": \"Linear Learner\", \"Host\": \"algo-1\", \"Operation\": \"training\", \"epoch\": 2, \"model\": 6}, \"Metrics\": {\"validation_binary_classification_cross_entropy_objective\": {\"sum\": 0.482278694701064, \"count\": 1, \"min\": 0.482278694701064, \"max\": 0.482278694701064}}}\n",
            "\u001b[0m\n",
            "\u001b[34m#metrics {\"StartTime\": 1634897997.6192887, \"EndTime\": 1634897997.6193063, \"Dimensions\": {\"Algorithm\": \"Linear Learner\", \"Host\": \"algo-1\", \"Operation\": \"training\", \"epoch\": 2, \"model\": 7}, \"Metrics\": {\"validation_binary_classification_cross_entropy_objective\": {\"sum\": 0.4997120394398366, \"count\": 1, \"min\": 0.4997120394398366, \"max\": 0.4997120394398366}}}\n",
            "\u001b[0m\n",
            "\u001b[34m#metrics {\"StartTime\": 1634897997.6193628, \"EndTime\": 1634897997.6193798, \"Dimensions\": {\"Algorithm\": \"Linear Learner\", \"Host\": \"algo-1\", \"Operation\": \"training\", \"epoch\": 2, \"model\": 8}, \"Metrics\": {\"validation_binary_classification_cross_entropy_objective\": {\"sum\": 0.4817346328881727, \"count\": 1, \"min\": 0.4817346328881727, \"max\": 0.4817346328881727}}}\n",
            "\u001b[0m\n",
            "\u001b[34m#metrics {\"StartTime\": 1634897997.6194336, \"EndTime\": 1634897997.6194503, \"Dimensions\": {\"Algorithm\": \"Linear Learner\", \"Host\": \"algo-1\", \"Operation\": \"training\", \"epoch\": 2, \"model\": 9}, \"Metrics\": {\"validation_binary_classification_cross_entropy_objective\": {\"sum\": 0.48335086497689433, \"count\": 1, \"min\": 0.48335086497689433, \"max\": 0.48335086497689433}}}\n",
            "\u001b[0m\n",
            "\u001b[34m#metrics {\"StartTime\": 1634897997.6195073, \"EndTime\": 1634897997.6195254, \"Dimensions\": {\"Algorithm\": \"Linear Learner\", \"Host\": \"algo-1\", \"Operation\": \"training\", \"epoch\": 2, \"model\": 10}, \"Metrics\": {\"validation_binary_classification_cross_entropy_objective\": {\"sum\": 0.48173466012951316, \"count\": 1, \"min\": 0.48173466012951316, \"max\": 0.48173466012951316}}}\n",
            "\u001b[0m\n",
            "\u001b[34m#metrics {\"StartTime\": 1634897997.619582, \"EndTime\": 1634897997.619599, \"Dimensions\": {\"Algorithm\": \"Linear Learner\", \"Host\": \"algo-1\", \"Operation\": \"training\", \"epoch\": 2, \"model\": 11}, \"Metrics\": {\"validation_binary_classification_cross_entropy_objective\": {\"sum\": 0.48335095136552886, \"count\": 1, \"min\": 0.48335095136552886, \"max\": 0.48335095136552886}}}\n",
            "\u001b[0m\n",
            "\u001b[34m#metrics {\"StartTime\": 1634897997.6196537, \"EndTime\": 1634897997.6196718, \"Dimensions\": {\"Algorithm\": \"Linear Learner\", \"Host\": \"algo-1\", \"Operation\": \"training\", \"epoch\": 2, \"model\": 12}, \"Metrics\": {\"validation_binary_classification_cross_entropy_objective\": {\"sum\": 0.48238397931005117, \"count\": 1, \"min\": 0.48238397931005117, \"max\": 0.48238397931005117}}}\n",
            "\u001b[0m\n",
            "\u001b[34m#metrics {\"StartTime\": 1634897997.619737, \"EndTime\": 1634897997.6197543, \"Dimensions\": {\"Algorithm\": \"Linear Learner\", \"Host\": \"algo-1\", \"Operation\": \"training\", \"epoch\": 2, \"model\": 13}, \"Metrics\": {\"validation_binary_classification_cross_entropy_objective\": {\"sum\": 0.49722261808824053, \"count\": 1, \"min\": 0.49722261808824053, \"max\": 0.49722261808824053}}}\n",
            "\u001b[0m\n",
            "\u001b[34m#metrics {\"StartTime\": 1634897997.6197946, \"EndTime\": 1634897997.6198106, \"Dimensions\": {\"Algorithm\": \"Linear Learner\", \"Host\": \"algo-1\", \"Operation\": \"training\", \"epoch\": 2, \"model\": 14}, \"Metrics\": {\"validation_binary_classification_cross_entropy_objective\": {\"sum\": 0.4823839875197702, \"count\": 1, \"min\": 0.4823839875197702, \"max\": 0.4823839875197702}}}\n",
            "\u001b[0m\n",
            "\u001b[34m#metrics {\"StartTime\": 1634897997.6198523, \"EndTime\": 1634897997.6198678, \"Dimensions\": {\"Algorithm\": \"Linear Learner\", \"Host\": \"algo-1\", \"Operation\": \"training\", \"epoch\": 2, \"model\": 15}, \"Metrics\": {\"validation_binary_classification_cross_entropy_objective\": {\"sum\": 0.49722272033655956, \"count\": 1, \"min\": 0.49722272033655956, \"max\": 0.49722272033655956}}}\n",
            "\u001b[0m\n",
            "\u001b[34m#metrics {\"StartTime\": 1634897997.6199212, \"EndTime\": 1634897997.619938, \"Dimensions\": {\"Algorithm\": \"Linear Learner\", \"Host\": \"algo-1\", \"Operation\": \"training\", \"epoch\": 2, \"model\": 16}, \"Metrics\": {\"validation_binary_classification_cross_entropy_objective\": {\"sum\": 0.5044029115073011, \"count\": 1, \"min\": 0.5044029115073011, \"max\": 0.5044029115073011}}}\n",
            "\u001b[0m\n",
            "\u001b[34m#metrics {\"StartTime\": 1634897997.6199892, \"EndTime\": 1634897997.6200054, \"Dimensions\": {\"Algorithm\": \"Linear Learner\", \"Host\": \"algo-1\", \"Operation\": \"training\", \"epoch\": 2, \"model\": 17}, \"Metrics\": {\"validation_binary_classification_cross_entropy_objective\": {\"sum\": 0.5051697600927838, \"count\": 1, \"min\": 0.5051697600927838, \"max\": 0.5051697600927838}}}\n",
            "\u001b[0m\n",
            "\u001b[34m#metrics {\"StartTime\": 1634897997.6200533, \"EndTime\": 1634897997.6200693, \"Dimensions\": {\"Algorithm\": \"Linear Learner\", \"Host\": \"algo-1\", \"Operation\": \"training\", \"epoch\": 2, \"model\": 18}, \"Metrics\": {\"validation_binary_classification_cross_entropy_objective\": {\"sum\": 0.5044032744141999, \"count\": 1, \"min\": 0.5044032744141999, \"max\": 0.5044032744141999}}}\n",
            "\u001b[0m\n",
            "\u001b[34m#metrics {\"StartTime\": 1634897997.6201246, \"EndTime\": 1634897997.6201422, \"Dimensions\": {\"Algorithm\": \"Linear Learner\", \"Host\": \"algo-1\", \"Operation\": \"training\", \"epoch\": 2, \"model\": 19}, \"Metrics\": {\"validation_binary_classification_cross_entropy_objective\": {\"sum\": 0.505170102848554, \"count\": 1, \"min\": 0.505170102848554, \"max\": 0.505170102848554}}}\n",
            "\u001b[0m\n",
            "\u001b[34m#metrics {\"StartTime\": 1634897997.6202042, \"EndTime\": 1634897997.620223, \"Dimensions\": {\"Algorithm\": \"Linear Learner\", \"Host\": \"algo-1\", \"Operation\": \"training\", \"epoch\": 2, \"model\": 20}, \"Metrics\": {\"validation_binary_classification_cross_entropy_objective\": {\"sum\": 0.5047433562415742, \"count\": 1, \"min\": 0.5047433562415742, \"max\": 0.5047433562415742}}}\n",
            "\u001b[0m\n",
            "\u001b[34m#metrics {\"StartTime\": 1634897997.6202824, \"EndTime\": 1634897997.6202998, \"Dimensions\": {\"Algorithm\": \"Linear Learner\", \"Host\": \"algo-1\", \"Operation\": \"training\", \"epoch\": 2, \"model\": 21}, \"Metrics\": {\"validation_binary_classification_cross_entropy_objective\": {\"sum\": 0.5076597928818644, \"count\": 1, \"min\": 0.5076597928818644, \"max\": 0.5076597928818644}}}\n",
            "\u001b[0m\n",
            "\u001b[34m#metrics {\"StartTime\": 1634897997.620355, \"EndTime\": 1634897997.6203685, \"Dimensions\": {\"Algorithm\": \"Linear Learner\", \"Host\": \"algo-1\", \"Operation\": \"training\", \"epoch\": 2, \"model\": 22}, \"Metrics\": {\"validation_binary_classification_cross_entropy_objective\": {\"sum\": 0.5047433364636146, \"count\": 1, \"min\": 0.5047433364636146, \"max\": 0.5047433364636146}}}\n",
            "\u001b[0m\n",
            "\u001b[34m#metrics {\"StartTime\": 1634897997.6203985, \"EndTime\": 1634897997.620407, \"Dimensions\": {\"Algorithm\": \"Linear Learner\", \"Host\": \"algo-1\", \"Operation\": \"training\", \"epoch\": 2, \"model\": 23}, \"Metrics\": {\"validation_binary_classification_cross_entropy_objective\": {\"sum\": 0.5076598882265559, \"count\": 1, \"min\": 0.5076598882265559, \"max\": 0.5076598882265559}}}\n",
            "\u001b[0m\n",
            "\u001b[34m#metrics {\"StartTime\": 1634897997.6204436, \"EndTime\": 1634897997.6204586, \"Dimensions\": {\"Algorithm\": \"Linear Learner\", \"Host\": \"algo-1\", \"Operation\": \"training\", \"epoch\": 2, \"model\": 24}, \"Metrics\": {\"validation_binary_classification_cross_entropy_objective\": {\"sum\": 0.5137155314871206, \"count\": 1, \"min\": 0.5137155314871206, \"max\": 0.5137155314871206}}}\n",
            "\u001b[0m\n",
            "\u001b[34m#metrics {\"StartTime\": 1634897997.6205215, \"EndTime\": 1634897997.6205401, \"Dimensions\": {\"Algorithm\": \"Linear Learner\", \"Host\": \"algo-1\", \"Operation\": \"training\", \"epoch\": 2, \"model\": 25}, \"Metrics\": {\"validation_binary_classification_cross_entropy_objective\": {\"sum\": 0.5145246353099503, \"count\": 1, \"min\": 0.5145246353099503, \"max\": 0.5145246353099503}}}\n",
            "\u001b[0m\n",
            "\u001b[34m#metrics {\"StartTime\": 1634897997.6206, \"EndTime\": 1634897997.6206164, \"Dimensions\": {\"Algorithm\": \"Linear Learner\", \"Host\": \"algo-1\", \"Operation\": \"training\", \"epoch\": 2, \"model\": 26}, \"Metrics\": {\"validation_binary_classification_cross_entropy_objective\": {\"sum\": 0.5137242294978657, \"count\": 1, \"min\": 0.5137242294978657, \"max\": 0.5137242294978657}}}\n",
            "\u001b[0m\n",
            "\u001b[34m#metrics {\"StartTime\": 1634897997.620671, \"EndTime\": 1634897997.6206872, \"Dimensions\": {\"Algorithm\": \"Linear Learner\", \"Host\": \"algo-1\", \"Operation\": \"training\", \"epoch\": 2, \"model\": 27}, \"Metrics\": {\"validation_binary_classification_cross_entropy_objective\": {\"sum\": 0.5144906860692638, \"count\": 1, \"min\": 0.5144906860692638, \"max\": 0.5144906860692638}}}\n",
            "\u001b[0m\n",
            "\u001b[34m#metrics {\"StartTime\": 1634897997.6207433, \"EndTime\": 1634897997.6207607, \"Dimensions\": {\"Algorithm\": \"Linear Learner\", \"Host\": \"algo-1\", \"Operation\": \"training\", \"epoch\": 2, \"model\": 28}, \"Metrics\": {\"validation_binary_classification_cross_entropy_objective\": {\"sum\": 0.5139339497562567, \"count\": 1, \"min\": 0.5139339497562567, \"max\": 0.5139339497562567}}}\n",
            "\u001b[0m\n",
            "\u001b[34m#metrics {\"StartTime\": 1634897997.6208162, \"EndTime\": 1634897997.620833, \"Dimensions\": {\"Algorithm\": \"Linear Learner\", \"Host\": \"algo-1\", \"Operation\": \"training\", \"epoch\": 2, \"model\": 29}, \"Metrics\": {\"validation_binary_classification_cross_entropy_objective\": {\"sum\": 0.5138352532602197, \"count\": 1, \"min\": 0.5138352532602197, \"max\": 0.5138352532602197}}}\n",
            "\u001b[0m\n",
            "\u001b[34m#metrics {\"StartTime\": 1634897997.6208897, \"EndTime\": 1634897997.6209059, \"Dimensions\": {\"Algorithm\": \"Linear Learner\", \"Host\": \"algo-1\", \"Operation\": \"training\", \"epoch\": 2, \"model\": 30}, \"Metrics\": {\"validation_binary_classification_cross_entropy_objective\": {\"sum\": 0.5139271263602221, \"count\": 1, \"min\": 0.5139271263602221, \"max\": 0.5139271263602221}}}\n",
            "\u001b[0m\n",
            "\u001b[34m#metrics {\"StartTime\": 1634897997.6209579, \"EndTime\": 1634897997.6209762, \"Dimensions\": {\"Algorithm\": \"Linear Learner\", \"Host\": \"algo-1\", \"Operation\": \"training\", \"epoch\": 2, \"model\": 31}, \"Metrics\": {\"validation_binary_classification_cross_entropy_objective\": {\"sum\": 0.5138352513943745, \"count\": 1, \"min\": 0.5138352513943745, \"max\": 0.5138352513943745}}}\n",
            "\u001b[0m\n",
            "\u001b[34m[10/22/2021 10:19:57 INFO 140300387239744] #quality_metric: host=algo-1, epoch=2, validation binary_classification_cross_entropy_objective <loss>=0.4815571184246778\u001b[0m\n",
            "\u001b[34m[10/22/2021 10:19:57 INFO 140300387239744] #early_stopping_criteria_metric: host=algo-1, epoch=2, criteria=binary_classification_cross_entropy_objective, value=0.4815571184246778\u001b[0m\n",
            "\u001b[34m[10/22/2021 10:19:57 INFO 140300387239744] Saving model for epoch: 2\u001b[0m\n",
            "\u001b[34m[10/22/2021 10:19:57 INFO 140300387239744] Saved checkpoint to \"/tmp/tmpfty5_2br/mx-mod-0000.params\"\u001b[0m\n",
            "\u001b[34m[10/22/2021 10:19:57 INFO 140300387239744] #progress_metric: host=algo-1, completed 20.0 % of epochs\u001b[0m\n",
            "\u001b[34m#metrics {\"StartTime\": 1634897944.215598, \"EndTime\": 1634897997.6271977, \"Dimensions\": {\"Algorithm\": \"Linear Learner\", \"Host\": \"algo-1\", \"Operation\": \"training\", \"epoch\": 2, \"Meta\": \"training_data_iter\"}, \"Metrics\": {\"Total Records Seen\": {\"sum\": 3937416.0, \"count\": 1, \"min\": 3937416, \"max\": 3937416}, \"Total Batches Seen\": {\"sum\": 3939.0, \"count\": 1, \"min\": 3939, \"max\": 3939}, \"Max Records Seen Between Resets\": {\"sum\": 1308472.0, \"count\": 1, \"min\": 1308472, \"max\": 1308472}, \"Max Batches Seen Between Resets\": {\"sum\": 1309.0, \"count\": 1, \"min\": 1309, \"max\": 1309}, \"Reset Count\": {\"sum\": 5.0, \"count\": 1, \"min\": 5, \"max\": 5}, \"Number of Records Since Last Reset\": {\"sum\": 1308472.0, \"count\": 1, \"min\": 1308472, \"max\": 1308472}, \"Number of Batches Since Last Reset\": {\"sum\": 1309.0, \"count\": 1, \"min\": 1309, \"max\": 1309}}}\n",
            "\u001b[0m\n",
            "\u001b[34m[10/22/2021 10:19:57 INFO 140300387239744] #throughput_metric: host=algo-1, train throughput=24497.832028618686 records/second\u001b[0m\n",
            "\u001b[34m[2021-10-22 10:20:46.636] [tensorio] [info] epoch_stats={\"data_pipeline\": \"/opt/ml/input/data/train\", \"epoch\": 9, \"duration\": 49005, \"num_examples\": 1309, \"num_bytes\": 502453248}\u001b[0m\n",
            "\u001b[34m#metrics {\"StartTime\": 1634898046.6366656, \"EndTime\": 1634898046.63677, \"Dimensions\": {\"Algorithm\": \"Linear Learner\", \"Host\": \"algo-1\", \"Operation\": \"training\", \"epoch\": 3, \"model\": 0}, \"Metrics\": {\"train_binary_classification_cross_entropy_objective\": {\"sum\": 0.4803305128604994, \"count\": 1, \"min\": 0.4803305128604994, \"max\": 0.4803305128604994}}}\n",
            "\u001b[0m\n",
            "\u001b[34m#metrics {\"StartTime\": 1634898046.6368806, \"EndTime\": 1634898046.6369035, \"Dimensions\": {\"Algorithm\": \"Linear Learner\", \"Host\": \"algo-1\", \"Operation\": \"training\", \"epoch\": 3, \"model\": 1}, \"Metrics\": {\"train_binary_classification_cross_entropy_objective\": {\"sum\": 0.4812471748608697, \"count\": 1, \"min\": 0.4812471748608697, \"max\": 0.4812471748608697}}}\n",
            "\u001b[0m\n",
            "\u001b[34m#metrics {\"StartTime\": 1634898046.6369665, \"EndTime\": 1634898046.6369848, \"Dimensions\": {\"Algorithm\": \"Linear Learner\", \"Host\": \"algo-1\", \"Operation\": \"training\", \"epoch\": 3, \"model\": 2}, \"Metrics\": {\"train_binary_classification_cross_entropy_objective\": {\"sum\": 0.48034492194032813, \"count\": 1, \"min\": 0.48034492194032813, \"max\": 0.48034492194032813}}}\n",
            "\u001b[0m\n",
            "\u001b[34m#metrics {\"StartTime\": 1634898046.6370437, \"EndTime\": 1634898046.6370606, \"Dimensions\": {\"Algorithm\": \"Linear Learner\", \"Host\": \"algo-1\", \"Operation\": \"training\", \"epoch\": 3, \"model\": 3}, \"Metrics\": {\"train_binary_classification_cross_entropy_objective\": {\"sum\": 0.48124714271008784, \"count\": 1, \"min\": 0.48124714271008784, \"max\": 0.48124714271008784}}}\n",
            "\u001b[0m\n",
            "\u001b[34m#metrics {\"StartTime\": 1634898046.6371167, \"EndTime\": 1634898046.6371331, \"Dimensions\": {\"Algorithm\": \"Linear Learner\", \"Host\": \"algo-1\", \"Operation\": \"training\", \"epoch\": 3, \"model\": 4}, \"Metrics\": {\"train_binary_classification_cross_entropy_objective\": {\"sum\": 0.4806348280133822, \"count\": 1, \"min\": 0.4806348280133822, \"max\": 0.4806348280133822}}}\n",
            "\u001b[0m\n",
            "\u001b[34m#metrics {\"StartTime\": 1634898046.6371887, \"EndTime\": 1634898046.6372056, \"Dimensions\": {\"Algorithm\": \"Linear Learner\", \"Host\": \"algo-1\", \"Operation\": \"training\", \"epoch\": 3, \"model\": 5}, \"Metrics\": {\"train_binary_classification_cross_entropy_objective\": {\"sum\": 0.4961812859864774, \"count\": 1, \"min\": 0.4961812859864774, \"max\": 0.4961812859864774}}}\n",
            "\u001b[0m\n",
            "\u001b[34m#metrics {\"StartTime\": 1634898046.6372614, \"EndTime\": 1634898046.637277, \"Dimensions\": {\"Algorithm\": \"Linear Learner\", \"Host\": \"algo-1\", \"Operation\": \"training\", \"epoch\": 3, \"model\": 6}, \"Metrics\": {\"train_binary_classification_cross_entropy_objective\": {\"sum\": 0.4806348294366026, \"count\": 1, \"min\": 0.4806348294366026, \"max\": 0.4806348294366026}}}\n",
            "\u001b[0m\n",
            "\u001b[34m#metrics {\"StartTime\": 1634898046.637329, \"EndTime\": 1634898046.6373448, \"Dimensions\": {\"Algorithm\": \"Linear Learner\", \"Host\": \"algo-1\", \"Operation\": \"training\", \"epoch\": 3, \"model\": 7}, \"Metrics\": {\"train_binary_classification_cross_entropy_objective\": {\"sum\": 0.4961813055849221, \"count\": 1, \"min\": 0.4961813055849221, \"max\": 0.4961813055849221}}}\n",
            "\u001b[0m\n",
            "\u001b[34m#metrics {\"StartTime\": 1634898046.6374, \"EndTime\": 1634898046.6374164, \"Dimensions\": {\"Algorithm\": \"Linear Learner\", \"Host\": \"algo-1\", \"Operation\": \"training\", \"epoch\": 3, \"model\": 8}, \"Metrics\": {\"train_binary_classification_cross_entropy_objective\": {\"sum\": 0.48060090912518516, \"count\": 1, \"min\": 0.48060090912518516, \"max\": 0.48060090912518516}}}\n",
            "\u001b[0m\n",
            "\u001b[34m#metrics {\"StartTime\": 1634898046.637472, \"EndTime\": 1634898046.6374884, \"Dimensions\": {\"Algorithm\": \"Linear Learner\", \"Host\": \"algo-1\", \"Operation\": \"training\", \"epoch\": 3, \"model\": 9}, \"Metrics\": {\"train_binary_classification_cross_entropy_objective\": {\"sum\": 0.48146492984316763, \"count\": 1, \"min\": 0.48146492984316763, \"max\": 0.48146492984316763}}}\n",
            "\u001b[0m\n",
            "\u001b[34m#metrics {\"StartTime\": 1634898046.6375415, \"EndTime\": 1634898046.6375577, \"Dimensions\": {\"Algorithm\": \"Linear Learner\", \"Host\": \"algo-1\", \"Operation\": \"training\", \"epoch\": 3, \"model\": 10}, \"Metrics\": {\"train_binary_classification_cross_entropy_objective\": {\"sum\": 0.48061638223723896, \"count\": 1, \"min\": 0.48061638223723896, \"max\": 0.48061638223723896}}}\n",
            "\u001b[0m\n",
            "\u001b[34m#metrics {\"StartTime\": 1634898046.6376178, \"EndTime\": 1634898046.6376345, \"Dimensions\": {\"Algorithm\": \"Linear Learner\", \"Host\": \"algo-1\", \"Operation\": \"training\", \"epoch\": 3, \"model\": 11}, \"Metrics\": {\"train_binary_classification_cross_entropy_objective\": {\"sum\": 0.4814649357926955, \"count\": 1, \"min\": 0.4814649357926955, \"max\": 0.4814649357926955}}}\n",
            "\u001b[0m\n",
            "\u001b[34m#metrics {\"StartTime\": 1634898046.6376898, \"EndTime\": 1634898046.6377056, \"Dimensions\": {\"Algorithm\": \"Linear Learner\", \"Host\": \"algo-1\", \"Operation\": \"training\", \"epoch\": 3, \"model\": 12}, \"Metrics\": {\"train_binary_classification_cross_entropy_objective\": {\"sum\": 0.48089158261733683, \"count\": 1, \"min\": 0.48089158261733683, \"max\": 0.48089158261733683}}}\n",
            "\u001b[0m\n",
            "\u001b[34m#metrics {\"StartTime\": 1634898046.6377578, \"EndTime\": 1634898046.6377728, \"Dimensions\": {\"Algorithm\": \"Linear Learner\", \"Host\": \"algo-1\", \"Operation\": \"training\", \"epoch\": 3, \"model\": 13}, \"Metrics\": {\"train_binary_classification_cross_entropy_objective\": {\"sum\": 0.4953062345172287, \"count\": 1, \"min\": 0.4953062345172287, \"max\": 0.4953062345172287}}}\n",
            "\u001b[0m\n",
            "\u001b[34m#metrics {\"StartTime\": 1634898046.637826, \"EndTime\": 1634898046.6378427, \"Dimensions\": {\"Algorithm\": \"Linear Learner\", \"Host\": \"algo-1\", \"Operation\": \"training\", \"epoch\": 3, \"model\": 14}, \"Metrics\": {\"train_binary_classification_cross_entropy_objective\": {\"sum\": 0.4808915790942831, \"count\": 1, \"min\": 0.4808915790942831, \"max\": 0.4808915790942831}}}\n",
            "\u001b[0m\n",
            "\u001b[34m#metrics {\"StartTime\": 1634898046.6378973, \"EndTime\": 1634898046.6379128, \"Dimensions\": {\"Algorithm\": \"Linear Learner\", \"Host\": \"algo-1\", \"Operation\": \"training\", \"epoch\": 3, \"model\": 15}, \"Metrics\": {\"train_binary_classification_cross_entropy_objective\": {\"sum\": 0.4953062614884216, \"count\": 1, \"min\": 0.4953062614884216, \"max\": 0.4953062614884216}}}\n",
            "\u001b[0m\n",
            "\u001b[34m#metrics {\"StartTime\": 1634898046.6379588, \"EndTime\": 1634898046.637973, \"Dimensions\": {\"Algorithm\": \"Linear Learner\", \"Host\": \"algo-1\", \"Operation\": \"training\", \"epoch\": 3, \"model\": 16}, \"Metrics\": {\"train_binary_classification_cross_entropy_objective\": {\"sum\": 0.5042837750496121, \"count\": 1, \"min\": 0.5042837750496121, \"max\": 0.5042837750496121}}}\n",
            "\u001b[0m\n",
            "\u001b[34m#metrics {\"StartTime\": 1634898046.6380262, \"EndTime\": 1634898046.6380432, \"Dimensions\": {\"Algorithm\": \"Linear Learner\", \"Host\": \"algo-1\", \"Operation\": \"training\", \"epoch\": 3, \"model\": 17}, \"Metrics\": {\"train_binary_classification_cross_entropy_objective\": {\"sum\": 0.5045345132576945, \"count\": 1, \"min\": 0.5045345132576945, \"max\": 0.5045345132576945}}}\n",
            "\u001b[0m\n",
            "\u001b[34m#metrics {\"StartTime\": 1634898046.6381135, \"EndTime\": 1634898046.63813, \"Dimensions\": {\"Algorithm\": \"Linear Learner\", \"Host\": \"algo-1\", \"Operation\": \"training\", \"epoch\": 3, \"model\": 18}, \"Metrics\": {\"train_binary_classification_cross_entropy_objective\": {\"sum\": 0.5042875085533212, \"count\": 1, \"min\": 0.5042875085533212, \"max\": 0.5042875085533212}}}\n",
            "\u001b[0m\n",
            "\u001b[34m#metrics {\"StartTime\": 1634898046.6381822, \"EndTime\": 1634898046.6381977, \"Dimensions\": {\"Algorithm\": \"Linear Learner\", \"Host\": \"algo-1\", \"Operation\": \"training\", \"epoch\": 3, \"model\": 19}, \"Metrics\": {\"train_binary_classification_cross_entropy_objective\": {\"sum\": 0.5045344962723758, \"count\": 1, \"min\": 0.5045344962723758, \"max\": 0.5045344962723758}}}\n",
            "\u001b[0m\n",
            "\u001b[34m#metrics {\"StartTime\": 1634898046.6382527, \"EndTime\": 1634898046.6382692, \"Dimensions\": {\"Algorithm\": \"Linear Learner\", \"Host\": \"algo-1\", \"Operation\": \"training\", \"epoch\": 3, \"model\": 20}, \"Metrics\": {\"train_binary_classification_cross_entropy_objective\": {\"sum\": 0.5043544183900233, \"count\": 1, \"min\": 0.5043544183900233, \"max\": 0.5043544183900233}}}\n",
            "\u001b[0m\n",
            "\u001b[34m#metrics {\"StartTime\": 1634898046.6383226, \"EndTime\": 1634898046.6383386, \"Dimensions\": {\"Algorithm\": \"Linear Learner\", \"Host\": \"algo-1\", \"Operation\": \"training\", \"epoch\": 3, \"model\": 21}, \"Metrics\": {\"train_binary_classification_cross_entropy_objective\": {\"sum\": 0.5072917011505967, \"count\": 1, \"min\": 0.5072917011505967, \"max\": 0.5072917011505967}}}\n",
            "\u001b[0m\n",
            "\u001b[34m#metrics {\"StartTime\": 1634898046.6383905, \"EndTime\": 1634898046.638406, \"Dimensions\": {\"Algorithm\": \"Linear Learner\", \"Host\": \"algo-1\", \"Operation\": \"training\", \"epoch\": 3, \"model\": 22}, \"Metrics\": {\"train_binary_classification_cross_entropy_objective\": {\"sum\": 0.5043544193232825, \"count\": 1, \"min\": 0.5043544193232825, \"max\": 0.5043544193232825}}}\n",
            "\u001b[0m\n",
            "\u001b[34m#metrics {\"StartTime\": 1634898046.6384614, \"EndTime\": 1634898046.638478, \"Dimensions\": {\"Algorithm\": \"Linear Learner\", \"Host\": \"algo-1\", \"Operation\": \"training\", \"epoch\": 3, \"model\": 23}, \"Metrics\": {\"train_binary_classification_cross_entropy_objective\": {\"sum\": 0.5072916774691427, \"count\": 1, \"min\": 0.5072916774691427, \"max\": 0.5072916774691427}}}\n",
            "\u001b[0m\n",
            "\u001b[34m#metrics {\"StartTime\": 1634898046.6385317, \"EndTime\": 1634898046.6385477, \"Dimensions\": {\"Algorithm\": \"Linear Learner\", \"Host\": \"algo-1\", \"Operation\": \"training\", \"epoch\": 3, \"model\": 24}, \"Metrics\": {\"train_binary_classification_cross_entropy_objective\": {\"sum\": 0.5137236261163647, \"count\": 1, \"min\": 0.5137236261163647, \"max\": 0.5137236261163647}}}\n",
            "\u001b[0m\n",
            "\u001b[34m#metrics {\"StartTime\": 1634898046.6385999, \"EndTime\": 1634898046.6386158, \"Dimensions\": {\"Algorithm\": \"Linear Learner\", \"Host\": \"algo-1\", \"Operation\": \"training\", \"epoch\": 3, \"model\": 25}, \"Metrics\": {\"train_binary_classification_cross_entropy_objective\": {\"sum\": 0.5138231934946976, \"count\": 1, \"min\": 0.5138231934946976, \"max\": 0.5138231934946976}}}\n",
            "\u001b[0m\n",
            "\u001b[34m#metrics {\"StartTime\": 1634898046.63867, \"EndTime\": 1634898046.6386867, \"Dimensions\": {\"Algorithm\": \"Linear Learner\", \"Host\": \"algo-1\", \"Operation\": \"training\", \"epoch\": 3, \"model\": 26}, \"Metrics\": {\"train_binary_classification_cross_entropy_objective\": {\"sum\": 0.5137252881111355, \"count\": 1, \"min\": 0.5137252881111355, \"max\": 0.5137252881111355}}}\n",
            "\u001b[0m\n",
            "\u001b[34m#metrics {\"StartTime\": 1634898046.6387417, \"EndTime\": 1634898046.6387577, \"Dimensions\": {\"Algorithm\": \"Linear Learner\", \"Host\": \"algo-1\", \"Operation\": \"training\", \"epoch\": 3, \"model\": 27}, \"Metrics\": {\"train_binary_classification_cross_entropy_objective\": {\"sum\": 0.5138241727169865, \"count\": 1, \"min\": 0.5138241727169865, \"max\": 0.5138241727169865}}}\n",
            "\u001b[0m\n",
            "\u001b[34m#metrics {\"StartTime\": 1634898046.6388109, \"EndTime\": 1634898046.6388266, \"Dimensions\": {\"Algorithm\": \"Linear Learner\", \"Host\": \"algo-1\", \"Operation\": \"training\", \"epoch\": 3, \"model\": 28}, \"Metrics\": {\"train_binary_classification_cross_entropy_objective\": {\"sum\": 0.5137446288362556, \"count\": 1, \"min\": 0.5137446288362556, \"max\": 0.5137446288362556}}}\n",
            "\u001b[0m\n",
            "\u001b[34m#metrics {\"StartTime\": 1634898046.6388805, \"EndTime\": 1634898046.6388972, \"Dimensions\": {\"Algorithm\": \"Linear Learner\", \"Host\": \"algo-1\", \"Operation\": \"training\", \"epoch\": 3, \"model\": 29}, \"Metrics\": {\"train_binary_classification_cross_entropy_objective\": {\"sum\": 0.5148067295646084, \"count\": 1, \"min\": 0.5148067295646084, \"max\": 0.5148067295646084}}}\n",
            "\u001b[0m\n",
            "\u001b[34m#metrics {\"StartTime\": 1634898046.638952, \"EndTime\": 1634898046.6389678, \"Dimensions\": {\"Algorithm\": \"Linear Learner\", \"Host\": \"algo-1\", \"Operation\": \"training\", \"epoch\": 3, \"model\": 30}, \"Metrics\": {\"train_binary_classification_cross_entropy_objective\": {\"sum\": 0.5137445438629991, \"count\": 1, \"min\": 0.5137445438629991, \"max\": 0.5137445438629991}}}\n",
            "\u001b[0m\n",
            "\u001b[34m#metrics {\"StartTime\": 1634898046.6390197, \"EndTime\": 1634898046.6390357, \"Dimensions\": {\"Algorithm\": \"Linear Learner\", \"Host\": \"algo-1\", \"Operation\": \"training\", \"epoch\": 3, \"model\": 31}, \"Metrics\": {\"train_binary_classification_cross_entropy_objective\": {\"sum\": 0.5148067358641085, \"count\": 1, \"min\": 0.5148067358641085, \"max\": 0.5148067358641085}}}\n",
            "\u001b[0m\n",
            "\u001b[34m[10/22/2021 10:20:46 INFO 140300387239744] #quality_metric: host=algo-1, epoch=3, train binary_classification_cross_entropy_objective <loss>=0.4803305128604994\u001b[0m\n",
            "\u001b[34m[2021-10-22 10:20:50.956] [tensorio] [info] epoch_stats={\"data_pipeline\": \"/opt/ml/input/data/validation\", \"epoch\": 11, \"duration\": 4290, \"num_examples\": 164, \"num_bytes\": 62806656}\u001b[0m\n",
            "\u001b[34m#metrics {\"StartTime\": 1634898050.9637454, \"EndTime\": 1634898050.9638035, \"Dimensions\": {\"Algorithm\": \"Linear Learner\", \"Host\": \"algo-1\", \"Operation\": \"training\", \"epoch\": 3, \"model\": 0}, \"Metrics\": {\"validation_binary_classification_cross_entropy_objective\": {\"sum\": 0.4815436052271275, \"count\": 1, \"min\": 0.4815436052271275, \"max\": 0.4815436052271275}}}\n",
            "\u001b[0m\n",
            "\u001b[34m#metrics {\"StartTime\": 1634898050.9638896, \"EndTime\": 1634898050.9639118, \"Dimensions\": {\"Algorithm\": \"Linear Learner\", \"Host\": \"algo-1\", \"Operation\": \"training\", \"epoch\": 3, \"model\": 1}, \"Metrics\": {\"validation_binary_classification_cross_entropy_objective\": {\"sum\": 0.4830182657486772, \"count\": 1, \"min\": 0.4830182657486772, \"max\": 0.4830182657486772}}}\n",
            "\u001b[0m\n",
            "\u001b[34m#metrics {\"StartTime\": 1634898050.9639723, \"EndTime\": 1634898050.9639907, \"Dimensions\": {\"Algorithm\": \"Linear Learner\", \"Host\": \"algo-1\", \"Operation\": \"training\", \"epoch\": 3, \"model\": 2}, \"Metrics\": {\"validation_binary_classification_cross_entropy_objective\": {\"sum\": 0.4815565034420874, \"count\": 1, \"min\": 0.4815565034420874, \"max\": 0.4815565034420874}}}\n",
            "\u001b[0m\n",
            "\u001b[34m#metrics {\"StartTime\": 1634898050.9640563, \"EndTime\": 1634898050.9640806, \"Dimensions\": {\"Algorithm\": \"Linear Learner\", \"Host\": \"algo-1\", \"Operation\": \"training\", \"epoch\": 3, \"model\": 3}, \"Metrics\": {\"validation_binary_classification_cross_entropy_objective\": {\"sum\": 0.48301824690364026, \"count\": 1, \"min\": 0.48301824690364026, \"max\": 0.48301824690364026}}}\n",
            "\u001b[0m\n",
            "\u001b[34m#metrics {\"StartTime\": 1634898050.964143, \"EndTime\": 1634898050.964162, \"Dimensions\": {\"Algorithm\": \"Linear Learner\", \"Host\": \"algo-1\", \"Operation\": \"training\", \"epoch\": 3, \"model\": 4}, \"Metrics\": {\"validation_binary_classification_cross_entropy_objective\": {\"sum\": 0.4816718886176849, \"count\": 1, \"min\": 0.4816718886176849, \"max\": 0.4816718886176849}}}\n",
            "\u001b[0m\n",
            "\u001b[34m#metrics {\"StartTime\": 1634898050.9642155, \"EndTime\": 1634898050.9642332, \"Dimensions\": {\"Algorithm\": \"Linear Learner\", \"Host\": \"algo-1\", \"Operation\": \"training\", \"epoch\": 3, \"model\": 5}, \"Metrics\": {\"validation_binary_classification_cross_entropy_objective\": {\"sum\": 0.4993753556898094, \"count\": 1, \"min\": 0.4993753556898094, \"max\": 0.4993753556898094}}}\n",
            "\u001b[0m\n",
            "\u001b[34m#metrics {\"StartTime\": 1634898050.964288, \"EndTime\": 1634898050.9643111, \"Dimensions\": {\"Algorithm\": \"Linear Learner\", \"Host\": \"algo-1\", \"Operation\": \"training\", \"epoch\": 3, \"model\": 6}, \"Metrics\": {\"validation_binary_classification_cross_entropy_objective\": {\"sum\": 0.48167189626765033, \"count\": 1, \"min\": 0.48167189626765033, \"max\": 0.48167189626765033}}}\n",
            "\u001b[0m\n",
            "\u001b[34m#metrics {\"StartTime\": 1634898050.9643693, \"EndTime\": 1634898050.9643877, \"Dimensions\": {\"Algorithm\": \"Linear Learner\", \"Host\": \"algo-1\", \"Operation\": \"training\", \"epoch\": 3, \"model\": 7}, \"Metrics\": {\"validation_binary_classification_cross_entropy_objective\": {\"sum\": 0.4993753653922046, \"count\": 1, \"min\": 0.4993753653922046, \"max\": 0.4993753653922046}}}\n",
            "\u001b[0m\n",
            "\u001b[34m#metrics {\"StartTime\": 1634898050.964446, \"EndTime\": 1634898050.9644642, \"Dimensions\": {\"Algorithm\": \"Linear Learner\", \"Host\": \"algo-1\", \"Operation\": \"training\", \"epoch\": 3, \"model\": 8}, \"Metrics\": {\"validation_binary_classification_cross_entropy_objective\": {\"sum\": 0.481725463005167, \"count\": 1, \"min\": 0.481725463005167, \"max\": 0.481725463005167}}}\n",
            "\u001b[0m\n",
            "\u001b[34m#metrics {\"StartTime\": 1634898050.9645128, \"EndTime\": 1634898050.9645236, \"Dimensions\": {\"Algorithm\": \"Linear Learner\", \"Host\": \"algo-1\", \"Operation\": \"training\", \"epoch\": 3, \"model\": 9}, \"Metrics\": {\"validation_binary_classification_cross_entropy_objective\": {\"sum\": 0.48309847451717536, \"count\": 1, \"min\": 0.48309847451717536, \"max\": 0.48309847451717536}}}\n",
            "\u001b[0m\n",
            "\u001b[34m#metrics {\"StartTime\": 1634898050.9645684, \"EndTime\": 1634898050.964586, \"Dimensions\": {\"Algorithm\": \"Linear Learner\", \"Host\": \"algo-1\", \"Operation\": \"training\", \"epoch\": 3, \"model\": 10}, \"Metrics\": {\"validation_binary_classification_cross_entropy_objective\": {\"sum\": 0.4817329890785182, \"count\": 1, \"min\": 0.4817329890785182, \"max\": 0.4817329890785182}}}\n",
            "\u001b[0m\n",
            "\u001b[34m#metrics {\"StartTime\": 1634898050.9646387, \"EndTime\": 1634898050.9646556, \"Dimensions\": {\"Algorithm\": \"Linear Learner\", \"Host\": \"algo-1\", \"Operation\": \"training\", \"epoch\": 3, \"model\": 11}, \"Metrics\": {\"validation_binary_classification_cross_entropy_objective\": {\"sum\": 0.4830984858988313, \"count\": 1, \"min\": 0.4830984858988313, \"max\": 0.4830984858988313}}}\n",
            "\u001b[0m\n",
            "\u001b[34m#metrics {\"StartTime\": 1634898050.964711, \"EndTime\": 1634898050.9647276, \"Dimensions\": {\"Algorithm\": \"Linear Learner\", \"Host\": \"algo-1\", \"Operation\": \"training\", \"epoch\": 3, \"model\": 12}, \"Metrics\": {\"validation_binary_classification_cross_entropy_objective\": {\"sum\": 0.4818051922514391, \"count\": 1, \"min\": 0.4818051922514391, \"max\": 0.4818051922514391}}}\n",
            "\u001b[0m\n",
            "\u001b[34m#metrics {\"StartTime\": 1634898050.9647825, \"EndTime\": 1634898050.9647985, \"Dimensions\": {\"Algorithm\": \"Linear Learner\", \"Host\": \"algo-1\", \"Operation\": \"training\", \"epoch\": 3, \"model\": 13}, \"Metrics\": {\"validation_binary_classification_cross_entropy_objective\": {\"sum\": 0.4974617653382151, \"count\": 1, \"min\": 0.4974617653382151, \"max\": 0.4974617653382151}}}\n",
            "\u001b[0m\n",
            "\u001b[34m#metrics {\"StartTime\": 1634898050.9648483, \"EndTime\": 1634898050.9648635, \"Dimensions\": {\"Algorithm\": \"Linear Learner\", \"Host\": \"algo-1\", \"Operation\": \"training\", \"epoch\": 3, \"model\": 14}, \"Metrics\": {\"validation_binary_classification_cross_entropy_objective\": {\"sum\": 0.4818051937441153, \"count\": 1, \"min\": 0.4818051937441153, \"max\": 0.4818051937441153}}}\n",
            "\u001b[0m\n",
            "\u001b[34m#metrics {\"StartTime\": 1634898050.9649162, \"EndTime\": 1634898050.9649308, \"Dimensions\": {\"Algorithm\": \"Linear Learner\", \"Host\": \"algo-1\", \"Operation\": \"training\", \"epoch\": 3, \"model\": 15}, \"Metrics\": {\"validation_binary_classification_cross_entropy_objective\": {\"sum\": 0.49746181832821984, \"count\": 1, \"min\": 0.49746181832821984, \"max\": 0.49746181832821984}}}\n",
            "\u001b[0m\n",
            "\u001b[34m#metrics {\"StartTime\": 1634898050.9649615, \"EndTime\": 1634898050.9649696, \"Dimensions\": {\"Algorithm\": \"Linear Learner\", \"Host\": \"algo-1\", \"Operation\": \"training\", \"epoch\": 3, \"model\": 16}, \"Metrics\": {\"validation_binary_classification_cross_entropy_objective\": {\"sum\": 0.5044446043788934, \"count\": 1, \"min\": 0.5044446043788934, \"max\": 0.5044446043788934}}}\n",
            "\u001b[0m\n",
            "\u001b[34m#metrics {\"StartTime\": 1634898050.9649956, \"EndTime\": 1634898050.9650033, \"Dimensions\": {\"Algorithm\": \"Linear Learner\", \"Host\": \"algo-1\", \"Operation\": \"training\", \"epoch\": 3, \"model\": 17}, \"Metrics\": {\"validation_binary_classification_cross_entropy_objective\": {\"sum\": 0.5050891438236856, \"count\": 1, \"min\": 0.5050891438236856, \"max\": 0.5050891438236856}}}\n",
            "\u001b[0m\n",
            "\u001b[34m#metrics {\"StartTime\": 1634898050.965029, \"EndTime\": 1634898050.9650366, \"Dimensions\": {\"Algorithm\": \"Linear Learner\", \"Host\": \"algo-1\", \"Operation\": \"training\", \"epoch\": 3, \"model\": 18}, \"Metrics\": {\"validation_binary_classification_cross_entropy_objective\": {\"sum\": 0.5044074770440135, \"count\": 1, \"min\": 0.5044074770440135, \"max\": 0.5044074770440135}}}\n",
            "\u001b[0m\n",
            "\u001b[34m#metrics {\"StartTime\": 1634898050.9650843, \"EndTime\": 1634898050.9651003, \"Dimensions\": {\"Algorithm\": \"Linear Learner\", \"Host\": \"algo-1\", \"Operation\": \"training\", \"epoch\": 3, \"model\": 19}, \"Metrics\": {\"validation_binary_classification_cross_entropy_objective\": {\"sum\": 0.5050892337574261, \"count\": 1, \"min\": 0.5050892337574261, \"max\": 0.5050892337574261}}}\n",
            "\u001b[0m\n",
            "\u001b[34m#metrics {\"StartTime\": 1634898050.9651632, \"EndTime\": 1634898050.9651804, \"Dimensions\": {\"Algorithm\": \"Linear Learner\", \"Host\": \"algo-1\", \"Operation\": \"training\", \"epoch\": 3, \"model\": 20}, \"Metrics\": {\"validation_binary_classification_cross_entropy_objective\": {\"sum\": 0.5044728170783961, \"count\": 1, \"min\": 0.5044728170783961, \"max\": 0.5044728170783961}}}\n",
            "\u001b[0m\n",
            "\u001b[34m#metrics {\"StartTime\": 1634898050.9652386, \"EndTime\": 1634898050.9652555, \"Dimensions\": {\"Algorithm\": \"Linear Learner\", \"Host\": \"algo-1\", \"Operation\": \"training\", \"epoch\": 3, \"model\": 21}, \"Metrics\": {\"validation_binary_classification_cross_entropy_objective\": {\"sum\": 0.5062990323231028, \"count\": 1, \"min\": 0.5062990323231028, \"max\": 0.5062990323231028}}}\n",
            "\u001b[0m\n",
            "\u001b[34m#metrics {\"StartTime\": 1634898050.9653099, \"EndTime\": 1634898050.9653263, \"Dimensions\": {\"Algorithm\": \"Linear Learner\", \"Host\": \"algo-1\", \"Operation\": \"training\", \"epoch\": 3, \"model\": 22}, \"Metrics\": {\"validation_binary_classification_cross_entropy_objective\": {\"sum\": 0.5044728122271985, \"count\": 1, \"min\": 0.5044728122271985, \"max\": 0.5044728122271985}}}\n",
            "\u001b[0m\n",
            "\u001b[34m#metrics {\"StartTime\": 1634898050.9653785, \"EndTime\": 1634898050.9653952, \"Dimensions\": {\"Algorithm\": \"Linear Learner\", \"Host\": \"algo-1\", \"Operation\": \"training\", \"epoch\": 3, \"model\": 23}, \"Metrics\": {\"validation_binary_classification_cross_entropy_objective\": {\"sum\": 0.5062990095597909, \"count\": 1, \"min\": 0.5062990095597909, \"max\": 0.5062990095597909}}}\n",
            "\u001b[0m\n",
            "\u001b[34m#metrics {\"StartTime\": 1634898050.9654481, \"EndTime\": 1634898050.9654636, \"Dimensions\": {\"Algorithm\": \"Linear Learner\", \"Host\": \"algo-1\", \"Operation\": \"training\", \"epoch\": 3, \"model\": 24}, \"Metrics\": {\"validation_binary_classification_cross_entropy_objective\": {\"sum\": 0.5137196438100247, \"count\": 1, \"min\": 0.5137196438100247, \"max\": 0.5137196438100247}}}\n",
            "\u001b[0m\n",
            "\u001b[34m#metrics {\"StartTime\": 1634898050.9655228, \"EndTime\": 1634898050.965539, \"Dimensions\": {\"Algorithm\": \"Linear Learner\", \"Host\": \"algo-1\", \"Operation\": \"training\", \"epoch\": 3, \"model\": 25}, \"Metrics\": {\"validation_binary_classification_cross_entropy_objective\": {\"sum\": 0.5144360494560879, \"count\": 1, \"min\": 0.5144360494560879, \"max\": 0.5144360494560879}}}\n",
            "\u001b[0m\n",
            "\u001b[34m#metrics {\"StartTime\": 1634898050.9655962, \"EndTime\": 1634898050.9656126, \"Dimensions\": {\"Algorithm\": \"Linear Learner\", \"Host\": \"algo-1\", \"Operation\": \"training\", \"epoch\": 3, \"model\": 26}, \"Metrics\": {\"validation_binary_classification_cross_entropy_objective\": {\"sum\": 0.5137188511989677, \"count\": 1, \"min\": 0.5137188511989677, \"max\": 0.5137188511989677}}}\n",
            "\u001b[0m\n",
            "\u001b[34m#metrics {\"StartTime\": 1634898050.9656696, \"EndTime\": 1634898050.9656868, \"Dimensions\": {\"Algorithm\": \"Linear Learner\", \"Host\": \"algo-1\", \"Operation\": \"training\", \"epoch\": 3, \"model\": 27}, \"Metrics\": {\"validation_binary_classification_cross_entropy_objective\": {\"sum\": 0.5144211012369653, \"count\": 1, \"min\": 0.5144211012369653, \"max\": 0.5144211012369653}}}\n",
            "\u001b[0m\n",
            "\u001b[34m#metrics {\"StartTime\": 1634898050.9657285, \"EndTime\": 1634898050.965743, \"Dimensions\": {\"Algorithm\": \"Linear Learner\", \"Host\": \"algo-1\", \"Operation\": \"training\", \"epoch\": 3, \"model\": 28}, \"Metrics\": {\"validation_binary_classification_cross_entropy_objective\": {\"sum\": 0.5137298777845695, \"count\": 1, \"min\": 0.5137298777845695, \"max\": 0.5137298777845695}}}\n",
            "\u001b[0m\n",
            "\u001b[34m#metrics {\"StartTime\": 1634898050.9657965, \"EndTime\": 1634898050.9658132, \"Dimensions\": {\"Algorithm\": \"Linear Learner\", \"Host\": \"algo-1\", \"Operation\": \"training\", \"epoch\": 3, \"model\": 29}, \"Metrics\": {\"validation_binary_classification_cross_entropy_objective\": {\"sum\": 0.513875740982373, \"count\": 1, \"min\": 0.513875740982373, \"max\": 0.513875740982373}}}\n",
            "\u001b[0m\n",
            "\u001b[34m#metrics {\"StartTime\": 1634898050.9658575, \"EndTime\": 1634898050.9658732, \"Dimensions\": {\"Algorithm\": \"Linear Learner\", \"Host\": \"algo-1\", \"Operation\": \"training\", \"epoch\": 3, \"model\": 30}, \"Metrics\": {\"validation_binary_classification_cross_entropy_objective\": {\"sum\": 0.5137300671678612, \"count\": 1, \"min\": 0.5137300671678612, \"max\": 0.5137300671678612}}}\n",
            "\u001b[0m\n",
            "\u001b[34m#metrics {\"StartTime\": 1634898050.9659257, \"EndTime\": 1634898050.965942, \"Dimensions\": {\"Algorithm\": \"Linear Learner\", \"Host\": \"algo-1\", \"Operation\": \"training\", \"epoch\": 3, \"model\": 31}, \"Metrics\": {\"validation_binary_classification_cross_entropy_objective\": {\"sum\": 0.5138757422884647, \"count\": 1, \"min\": 0.5138757422884647, \"max\": 0.5138757422884647}}}\n",
            "\u001b[0m\n",
            "\u001b[34m[10/22/2021 10:20:50 INFO 140300387239744] #quality_metric: host=algo-1, epoch=3, validation binary_classification_cross_entropy_objective <loss>=0.4815436052271275\u001b[0m\n",
            "\u001b[34m[10/22/2021 10:20:50 INFO 140300387239744] #early_stopping_criteria_metric: host=algo-1, epoch=3, criteria=binary_classification_cross_entropy_objective, value=0.4815436052271275\u001b[0m\n",
            "\u001b[34m[10/22/2021 10:20:50 INFO 140300387239744] Saving model for epoch: 3\u001b[0m\n",
            "\u001b[34m[10/22/2021 10:20:50 INFO 140300387239744] Saved checkpoint to \"/tmp/tmpvvq0xnep/mx-mod-0000.params\"\u001b[0m\n",
            "\u001b[34m[10/22/2021 10:20:50 INFO 140300387239744] #progress_metric: host=algo-1, completed 26.666666666666668 % of epochs\u001b[0m\n",
            "\u001b[34m#metrics {\"StartTime\": 1634897997.6304665, \"EndTime\": 1634898050.9728508, \"Dimensions\": {\"Algorithm\": \"Linear Learner\", \"Host\": \"algo-1\", \"Operation\": \"training\", \"epoch\": 3, \"Meta\": \"training_data_iter\"}, \"Metrics\": {\"Total Records Seen\": {\"sum\": 5245888.0, \"count\": 1, \"min\": 5245888, \"max\": 5245888}, \"Total Batches Seen\": {\"sum\": 5248.0, \"count\": 1, \"min\": 5248, \"max\": 5248}, \"Max Records Seen Between Resets\": {\"sum\": 1308472.0, \"count\": 1, \"min\": 1308472, \"max\": 1308472}, \"Max Batches Seen Between Resets\": {\"sum\": 1309.0, \"count\": 1, \"min\": 1309, \"max\": 1309}, \"Reset Count\": {\"sum\": 6.0, \"count\": 1, \"min\": 6, \"max\": 6}, \"Number of Records Since Last Reset\": {\"sum\": 1308472.0, \"count\": 1, \"min\": 1308472, \"max\": 1308472}, \"Number of Batches Since Last Reset\": {\"sum\": 1309.0, \"count\": 1, \"min\": 1309, \"max\": 1309}}}\n",
            "\u001b[0m\n",
            "\u001b[34m[10/22/2021 10:20:50 INFO 140300387239744] #throughput_metric: host=algo-1, train throughput=24529.627184815654 records/second\u001b[0m\n",
            "\u001b[34m[2021-10-22 10:21:39.381] [tensorio] [info] epoch_stats={\"data_pipeline\": \"/opt/ml/input/data/train\", \"epoch\": 11, \"duration\": 48407, \"num_examples\": 1309, \"num_bytes\": 502453248}\u001b[0m\n",
            "\u001b[34m#metrics {\"StartTime\": 1634898099.3818634, \"EndTime\": 1634898099.381966, \"Dimensions\": {\"Algorithm\": \"Linear Learner\", \"Host\": \"algo-1\", \"Operation\": \"training\", \"epoch\": 4, \"model\": 0}, \"Metrics\": {\"train_binary_classification_cross_entropy_objective\": {\"sum\": 0.48030690924034936, \"count\": 1, \"min\": 0.48030690924034936, \"max\": 0.48030690924034936}}}\n",
            "\u001b[0m\n",
            "\u001b[34m#metrics {\"StartTime\": 1634898099.382081, \"EndTime\": 1634898099.3821032, \"Dimensions\": {\"Algorithm\": \"Linear Learner\", \"Host\": \"algo-1\", \"Operation\": \"training\", \"epoch\": 4, \"model\": 1}, \"Metrics\": {\"train_binary_classification_cross_entropy_objective\": {\"sum\": 0.48113509121582776, \"count\": 1, \"min\": 0.48113509121582776, \"max\": 0.48113509121582776}}}\n",
            "\u001b[0m\n",
            "\u001b[34m#metrics {\"StartTime\": 1634898099.3821726, \"EndTime\": 1634898099.3821933, \"Dimensions\": {\"Algorithm\": \"Linear Learner\", \"Host\": \"algo-1\", \"Operation\": \"training\", \"epoch\": 4, \"model\": 2}, \"Metrics\": {\"train_binary_classification_cross_entropy_objective\": {\"sum\": 0.48034441385065013, \"count\": 1, \"min\": 0.48034441385065013, \"max\": 0.48034441385065013}}}\n",
            "\u001b[0m\n",
            "\u001b[34m#metrics {\"StartTime\": 1634898099.3822548, \"EndTime\": 1634898099.382273, \"Dimensions\": {\"Algorithm\": \"Linear Learner\", \"Host\": \"algo-1\", \"Operation\": \"training\", \"epoch\": 4, \"model\": 3}, \"Metrics\": {\"train_binary_classification_cross_entropy_objective\": {\"sum\": 0.4811350844263666, \"count\": 1, \"min\": 0.4811350844263666, \"max\": 0.4811350844263666}}}\n",
            "\u001b[0m\n",
            "\u001b[34m#metrics {\"StartTime\": 1634898099.382332, \"EndTime\": 1634898099.38235, \"Dimensions\": {\"Algorithm\": \"Linear Learner\", \"Host\": \"algo-1\", \"Operation\": \"training\", \"epoch\": 4, \"model\": 4}, \"Metrics\": {\"train_binary_classification_cross_entropy_objective\": {\"sum\": 0.48041692769928446, \"count\": 1, \"min\": 0.48041692769928446, \"max\": 0.48041692769928446}}}\n",
            "\u001b[0m\n",
            "\u001b[34m#metrics {\"StartTime\": 1634898099.3824096, \"EndTime\": 1634898099.3824272, \"Dimensions\": {\"Algorithm\": \"Linear Learner\", \"Host\": \"algo-1\", \"Operation\": \"training\", \"epoch\": 4, \"model\": 5}, \"Metrics\": {\"train_binary_classification_cross_entropy_objective\": {\"sum\": 0.4944396303975983, \"count\": 1, \"min\": 0.4944396303975983, \"max\": 0.4944396303975983}}}\n",
            "\u001b[0m\n",
            "\u001b[34m#metrics {\"StartTime\": 1634898099.3824842, \"EndTime\": 1634898099.3825018, \"Dimensions\": {\"Algorithm\": \"Linear Learner\", \"Host\": \"algo-1\", \"Operation\": \"training\", \"epoch\": 4, \"model\": 6}, \"Metrics\": {\"train_binary_classification_cross_entropy_objective\": {\"sum\": 0.48041692767595295, \"count\": 1, \"min\": 0.48041692767595295, \"max\": 0.48041692767595295}}}\n",
            "\u001b[0m\n",
            "\u001b[34m#metrics {\"StartTime\": 1634898099.382557, \"EndTime\": 1634898099.3825738, \"Dimensions\": {\"Algorithm\": \"Linear Learner\", \"Host\": \"algo-1\", \"Operation\": \"training\", \"epoch\": 4, \"model\": 7}, \"Metrics\": {\"train_binary_classification_cross_entropy_objective\": {\"sum\": 0.49443963427062426, \"count\": 1, \"min\": 0.49443963427062426, \"max\": 0.49443963427062426}}}\n",
            "\u001b[0m\n",
            "\u001b[34m#metrics {\"StartTime\": 1634898099.3826275, \"EndTime\": 1634898099.3826458, \"Dimensions\": {\"Algorithm\": \"Linear Learner\", \"Host\": \"algo-1\", \"Operation\": \"training\", \"epoch\": 4, \"model\": 8}, \"Metrics\": {\"train_binary_classification_cross_entropy_objective\": {\"sum\": 0.4805783919121512, \"count\": 1, \"min\": 0.4805783919121512, \"max\": 0.4805783919121512}}}\n",
            "\u001b[0m\n",
            "\u001b[34m#metrics {\"StartTime\": 1634898099.382703, \"EndTime\": 1634898099.3827202, \"Dimensions\": {\"Algorithm\": \"Linear Learner\", \"Host\": \"algo-1\", \"Operation\": \"training\", \"epoch\": 4, \"model\": 9}, \"Metrics\": {\"train_binary_classification_cross_entropy_objective\": {\"sum\": 0.4813597391810986, \"count\": 1, \"min\": 0.4813597391810986, \"max\": 0.4813597391810986}}}\n",
            "\u001b[0m\n",
            "\u001b[34m#metrics {\"StartTime\": 1634898099.3827777, \"EndTime\": 1634898099.3827953, \"Dimensions\": {\"Algorithm\": \"Linear Learner\", \"Host\": \"algo-1\", \"Operation\": \"training\", \"epoch\": 4, \"model\": 10}, \"Metrics\": {\"train_binary_classification_cross_entropy_objective\": {\"sum\": 0.4806155214455514, \"count\": 1, \"min\": 0.4806155214455514, \"max\": 0.4806155214455514}}}\n",
            "\u001b[0m\n",
            "\u001b[34m#metrics {\"StartTime\": 1634898099.382851, \"EndTime\": 1634898099.3828676, \"Dimensions\": {\"Algorithm\": \"Linear Learner\", \"Host\": \"algo-1\", \"Operation\": \"training\", \"epoch\": 4, \"model\": 11}, \"Metrics\": {\"train_binary_classification_cross_entropy_objective\": {\"sum\": 0.48135974149091526, \"count\": 1, \"min\": 0.48135974149091526, \"max\": 0.48135974149091526}}}\n",
            "\u001b[0m\n",
            "\u001b[34m#metrics {\"StartTime\": 1634898099.3829253, \"EndTime\": 1634898099.3829432, \"Dimensions\": {\"Algorithm\": \"Linear Learner\", \"Host\": \"algo-1\", \"Operation\": \"training\", \"epoch\": 4, \"model\": 12}, \"Metrics\": {\"train_binary_classification_cross_entropy_objective\": {\"sum\": 0.48068468067040865, \"count\": 1, \"min\": 0.48068468067040865, \"max\": 0.48068468067040865}}}\n",
            "\u001b[0m\n",
            "\u001b[34m#metrics {\"StartTime\": 1634898099.3829966, \"EndTime\": 1634898099.3830125, \"Dimensions\": {\"Algorithm\": \"Linear Learner\", \"Host\": \"algo-1\", \"Operation\": \"training\", \"epoch\": 4, \"model\": 13}, \"Metrics\": {\"train_binary_classification_cross_entropy_objective\": {\"sum\": 0.4936967991586854, \"count\": 1, \"min\": 0.4936967991586854, \"max\": 0.4936967991586854}}}\n",
            "\u001b[0m\n",
            "\u001b[34m#metrics {\"StartTime\": 1634898099.383077, \"EndTime\": 1634898099.3830945, \"Dimensions\": {\"Algorithm\": \"Linear Learner\", \"Host\": \"algo-1\", \"Operation\": \"training\", \"epoch\": 4, \"model\": 14}, \"Metrics\": {\"train_binary_classification_cross_entropy_objective\": {\"sum\": 0.4806846801804475, \"count\": 1, \"min\": 0.4806846801804475, \"max\": 0.4806846801804475}}}\n",
            "\u001b[0m\n",
            "\u001b[34m#metrics {\"StartTime\": 1634898099.3831582, \"EndTime\": 1634898099.3831773, \"Dimensions\": {\"Algorithm\": \"Linear Learner\", \"Host\": \"algo-1\", \"Operation\": \"training\", \"epoch\": 4, \"model\": 15}, \"Metrics\": {\"train_binary_classification_cross_entropy_objective\": {\"sum\": 0.4936968059014837, \"count\": 1, \"min\": 0.4936968059014837, \"max\": 0.4936968059014837}}}\n",
            "\u001b[0m\n",
            "\u001b[34m#metrics {\"StartTime\": 1634898099.383235, \"EndTime\": 1634898099.3832521, \"Dimensions\": {\"Algorithm\": \"Linear Learner\", \"Host\": \"algo-1\", \"Operation\": \"training\", \"epoch\": 4, \"model\": 16}, \"Metrics\": {\"train_binary_classification_cross_entropy_objective\": {\"sum\": 0.5042778874435192, \"count\": 1, \"min\": 0.5042778874435192, \"max\": 0.5042778874435192}}}\n",
            "\u001b[0m\n",
            "\u001b[34m#metrics {\"StartTime\": 1634898099.3833096, \"EndTime\": 1634898099.3833284, \"Dimensions\": {\"Algorithm\": \"Linear Learner\", \"Host\": \"algo-1\", \"Operation\": \"training\", \"epoch\": 4, \"model\": 17}, \"Metrics\": {\"train_binary_classification_cross_entropy_objective\": {\"sum\": 0.5045020878643071, \"count\": 1, \"min\": 0.5045020878643071, \"max\": 0.5045020878643071}}}\n",
            "\u001b[0m\n",
            "\u001b[34m#metrics {\"StartTime\": 1634898099.3833873, \"EndTime\": 1634898099.3834043, \"Dimensions\": {\"Algorithm\": \"Linear Learner\", \"Host\": \"algo-1\", \"Operation\": \"training\", \"epoch\": 4, \"model\": 18}, \"Metrics\": {\"train_binary_classification_cross_entropy_objective\": {\"sum\": 0.5042879655237227, \"count\": 1, \"min\": 0.5042879655237227, \"max\": 0.5042879655237227}}}\n",
            "\u001b[0m\n",
            "\u001b[34m#metrics {\"StartTime\": 1634898099.383462, \"EndTime\": 1634898099.3834796, \"Dimensions\": {\"Algorithm\": \"Linear Learner\", \"Host\": \"algo-1\", \"Operation\": \"training\", \"epoch\": 4, \"model\": 19}, \"Metrics\": {\"train_binary_classification_cross_entropy_objective\": {\"sum\": 0.5045020857411423, \"count\": 1, \"min\": 0.5045020857411423, \"max\": 0.5045020857411423}}}\n",
            "\u001b[0m\n",
            "\u001b[34m#metrics {\"StartTime\": 1634898099.3835382, \"EndTime\": 1634898099.3835554, \"Dimensions\": {\"Algorithm\": \"Linear Learner\", \"Host\": \"algo-1\", \"Operation\": \"training\", \"epoch\": 4, \"model\": 20}, \"Metrics\": {\"train_binary_classification_cross_entropy_objective\": {\"sum\": 0.504307236907679, \"count\": 1, \"min\": 0.504307236907679, \"max\": 0.504307236907679}}}\n",
            "\u001b[0m\n",
            "\u001b[34m#metrics {\"StartTime\": 1634898099.3835962, \"EndTime\": 1634898099.383611, \"Dimensions\": {\"Algorithm\": \"Linear Learner\", \"Host\": \"algo-1\", \"Operation\": \"training\", \"epoch\": 4, \"model\": 21}, \"Metrics\": {\"train_binary_classification_cross_entropy_objective\": {\"sum\": 0.5069443195121368, \"count\": 1, \"min\": 0.5069443195121368, \"max\": 0.5069443195121368}}}\n",
            "\u001b[0m\n",
            "\u001b[34m#metrics {\"StartTime\": 1634898099.3836708, \"EndTime\": 1634898099.3837159, \"Dimensions\": {\"Algorithm\": \"Linear Learner\", \"Host\": \"algo-1\", \"Operation\": \"training\", \"epoch\": 4, \"model\": 22}, \"Metrics\": {\"train_binary_classification_cross_entropy_objective\": {\"sum\": 0.5043072376542864, \"count\": 1, \"min\": 0.5043072376542864, \"max\": 0.5043072376542864}}}\n",
            "\u001b[0m\n",
            "\u001b[34m#metrics {\"StartTime\": 1634898099.3837678, \"EndTime\": 1634898099.3837848, \"Dimensions\": {\"Algorithm\": \"Linear Learner\", \"Host\": \"algo-1\", \"Operation\": \"training\", \"epoch\": 4, \"model\": 23}, \"Metrics\": {\"train_binary_classification_cross_entropy_objective\": {\"sum\": 0.5069443172256516, \"count\": 1, \"min\": 0.5069443172256516, \"max\": 0.5069443172256516}}}\n",
            "\u001b[0m\n",
            "\u001b[34m#metrics {\"StartTime\": 1634898099.383838, \"EndTime\": 1634898099.3838549, \"Dimensions\": {\"Algorithm\": \"Linear Learner\", \"Host\": \"algo-1\", \"Operation\": \"training\", \"epoch\": 4, \"model\": 24}, \"Metrics\": {\"train_binary_classification_cross_entropy_objective\": {\"sum\": 0.5137215068245518, \"count\": 1, \"min\": 0.5137215068245518, \"max\": 0.5137215068245518}}}\n",
            "\u001b[0m\n",
            "\u001b[34m#metrics {\"StartTime\": 1634898099.3839092, \"EndTime\": 1634898099.3839269, \"Dimensions\": {\"Algorithm\": \"Linear Learner\", \"Host\": \"algo-1\", \"Operation\": \"training\", \"epoch\": 4, \"model\": 25}, \"Metrics\": {\"train_binary_classification_cross_entropy_objective\": {\"sum\": 0.5138101746212087, \"count\": 1, \"min\": 0.5138101746212087, \"max\": 0.5138101746212087}}}\n",
            "\u001b[0m\n",
            "\u001b[34m#metrics {\"StartTime\": 1634898099.3839917, \"EndTime\": 1634898099.384009, \"Dimensions\": {\"Algorithm\": \"Linear Learner\", \"Host\": \"algo-1\", \"Operation\": \"training\", \"epoch\": 4, \"model\": 26}, \"Metrics\": {\"train_binary_classification_cross_entropy_objective\": {\"sum\": 0.5137254056084776, \"count\": 1, \"min\": 0.5137254056084776, \"max\": 0.5137254056084776}}}\n",
            "\u001b[0m\n",
            "\u001b[34m#metrics {\"StartTime\": 1634898099.3840718, \"EndTime\": 1634898099.3840892, \"Dimensions\": {\"Algorithm\": \"Linear Learner\", \"Host\": \"algo-1\", \"Operation\": \"training\", \"epoch\": 4, \"model\": 27}, \"Metrics\": {\"train_binary_classification_cross_entropy_objective\": {\"sum\": 0.5138104592886176, \"count\": 1, \"min\": 0.5138104592886176, \"max\": 0.5138104592886176}}}\n",
            "\u001b[0m\n",
            "\u001b[34m#metrics {\"StartTime\": 1634898099.3841429, \"EndTime\": 1634898099.3841536, \"Dimensions\": {\"Algorithm\": \"Linear Learner\", \"Host\": \"algo-1\", \"Operation\": \"training\", \"epoch\": 4, \"model\": 28}, \"Metrics\": {\"train_binary_classification_cross_entropy_objective\": {\"sum\": 0.5137307789887128, \"count\": 1, \"min\": 0.5137307789887128, \"max\": 0.5137307789887128}}}\n",
            "\u001b[0m\n",
            "\u001b[34m#metrics {\"StartTime\": 1634898099.3841965, \"EndTime\": 1634898099.3842134, \"Dimensions\": {\"Algorithm\": \"Linear Learner\", \"Host\": \"algo-1\", \"Operation\": \"training\", \"epoch\": 4, \"model\": 29}, \"Metrics\": {\"train_binary_classification_cross_entropy_objective\": {\"sum\": 0.5146742020353264, \"count\": 1, \"min\": 0.5146742020353264, \"max\": 0.5146742020353264}}}\n",
            "\u001b[0m\n",
            "\u001b[34m#metrics {\"StartTime\": 1634898099.3842661, \"EndTime\": 1634898099.3842826, \"Dimensions\": {\"Algorithm\": \"Linear Learner\", \"Host\": \"algo-1\", \"Operation\": \"training\", \"epoch\": 4, \"model\": 30}, \"Metrics\": {\"train_binary_classification_cross_entropy_objective\": {\"sum\": 0.513730811349478, \"count\": 1, \"min\": 0.513730811349478, \"max\": 0.513730811349478}}}\n",
            "\u001b[0m\n",
            "\u001b[34m#metrics {\"StartTime\": 1634898099.384338, \"EndTime\": 1634898099.384355, \"Dimensions\": {\"Algorithm\": \"Linear Learner\", \"Host\": \"algo-1\", \"Operation\": \"training\", \"epoch\": 4, \"model\": 31}, \"Metrics\": {\"train_binary_classification_cross_entropy_objective\": {\"sum\": 0.5146742014987024, \"count\": 1, \"min\": 0.5146742014987024, \"max\": 0.5146742014987024}}}\n",
            "\u001b[0m\n",
            "\u001b[34m[10/22/2021 10:21:39 INFO 140300387239744] #quality_metric: host=algo-1, epoch=4, train binary_classification_cross_entropy_objective <loss>=0.48030690924034936\u001b[0m\n",
            "\u001b[34m[2021-10-22 10:21:43.734] [tensorio] [info] epoch_stats={\"data_pipeline\": \"/opt/ml/input/data/validation\", \"epoch\": 14, \"duration\": 4320, \"num_examples\": 164, \"num_bytes\": 62806656}\u001b[0m\n",
            "\u001b[34m#metrics {\"StartTime\": 1634898103.7423177, \"EndTime\": 1634898103.742376, \"Dimensions\": {\"Algorithm\": \"Linear Learner\", \"Host\": \"algo-1\", \"Operation\": \"training\", \"epoch\": 4, \"model\": 0}, \"Metrics\": {\"validation_binary_classification_cross_entropy_objective\": {\"sum\": 0.48154378807996084, \"count\": 1, \"min\": 0.48154378807996084, \"max\": 0.48154378807996084}}}\n",
            "\u001b[0m\n",
            "\u001b[34m#metrics {\"StartTime\": 1634898103.74246, \"EndTime\": 1634898103.7424748, \"Dimensions\": {\"Algorithm\": \"Linear Learner\", \"Host\": \"algo-1\", \"Operation\": \"training\", \"epoch\": 4, \"model\": 1}, \"Metrics\": {\"validation_binary_classification_cross_entropy_objective\": {\"sum\": 0.4827621122522826, \"count\": 1, \"min\": 0.4827621122522826, \"max\": 0.4827621122522826}}}\n",
            "\u001b[0m\n",
            "\u001b[34m#metrics {\"StartTime\": 1634898103.742534, \"EndTime\": 1634898103.742553, \"Dimensions\": {\"Algorithm\": \"Linear Learner\", \"Host\": \"algo-1\", \"Operation\": \"training\", \"epoch\": 4, \"model\": 2}, \"Metrics\": {\"validation_binary_classification_cross_entropy_objective\": {\"sum\": 0.48155701692269687, \"count\": 1, \"min\": 0.48155701692269687, \"max\": 0.48155701692269687}}}\n",
            "\u001b[0m\n",
            "\u001b[34m#metrics {\"StartTime\": 1634898103.742618, \"EndTime\": 1634898103.7426379, \"Dimensions\": {\"Algorithm\": \"Linear Learner\", \"Host\": \"algo-1\", \"Operation\": \"training\", \"epoch\": 4, \"model\": 3}, \"Metrics\": {\"validation_binary_classification_cross_entropy_objective\": {\"sum\": 0.4827621068413314, \"count\": 1, \"min\": 0.4827621068413314, \"max\": 0.4827621068413314}}}\n",
            "\u001b[0m\n",
            "\u001b[34m#metrics {\"StartTime\": 1634898103.7426903, \"EndTime\": 1634898103.7427018, \"Dimensions\": {\"Algorithm\": \"Linear Learner\", \"Host\": \"algo-1\", \"Operation\": \"training\", \"epoch\": 4, \"model\": 4}, \"Metrics\": {\"validation_binary_classification_cross_entropy_objective\": {\"sum\": 0.48157227673797426, \"count\": 1, \"min\": 0.48157227673797426, \"max\": 0.48157227673797426}}}\n",
            "\u001b[0m\n",
            "\u001b[34m#metrics {\"StartTime\": 1634898103.7427423, \"EndTime\": 1634898103.742757, \"Dimensions\": {\"Algorithm\": \"Linear Learner\", \"Host\": \"algo-1\", \"Operation\": \"training\", \"epoch\": 4, \"model\": 5}, \"Metrics\": {\"validation_binary_classification_cross_entropy_objective\": {\"sum\": 0.4968796581945869, \"count\": 1, \"min\": 0.4968796581945869, \"max\": 0.4968796581945869}}}\n",
            "\u001b[0m\n",
            "\u001b[34m#metrics {\"StartTime\": 1634898103.742795, \"EndTime\": 1634898103.742805, \"Dimensions\": {\"Algorithm\": \"Linear Learner\", \"Host\": \"algo-1\", \"Operation\": \"training\", \"epoch\": 4, \"model\": 6}, \"Metrics\": {\"validation_binary_classification_cross_entropy_objective\": {\"sum\": 0.4815722825220945, \"count\": 1, \"min\": 0.4815722825220945, \"max\": 0.4815722825220945}}}\n",
            "\u001b[0m\n",
            "\u001b[34m#metrics {\"StartTime\": 1634898103.7428584, \"EndTime\": 1634898103.742876, \"Dimensions\": {\"Algorithm\": \"Linear Learner\", \"Host\": \"algo-1\", \"Operation\": \"training\", \"epoch\": 4, \"model\": 7}, \"Metrics\": {\"validation_binary_classification_cross_entropy_objective\": {\"sum\": 0.49687967144208806, \"count\": 1, \"min\": 0.49687967144208806, \"max\": 0.49687967144208806}}}\n",
            "\u001b[0m\n",
            "\u001b[34m#metrics {\"StartTime\": 1634898103.7429328, \"EndTime\": 1634898103.7429438, \"Dimensions\": {\"Algorithm\": \"Linear Learner\", \"Host\": \"algo-1\", \"Operation\": \"training\", \"epoch\": 4, \"model\": 8}, \"Metrics\": {\"validation_binary_classification_cross_entropy_objective\": {\"sum\": 0.4817260445891276, \"count\": 1, \"min\": 0.4817260445891276, \"max\": 0.4817260445891276}}}\n",
            "\u001b[0m\n",
            "\u001b[34m#metrics {\"StartTime\": 1634898103.742988, \"EndTime\": 1634898103.7430053, \"Dimensions\": {\"Algorithm\": \"Linear Learner\", \"Host\": \"algo-1\", \"Operation\": \"training\", \"epoch\": 4, \"model\": 9}, \"Metrics\": {\"validation_binary_classification_cross_entropy_objective\": {\"sum\": 0.482855158782355, \"count\": 1, \"min\": 0.482855158782355, \"max\": 0.482855158782355}}}\n",
            "\u001b[0m\n",
            "\u001b[34m#metrics {\"StartTime\": 1634898103.743059, \"EndTime\": 1634898103.7430754, \"Dimensions\": {\"Algorithm\": \"Linear Learner\", \"Host\": \"algo-1\", \"Operation\": \"training\", \"epoch\": 4, \"model\": 10}, \"Metrics\": {\"validation_binary_classification_cross_entropy_objective\": {\"sum\": 0.48173297769686224, \"count\": 1, \"min\": 0.48173297769686224, \"max\": 0.48173297769686224}}}\n",
            "\u001b[0m\n",
            "\u001b[34m#metrics {\"StartTime\": 1634898103.7431307, \"EndTime\": 1634898103.7431479, \"Dimensions\": {\"Algorithm\": \"Linear Learner\", \"Host\": \"algo-1\", \"Operation\": \"training\", \"epoch\": 4, \"model\": 11}, \"Metrics\": {\"validation_binary_classification_cross_entropy_objective\": {\"sum\": 0.48285515617017166, \"count\": 1, \"min\": 0.48285515617017166, \"max\": 0.48285515617017166}}}\n",
            "\u001b[0m\n",
            "\u001b[34m#metrics {\"StartTime\": 1634898103.7431827, \"EndTime\": 1634898103.7431912, \"Dimensions\": {\"Algorithm\": \"Linear Learner\", \"Host\": \"algo-1\", \"Operation\": \"training\", \"epoch\": 4, \"model\": 12}, \"Metrics\": {\"validation_binary_classification_cross_entropy_objective\": {\"sum\": 0.4817406925937515, \"count\": 1, \"min\": 0.4817406925937515, \"max\": 0.4817406925937515}}}\n",
            "\u001b[0m\n",
            "\u001b[34m#metrics {\"StartTime\": 1634898103.7432308, \"EndTime\": 1634898103.7432437, \"Dimensions\": {\"Algorithm\": \"Linear Learner\", \"Host\": \"algo-1\", \"Operation\": \"training\", \"epoch\": 4, \"model\": 13}, \"Metrics\": {\"validation_binary_classification_cross_entropy_objective\": {\"sum\": 0.495713886672895, \"count\": 1, \"min\": 0.495713886672895, \"max\": 0.495713886672895}}}\n",
            "\u001b[0m\n",
            "\u001b[34m#metrics {\"StartTime\": 1634898103.7432873, \"EndTime\": 1634898103.7432976, \"Dimensions\": {\"Algorithm\": \"Linear Learner\", \"Host\": \"algo-1\", \"Operation\": \"training\", \"epoch\": 4, \"model\": 14}, \"Metrics\": {\"validation_binary_classification_cross_entropy_objective\": {\"sum\": 0.48174069222058247, \"count\": 1, \"min\": 0.48174069222058247, \"max\": 0.48174069222058247}}}\n",
            "\u001b[0m\n",
            "\u001b[34m#metrics {\"StartTime\": 1634898103.7433462, \"EndTime\": 1634898103.7433565, \"Dimensions\": {\"Algorithm\": \"Linear Learner\", \"Host\": \"algo-1\", \"Operation\": \"training\", \"epoch\": 4, \"model\": 15}, \"Metrics\": {\"validation_binary_classification_cross_entropy_objective\": {\"sum\": 0.4957138928301843, \"count\": 1, \"min\": 0.4957138928301843, \"max\": 0.4957138928301843}}}\n",
            "\u001b[0m\n",
            "\u001b[34m#metrics {\"StartTime\": 1634898103.7433994, \"EndTime\": 1634898103.7434146, \"Dimensions\": {\"Algorithm\": \"Linear Learner\", \"Host\": \"algo-1\", \"Operation\": \"training\", \"epoch\": 4, \"model\": 16}, \"Metrics\": {\"validation_binary_classification_cross_entropy_objective\": {\"sum\": 0.5044517820989387, \"count\": 1, \"min\": 0.5044517820989387, \"max\": 0.5044517820989387}}}\n",
            "\u001b[0m\n",
            "\u001b[34m#metrics {\"StartTime\": 1634898103.7434661, \"EndTime\": 1634898103.743482, \"Dimensions\": {\"Algorithm\": \"Linear Learner\", \"Host\": \"algo-1\", \"Operation\": \"training\", \"epoch\": 4, \"model\": 17}, \"Metrics\": {\"validation_binary_classification_cross_entropy_objective\": {\"sum\": 0.5049964016129715, \"count\": 1, \"min\": 0.5049964016129715, \"max\": 0.5049964016129715}}}\n",
            "\u001b[0m\n",
            "\u001b[34m#metrics {\"StartTime\": 1634898103.743532, \"EndTime\": 1634898103.7435477, \"Dimensions\": {\"Algorithm\": \"Linear Learner\", \"Host\": \"algo-1\", \"Operation\": \"training\", \"epoch\": 4, \"model\": 18}, \"Metrics\": {\"validation_binary_classification_cross_entropy_objective\": {\"sum\": 0.5044074567063004, \"count\": 1, \"min\": 0.5044074567063004, \"max\": 0.5044074567063004}}}\n",
            "\u001b[0m\n",
            "\u001b[34m#metrics {\"StartTime\": 1634898103.7435987, \"EndTime\": 1634898103.7436156, \"Dimensions\": {\"Algorithm\": \"Linear Learner\", \"Host\": \"algo-1\", \"Operation\": \"training\", \"epoch\": 4, \"model\": 19}, \"Metrics\": {\"validation_binary_classification_cross_entropy_objective\": {\"sum\": 0.5049964282945585, \"count\": 1, \"min\": 0.5049964282945585, \"max\": 0.5049964282945585}}}\n",
            "\u001b[0m\n",
            "\u001b[34m#metrics {\"StartTime\": 1634898103.7436495, \"EndTime\": 1634898103.7436585, \"Dimensions\": {\"Algorithm\": \"Linear Learner\", \"Host\": \"algo-1\", \"Operation\": \"training\", \"epoch\": 4, \"model\": 20}, \"Metrics\": {\"validation_binary_classification_cross_entropy_objective\": {\"sum\": 0.5044023842194368, \"count\": 1, \"min\": 0.5044023842194368, \"max\": 0.5044023842194368}}}\n",
            "\u001b[0m\n",
            "\u001b[34m#metrics {\"StartTime\": 1634898103.743718, \"EndTime\": 1634898103.7437296, \"Dimensions\": {\"Algorithm\": \"Linear Learner\", \"Host\": \"algo-1\", \"Operation\": \"training\", \"epoch\": 4, \"model\": 21}, \"Metrics\": {\"validation_binary_classification_cross_entropy_objective\": {\"sum\": 0.5056409485211448, \"count\": 1, \"min\": 0.5056409485211448, \"max\": 0.5056409485211448}}}\n",
            "\u001b[0m\n",
            "\u001b[34m#metrics {\"StartTime\": 1634898103.743778, \"EndTime\": 1634898103.743788, \"Dimensions\": {\"Algorithm\": \"Linear Learner\", \"Host\": \"algo-1\", \"Operation\": \"training\", \"epoch\": 4, \"model\": 22}, \"Metrics\": {\"validation_binary_classification_cross_entropy_objective\": {\"sum\": 0.5044023873913738, \"count\": 1, \"min\": 0.5044023873913738, \"max\": 0.5044023873913738}}}\n",
            "\u001b[0m\n",
            "\u001b[34m#metrics {\"StartTime\": 1634898103.743833, \"EndTime\": 1634898103.7438488, \"Dimensions\": {\"Algorithm\": \"Linear Learner\", \"Host\": \"algo-1\", \"Operation\": \"training\", \"epoch\": 4, \"model\": 23}, \"Metrics\": {\"validation_binary_classification_cross_entropy_objective\": {\"sum\": 0.5056409561711103, \"count\": 1, \"min\": 0.5056409561711103, \"max\": 0.5056409561711103}}}\n",
            "\u001b[0m\n",
            "\u001b[34m#metrics {\"StartTime\": 1634898103.7439063, \"EndTime\": 1634898103.7439227, \"Dimensions\": {\"Algorithm\": \"Linear Learner\", \"Host\": \"algo-1\", \"Operation\": \"training\", \"epoch\": 4, \"model\": 24}, \"Metrics\": {\"validation_binary_classification_cross_entropy_objective\": {\"sum\": 0.513718104301119, \"count\": 1, \"min\": 0.513718104301119, \"max\": 0.513718104301119}}}\n",
            "\u001b[0m\n",
            "\u001b[34m#metrics {\"StartTime\": 1634898103.7439747, \"EndTime\": 1634898103.7439897, \"Dimensions\": {\"Algorithm\": \"Linear Learner\", \"Host\": \"algo-1\", \"Operation\": \"training\", \"epoch\": 4, \"model\": 25}, \"Metrics\": {\"validation_binary_classification_cross_entropy_objective\": {\"sum\": 0.5142955559742943, \"count\": 1, \"min\": 0.5142955559742943, \"max\": 0.5142955559742943}}}\n",
            "\u001b[0m\n",
            "\u001b[34m#metrics {\"StartTime\": 1634898103.7440526, \"EndTime\": 1634898103.7440743, \"Dimensions\": {\"Algorithm\": \"Linear Learner\", \"Host\": \"algo-1\", \"Operation\": \"training\", \"epoch\": 4, \"model\": 26}, \"Metrics\": {\"validation_binary_classification_cross_entropy_objective\": {\"sum\": 0.5137167006257466, \"count\": 1, \"min\": 0.5137167006257466, \"max\": 0.5137167006257466}}}\n",
            "\u001b[0m\n",
            "\u001b[34m#metrics {\"StartTime\": 1634898103.7441301, \"EndTime\": 1634898103.7441466, \"Dimensions\": {\"Algorithm\": \"Linear Learner\", \"Host\": \"algo-1\", \"Operation\": \"training\", \"epoch\": 4, \"model\": 27}, \"Metrics\": {\"validation_binary_classification_cross_entropy_objective\": {\"sum\": 0.5142905681968046, \"count\": 1, \"min\": 0.5142905681968046, \"max\": 0.5142905681968046}}}\n",
            "\u001b[0m\n",
            "\u001b[34m#metrics {\"StartTime\": 1634898103.744195, \"EndTime\": 1634898103.7442052, \"Dimensions\": {\"Algorithm\": \"Linear Learner\", \"Host\": \"algo-1\", \"Operation\": \"training\", \"epoch\": 4, \"model\": 28}, \"Metrics\": {\"validation_binary_classification_cross_entropy_objective\": {\"sum\": 0.5137188401904808, \"count\": 1, \"min\": 0.5137188401904808, \"max\": 0.5137188401904808}}}\n",
            "\u001b[0m\n",
            "\u001b[34m#metrics {\"StartTime\": 1634898103.7442327, \"EndTime\": 1634898103.744241, \"Dimensions\": {\"Algorithm\": \"Linear Learner\", \"Host\": \"algo-1\", \"Operation\": \"training\", \"epoch\": 4, \"model\": 29}, \"Metrics\": {\"validation_binary_classification_cross_entropy_objective\": {\"sum\": 0.5139384345018703, \"count\": 1, \"min\": 0.5139384345018703, \"max\": 0.5139384345018703}}}\n",
            "\u001b[0m\n",
            "\u001b[34m#metrics {\"StartTime\": 1634898103.7442727, \"EndTime\": 1634898103.7442868, \"Dimensions\": {\"Algorithm\": \"Linear Learner\", \"Host\": \"algo-1\", \"Operation\": \"training\", \"epoch\": 4, \"model\": 30}, \"Metrics\": {\"validation_binary_classification_cross_entropy_objective\": {\"sum\": 0.5137193706502818, \"count\": 1, \"min\": 0.5137193706502818, \"max\": 0.5137193706502818}}}\n",
            "\u001b[0m\n",
            "\u001b[34m#metrics {\"StartTime\": 1634898103.7443428, \"EndTime\": 1634898103.7443597, \"Dimensions\": {\"Algorithm\": \"Linear Learner\", \"Host\": \"algo-1\", \"Operation\": \"training\", \"epoch\": 4, \"model\": 31}, \"Metrics\": {\"validation_binary_classification_cross_entropy_objective\": {\"sum\": 0.513938439726237, \"count\": 1, \"min\": 0.513938439726237, \"max\": 0.513938439726237}}}\n",
            "\u001b[0m\n",
            "\u001b[34m[10/22/2021 10:21:43 INFO 140300387239744] #quality_metric: host=algo-1, epoch=4, validation binary_classification_cross_entropy_objective <loss>=0.48154378807996084\u001b[0m\n",
            "\u001b[34m[10/22/2021 10:21:43 INFO 140300387239744] #early_stopping_criteria_metric: host=algo-1, epoch=4, criteria=binary_classification_cross_entropy_objective, value=0.48154378807996084\u001b[0m\n",
            "\u001b[34m[10/22/2021 10:21:43 INFO 140300387239744] Saving model for epoch: 4\u001b[0m\n",
            "\u001b[34m[10/22/2021 10:21:43 INFO 140300387239744] Saved checkpoint to \"/tmp/tmpji6yx769/mx-mod-0000.params\"\u001b[0m\n",
            "\u001b[34m[10/22/2021 10:21:43 INFO 140300387239744] Early stop condition met. Stopping training.\u001b[0m\n",
            "\u001b[34m[10/22/2021 10:21:43 INFO 140300387239744] #progress_metric: host=algo-1, completed 100 % epochs\u001b[0m\n",
            "\u001b[34m#metrics {\"StartTime\": 1634898050.9739785, \"EndTime\": 1634898103.7506843, \"Dimensions\": {\"Algorithm\": \"Linear Learner\", \"Host\": \"algo-1\", \"Operation\": \"training\", \"epoch\": 4, \"Meta\": \"training_data_iter\"}, \"Metrics\": {\"Total Records Seen\": {\"sum\": 6554360.0, \"count\": 1, \"min\": 6554360, \"max\": 6554360}, \"Total Batches Seen\": {\"sum\": 6557.0, \"count\": 1, \"min\": 6557, \"max\": 6557}, \"Max Records Seen Between Resets\": {\"sum\": 1308472.0, \"count\": 1, \"min\": 1308472, \"max\": 1308472}, \"Max Batches Seen Between Resets\": {\"sum\": 1309.0, \"count\": 1, \"min\": 1309, \"max\": 1309}, \"Reset Count\": {\"sum\": 7.0, \"count\": 1, \"min\": 7, \"max\": 7}, \"Number of Records Since Last Reset\": {\"sum\": 1308472.0, \"count\": 1, \"min\": 1308472, \"max\": 1308472}, \"Number of Batches Since Last Reset\": {\"sum\": 1309.0, \"count\": 1, \"min\": 1309, \"max\": 1309}}}\n",
            "\u001b[0m\n",
            "\u001b[34m[10/22/2021 10:21:43 INFO 140300387239744] #throughput_metric: host=algo-1, train throughput=24792.541590317596 records/second\u001b[0m\n",
            "\u001b[34m[10/22/2021 10:21:43 WARNING 140300387239744] wait_for_all_workers will not sync workers since the kv store is not running distributed\u001b[0m\n",
            "\u001b[34m[10/22/2021 10:21:43 WARNING 140300387239744] wait_for_all_workers will not sync workers since the kv store is not running distributed\u001b[0m\n",
            "\u001b[34m[2021-10-22 10:21:48.332] [tensorio] [info] epoch_stats={\"data_pipeline\": \"/opt/ml/input/data/validation\", \"epoch\": 17, \"duration\": 4562, \"num_examples\": 164, \"num_bytes\": 62806656}\u001b[0m\n",
            "\u001b[34m[10/22/2021 10:21:48 INFO 140300387239744] #early_stopping_criteria_metric: host=algo-1, epoch=4, criteria=binary_classification_cross_entropy_objective, value=0.48154378807996084\u001b[0m\n",
            "\u001b[34m[2021-10-22 10:21:49.013] [tensorio] [info] epoch_stats={\"data_pipeline\": \"/opt/ml/input/data/validation\", \"epoch\": 19, \"duration\": 670, \"num_examples\": 164, \"num_bytes\": 62806656}\u001b[0m\n",
            "\u001b[34m[10/22/2021 10:21:49 INFO 140300387239744] #validation_score (algo-1) : ('binary_classification_cross_entropy_objective', 0.48191418112297685)\u001b[0m\n",
            "\u001b[34m[10/22/2021 10:21:49 INFO 140300387239744] #validation_score (algo-1) : ('binary_classification_accuracy', 0.7926986591994326)\u001b[0m\n",
            "\u001b[34m[10/22/2021 10:21:49 INFO 140300387239744] #validation_score (algo-1) : ('binary_f_1.000', 0.11035894206549118)\u001b[0m\n",
            "\u001b[34m[10/22/2021 10:21:49 INFO 140300387239744] #validation_score (algo-1) : ('precision', 0.5564964276263562)\u001b[0m\n",
            "\u001b[34m[10/22/2021 10:21:49 INFO 140300387239744] #validation_score (algo-1) : ('recall', 0.061253021873998774)\u001b[0m\n",
            "\u001b[34m[10/22/2021 10:21:49 INFO 140300387239744] #validation_score (algo-1) : ('roc_auc_score', 0.6754594589176904)\u001b[0m\n",
            "\u001b[34m[10/22/2021 10:21:49 INFO 140300387239744] #quality_metric: host=algo-1, validation binary_classification_cross_entropy_objective <loss>=0.48191418112297685\u001b[0m\n",
            "\u001b[34m[10/22/2021 10:21:49 INFO 140300387239744] #quality_metric: host=algo-1, validation binary_classification_accuracy <score>=0.7926986591994326\u001b[0m\n",
            "\u001b[34m[10/22/2021 10:21:49 INFO 140300387239744] #quality_metric: host=algo-1, validation binary_f_1.000 <score>=0.11035894206549118\u001b[0m\n",
            "\u001b[34m[10/22/2021 10:21:49 INFO 140300387239744] #quality_metric: host=algo-1, validation precision <score>=0.5564964276263562\u001b[0m\n",
            "\u001b[34m[10/22/2021 10:21:49 INFO 140300387239744] #quality_metric: host=algo-1, validation recall <score>=0.061253021873998774\u001b[0m\n",
            "\u001b[34m[10/22/2021 10:21:49 INFO 140300387239744] #quality_metric: host=algo-1, validation roc_auc_score <score>=0.6754594589176904\u001b[0m\n",
            "\u001b[34m[10/22/2021 10:21:49 INFO 140300387239744] Best model found for hyperparameters: {\"optimizer\": \"adam\", \"learning_rate\": 0.005, \"l1\": 0.0, \"wd\": 0.0001, \"lr_scheduler_step\": 10, \"lr_scheduler_factor\": 0.99, \"lr_scheduler_minimum_lr\": 1e-05}\u001b[0m\n",
            "\u001b[34m[10/22/2021 10:21:49 INFO 140300387239744] Saved checkpoint to \"/tmp/tmp__uydden/mx-mod-0000.params\"\u001b[0m\n",
            "\u001b[34m[2021-10-22 10:21:49.093] [tensorio] [info] epoch_stats={\"data_pipeline\": \"/opt/ml/input/data/test\", \"epoch\": 0, \"duration\": 273725, \"num_examples\": 1, \"num_bytes\": 384000}\u001b[0m\n",
            "\u001b[34m[2021-10-22 10:21:49.770] [tensorio] [info] epoch_stats={\"data_pipeline\": \"/opt/ml/input/data/test\", \"epoch\": 1, \"duration\": 676, \"num_examples\": 164, \"num_bytes\": 62806656}\u001b[0m\n",
            "\u001b[34m#metrics {\"StartTime\": 1634898109.0905058, \"EndTime\": 1634898109.8301263, \"Dimensions\": {\"Algorithm\": \"Linear Learner\", \"Host\": \"algo-1\", \"Operation\": \"training\", \"Meta\": \"test_data_iter\"}, \"Metrics\": {\"Total Records Seen\": {\"sum\": 163559.0, \"count\": 1, \"min\": 163559, \"max\": 163559}, \"Total Batches Seen\": {\"sum\": 164.0, \"count\": 1, \"min\": 164, \"max\": 164}, \"Max Records Seen Between Resets\": {\"sum\": 163559.0, \"count\": 1, \"min\": 163559, \"max\": 163559}, \"Max Batches Seen Between Resets\": {\"sum\": 164.0, \"count\": 1, \"min\": 164, \"max\": 164}, \"Reset Count\": {\"sum\": 1.0, \"count\": 1, \"min\": 1, \"max\": 1}, \"Number of Records Since Last Reset\": {\"sum\": 163559.0, \"count\": 1, \"min\": 163559, \"max\": 163559}, \"Number of Batches Since Last Reset\": {\"sum\": 164.0, \"count\": 1, \"min\": 164, \"max\": 164}}}\n",
            "\u001b[0m\n",
            "\u001b[34m[10/22/2021 10:21:49 INFO 140300387239744] #test_score (algo-1) : ('binary_classification_cross_entropy_objective', 0.48208736663893553)\u001b[0m\n",
            "\u001b[34m[10/22/2021 10:21:49 INFO 140300387239744] #test_score (algo-1) : ('binary_classification_accuracy', 0.7923562751056193)\u001b[0m\n",
            "\u001b[34m[10/22/2021 10:21:49 INFO 140300387239744] #test_score (algo-1) : ('binary_f_1.000', 0.10574543156564327)\u001b[0m\n",
            "\u001b[34m[10/22/2021 10:21:49 INFO 140300387239744] #test_score (algo-1) : ('precision', 0.5508916323731139)\u001b[0m\n",
            "\u001b[34m[10/22/2021 10:21:49 INFO 140300387239744] #test_score (algo-1) : ('recall', 0.05848600471849241)\u001b[0m\n",
            "\u001b[34m[10/22/2021 10:21:49 INFO 140300387239744] #test_score (algo-1) : ('roc_auc_score', 0.6739756317768112)\u001b[0m\n",
            "\u001b[34m[10/22/2021 10:21:49 INFO 140300387239744] #quality_metric: host=algo-1, test binary_classification_cross_entropy_objective <loss>=0.48208736663893553\u001b[0m\n",
            "\u001b[34m[10/22/2021 10:21:49 INFO 140300387239744] #quality_metric: host=algo-1, test binary_classification_accuracy <score>=0.7923562751056193\u001b[0m\n",
            "\u001b[34m[10/22/2021 10:21:49 INFO 140300387239744] #quality_metric: host=algo-1, test binary_f_1.000 <score>=0.10574543156564327\u001b[0m\n",
            "\u001b[34m[10/22/2021 10:21:49 INFO 140300387239744] #quality_metric: host=algo-1, test precision <score>=0.5508916323731139\u001b[0m\n",
            "\u001b[34m[10/22/2021 10:21:49 INFO 140300387239744] #quality_metric: host=algo-1, test recall <score>=0.05848600471849241\u001b[0m\n",
            "\u001b[34m[10/22/2021 10:21:49 INFO 140300387239744] #quality_metric: host=algo-1, test roc_auc_score <score>=0.6739756317768112\u001b[0m\n",
            "\u001b[34m#metrics {\"StartTime\": 1634897835.341276, \"EndTime\": 1634898109.8401322, \"Dimensions\": {\"Algorithm\": \"Linear Learner\", \"Host\": \"algo-1\", \"Operation\": \"training\"}, \"Metrics\": {\"initialize.time\": {\"sum\": 434.1161251068115, \"count\": 1, \"min\": 434.1161251068115, \"max\": 434.1161251068115}, \"epochs\": {\"sum\": 15.0, \"count\": 1, \"min\": 15, \"max\": 15}, \"check_early_stopping.time\": {\"sum\": 2.218008041381836, \"count\": 6, \"min\": 0.2269744873046875, \"max\": 0.89263916015625}, \"update.time\": {\"sum\": 267905.9069156647, \"count\": 5, \"min\": 52773.79894256592, \"max\": 54866.97340011597}, \"finalize.time\": {\"sum\": 5336.279630661011, \"count\": 1, \"min\": 5336.279630661011, \"max\": 5336.279630661011}, \"setuptime\": {\"sum\": 30.355215072631836, \"count\": 1, \"min\": 30.355215072631836, \"max\": 30.355215072631836}, \"totaltime\": {\"sum\": 274813.03000450134, \"count\": 1, \"min\": 274813.03000450134, \"max\": 274813.03000450134}}}\n",
            "\u001b[0m\n",
            "\n",
            "2021-10-22 10:22:18 Uploading - Uploading generated training model\n",
            "2021-10-22 10:22:18 Completed - Training job completed\n",
            "Training seconds: 380\n",
            "Billable seconds: 380\n"
          ]
        }
      ]
    },
    {
      "cell_type": "markdown",
      "metadata": {
        "id": "97UJaQfe8y2p"
      },
      "source": [
        "Perform a batch prediction by using the newly trained model."
      ]
    },
    {
      "cell_type": "code",
      "metadata": {
        "id": "CJdwytip8y2p",
        "outputId": "3894cbb4-d007-4cc0-e56e-0b84406a7fd0"
      },
      "source": [
        "test_labels, target_predicted = batch_linear_predict(test, classifier_estimator2)"
      ],
      "execution_count": null,
      "outputs": [
        {
          "name": "stderr",
          "output_type": "stream",
          "text": [
            "Defaulting to the only supported framework/algorithm version: 1. Ignoring framework/algorithm version: 1.\n"
          ]
        },
        {
          "name": "stdout",
          "output_type": "stream",
          "text": [
            "..................................\u001b[34mDocker entrypoint called with argument(s): serve\u001b[0m\n",
            "\u001b[34mRunning default environment configuration script\u001b[0m\n",
            "\u001b[35mDocker entrypoint called with argument(s): serve\u001b[0m\n",
            "\u001b[35mRunning default environment configuration script\u001b[0m\n",
            "\u001b[34m[10/22/2021 10:28:08 INFO 139632402593600] loaded entry point class algorithm.serve.server_config:config_api\u001b[0m\n",
            "\u001b[34m[10/22/2021 10:28:08 INFO 139632402593600] loading entry points\u001b[0m\n",
            "\u001b[34m[10/22/2021 10:28:08 INFO 139632402593600] loaded request iterator application/json\u001b[0m\n",
            "\u001b[34m[10/22/2021 10:28:08 INFO 139632402593600] loaded request iterator application/jsonlines\u001b[0m\n",
            "\u001b[34m[10/22/2021 10:28:08 INFO 139632402593600] loaded request iterator application/x-recordio-protobuf\u001b[0m\n",
            "\u001b[34m[10/22/2021 10:28:08 INFO 139632402593600] loaded request iterator text/csv\u001b[0m\n",
            "\u001b[34m[10/22/2021 10:28:08 INFO 139632402593600] loaded response encoder application/json\u001b[0m\n",
            "\u001b[34m[10/22/2021 10:28:08 INFO 139632402593600] loaded response encoder application/jsonlines\u001b[0m\n",
            "\u001b[34m[10/22/2021 10:28:08 INFO 139632402593600] loaded response encoder application/x-recordio-protobuf\u001b[0m\n",
            "\u001b[34m[10/22/2021 10:28:08 INFO 139632402593600] loaded response encoder text/csv\u001b[0m\n",
            "\u001b[35m[10/22/2021 10:28:08 INFO 139632402593600] loaded entry point class algorithm.serve.server_config:config_api\u001b[0m\n",
            "\u001b[35m[10/22/2021 10:28:08 INFO 139632402593600] loading entry points\u001b[0m\n",
            "\u001b[35m[10/22/2021 10:28:08 INFO 139632402593600] loaded request iterator application/json\u001b[0m\n",
            "\u001b[35m[10/22/2021 10:28:08 INFO 139632402593600] loaded request iterator application/jsonlines\u001b[0m\n",
            "\u001b[35m[10/22/2021 10:28:08 INFO 139632402593600] loaded request iterator application/x-recordio-protobuf\u001b[0m\n",
            "\u001b[35m[10/22/2021 10:28:08 INFO 139632402593600] loaded request iterator text/csv\u001b[0m\n",
            "\u001b[35m[10/22/2021 10:28:08 INFO 139632402593600] loaded response encoder application/json\u001b[0m\n",
            "\u001b[35m[10/22/2021 10:28:08 INFO 139632402593600] loaded response encoder application/jsonlines\u001b[0m\n",
            "\u001b[35m[10/22/2021 10:28:08 INFO 139632402593600] loaded response encoder application/x-recordio-protobuf\u001b[0m\n",
            "\u001b[35m[10/22/2021 10:28:08 INFO 139632402593600] loaded response encoder text/csv\u001b[0m\n",
            "\u001b[34m[10/22/2021 10:28:08 INFO 139632402593600] loaded entry point class algorithm:model\u001b[0m\n",
            "\u001b[34m[10/22/2021 10:28:08 INFO 139632402593600] Number of server workers: 4\u001b[0m\n",
            "\u001b[34m[10/22/2021 10:28:08 INFO 139632402593600] loading model...\u001b[0m\n",
            "\u001b[34m[10/22/2021 10:28:08 INFO 139632402593600] ...model loaded.\u001b[0m\n",
            "\u001b[34m[2021-10-22 10:28:09 +0000] [1] [INFO] Starting gunicorn 20.0.4\u001b[0m\n",
            "\u001b[34m[2021-10-22 10:28:09 +0000] [1] [INFO] Listening at: http://0.0.0.0:8080 (1)\u001b[0m\n",
            "\u001b[34m[2021-10-22 10:28:09 +0000] [1] [INFO] Using worker: sync\u001b[0m\n",
            "\u001b[34m[2021-10-22 10:28:09 +0000] [61] [INFO] Booting worker with pid: 61\u001b[0m\n",
            "\u001b[34m[2021-10-22 10:28:09 +0000] [70] [INFO] Booting worker with pid: 70\u001b[0m\n",
            "\u001b[34m[2021-10-22 10:28:09 +0000] [79] [INFO] Booting worker with pid: 79\u001b[0m\n",
            "\u001b[34m[2021-10-22 10:28:09 +0000] [88] [INFO] Booting worker with pid: 88\u001b[0m\n",
            "\u001b[35m[10/22/2021 10:28:08 INFO 139632402593600] loaded entry point class algorithm:model\u001b[0m\n",
            "\u001b[35m[10/22/2021 10:28:08 INFO 139632402593600] Number of server workers: 4\u001b[0m\n",
            "\u001b[35m[10/22/2021 10:28:08 INFO 139632402593600] loading model...\u001b[0m\n",
            "\u001b[35m[10/22/2021 10:28:08 INFO 139632402593600] ...model loaded.\u001b[0m\n",
            "\u001b[35m[2021-10-22 10:28:09 +0000] [1] [INFO] Starting gunicorn 20.0.4\u001b[0m\n",
            "\u001b[35m[2021-10-22 10:28:09 +0000] [1] [INFO] Listening at: http://0.0.0.0:8080 (1)\u001b[0m\n",
            "\u001b[35m[2021-10-22 10:28:09 +0000] [1] [INFO] Using worker: sync\u001b[0m\n",
            "\u001b[35m[2021-10-22 10:28:09 +0000] [61] [INFO] Booting worker with pid: 61\u001b[0m\n",
            "\u001b[35m[2021-10-22 10:28:09 +0000] [70] [INFO] Booting worker with pid: 70\u001b[0m\n",
            "\u001b[35m[2021-10-22 10:28:09 +0000] [79] [INFO] Booting worker with pid: 79\u001b[0m\n",
            "\u001b[35m[2021-10-22 10:28:09 +0000] [88] [INFO] Booting worker with pid: 88\u001b[0m\n",
            "\u001b[34m#metrics {\"StartTime\": 1634898488.9872441, \"EndTime\": 1634898490.4546094, \"Dimensions\": {\"Algorithm\": \"LinearLearnerModel\", \"Host\": \"UNKNOWN\", \"Operation\": \"scoring\"}, \"Metrics\": {\"execution_parameters.count\": {\"sum\": 1.0, \"count\": 1, \"min\": 1, \"max\": 1}}}\u001b[0m\n",
            "\u001b[35m#metrics {\"StartTime\": 1634898488.9872441, \"EndTime\": 1634898490.4546094, \"Dimensions\": {\"Algorithm\": \"LinearLearnerModel\", \"Host\": \"UNKNOWN\", \"Operation\": \"scoring\"}, \"Metrics\": {\"execution_parameters.count\": {\"sum\": 1.0, \"count\": 1, \"min\": 1, \"max\": 1}}}\u001b[0m\n",
            "\u001b[32m2021-10-22T10:28:10.461:[sagemaker logs]: MaxConcurrentTransforms=4, MaxPayloadInMB=6, BatchStrategy=MULTI_RECORD\u001b[0m\n",
            "\u001b[34m#metrics {\"StartTime\": 1634898488.9872441, \"EndTime\": 1634898493.1943629, \"Dimensions\": {\"Algorithm\": \"LinearLearnerModel\", \"Host\": \"UNKNOWN\", \"Operation\": \"scoring\"}, \"Metrics\": {\"json.encoder.time\": {\"sum\": 141.93296432495117, \"count\": 1, \"min\": 141.93296432495117, \"max\": 141.93296432495117}, \"invocations.count\": {\"sum\": 1.0, \"count\": 1, \"min\": 1, \"max\": 1}}}\u001b[0m\n",
            "\u001b[34m#metrics {\"StartTime\": 1634898490.454798, \"EndTime\": 1634898493.2696254, \"Dimensions\": {\"Algorithm\": \"LinearLearnerModel\", \"Host\": \"UNKNOWN\", \"Operation\": \"scoring\"}, \"Metrics\": {\"json.encoder.time\": {\"sum\": 155.50851821899414, \"count\": 1, \"min\": 155.50851821899414, \"max\": 155.50851821899414}, \"invocations.count\": {\"sum\": 1.0, \"count\": 1, \"min\": 1, \"max\": 1}}}\u001b[0m\n",
            "\u001b[34m#metrics {\"StartTime\": 1634898488.9872441, \"EndTime\": 1634898493.3598049, \"Dimensions\": {\"Algorithm\": \"LinearLearnerModel\", \"Host\": \"UNKNOWN\", \"Operation\": \"scoring\"}, \"Metrics\": {\"json.encoder.time\": {\"sum\": 154.94966506958008, \"count\": 1, \"min\": 154.94966506958008, \"max\": 154.94966506958008}, \"invocations.count\": {\"sum\": 1.0, \"count\": 1, \"min\": 1, \"max\": 1}}}\u001b[0m\n",
            "\u001b[34m#metrics {\"StartTime\": 1634898488.9872441, \"EndTime\": 1634898493.4385548, \"Dimensions\": {\"Algorithm\": \"LinearLearnerModel\", \"Host\": \"UNKNOWN\", \"Operation\": \"scoring\"}, \"Metrics\": {\"json.encoder.time\": {\"sum\": 149.80030059814453, \"count\": 1, \"min\": 149.80030059814453, \"max\": 149.80030059814453}, \"invocations.count\": {\"sum\": 1.0, \"count\": 1, \"min\": 1, \"max\": 1}}}\u001b[0m\n",
            "\u001b[35m#metrics {\"StartTime\": 1634898488.9872441, \"EndTime\": 1634898493.1943629, \"Dimensions\": {\"Algorithm\": \"LinearLearnerModel\", \"Host\": \"UNKNOWN\", \"Operation\": \"scoring\"}, \"Metrics\": {\"json.encoder.time\": {\"sum\": 141.93296432495117, \"count\": 1, \"min\": 141.93296432495117, \"max\": 141.93296432495117}, \"invocations.count\": {\"sum\": 1.0, \"count\": 1, \"min\": 1, \"max\": 1}}}\u001b[0m\n",
            "\u001b[35m#metrics {\"StartTime\": 1634898490.454798, \"EndTime\": 1634898493.2696254, \"Dimensions\": {\"Algorithm\": \"LinearLearnerModel\", \"Host\": \"UNKNOWN\", \"Operation\": \"scoring\"}, \"Metrics\": {\"json.encoder.time\": {\"sum\": 155.50851821899414, \"count\": 1, \"min\": 155.50851821899414, \"max\": 155.50851821899414}, \"invocations.count\": {\"sum\": 1.0, \"count\": 1, \"min\": 1, \"max\": 1}}}\u001b[0m\n",
            "\u001b[35m#metrics {\"StartTime\": 1634898488.9872441, \"EndTime\": 1634898493.3598049, \"Dimensions\": {\"Algorithm\": \"LinearLearnerModel\", \"Host\": \"UNKNOWN\", \"Operation\": \"scoring\"}, \"Metrics\": {\"json.encoder.time\": {\"sum\": 154.94966506958008, \"count\": 1, \"min\": 154.94966506958008, \"max\": 154.94966506958008}, \"invocations.count\": {\"sum\": 1.0, \"count\": 1, \"min\": 1, \"max\": 1}}}\u001b[0m\n",
            "\u001b[35m#metrics {\"StartTime\": 1634898488.9872441, \"EndTime\": 1634898493.4385548, \"Dimensions\": {\"Algorithm\": \"LinearLearnerModel\", \"Host\": \"UNKNOWN\", \"Operation\": \"scoring\"}, \"Metrics\": {\"json.encoder.time\": {\"sum\": 149.80030059814453, \"count\": 1, \"min\": 149.80030059814453, \"max\": 149.80030059814453}, \"invocations.count\": {\"sum\": 1.0, \"count\": 1, \"min\": 1, \"max\": 1}}}\u001b[0m\n",
            "\u001b[34m#metrics {\"StartTime\": 1634898493.269777, \"EndTime\": 1634898494.072313, \"Dimensions\": {\"Algorithm\": \"LinearLearnerModel\", \"Host\": \"UNKNOWN\", \"Operation\": \"scoring\"}, \"Metrics\": {\"json.encoder.time\": {\"sum\": 64.61787223815918, \"count\": 1, \"min\": 64.61787223815918, \"max\": 64.61787223815918}, \"invocations.count\": {\"sum\": 1.0, \"count\": 1, \"min\": 1, \"max\": 1}}}\u001b[0m\n",
            "\u001b[35m#metrics {\"StartTime\": 1634898493.269777, \"EndTime\": 1634898494.072313, \"Dimensions\": {\"Algorithm\": \"LinearLearnerModel\", \"Host\": \"UNKNOWN\", \"Operation\": \"scoring\"}, \"Metrics\": {\"json.encoder.time\": {\"sum\": 64.61787223815918, \"count\": 1, \"min\": 64.61787223815918, \"max\": 64.61787223815918}, \"invocations.count\": {\"sum\": 1.0, \"count\": 1, \"min\": 1, \"max\": 1}}}\u001b[0m\n",
            "\n",
            "\u001b[34mDocker entrypoint called with argument(s): serve\u001b[0m\n",
            "\u001b[34mRunning default environment configuration script\u001b[0m\n",
            "\u001b[35mDocker entrypoint called with argument(s): serve\u001b[0m\n",
            "\u001b[35mRunning default environment configuration script\u001b[0m\n",
            "\u001b[34m[10/22/2021 10:28:08 INFO 139632402593600] loaded entry point class algorithm.serve.server_config:config_api\u001b[0m\n",
            "\u001b[34m[10/22/2021 10:28:08 INFO 139632402593600] loading entry points\u001b[0m\n",
            "\u001b[34m[10/22/2021 10:28:08 INFO 139632402593600] loaded request iterator application/json\u001b[0m\n",
            "\u001b[34m[10/22/2021 10:28:08 INFO 139632402593600] loaded request iterator application/jsonlines\u001b[0m\n",
            "\u001b[34m[10/22/2021 10:28:08 INFO 139632402593600] loaded request iterator application/x-recordio-protobuf\u001b[0m\n",
            "\u001b[34m[10/22/2021 10:28:08 INFO 139632402593600] loaded request iterator text/csv\u001b[0m\n",
            "\u001b[34m[10/22/2021 10:28:08 INFO 139632402593600] loaded response encoder application/json\u001b[0m\n",
            "\u001b[34m[10/22/2021 10:28:08 INFO 139632402593600] loaded response encoder application/jsonlines\u001b[0m\n",
            "\u001b[34m[10/22/2021 10:28:08 INFO 139632402593600] loaded response encoder application/x-recordio-protobuf\u001b[0m\n",
            "\u001b[34m[10/22/2021 10:28:08 INFO 139632402593600] loaded response encoder text/csv\u001b[0m\n",
            "\u001b[35m[10/22/2021 10:28:08 INFO 139632402593600] loaded entry point class algorithm.serve.server_config:config_api\u001b[0m\n",
            "\u001b[35m[10/22/2021 10:28:08 INFO 139632402593600] loading entry points\u001b[0m\n",
            "\u001b[35m[10/22/2021 10:28:08 INFO 139632402593600] loaded request iterator application/json\u001b[0m\n",
            "\u001b[35m[10/22/2021 10:28:08 INFO 139632402593600] loaded request iterator application/jsonlines\u001b[0m\n",
            "\u001b[35m[10/22/2021 10:28:08 INFO 139632402593600] loaded request iterator application/x-recordio-protobuf\u001b[0m\n",
            "\u001b[35m[10/22/2021 10:28:08 INFO 139632402593600] loaded request iterator text/csv\u001b[0m\n",
            "\u001b[35m[10/22/2021 10:28:08 INFO 139632402593600] loaded response encoder application/json\u001b[0m\n",
            "\u001b[35m[10/22/2021 10:28:08 INFO 139632402593600] loaded response encoder application/jsonlines\u001b[0m\n",
            "\u001b[35m[10/22/2021 10:28:08 INFO 139632402593600] loaded response encoder application/x-recordio-protobuf\u001b[0m\n",
            "\u001b[35m[10/22/2021 10:28:08 INFO 139632402593600] loaded response encoder text/csv\u001b[0m\n",
            "\u001b[34m[10/22/2021 10:28:08 INFO 139632402593600] loaded entry point class algorithm:model\u001b[0m\n",
            "\u001b[34m[10/22/2021 10:28:08 INFO 139632402593600] Number of server workers: 4\u001b[0m\n",
            "\u001b[34m[10/22/2021 10:28:08 INFO 139632402593600] loading model...\u001b[0m\n",
            "\u001b[34m[10/22/2021 10:28:08 INFO 139632402593600] ...model loaded.\u001b[0m\n",
            "\u001b[34m[2021-10-22 10:28:09 +0000] [1] [INFO] Starting gunicorn 20.0.4\u001b[0m\n",
            "\u001b[34m[2021-10-22 10:28:09 +0000] [1] [INFO] Listening at: http://0.0.0.0:8080 (1)\u001b[0m\n",
            "\u001b[34m[2021-10-22 10:28:09 +0000] [1] [INFO] Using worker: sync\u001b[0m\n",
            "\u001b[34m[2021-10-22 10:28:09 +0000] [61] [INFO] Booting worker with pid: 61\u001b[0m\n",
            "\u001b[34m[2021-10-22 10:28:09 +0000] [70] [INFO] Booting worker with pid: 70\u001b[0m\n",
            "\u001b[34m[2021-10-22 10:28:09 +0000] [79] [INFO] Booting worker with pid: 79\u001b[0m\n",
            "\u001b[34m[2021-10-22 10:28:09 +0000] [88] [INFO] Booting worker with pid: 88\u001b[0m\n",
            "\u001b[35m[10/22/2021 10:28:08 INFO 139632402593600] loaded entry point class algorithm:model\u001b[0m\n",
            "\u001b[35m[10/22/2021 10:28:08 INFO 139632402593600] Number of server workers: 4\u001b[0m\n",
            "\u001b[35m[10/22/2021 10:28:08 INFO 139632402593600] loading model...\u001b[0m\n",
            "\u001b[35m[10/22/2021 10:28:08 INFO 139632402593600] ...model loaded.\u001b[0m\n",
            "\u001b[35m[2021-10-22 10:28:09 +0000] [1] [INFO] Starting gunicorn 20.0.4\u001b[0m\n",
            "\u001b[35m[2021-10-22 10:28:09 +0000] [1] [INFO] Listening at: http://0.0.0.0:8080 (1)\u001b[0m\n",
            "\u001b[35m[2021-10-22 10:28:09 +0000] [1] [INFO] Using worker: sync\u001b[0m\n",
            "\u001b[35m[2021-10-22 10:28:09 +0000] [61] [INFO] Booting worker with pid: 61\u001b[0m\n",
            "\u001b[35m[2021-10-22 10:28:09 +0000] [70] [INFO] Booting worker with pid: 70\u001b[0m\n",
            "\u001b[35m[2021-10-22 10:28:09 +0000] [79] [INFO] Booting worker with pid: 79\u001b[0m\n",
            "\u001b[35m[2021-10-22 10:28:09 +0000] [88] [INFO] Booting worker with pid: 88\u001b[0m\n",
            "\u001b[34m#metrics {\"StartTime\": 1634898488.9872441, \"EndTime\": 1634898490.4546094, \"Dimensions\": {\"Algorithm\": \"LinearLearnerModel\", \"Host\": \"UNKNOWN\", \"Operation\": \"scoring\"}, \"Metrics\": {\"execution_parameters.count\": {\"sum\": 1.0, \"count\": 1, \"min\": 1, \"max\": 1}}}\u001b[0m\n",
            "\u001b[35m#metrics {\"StartTime\": 1634898488.9872441, \"EndTime\": 1634898490.4546094, \"Dimensions\": {\"Algorithm\": \"LinearLearnerModel\", \"Host\": \"UNKNOWN\", \"Operation\": \"scoring\"}, \"Metrics\": {\"execution_parameters.count\": {\"sum\": 1.0, \"count\": 1, \"min\": 1, \"max\": 1}}}\u001b[0m\n",
            "\u001b[32m2021-10-22T10:28:10.461:[sagemaker logs]: MaxConcurrentTransforms=4, MaxPayloadInMB=6, BatchStrategy=MULTI_RECORD\u001b[0m\n",
            "\u001b[34m#metrics {\"StartTime\": 1634898488.9872441, \"EndTime\": 1634898493.1943629, \"Dimensions\": {\"Algorithm\": \"LinearLearnerModel\", \"Host\": \"UNKNOWN\", \"Operation\": \"scoring\"}, \"Metrics\": {\"json.encoder.time\": {\"sum\": 141.93296432495117, \"count\": 1, \"min\": 141.93296432495117, \"max\": 141.93296432495117}, \"invocations.count\": {\"sum\": 1.0, \"count\": 1, \"min\": 1, \"max\": 1}}}\u001b[0m\n",
            "\u001b[34m#metrics {\"StartTime\": 1634898490.454798, \"EndTime\": 1634898493.2696254, \"Dimensions\": {\"Algorithm\": \"LinearLearnerModel\", \"Host\": \"UNKNOWN\", \"Operation\": \"scoring\"}, \"Metrics\": {\"json.encoder.time\": {\"sum\": 155.50851821899414, \"count\": 1, \"min\": 155.50851821899414, \"max\": 155.50851821899414}, \"invocations.count\": {\"sum\": 1.0, \"count\": 1, \"min\": 1, \"max\": 1}}}\u001b[0m\n",
            "\u001b[34m#metrics {\"StartTime\": 1634898488.9872441, \"EndTime\": 1634898493.3598049, \"Dimensions\": {\"Algorithm\": \"LinearLearnerModel\", \"Host\": \"UNKNOWN\", \"Operation\": \"scoring\"}, \"Metrics\": {\"json.encoder.time\": {\"sum\": 154.94966506958008, \"count\": 1, \"min\": 154.94966506958008, \"max\": 154.94966506958008}, \"invocations.count\": {\"sum\": 1.0, \"count\": 1, \"min\": 1, \"max\": 1}}}\u001b[0m\n",
            "\u001b[34m#metrics {\"StartTime\": 1634898488.9872441, \"EndTime\": 1634898493.4385548, \"Dimensions\": {\"Algorithm\": \"LinearLearnerModel\", \"Host\": \"UNKNOWN\", \"Operation\": \"scoring\"}, \"Metrics\": {\"json.encoder.time\": {\"sum\": 149.80030059814453, \"count\": 1, \"min\": 149.80030059814453, \"max\": 149.80030059814453}, \"invocations.count\": {\"sum\": 1.0, \"count\": 1, \"min\": 1, \"max\": 1}}}\u001b[0m\n",
            "\u001b[35m#metrics {\"StartTime\": 1634898488.9872441, \"EndTime\": 1634898493.1943629, \"Dimensions\": {\"Algorithm\": \"LinearLearnerModel\", \"Host\": \"UNKNOWN\", \"Operation\": \"scoring\"}, \"Metrics\": {\"json.encoder.time\": {\"sum\": 141.93296432495117, \"count\": 1, \"min\": 141.93296432495117, \"max\": 141.93296432495117}, \"invocations.count\": {\"sum\": 1.0, \"count\": 1, \"min\": 1, \"max\": 1}}}\u001b[0m\n",
            "\u001b[35m#metrics {\"StartTime\": 1634898490.454798, \"EndTime\": 1634898493.2696254, \"Dimensions\": {\"Algorithm\": \"LinearLearnerModel\", \"Host\": \"UNKNOWN\", \"Operation\": \"scoring\"}, \"Metrics\": {\"json.encoder.time\": {\"sum\": 155.50851821899414, \"count\": 1, \"min\": 155.50851821899414, \"max\": 155.50851821899414}, \"invocations.count\": {\"sum\": 1.0, \"count\": 1, \"min\": 1, \"max\": 1}}}\u001b[0m\n",
            "\u001b[35m#metrics {\"StartTime\": 1634898488.9872441, \"EndTime\": 1634898493.3598049, \"Dimensions\": {\"Algorithm\": \"LinearLearnerModel\", \"Host\": \"UNKNOWN\", \"Operation\": \"scoring\"}, \"Metrics\": {\"json.encoder.time\": {\"sum\": 154.94966506958008, \"count\": 1, \"min\": 154.94966506958008, \"max\": 154.94966506958008}, \"invocations.count\": {\"sum\": 1.0, \"count\": 1, \"min\": 1, \"max\": 1}}}\u001b[0m\n",
            "\u001b[35m#metrics {\"StartTime\": 1634898488.9872441, \"EndTime\": 1634898493.4385548, \"Dimensions\": {\"Algorithm\": \"LinearLearnerModel\", \"Host\": \"UNKNOWN\", \"Operation\": \"scoring\"}, \"Metrics\": {\"json.encoder.time\": {\"sum\": 149.80030059814453, \"count\": 1, \"min\": 149.80030059814453, \"max\": 149.80030059814453}, \"invocations.count\": {\"sum\": 1.0, \"count\": 1, \"min\": 1, \"max\": 1}}}\u001b[0m\n",
            "\u001b[34m#metrics {\"StartTime\": 1634898493.269777, \"EndTime\": 1634898494.072313, \"Dimensions\": {\"Algorithm\": \"LinearLearnerModel\", \"Host\": \"UNKNOWN\", \"Operation\": \"scoring\"}, \"Metrics\": {\"json.encoder.time\": {\"sum\": 64.61787223815918, \"count\": 1, \"min\": 64.61787223815918, \"max\": 64.61787223815918}, \"invocations.count\": {\"sum\": 1.0, \"count\": 1, \"min\": 1, \"max\": 1}}}\u001b[0m\n",
            "\u001b[35m#metrics {\"StartTime\": 1634898493.269777, \"EndTime\": 1634898494.072313, \"Dimensions\": {\"Algorithm\": \"LinearLearnerModel\", \"Host\": \"UNKNOWN\", \"Operation\": \"scoring\"}, \"Metrics\": {\"json.encoder.time\": {\"sum\": 64.61787223815918, \"count\": 1, \"min\": 64.61787223815918, \"max\": 64.61787223815918}, \"invocations.count\": {\"sum\": 1.0, \"count\": 1, \"min\": 1, \"max\": 1}}}\u001b[0m\n"
          ]
        }
      ]
    },
    {
      "cell_type": "markdown",
      "metadata": {
        "id": "rtVCQuqo8y2p"
      },
      "source": [
        "Plot a confusion matrix."
      ]
    },
    {
      "cell_type": "code",
      "metadata": {
        "id": "9A38q0cu8y2q",
        "outputId": "5ebafd1b-fa41-456a-a5f5-28ab330ccd54"
      },
      "source": [
        "plot_confusion_matrix(test_labels,target_predicted)"
      ],
      "execution_count": null,
      "outputs": [
        {
          "data": {
            "image/png": "[encoded data removed]",
            "text/plain": [
              "<Figure size 432x288 with 1 Axes>"
            ]
          },
          "metadata": {
            "needs_background": "light"
          },
          "output_type": "display_data"
        }
      ]
    },
    {
      "cell_type": "markdown",
      "metadata": {
        "id": "SfmtAqzd8y2s"
      },
      "source": [
        "Plot the ROC curve."
      ]
    },
    {
      "cell_type": "code",
      "metadata": {
        "id": "8xBcAhqM8y2s",
        "outputId": "02159110-1c91-4052-a3a4-878fc7676578"
      },
      "source": [
        "plot_roc(test_labels,target_predicted)"
      ],
      "execution_count": null,
      "outputs": [
        {
          "name": "stdout",
          "output_type": "stream",
          "text": [
            "Sensitivity or TPR:  5.848600471849242 %\n",
            "Specificity or TNR:  98.73322705957005 %\n",
            "Precision:  55.08916323731139 %\n",
            "Negative Predictive Value:  79.78600998036444 %\n",
            "False Positive Rate:  1.2667729404299444 %\n",
            "False Negative Rate:  94.15139952815076 %\n",
            "False Discovery Rate:  44.91083676268862 %\n",
            "Accuracy:  79.23562751056194 %\n",
            "Validation AUC 0.5229091376570966\n",
            "Figure(432x288)\n"
          ]
        },
        {
          "data": {
            "image/png": "[encoded data removed]",
            "text/plain": [
              "<Figure size 432x288 with 2 Axes>"
            ]
          },
          "metadata": {
            "needs_background": "light"
          },
          "output_type": "display_data"
        },
        {
          "data": {
            "text/plain": [
              "<Figure size 432x288 with 0 Axes>"
            ]
          },
          "metadata": {},
          "output_type": "display_data"
        }
      ]
    },
    {
      "cell_type": "markdown",
      "metadata": {
        "id": "5D6tyRUX8y2t"
      },
      "source": [
        "The linear model shows only a little improvement in performance. Try a tree-based ensemble model, which is called *XGBoost*, with Amazon SageMaker."
      ]
    },
    {
      "cell_type": "markdown",
      "metadata": {
        "id": "JNsYjvVH8y2t"
      },
      "source": [
        "### Try the XGBoost model"
      ]
    },
    {
      "cell_type": "markdown",
      "metadata": {
        "id": "OdYWnemt8y2u"
      },
      "source": [
        "Perform these steps:  \n",
        "\n",
        "1. Use the training set variables and save them as CSV files: train.csv, validation.csv and test.csv.\n",
        "2. Store the bucket name in the variable. The Amazon S3 bucket name is provided to the left of the lab instructions.  \n",
        "a. `bucket = <LabBucketName>`  \n",
        "b. `prefix = 'flight-xgb'`  \n",
        "3. Use the AWS SDK for Python (Boto3) to upload the model to the bucket.    "
      ]
    },
    {
      "cell_type": "code",
      "metadata": {
        "id": "QZXdfl6u8y2u"
      },
      "source": [
        "bucket='c39669a505450l1082914t1w547038654592-flightbucket-1b0nmmit2a0ik'\n",
        "prefix='flight-xgb'\n",
        "train_file='flight_train.csv'\n",
        "test_file='flight_test.csv'\n",
        "validate_file='flight_validate.csv'\n",
        "whole_file='flight.csv'\n",
        "s3_resource = boto3.Session().resource('s3')\n",
        "\n",
        "def upload_s3_csv(filename, folder, dataframe):\n",
        "    csv_buffer = io.StringIO()\n",
        "    dataframe.to_csv(csv_buffer, header=False, index=False )\n",
        "    s3_resource.Bucket(bucket).Object(os.path.join(prefix, folder, filename)).put(Body=csv_buffer.getvalue())\n",
        "\n",
        "upload_s3_csv(train_file, 'train', train)\n",
        "upload_s3_csv(test_file, 'test', test)\n",
        "upload_s3_csv(validate_file, 'validate', validate)"
      ],
      "execution_count": null,
      "outputs": []
    },
    {
      "cell_type": "markdown",
      "metadata": {
        "id": "dVZ-8pYD8y2v"
      },
      "source": [
        "Use the `sagemaker.inputs.TrainingInput` function to create a `record_set` for the training and validation datasets."
      ]
    },
    {
      "cell_type": "code",
      "metadata": {
        "id": "dWojbRju8y2v"
      },
      "source": [
        "train_channel = sagemaker.inputs.TrainingInput(\n",
        "    \"s3://{}/{}/train/\".format(bucket,prefix,train_file),\n",
        "    content_type='text/csv')\n",
        "\n",
        "validate_channel = sagemaker.inputs.TrainingInput(\n",
        "    \"s3://{}/{}/validate/\".format(bucket,prefix,validate_file),\n",
        "    content_type='text/csv')\n",
        "\n",
        "data_channels = {'train': train_channel, 'validation': validate_channel}"
      ],
      "execution_count": null,
      "outputs": []
    },
    {
      "cell_type": "code",
      "metadata": {
        "id": "ZwIrsJSV8y2v"
      },
      "source": [
        "from sagemaker.image_uris import retrieve\n",
        "container = retrieve('xgboost',boto3.Session().region_name,'1.0-1')"
      ],
      "execution_count": null,
      "outputs": []
    },
    {
      "cell_type": "code",
      "metadata": {
        "id": "XC9WWWK38y2w",
        "outputId": "f4ec7091-9093-4598-8b86-608b07b578eb"
      },
      "source": [
        "sess = sagemaker.Session()\n",
        "s3_output_location=\"s3://{}/{}/output/\".format(bucket,prefix)\n",
        "\n",
        "xgb = sagemaker.estimator.Estimator(container,\n",
        "                                    role = sagemaker.get_execution_role(), \n",
        "                                    instance_count=1, \n",
        "                                    instance_type=instance_type,\n",
        "                                    output_path=s3_output_location,\n",
        "                                    sagemaker_session=sess)\n",
        "xgb.set_hyperparameters(max_depth=5,\n",
        "                        eta=0.2,\n",
        "                        gamma=4,\n",
        "                        min_child_weight=6,\n",
        "                        subsample=0.8,\n",
        "                        silent=0,\n",
        "                        objective='binary:logistic',\n",
        "                        eval_metric = \"auc\", \n",
        "                        num_round=100)\n",
        "\n",
        "xgb.fit(inputs=data_channels)"
      ],
      "execution_count": null,
      "outputs": [
        {
          "name": "stdout",
          "output_type": "stream",
          "text": [
            "2021-10-22 10:29:50 Starting - Starting the training job...\n",
            "2021-10-22 10:30:18 Starting - Launching requested ML instancesProfilerReport-1634898590: InProgress\n",
            ".........\n",
            "2021-10-22 10:31:38 Starting - Preparing the instances for training.........\n",
            "2021-10-22 10:33:18 Downloading - Downloading input data\n",
            "2021-10-22 10:33:18 Training - Downloading the training image.....\u001b[34mINFO:sagemaker-containers:Imported framework sagemaker_xgboost_container.training\u001b[0m\n",
            "\u001b[34mINFO:sagemaker-containers:Failed to parse hyperparameter eval_metric value auc to Json.\u001b[0m\n",
            "\u001b[34mReturning the value itself\u001b[0m\n",
            "\u001b[34mINFO:sagemaker-containers:Failed to parse hyperparameter objective value binary:logistic to Json.\u001b[0m\n",
            "\u001b[34mReturning the value itself\u001b[0m\n",
            "\u001b[34mINFO:sagemaker-containers:No GPUs detected (normal if no gpus installed)\u001b[0m\n",
            "\u001b[34mINFO:sagemaker_xgboost_container.training:Running XGBoost Sagemaker in algorithm mode\u001b[0m\n",
            "\u001b[34mINFO:root:Determined delimiter of CSV input is ','\u001b[0m\n",
            "\u001b[34mINFO:root:Determined delimiter of CSV input is ','\u001b[0m\n",
            "\u001b[34mINFO:root:Determined delimiter of CSV input is ','\u001b[0m\n",
            "\u001b[34m[10:34:03] 1308472x84 matrix with 109911648 entries loaded from /opt/ml/input/data/train?format=csv&label_column=0&delimiter=,\u001b[0m\n",
            "\u001b[34mINFO:root:Determined delimiter of CSV input is ','\u001b[0m\n",
            "\u001b[34m[10:34:04] 163559x84 matrix with 13738956 entries loaded from /opt/ml/input/data/validation?format=csv&label_column=0&delimiter=,\u001b[0m\n",
            "\u001b[34mINFO:root:Single node training.\u001b[0m\n",
            "\u001b[34mINFO:root:Train matrix has 1308472 rows\u001b[0m\n",
            "\u001b[34mINFO:root:Validation matrix has 163559 rows\u001b[0m\n",
            "\n",
            "2021-10-22 10:34:19 Training - Training image download completed. Training in progress.\u001b[34m[0]#011train-auc:0.65531#011validation-auc:0.65360\u001b[0m\n",
            "\u001b[34m[1]#011train-auc:0.66619#011validation-auc:0.66398\u001b[0m\n",
            "\u001b[34m[2]#011train-auc:0.66888#011validation-auc:0.66640\u001b[0m\n",
            "\u001b[34m[3]#011train-auc:0.67227#011validation-auc:0.66949\u001b[0m\n",
            "\u001b[34m[4]#011train-auc:0.67580#011validation-auc:0.67283\u001b[0m\n",
            "\u001b[34m[5]#011train-auc:0.67866#011validation-auc:0.67565\u001b[0m\n",
            "\u001b[34m[6]#011train-auc:0.68139#011validation-auc:0.67874\u001b[0m\n",
            "\u001b[34m[7]#011train-auc:0.68332#011validation-auc:0.68029\u001b[0m\n",
            "\u001b[34m[8]#011train-auc:0.68489#011validation-auc:0.68209\u001b[0m\n",
            "\u001b[34m[9]#011train-auc:0.68779#011validation-auc:0.68486\u001b[0m\n",
            "\u001b[34m[10]#011train-auc:0.68876#011validation-auc:0.68588\u001b[0m\n",
            "\u001b[34m[11]#011train-auc:0.69053#011validation-auc:0.68777\u001b[0m\n",
            "\u001b[34m[12]#011train-auc:0.69234#011validation-auc:0.68940\u001b[0m\n",
            "\u001b[34m[13]#011train-auc:0.69469#011validation-auc:0.69162\u001b[0m\n",
            "\u001b[34m[14]#011train-auc:0.69627#011validation-auc:0.69315\u001b[0m\n",
            "\u001b[34m[15]#011train-auc:0.69856#011validation-auc:0.69534\u001b[0m\n",
            "\u001b[34m[16]#011train-auc:0.69941#011validation-auc:0.69610\u001b[0m\n",
            "\u001b[34m[17]#011train-auc:0.70073#011validation-auc:0.69725\u001b[0m\n",
            "\u001b[34m[18]#011train-auc:0.70212#011validation-auc:0.69858\u001b[0m\n",
            "\u001b[34m[19]#011train-auc:0.70336#011validation-auc:0.69970\u001b[0m\n",
            "\u001b[34m[20]#011train-auc:0.70409#011validation-auc:0.70041\u001b[0m\n",
            "\u001b[34m[21]#011train-auc:0.70500#011validation-auc:0.70135\u001b[0m\n",
            "\u001b[34m[22]#011train-auc:0.70606#011validation-auc:0.70234\u001b[0m\n",
            "\u001b[34m[23]#011train-auc:0.70672#011validation-auc:0.70284\u001b[0m\n",
            "\u001b[34m[24]#011train-auc:0.70730#011validation-auc:0.70347\u001b[0m\n",
            "\u001b[34m[25]#011train-auc:0.70793#011validation-auc:0.70402\u001b[0m\n",
            "\u001b[34m[26]#011train-auc:0.70832#011validation-auc:0.70440\u001b[0m\n",
            "\u001b[34m[27]#011train-auc:0.70922#011validation-auc:0.70535\u001b[0m\n",
            "\u001b[34m[28]#011train-auc:0.71003#011validation-auc:0.70616\u001b[0m\n",
            "\u001b[34m[29]#011train-auc:0.71066#011validation-auc:0.70675\u001b[0m\n",
            "\u001b[34m[30]#011train-auc:0.71203#011validation-auc:0.70810\u001b[0m\n",
            "\u001b[34m[31]#011train-auc:0.71259#011validation-auc:0.70857\u001b[0m\n",
            "\u001b[34m[32]#011train-auc:0.71354#011validation-auc:0.70958\u001b[0m\n",
            "\u001b[34m[33]#011train-auc:0.71398#011validation-auc:0.70997\u001b[0m\n",
            "\u001b[34m[34]#011train-auc:0.71490#011validation-auc:0.71093\u001b[0m\n",
            "\u001b[34m[35]#011train-auc:0.71543#011validation-auc:0.71143\u001b[0m\n",
            "\u001b[34m[36]#011train-auc:0.71662#011validation-auc:0.71269\u001b[0m\n",
            "\u001b[34m[37]#011train-auc:0.71722#011validation-auc:0.71323\u001b[0m\n",
            "\u001b[34m[38]#011train-auc:0.71765#011validation-auc:0.71359\u001b[0m\n",
            "\u001b[34m[39]#011train-auc:0.71814#011validation-auc:0.71400\u001b[0m\n",
            "\u001b[34m[40]#011train-auc:0.71857#011validation-auc:0.71440\u001b[0m\n",
            "\u001b[34m[41]#011train-auc:0.71947#011validation-auc:0.71529\u001b[0m\n",
            "\u001b[34m[42]#011train-auc:0.71995#011validation-auc:0.71573\u001b[0m\n",
            "\u001b[34m[43]#011train-auc:0.72018#011validation-auc:0.71594\u001b[0m\n",
            "\u001b[34m[44]#011train-auc:0.72049#011validation-auc:0.71630\u001b[0m\n",
            "\u001b[34m[45]#011train-auc:0.72103#011validation-auc:0.71683\u001b[0m\n",
            "\u001b[34m[46]#011train-auc:0.72142#011validation-auc:0.71721\u001b[0m\n",
            "\u001b[34m[47]#011train-auc:0.72168#011validation-auc:0.71743\u001b[0m\n",
            "\u001b[34m[48]#011train-auc:0.72195#011validation-auc:0.71766\u001b[0m\n",
            "\u001b[34m[49]#011train-auc:0.72251#011validation-auc:0.71828\u001b[0m\n",
            "\u001b[34m[50]#011train-auc:0.72268#011validation-auc:0.71846\u001b[0m\n",
            "\u001b[34m[51]#011train-auc:0.72338#011validation-auc:0.71925\u001b[0m\n",
            "\u001b[34m[52]#011train-auc:0.72359#011validation-auc:0.71945\u001b[0m\n",
            "\u001b[34m[53]#011train-auc:0.72398#011validation-auc:0.71984\u001b[0m\n",
            "\u001b[34m[54]#011train-auc:0.72423#011validation-auc:0.72005\u001b[0m\n",
            "\u001b[34m[55]#011train-auc:0.72451#011validation-auc:0.72029\u001b[0m\n",
            "\u001b[34m[56]#011train-auc:0.72489#011validation-auc:0.72067\u001b[0m\n",
            "\u001b[34m[57]#011train-auc:0.72542#011validation-auc:0.72121\u001b[0m\n",
            "\u001b[34m[58]#011train-auc:0.72566#011validation-auc:0.72140\u001b[0m\n",
            "\u001b[34m[59]#011train-auc:0.72575#011validation-auc:0.72150\u001b[0m\n",
            "\u001b[34m[60]#011train-auc:0.72608#011validation-auc:0.72183\u001b[0m\n",
            "\u001b[34m[61]#011train-auc:0.72638#011validation-auc:0.72208\u001b[0m\n",
            "\u001b[34m[62]#011train-auc:0.72676#011validation-auc:0.72240\u001b[0m\n",
            "\u001b[34m[63]#011train-auc:0.72695#011validation-auc:0.72264\u001b[0m\n",
            "\u001b[34m[64]#011train-auc:0.72716#011validation-auc:0.72285\u001b[0m\n",
            "\u001b[34m[65]#011train-auc:0.72741#011validation-auc:0.72300\u001b[0m\n",
            "\u001b[34m[66]#011train-auc:0.72762#011validation-auc:0.72318\u001b[0m\n",
            "\u001b[34m[67]#011train-auc:0.72797#011validation-auc:0.72349\u001b[0m\n",
            "\u001b[34m[68]#011train-auc:0.72807#011validation-auc:0.72359\u001b[0m\n",
            "\u001b[34m[69]#011train-auc:0.72820#011validation-auc:0.72368\u001b[0m\n",
            "\u001b[34m[70]#011train-auc:0.72845#011validation-auc:0.72383\u001b[0m\n",
            "\u001b[34m[71]#011train-auc:0.72898#011validation-auc:0.72430\u001b[0m\n",
            "\u001b[34m[72]#011train-auc:0.72909#011validation-auc:0.72438\u001b[0m\n",
            "\u001b[34m[73]#011train-auc:0.72926#011validation-auc:0.72452\u001b[0m\n",
            "\u001b[34m[74]#011train-auc:0.72973#011validation-auc:0.72491\u001b[0m\n",
            "\u001b[34m[75]#011train-auc:0.72993#011validation-auc:0.72509\u001b[0m\n",
            "\u001b[34m[76]#011train-auc:0.73009#011validation-auc:0.72518\u001b[0m\n",
            "\u001b[34m[77]#011train-auc:0.73032#011validation-auc:0.72534\u001b[0m\n",
            "\u001b[34m[78]#011train-auc:0.73065#011validation-auc:0.72562\u001b[0m\n",
            "\u001b[34m[79]#011train-auc:0.73081#011validation-auc:0.72576\u001b[0m\n",
            "\u001b[34m[80]#011train-auc:0.73104#011validation-auc:0.72594\u001b[0m\n",
            "\u001b[34m[81]#011train-auc:0.73128#011validation-auc:0.72615\u001b[0m\n",
            "\u001b[34m[82]#011train-auc:0.73134#011validation-auc:0.72620\u001b[0m\n",
            "\u001b[34m[83]#011train-auc:0.73143#011validation-auc:0.72626\u001b[0m\n",
            "\u001b[34m[84]#011train-auc:0.73167#011validation-auc:0.72645\u001b[0m\n",
            "\u001b[34m[85]#011train-auc:0.73182#011validation-auc:0.72654\u001b[0m\n",
            "\u001b[34m[86]#011train-auc:0.73220#011validation-auc:0.72683\u001b[0m\n",
            "\u001b[34m[87]#011train-auc:0.73243#011validation-auc:0.72701\u001b[0m\n",
            "\u001b[34m[88]#011train-auc:0.73257#011validation-auc:0.72711\u001b[0m\n",
            "\u001b[34m[89]#011train-auc:0.73292#011validation-auc:0.72743\u001b[0m\n",
            "\u001b[34m[90]#011train-auc:0.73327#011validation-auc:0.72779\u001b[0m\n",
            "\u001b[34m[91]#011train-auc:0.73337#011validation-auc:0.72788\u001b[0m\n",
            "\u001b[34m[92]#011train-auc:0.73347#011validation-auc:0.72793\u001b[0m\n",
            "\u001b[34m[93]#011train-auc:0.73377#011validation-auc:0.72819\u001b[0m\n",
            "\u001b[34m[94]#011train-auc:0.73384#011validation-auc:0.72824\u001b[0m\n",
            "\u001b[34m[95]#011train-auc:0.73395#011validation-auc:0.72831\u001b[0m\n",
            "\u001b[34m[96]#011train-auc:0.73416#011validation-auc:0.72850\u001b[0m\n",
            "\u001b[34m[97]#011train-auc:0.73425#011validation-auc:0.72856\u001b[0m\n",
            "\u001b[34m[98]#011train-auc:0.73458#011validation-auc:0.72888\u001b[0m\n",
            "\u001b[34m[99]#011train-auc:0.73465#011validation-auc:0.72894\u001b[0m\n",
            "\n",
            "2021-10-22 10:38:56 Uploading - Uploading generated training model\n",
            "2021-10-22 10:39:20 Completed - Training job completed\n",
            "ProfilerReport-1634898590: NoIssuesFound\n",
            "Training seconds: 368\n",
            "Billable seconds: 368\n"
          ]
        }
      ]
    },
    {
      "cell_type": "markdown",
      "metadata": {
        "id": "M3Tdt7Z-8y2x"
      },
      "source": [
        "Use the batch transformer for your new model, and evaluate the model on the test dataset."
      ]
    },
    {
      "cell_type": "code",
      "metadata": {
        "id": "UUBFOVnM8y2x"
      },
      "source": [
        "batch_X = test.iloc[:,1:];\n",
        "batch_X_file='batch-in.csv'\n",
        "upload_s3_csv(batch_X_file, 'batch-in', batch_X)"
      ],
      "execution_count": null,
      "outputs": []
    },
    {
      "cell_type": "code",
      "metadata": {
        "id": "0AQEUsPc8y2x",
        "outputId": "08e34f2b-15c5-4450-afaf-e9705118ffc8"
      },
      "source": [
        "batch_output = \"s3://{}/{}/batch-out/\".format(bucket,prefix)\n",
        "batch_input = \"s3://{}/{}/batch-in/{}\".format(bucket,prefix,batch_X_file)\n",
        "\n",
        "xgb_transformer = xgb.transformer(instance_count=1,\n",
        "                                       instance_type=instance_type,\n",
        "                                       strategy='MultiRecord',\n",
        "                                       assemble_with='Line',\n",
        "                                       output_path=batch_output)\n",
        "\n",
        "xgb_transformer.transform(data=batch_input,\n",
        "                         data_type='S3Prefix',\n",
        "                         content_type='text/csv',\n",
        "                         split_type='Line')\n",
        "xgb_transformer.wait()"
      ],
      "execution_count": null,
      "outputs": [
        {
          "name": "stdout",
          "output_type": "stream",
          "text": [
            "...................................\u001b[34m[2021-10-22:10:45:19:INFO] No GPUs detected (normal if no gpus installed)\u001b[0m\n",
            "\u001b[35m[2021-10-22:10:45:19:INFO] No GPUs detected (normal if no gpus installed)\u001b[0m\n",
            "\u001b[34m[2021-10-22:10:45:19:INFO] No GPUs detected (normal if no gpus installed)\u001b[0m\n",
            "\u001b[34m[2021-10-22:10:45:19:INFO] nginx config: \u001b[0m\n",
            "\u001b[34mworker_processes auto;\u001b[0m\n",
            "\u001b[34mdaemon off;\u001b[0m\n",
            "\u001b[34mpid /tmp/nginx.pid;\u001b[0m\n",
            "\u001b[34merror_log  /dev/stderr;\u001b[0m\n",
            "\u001b[34mworker_rlimit_nofile 4096;\u001b[0m\n",
            "\u001b[34mevents {\n",
            "  worker_connections 2048;\u001b[0m\n",
            "\u001b[34m}\u001b[0m\n",
            "\u001b[35m[2021-10-22:10:45:19:INFO] No GPUs detected (normal if no gpus installed)\u001b[0m\n",
            "\u001b[35m[2021-10-22:10:45:19:INFO] nginx config: \u001b[0m\n",
            "\u001b[35mworker_processes auto;\u001b[0m\n",
            "\u001b[35mdaemon off;\u001b[0m\n",
            "\u001b[35mpid /tmp/nginx.pid;\u001b[0m\n",
            "\u001b[35merror_log  /dev/stderr;\u001b[0m\n",
            "\u001b[35mworker_rlimit_nofile 4096;\u001b[0m\n",
            "\u001b[35mevents {\n",
            "  worker_connections 2048;\u001b[0m\n",
            "\u001b[35m}\u001b[0m\n",
            "\u001b[34mhttp {\n",
            "  include /etc/nginx/mime.types;\n",
            "  default_type application/octet-stream;\n",
            "  access_log /dev/stdout combined;\n",
            "  upstream gunicorn {\n",
            "    server unix:/tmp/gunicorn.sock;\n",
            "  }\n",
            "  server {\n",
            "    listen 8080 deferred;\n",
            "    client_max_body_size 0;\n",
            "    keepalive_timeout 3;\n",
            "    location ~ ^/(ping|invocations|execution-parameters) {\n",
            "      proxy_set_header X-Forwarded-For $proxy_add_x_forwarded_for;\n",
            "      proxy_set_header Host $http_host;\n",
            "      proxy_redirect off;\n",
            "      proxy_read_timeout 60s;\n",
            "      proxy_pass http://gunicorn;\n",
            "    }\n",
            "    location / {\n",
            "      return 404 \"{}\";\n",
            "    }\n",
            "  }\u001b[0m\n",
            "\u001b[34m}\u001b[0m\n",
            "\u001b[34m[2021-10-22 10:45:19 +0000] [18] [INFO] Starting gunicorn 19.10.0\u001b[0m\n",
            "\u001b[34m[2021-10-22 10:45:19 +0000] [18] [INFO] Listening at: unix:/tmp/gunicorn.sock (18)\u001b[0m\n",
            "\u001b[34m[2021-10-22 10:45:19 +0000] [18] [INFO] Using worker: gevent\u001b[0m\n",
            "\u001b[34m[2021-10-22 10:45:19 +0000] [25] [INFO] Booting worker with pid: 25\u001b[0m\n",
            "\u001b[34m[2021-10-22 10:45:20 +0000] [26] [INFO] Booting worker with pid: 26\u001b[0m\n",
            "\u001b[34m[2021-10-22 10:45:20 +0000] [27] [INFO] Booting worker with pid: 27\u001b[0m\n",
            "\u001b[34m[2021-10-22 10:45:20 +0000] [31] [INFO] Booting worker with pid: 31\u001b[0m\n",
            "\u001b[35mhttp {\n",
            "  include /etc/nginx/mime.types;\n",
            "  default_type application/octet-stream;\n",
            "  access_log /dev/stdout combined;\n",
            "  upstream gunicorn {\n",
            "    server unix:/tmp/gunicorn.sock;\n",
            "  }\n",
            "  server {\n",
            "    listen 8080 deferred;\n",
            "    client_max_body_size 0;\n",
            "    keepalive_timeout 3;\n",
            "    location ~ ^/(ping|invocations|execution-parameters) {\n",
            "      proxy_set_header X-Forwarded-For $proxy_add_x_forwarded_for;\n",
            "      proxy_set_header Host $http_host;\n",
            "      proxy_redirect off;\n",
            "      proxy_read_timeout 60s;\n",
            "      proxy_pass http://gunicorn;\n",
            "    }\n",
            "    location / {\n",
            "      return 404 \"{}\";\n",
            "    }\n",
            "  }\u001b[0m\n",
            "\u001b[35m}\u001b[0m\n",
            "\u001b[35m[2021-10-22 10:45:19 +0000] [18] [INFO] Starting gunicorn 19.10.0\u001b[0m\n",
            "\u001b[35m[2021-10-22 10:45:19 +0000] [18] [INFO] Listening at: unix:/tmp/gunicorn.sock (18)\u001b[0m\n",
            "\u001b[35m[2021-10-22 10:45:19 +0000] [18] [INFO] Using worker: gevent\u001b[0m\n",
            "\u001b[35m[2021-10-22 10:45:19 +0000] [25] [INFO] Booting worker with pid: 25\u001b[0m\n",
            "\u001b[35m[2021-10-22 10:45:20 +0000] [26] [INFO] Booting worker with pid: 26\u001b[0m\n",
            "\u001b[35m[2021-10-22 10:45:20 +0000] [27] [INFO] Booting worker with pid: 27\u001b[0m\n",
            "\u001b[35m[2021-10-22 10:45:20 +0000] [31] [INFO] Booting worker with pid: 31\u001b[0m\n",
            "\u001b[34m[2021-10-22:10:45:26:INFO] No GPUs detected (normal if no gpus installed)\u001b[0m\n",
            "\u001b[34m169.254.255.130 - - [22/Oct/2021:10:45:26 +0000] \"GET /ping HTTP/1.1\" 200 0 \"-\" \"Go-http-client/1.1\"\u001b[0m\n",
            "\u001b[34m[2021-10-22:10:45:26:INFO] No GPUs detected (normal if no gpus installed)\u001b[0m\n",
            "\u001b[34m169.254.255.130 - - [22/Oct/2021:10:45:26 +0000] \"GET /execution-parameters HTTP/1.1\" 200 84 \"-\" \"Go-http-client/1.1\"\u001b[0m\n",
            "\u001b[35m[2021-10-22:10:45:26:INFO] No GPUs detected (normal if no gpus installed)\u001b[0m\n",
            "\u001b[35m169.254.255.130 - - [22/Oct/2021:10:45:26 +0000] \"GET /ping HTTP/1.1\" 200 0 \"-\" \"Go-http-client/1.1\"\u001b[0m\n",
            "\u001b[35m[2021-10-22:10:45:26:INFO] No GPUs detected (normal if no gpus installed)\u001b[0m\n",
            "\u001b[35m169.254.255.130 - - [22/Oct/2021:10:45:26 +0000] \"GET /execution-parameters HTTP/1.1\" 200 84 \"-\" \"Go-http-client/1.1\"\u001b[0m\n",
            "\u001b[34m[2021-10-22:10:45:27:INFO] Determined delimiter of CSV input is ','\u001b[0m\n",
            "\u001b[34m[2021-10-22:10:45:27:INFO] No GPUs detected (normal if no gpus installed)\u001b[0m\n",
            "\u001b[34m[2021-10-22:10:45:27:INFO] No GPUs detected (normal if no gpus installed)\u001b[0m\n",
            "\u001b[34m[2021-10-22:10:45:27:INFO] Determined delimiter of CSV input is ','\u001b[0m\n",
            "\u001b[34m[2021-10-22:10:45:27:INFO] Determined delimiter of CSV input is ','\u001b[0m\n",
            "\u001b[34m[2021-10-22:10:45:27:INFO] Determined delimiter of CSV input is ','\u001b[0m\n",
            "\u001b[35m[2021-10-22:10:45:27:INFO] Determined delimiter of CSV input is ','\u001b[0m\n",
            "\u001b[35m[2021-10-22:10:45:27:INFO] No GPUs detected (normal if no gpus installed)\u001b[0m\n",
            "\u001b[35m[2021-10-22:10:45:27:INFO] No GPUs detected (normal if no gpus installed)\u001b[0m\n",
            "\u001b[35m[2021-10-22:10:45:27:INFO] Determined delimiter of CSV input is ','\u001b[0m\n",
            "\u001b[35m[2021-10-22:10:45:27:INFO] Determined delimiter of CSV input is ','\u001b[0m\n",
            "\u001b[35m[2021-10-22:10:45:27:INFO] Determined delimiter of CSV input is ','\u001b[0m\n",
            "\u001b[32m2021-10-22T10:45:26.053:[sagemaker logs]: MaxConcurrentTransforms=4, MaxPayloadInMB=6, BatchStrategy=MULTI_RECORD\u001b[0m\n",
            "\n",
            "\u001b[34m[2021-10-22:10:45:19:INFO] No GPUs detected (normal if no gpus installed)\u001b[0m\n",
            "\u001b[35m[2021-10-22:10:45:19:INFO] No GPUs detected (normal if no gpus installed)\u001b[0m\n",
            "\u001b[34m[2021-10-22:10:45:19:INFO] No GPUs detected (normal if no gpus installed)\u001b[0m\n",
            "\u001b[34m[2021-10-22:10:45:19:INFO] nginx config: \u001b[0m\n",
            "\u001b[34mworker_processes auto;\u001b[0m\n",
            "\u001b[34mdaemon off;\u001b[0m\n",
            "\u001b[34mpid /tmp/nginx.pid;\u001b[0m\n",
            "\u001b[34merror_log  /dev/stderr;\u001b[0m\n",
            "\u001b[34mworker_rlimit_nofile 4096;\u001b[0m\n",
            "\u001b[34mevents {\n",
            "  worker_connections 2048;\u001b[0m\n",
            "\u001b[34m}\u001b[0m\n",
            "\u001b[35m[2021-10-22:10:45:19:INFO] No GPUs detected (normal if no gpus installed)\u001b[0m\n",
            "\u001b[35m[2021-10-22:10:45:19:INFO] nginx config: \u001b[0m\n",
            "\u001b[35mworker_processes auto;\u001b[0m\n",
            "\u001b[35mdaemon off;\u001b[0m\n",
            "\u001b[35mpid /tmp/nginx.pid;\u001b[0m\n",
            "\u001b[35merror_log  /dev/stderr;\u001b[0m\n",
            "\u001b[35mworker_rlimit_nofile 4096;\u001b[0m\n",
            "\u001b[35mevents {\n",
            "  worker_connections 2048;\u001b[0m\n",
            "\u001b[35m}\u001b[0m\n",
            "\u001b[34mhttp {\n",
            "  include /etc/nginx/mime.types;\n",
            "  default_type application/octet-stream;\n",
            "  access_log /dev/stdout combined;\n",
            "  upstream gunicorn {\n",
            "    server unix:/tmp/gunicorn.sock;\n",
            "  }\n",
            "  server {\n",
            "    listen 8080 deferred;\n",
            "    client_max_body_size 0;\n",
            "    keepalive_timeout 3;\n",
            "    location ~ ^/(ping|invocations|execution-parameters) {\n",
            "      proxy_set_header X-Forwarded-For $proxy_add_x_forwarded_for;\n",
            "      proxy_set_header Host $http_host;\n",
            "      proxy_redirect off;\n",
            "      proxy_read_timeout 60s;\n",
            "      proxy_pass http://gunicorn;\n",
            "    }\n",
            "    location / {\n",
            "      return 404 \"{}\";\n",
            "    }\n",
            "  }\u001b[0m\n",
            "\u001b[34m}\u001b[0m\n",
            "\u001b[34m[2021-10-22 10:45:19 +0000] [18] [INFO] Starting gunicorn 19.10.0\u001b[0m\n",
            "\u001b[34m[2021-10-22 10:45:19 +0000] [18] [INFO] Listening at: unix:/tmp/gunicorn.sock (18)\u001b[0m\n",
            "\u001b[34m[2021-10-22 10:45:19 +0000] [18] [INFO] Using worker: gevent\u001b[0m\n",
            "\u001b[34m[2021-10-22 10:45:19 +0000] [25] [INFO] Booting worker with pid: 25\u001b[0m\n",
            "\u001b[34m[2021-10-22 10:45:20 +0000] [26] [INFO] Booting worker with pid: 26\u001b[0m\n",
            "\u001b[34m[2021-10-22 10:45:20 +0000] [27] [INFO] Booting worker with pid: 27\u001b[0m\n",
            "\u001b[34m[2021-10-22 10:45:20 +0000] [31] [INFO] Booting worker with pid: 31\u001b[0m\n",
            "\u001b[35mhttp {\n",
            "  include /etc/nginx/mime.types;\n",
            "  default_type application/octet-stream;\n",
            "  access_log /dev/stdout combined;\n",
            "  upstream gunicorn {\n",
            "    server unix:/tmp/gunicorn.sock;\n",
            "  }\n",
            "  server {\n",
            "    listen 8080 deferred;\n",
            "    client_max_body_size 0;\n",
            "    keepalive_timeout 3;\n",
            "    location ~ ^/(ping|invocations|execution-parameters) {\n",
            "      proxy_set_header X-Forwarded-For $proxy_add_x_forwarded_for;\n",
            "      proxy_set_header Host $http_host;\n",
            "      proxy_redirect off;\n",
            "      proxy_read_timeout 60s;\n",
            "      proxy_pass http://gunicorn;\n",
            "    }\n",
            "    location / {\n",
            "      return 404 \"{}\";\n",
            "    }\n",
            "  }\u001b[0m\n",
            "\u001b[35m}\u001b[0m\n",
            "\u001b[35m[2021-10-22 10:45:19 +0000] [18] [INFO] Starting gunicorn 19.10.0\u001b[0m\n",
            "\u001b[35m[2021-10-22 10:45:19 +0000] [18] [INFO] Listening at: unix:/tmp/gunicorn.sock (18)\u001b[0m\n",
            "\u001b[35m[2021-10-22 10:45:19 +0000] [18] [INFO] Using worker: gevent\u001b[0m\n",
            "\u001b[35m[2021-10-22 10:45:19 +0000] [25] [INFO] Booting worker with pid: 25\u001b[0m\n",
            "\u001b[35m[2021-10-22 10:45:20 +0000] [26] [INFO] Booting worker with pid: 26\u001b[0m\n",
            "\u001b[35m[2021-10-22 10:45:20 +0000] [27] [INFO] Booting worker with pid: 27\u001b[0m\n",
            "\u001b[35m[2021-10-22 10:45:20 +0000] [31] [INFO] Booting worker with pid: 31\u001b[0m\n",
            "\u001b[34m[2021-10-22:10:45:26:INFO] No GPUs detected (normal if no gpus installed)\u001b[0m\n",
            "\u001b[34m169.254.255.130 - - [22/Oct/2021:10:45:26 +0000] \"GET /ping HTTP/1.1\" 200 0 \"-\" \"Go-http-client/1.1\"\u001b[0m\n",
            "\u001b[34m[2021-10-22:10:45:26:INFO] No GPUs detected (normal if no gpus installed)\u001b[0m\n",
            "\u001b[34m169.254.255.130 - - [22/Oct/2021:10:45:26 +0000] \"GET /execution-parameters HTTP/1.1\" 200 84 \"-\" \"Go-http-client/1.1\"\u001b[0m\n",
            "\u001b[35m[2021-10-22:10:45:26:INFO] No GPUs detected (normal if no gpus installed)\u001b[0m\n",
            "\u001b[35m169.254.255.130 - - [22/Oct/2021:10:45:26 +0000] \"GET /ping HTTP/1.1\" 200 0 \"-\" \"Go-http-client/1.1\"\u001b[0m\n",
            "\u001b[35m[2021-10-22:10:45:26:INFO] No GPUs detected (normal if no gpus installed)\u001b[0m\n",
            "\u001b[35m169.254.255.130 - - [22/Oct/2021:10:45:26 +0000] \"GET /execution-parameters HTTP/1.1\" 200 84 \"-\" \"Go-http-client/1.1\"\u001b[0m\n",
            "\u001b[34m[2021-10-22:10:45:27:INFO] Determined delimiter of CSV input is ','\u001b[0m\n",
            "\u001b[34m[2021-10-22:10:45:27:INFO] No GPUs detected (normal if no gpus installed)\u001b[0m\n",
            "\u001b[34m[2021-10-22:10:45:27:INFO] No GPUs detected (normal if no gpus installed)\u001b[0m\n",
            "\u001b[34m[2021-10-22:10:45:27:INFO] Determined delimiter of CSV input is ','\u001b[0m\n",
            "\u001b[34m[2021-10-22:10:45:27:INFO] Determined delimiter of CSV input is ','\u001b[0m\n",
            "\u001b[34m[2021-10-22:10:45:27:INFO] Determined delimiter of CSV input is ','\u001b[0m\n",
            "\u001b[35m[2021-10-22:10:45:27:INFO] Determined delimiter of CSV input is ','\u001b[0m\n",
            "\u001b[35m[2021-10-22:10:45:27:INFO] No GPUs detected (normal if no gpus installed)\u001b[0m\n",
            "\u001b[35m[2021-10-22:10:45:27:INFO] No GPUs detected (normal if no gpus installed)\u001b[0m\n",
            "\u001b[35m[2021-10-22:10:45:27:INFO] Determined delimiter of CSV input is ','\u001b[0m\n",
            "\u001b[35m[2021-10-22:10:45:27:INFO] Determined delimiter of CSV input is ','\u001b[0m\n",
            "\u001b[35m[2021-10-22:10:45:27:INFO] Determined delimiter of CSV input is ','\u001b[0m\n",
            "\u001b[32m2021-10-22T10:45:26.053:[sagemaker logs]: MaxConcurrentTransforms=4, MaxPayloadInMB=6, BatchStrategy=MULTI_RECORD\u001b[0m\n",
            "\u001b[34m169.254.255.130 - - [22/Oct/2021:10:45:30 +0000] \"POST /invocations HTTP/1.1\" 200 659643 \"-\" \"Go-http-client/1.1\"\u001b[0m\n",
            "\u001b[35m169.254.255.130 - - [22/Oct/2021:10:45:30 +0000] \"POST /invocations HTTP/1.1\" 200 659643 \"-\" \"Go-http-client/1.1\"\u001b[0m\n",
            "\u001b[34m169.254.255.130 - - [22/Oct/2021:10:45:31 +0000] \"POST /invocations HTTP/1.1\" 200 659696 \"-\" \"Go-http-client/1.1\"\u001b[0m\n",
            "\u001b[34m169.254.255.130 - - [22/Oct/2021:10:45:31 +0000] \"POST /invocations HTTP/1.1\" 200 659696 \"-\" \"Go-http-client/1.1\"\u001b[0m\n",
            "\u001b[34m169.254.255.130 - - [22/Oct/2021:10:45:31 +0000] \"POST /invocations HTTP/1.1\" 200 659827 \"-\" \"Go-http-client/1.1\"\u001b[0m\n",
            "\u001b[34m[2021-10-22:10:45:31:INFO] Determined delimiter of CSV input is ','\u001b[0m\n",
            "\u001b[35m169.254.255.130 - - [22/Oct/2021:10:45:31 +0000] \"POST /invocations HTTP/1.1\" 200 659696 \"-\" \"Go-http-client/1.1\"\u001b[0m\n",
            "\u001b[35m169.254.255.130 - - [22/Oct/2021:10:45:31 +0000] \"POST /invocations HTTP/1.1\" 200 659696 \"-\" \"Go-http-client/1.1\"\u001b[0m\n",
            "\u001b[35m169.254.255.130 - - [22/Oct/2021:10:45:31 +0000] \"POST /invocations HTTP/1.1\" 200 659827 \"-\" \"Go-http-client/1.1\"\u001b[0m\n",
            "\u001b[35m[2021-10-22:10:45:31:INFO] Determined delimiter of CSV input is ','\u001b[0m\n",
            "\u001b[34m169.254.255.130 - - [22/Oct/2021:10:45:32 +0000] \"POST /invocations HTTP/1.1\" 200 574371 \"-\" \"Go-http-client/1.1\"\u001b[0m\n",
            "\u001b[35m169.254.255.130 - - [22/Oct/2021:10:45:32 +0000] \"POST /invocations HTTP/1.1\" 200 574371 \"-\" \"Go-http-client/1.1\"\u001b[0m\n"
          ]
        }
      ]
    },
    {
      "cell_type": "markdown",
      "metadata": {
        "id": "iGMmeGkO8y2y"
      },
      "source": [
        "Get the predicted target and test labels."
      ]
    },
    {
      "cell_type": "code",
      "metadata": {
        "id": "ms6aw5wM8y2y"
      },
      "source": [
        "s3 = boto3.client('s3')\n",
        "obj = s3.get_object(Bucket=bucket, Key=\"{}/batch-out/{}\".format(prefix,'batch-in.csv.out'))\n",
        "target_predicted = pd.read_csv(io.BytesIO(obj['Body'].read()),',',names=['target'])\n",
        "test_labels = test.iloc[:,0]"
      ],
      "execution_count": null,
      "outputs": []
    },
    {
      "cell_type": "markdown",
      "metadata": {
        "id": "ffLeZLv98y2z"
      },
      "source": [
        "Calculate the predicted values based on the defined threshold.\n",
        "\n",
        "**Note:** The predicted target will be a score, which must be converted to a binary class."
      ]
    },
    {
      "cell_type": "code",
      "metadata": {
        "id": "SOuyQmyP8y20",
        "outputId": "a45a7bc1-4674-48c5-dccd-5765af3aba79"
      },
      "source": [
        "print(target_predicted.head())\n",
        "\n",
        "def binary_convert(x):\n",
        "    threshold = 0.55\n",
        "    if x > threshold:\n",
        "        return 1\n",
        "    else:\n",
        "        return 0\n",
        "\n",
        "target_predicted['target'] = target_predicted['target'].apply(binary_convert)\n",
        "\n",
        "test_labels = test.iloc[:,0]\n",
        "\n",
        "print(target_predicted.head())"
      ],
      "execution_count": null,
      "outputs": [
        {
          "name": "stdout",
          "output_type": "stream",
          "text": [
            "     target\n",
            "0  0.103697\n",
            "1  0.186900\n",
            "2  0.244198\n",
            "3  0.090806\n",
            "4  0.550606\n",
            "   target\n",
            "0       0\n",
            "1       0\n",
            "2       0\n",
            "3       0\n",
            "4       1\n"
          ]
        }
      ]
    },
    {
      "cell_type": "markdown",
      "metadata": {
        "id": "_CE8_v548y21"
      },
      "source": [
        "Plot a confusion matrix for your `target_predicted` and `test_labels`."
      ]
    },
    {
      "cell_type": "code",
      "metadata": {
        "id": "njATvUR-8y21",
        "outputId": "2e61cf77-1571-4197-b230-46c5aec1c20d"
      },
      "source": [
        "plot_confusion_matrix(test_labels,target_predicted)"
      ],
      "execution_count": null,
      "outputs": [
        {
          "data": {
            "image/png": "[encoded data removed]",
            "text/plain": [
              "<Figure size 432x288 with 1 Axes>"
            ]
          },
          "metadata": {
            "needs_background": "light"
          },
          "output_type": "display_data"
        }
      ]
    },
    {
      "cell_type": "markdown",
      "metadata": {
        "id": "okAu0QsK8y22"
      },
      "source": [
        "Plot the ROC chart:"
      ]
    },
    {
      "cell_type": "code",
      "metadata": {
        "id": "fGoTq5SB8y22",
        "outputId": "bca35a5b-d0ae-4304-f4ad-6d0214796e82"
      },
      "source": [
        "plot_roc(test_labels,target_predicted)"
      ],
      "execution_count": null,
      "outputs": [
        {
          "name": "stdout",
          "output_type": "stream",
          "text": [
            "Sensitivity or TPR:  9.972912358372412 %\n",
            "Specificity or TNR:  98.90037608530791 %\n",
            "Precision:  70.67079463364293 %\n",
            "Negative Predictive Value:  80.5253474803735 %\n",
            "False Positive Rate:  1.0996239146920899 %\n",
            "False Negative Rate:  90.02708764162759 %\n",
            "False Discovery Rate:  29.32920536635707 %\n",
            "Accuracy:  80.23343258396054 %\n",
            "Validation AUC 0.5443664422184016\n",
            "Figure(432x288)\n"
          ]
        },
        {
          "data": {
            "image/png": "[encoded data removed]",
            "text/plain": [
              "<Figure size 432x288 with 2 Axes>"
            ]
          },
          "metadata": {
            "needs_background": "light"
          },
          "output_type": "display_data"
        },
        {
          "data": {
            "text/plain": [
              "<Figure size 432x288 with 0 Axes>"
            ]
          },
          "metadata": {},
          "output_type": "display_data"
        }
      ]
    },
    {
      "cell_type": "markdown",
      "metadata": {
        "id": "ULpuDN9y8y23"
      },
      "source": [
        "### Try different thresholds"
      ]
    },
    {
      "cell_type": "markdown",
      "metadata": {
        "id": "msDAM6Dv8y23"
      },
      "source": [
        "**Question**: Based on how well the model handled the test set, what can you conclude?"
      ]
    },
    {
      "cell_type": "code",
      "metadata": {
        "id": "C8WXM7vl8y24"
      },
      "source": [
        "#Enter your answer here"
      ],
      "execution_count": null,
      "outputs": []
    },
    {
      "cell_type": "markdown",
      "metadata": {
        "id": "LYWZHSPT8y24"
      },
      "source": [
        "### Hyperparameter optimization (HPO)"
      ]
    },
    {
      "cell_type": "code",
      "metadata": {
        "id": "MyyIFUye8y24"
      },
      "source": [
        "from sagemaker.tuner import IntegerParameter, CategoricalParameter, ContinuousParameter, HyperparameterTuner\n",
        "\n",
        "### You can spin up multiple instances to do hyperparameter optimization in parallel\n",
        "\n",
        "xgb = sagemaker.estimator.Estimator(container,\n",
        "                                    role=sagemaker.get_execution_role(), \n",
        "                                    instance_count= 1, # make sure you have a limit set for these instances\n",
        "                                    instance_type=instance_type, \n",
        "                                    output_path='s3://{}/{}/output'.format(bucket, prefix),\n",
        "                                    sagemaker_session=sess)\n",
        "\n",
        "xgb.set_hyperparameters(eval_metric='auc',\n",
        "                        objective='binary:logistic',\n",
        "                        num_round=100,\n",
        "                        rate_drop=0.3,\n",
        "                        tweedie_variance_power=1.4)\n",
        "\n",
        "hyperparameter_ranges = {'alpha': ContinuousParameter(0, 1000, scaling_type='Linear'),\n",
        "                         'eta': ContinuousParameter(0.1, 0.5, scaling_type='Linear'),\n",
        "                         'min_child_weight': ContinuousParameter(3, 10, scaling_type='Linear'),\n",
        "                         'subsample': ContinuousParameter(0.5, 1),\n",
        "                         'num_round': IntegerParameter(10,150)}\n",
        "\n",
        "objective_metric_name = 'validation:auc'\n",
        "\n",
        "tuner = HyperparameterTuner(xgb,\n",
        "                            objective_metric_name,\n",
        "                            hyperparameter_ranges,\n",
        "                            max_jobs=10, # Set this to 10 or above depending upon budget and available time.\n",
        "                            max_parallel_jobs=1)"
      ],
      "execution_count": null,
      "outputs": []
    },
    {
      "cell_type": "code",
      "metadata": {
        "id": "hrMv4Gmg8y25",
        "outputId": "2f9bfaa2-6b77-4a8a-d61f-1956db134342"
      },
      "source": [
        "tuner.fit(inputs=data_channels)\n",
        "tuner.wait()"
      ],
      "execution_count": null,
      "outputs": [
        {
          "name": "stdout",
          "output_type": "stream",
          "text": [
            ".............................."
          ]
        }
      ]
    },
    {
      "cell_type": "markdown",
      "metadata": {
        "id": "9avkUObZ8y25"
      },
      "source": [
        "<i class=\"fas fa-exclamation-triangle\" style=\"color:red\"></i> Wait until the training job is finished. It might take 25-30 minutes.\n",
        "\n",
        "**To monitor hyperparameter optimization jobs:**  \n",
        "\n",
        "1. In the AWS Management Console, on the **Services** menu, choose **Amazon SageMaker**.  \n",
        "2. Choose **Training > Hyperparameter tuning jobs**.\n",
        "3. You can check the status of each hyperparameter tuning job, its objective metric value, and its logs.  "
      ]
    },
    {
      "cell_type": "markdown",
      "metadata": {
        "id": "dP43kP8w8y26"
      },
      "source": [
        "Check that the job completed successfully."
      ]
    },
    {
      "cell_type": "code",
      "metadata": {
        "id": "S1tTspPk8y26"
      },
      "source": [
        "boto3.client('sagemaker').describe_hyper_parameter_tuning_job(\n",
        "    HyperParameterTuningJobName=tuner.latest_tuning_job.job_name)['HyperParameterTuningJobStatus']"
      ],
      "execution_count": null,
      "outputs": []
    },
    {
      "cell_type": "markdown",
      "metadata": {
        "id": "hissIcqs8y26"
      },
      "source": [
        "The hyperparameter tuning job will have a model that worked the best. You can get the information about that model from the tuning job."
      ]
    },
    {
      "cell_type": "code",
      "metadata": {
        "id": "HpRx1hhn8y27"
      },
      "source": [
        "sage_client = boto3.Session().client('sagemaker')\n",
        "tuning_job_name = tuner.latest_tuning_job.job_name\n",
        "print(f'tuning job name:{tuning_job_name}')\n",
        "tuning_job_result = sage_client.describe_hyper_parameter_tuning_job(HyperParameterTuningJobName=tuning_job_name)\n",
        "best_training_job = tuning_job_result['BestTrainingJob']\n",
        "best_training_job_name = best_training_job['TrainingJobName']\n",
        "print(f\"best training job: {best_training_job_name}\")\n",
        "\n",
        "best_estimator = tuner.best_estimator()\n",
        "\n",
        "tuner_df = sagemaker.HyperparameterTuningJobAnalytics(tuning_job_name).dataframe()\n",
        "tuner_df.head()"
      ],
      "execution_count": null,
      "outputs": []
    },
    {
      "cell_type": "markdown",
      "metadata": {
        "id": "pIUzs6yx8y27"
      },
      "source": [
        "Use the estimator `best_estimator` and train it by using the data. \n",
        "\n",
        "**Tip:** See the previous XGBoost estimator fit function."
      ]
    },
    {
      "cell_type": "code",
      "metadata": {
        "id": "4mtBhMix8y28"
      },
      "source": [
        "best_estimator.fit(inputs=data_channels)"
      ],
      "execution_count": null,
      "outputs": []
    },
    {
      "cell_type": "markdown",
      "metadata": {
        "id": "3AKF98wP8y28"
      },
      "source": [
        "Use the batch transformer for your new model, and evaluate the model on the test dataset."
      ]
    },
    {
      "cell_type": "code",
      "metadata": {
        "id": "mhU8gcVb8y29"
      },
      "source": [
        "batch_output = \"s3://{}/{}/batch-out/\".format(bucket,prefix)\n",
        "batch_input = \"s3://{}/{}/batch-in/{}\".format(bucket,prefix,batch_X_file)\n",
        "\n",
        "xgb_transformer = best_estimator.transformer(instance_count=1,\n",
        "                                       instance_type=instance_type,\n",
        "                                       strategy='MultiRecord',\n",
        "                                       assemble_with='Line',\n",
        "                                       output_path=batch_output)\n",
        "\n",
        "xgb_transformer.transform(data=batch_input,\n",
        "                         data_type='S3Prefix',\n",
        "                         content_type='text/csv',\n",
        "                         split_type='Line')\n",
        "xgb_transformer.wait()"
      ],
      "execution_count": null,
      "outputs": []
    },
    {
      "cell_type": "code",
      "metadata": {
        "id": "VeBBG0RA8y29"
      },
      "source": [
        "s3 = boto3.client('s3')\n",
        "obj = s3.get_object(Bucket=bucket, Key=\"{}/batch-out/{}\".format(prefix,'batch-in.csv.out'))\n",
        "target_predicted = pd.read_csv(io.BytesIO(obj['Body'].read()),',',names=['target'])\n",
        "test_labels = test.iloc[:,0]"
      ],
      "execution_count": null,
      "outputs": []
    },
    {
      "cell_type": "markdown",
      "metadata": {
        "id": "UHDEOXm78y2-"
      },
      "source": [
        "Get the predicted target and test labels."
      ]
    },
    {
      "cell_type": "code",
      "metadata": {
        "id": "tKTUssPc8y2-"
      },
      "source": [
        "print(target_predicted.head())\n",
        "\n",
        "def binary_convert(x):\n",
        "    threshold = 0.55\n",
        "    if x > threshold:\n",
        "        return 1\n",
        "    else:\n",
        "        return 0\n",
        "\n",
        "target_predicted['target'] = target_predicted['target'].apply(binary_convert)\n",
        "\n",
        "test_labels = test.iloc[:,0]\n",
        "\n",
        "print(target_predicted.head())"
      ],
      "execution_count": null,
      "outputs": []
    },
    {
      "cell_type": "markdown",
      "metadata": {
        "id": "f0S3fjXK8y2-"
      },
      "source": [
        "Plot a confusion matrix for your `target_predicted` and `test_labels`."
      ]
    },
    {
      "cell_type": "code",
      "metadata": {
        "id": "riFNMudB8y2_"
      },
      "source": [
        "plot_confusion_matrix(test_labels,target_predicted)"
      ],
      "execution_count": null,
      "outputs": []
    },
    {
      "cell_type": "markdown",
      "metadata": {
        "id": "w7yTjhSj8y2_"
      },
      "source": [
        "Plot the ROC chart:"
      ]
    },
    {
      "cell_type": "code",
      "metadata": {
        "id": "so3cn-I-8y2_"
      },
      "source": [
        "plot_roc(test_labels,target_predicted)"
      ],
      "execution_count": null,
      "outputs": []
    },
    {
      "cell_type": "markdown",
      "metadata": {
        "id": "Mc3_BPJS8y3A"
      },
      "source": [
        "**Question**: Try different hyperparameters and hyperparameter ranges. Do these changes improve the model?"
      ]
    },
    {
      "cell_type": "markdown",
      "metadata": {
        "id": "OGZ7jjZD8y3A"
      },
      "source": [
        "## Conclusion\n",
        "\n",
        "You have now iterated through training and evaluating your model at least a couple of times. It's time to wrap up this project and reflect on:\n",
        "\n",
        "- What you learned \n",
        "- What types of steps you might take moving forward (assuming that you had more time)\n",
        "\n",
        "Use the following cell to answer some of these questions and other relevant questions:\n",
        "\n",
        "1. Does your model performance meet your business goal? If not, what are some things you'd like to do differently if you had more time for tuning?\n",
        "2. How much did your model improve as you made changes to your dataset, features, and hyperparameters? What types of techniques did you employ throughout this project, and which yielded the greatest improvements in your model?\n",
        "3. What were some of the biggest challenges that you encountered throughout this project?\n",
        "4. Do you have any unanswered questions about aspects of the pipeline that didn't make sense to you?\n",
        "5. What were the three most important things that you learned about machine learning while working on this project?\n",
        "\n",
        "#### <span style=\"color: blue;\">Project presentation: Make sure that you also summarize your answers to these questions in your project presentation. Combine all your notes for your project presentation and prepare to present your findings to the class.</span>"
      ]
    },
    {
      "cell_type": "code",
      "metadata": {
        "id": "80dPyUOT8y3A"
      },
      "source": [
        "# Write your answers here"
      ],
      "execution_count": null,
      "outputs": []
    }
  ]
}